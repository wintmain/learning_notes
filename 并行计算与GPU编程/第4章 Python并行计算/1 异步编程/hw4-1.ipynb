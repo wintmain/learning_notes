{
 "cells": [
  {
   "cell_type": "markdown",
   "id": "5255ecf6",
   "metadata": {},
   "source": [
    "2021-06-15\n",
    "\n",
    "个人作业：\n",
    "复现讲义“2  异步编程概要”其中编码。\n",
    "作业要求：新建一个jupyter notebook，只保留第2部分，可以删除大量文字讲解，但要保留核心标题（如2.2和2.3和2.4小节的标题），重新在自己的计算机中运行这部分相关的代码，比较运行结果，最终将整体耗时整理成表格。\n",
    "\n",
    "小组作业：\n",
    "讨论并复现讲义“3.3  示例：爬虫程序”。\n",
    "作业要求：类比上面的要求。\n",
    "截止时间：6月16日周三晚上10点前"
   ]
  },
  {
   "cell_type": "markdown",
   "id": "e027ad7e",
   "metadata": {},
   "source": [
    "# 2  异步编程概要"
   ]
  },
  {
   "cell_type": "markdown",
   "id": "02bfe34f",
   "metadata": {},
   "source": [
    "## 2.2 异步I/O进化之路"
   ]
  },
  {
   "cell_type": "markdown",
   "id": "4be079ef",
   "metadata": {},
   "source": [
    "### 2.2.1  同步阻塞方式"
   ]
  },
  {
   "cell_type": "code",
   "execution_count": 5,
   "id": "e351a069",
   "metadata": {
    "ExecuteTime": {
     "end_time": "2021-06-16T02:11:51.705949Z",
     "start_time": "2021-06-16T02:11:50.305800Z"
    }
   },
   "outputs": [
    {
     "name": "stdout",
     "output_type": "stream",
     "text": [
      "10\n",
      "1.3751330375671387\n"
     ]
    }
   ],
   "source": [
    "import socket\n",
    "\n",
    "import time\n",
    "\n",
    "def blocking_way():\n",
    "    sock = socket.socket()\n",
    "    # blocking\n",
    "    sock.connect(('baidu.com', 80))\n",
    "    request = 'GET / HTTP/1.0\\r\\nHost: baidu.com\\r\\n\\r\\n'\n",
    "    sock.send(request.encode('ascii'))\n",
    "    response = b''\n",
    "    chunk = sock.recv(4096)\n",
    "    while chunk:\n",
    "        response += chunk\n",
    "        # blocking\n",
    "        chunk = sock.recv(4096)\n",
    "    return response\n",
    "\n",
    "\n",
    "def sync_way():\n",
    "    res = []\n",
    "    for i in range(10):\n",
    "        res.append(blocking_way())\n",
    "    return len(res)\n",
    "\n",
    "if __name__ == \"__main__\": \n",
    "    start = time.time()\n",
    "    print(sync_way())\n",
    "    print(time.time() - start)"
   ]
  },
  {
   "cell_type": "markdown",
   "id": "6b170cd4",
   "metadata": {},
   "source": [
    "### 2.2.2  改进方式：多进程"
   ]
  },
  {
   "cell_type": "code",
   "execution_count": 8,
   "id": "da72c735",
   "metadata": {
    "ExecuteTime": {
     "end_time": "2021-06-16T02:14:53.891231Z",
     "start_time": "2021-06-16T02:14:53.467604Z"
    }
   },
   "outputs": [
    {
     "name": "stdout",
     "output_type": "stream",
     "text": [
      "{<Future at 0x285ab83ce10 state=finished raised BrokenProcessPool>, <Future at 0x285ab83c080 state=finished raised BrokenProcessPool>, <Future at 0x285ab83c898 state=finished raised BrokenProcessPool>, <Future at 0x285ab8412b0 state=finished raised BrokenProcessPool>, <Future at 0x285ab83ecc0 state=finished raised BrokenProcessPool>, <Future at 0x285ab83ccf8 state=finished raised BrokenProcessPool>, <Future at 0x285ab83cef0 state=finished raised BrokenProcessPool>, <Future at 0x285ab83c710 state=finished raised BrokenProcessPool>, <Future at 0x285ab83ef28 state=finished raised BrokenProcessPool>, <Future at 0x285ab83c5c0 state=finished raised BrokenProcessPool>}\n",
      "0.40366101264953613\n"
     ]
    },
    {
     "name": "stderr",
     "output_type": "stream",
     "text": [
      "Exception in thread Thread-8:\n",
      "Traceback (most recent call last):\n",
      "  File \"D:\\Miniconda\\envs\\GPU\\lib\\threading.py\", line 916, in _bootstrap_inner\n",
      "    self.run()\n",
      "  File \"D:\\Miniconda\\envs\\GPU\\lib\\threading.py\", line 864, in run\n",
      "    self._target(*self._args, **self._kwargs)\n",
      "  File \"D:\\Miniconda\\envs\\GPU\\lib\\concurrent\\futures\\process.py\", line 295, in _queue_management_worker\n",
      "    shutdown_worker()\n",
      "  File \"D:\\Miniconda\\envs\\GPU\\lib\\concurrent\\futures\\process.py\", line 253, in shutdown_worker\n",
      "    call_queue.put_nowait(None)\n",
      "  File \"D:\\Miniconda\\envs\\GPU\\lib\\multiprocessing\\queues.py\", line 129, in put_nowait\n",
      "    return self.put(obj, False)\n",
      "  File \"D:\\Miniconda\\envs\\GPU\\lib\\multiprocessing\\queues.py\", line 83, in put\n",
      "    raise Full\n",
      "queue.Full\n",
      "\n"
     ]
    }
   ],
   "source": [
    "import socket\n",
    "from concurrent import futures\n",
    "\n",
    "import time\n",
    "\n",
    "def blocking_way():\n",
    "    sock = socket.socket()\n",
    "    # blocking\n",
    "    sock.connect(('baidu.com', 80))\n",
    "    request = 'GET / HTTP/1.0\\r\\nHost: baidu.com\\r\\n\\r\\n'\n",
    "    sock.send(request.encode('ascii'))\n",
    "    response = b''\n",
    "    chunk = sock.recv(4096)\n",
    "    while chunk:\n",
    "        response += chunk\n",
    "        # blocking\n",
    "        chunk = sock.recv(4096)\n",
    "    return response\n",
    "\n",
    "\n",
    "\n",
    "# def process_way():\n",
    "#     workers = 10\n",
    "#     with futures.ProcessPoolExecutor(workers) as executor:\n",
    "#         futs = {executor.submit(blocking_way) for i in range(10)}\n",
    "#     return len([fut.result() for fut in futs])\n",
    "\n",
    "\n",
    "if __name__ == \"__main__\": \n",
    "    import time\n",
    "    start = time.time()\n",
    "    workers = 10\n",
    "    with futures.ProcessPoolExecutor(workers) as executor:\n",
    "        futs = {executor.submit(blocking_way) for i in range(10)}\n",
    "        \n",
    "    print(futs)\n",
    "    print(time.time() - start)"
   ]
  },
  {
   "cell_type": "code",
   "execution_count": 9,
   "id": "6affc201",
   "metadata": {
    "ExecuteTime": {
     "end_time": "2021-06-16T02:15:39.890134Z",
     "start_time": "2021-06-16T02:15:38.665056Z"
    }
   },
   "outputs": [
    {
     "name": "stdout",
     "output_type": "stream",
     "text": [
      "10\n",
      "0.8138792514801025\n"
     ]
    }
   ],
   "source": [
    "!python process_way.py"
   ]
  },
  {
   "cell_type": "markdown",
   "id": "2db89b96",
   "metadata": {},
   "source": [
    "### 2.2.3  继续改进：多线程"
   ]
  },
  {
   "cell_type": "code",
   "execution_count": 10,
   "id": "64e02704",
   "metadata": {
    "ExecuteTime": {
     "end_time": "2021-06-16T02:16:19.503932Z",
     "start_time": "2021-06-16T02:16:19.234445Z"
    }
   },
   "outputs": [
    {
     "name": "stdout",
     "output_type": "stream",
     "text": [
      "10\n",
      "0.24358892440795898\n"
     ]
    }
   ],
   "source": [
    "import socket\n",
    "from concurrent import futures\n",
    "import time\n",
    "\n",
    "def blocking_way():\n",
    "    sock = socket.socket()\n",
    "    # blocking\n",
    "    sock.connect(('baidu.com', 80))\n",
    "    request = 'GET / HTTP/1.0\\r\\nHost: baidu.com\\r\\n\\r\\n'\n",
    "    sock.send(request.encode('ascii'))\n",
    "    response = b''\n",
    "    chunk = sock.recv(4096)\n",
    "    while chunk:\n",
    "        response += chunk\n",
    "        # blocking\n",
    "        chunk = sock.recv(4096)\n",
    "    return response\n",
    "\n",
    "\n",
    "def thread_way():\n",
    "    workers = 10\n",
    "    with futures.ThreadPoolExecutor(workers) as executor:\n",
    "        futs = {executor.submit(blocking_way) for i in range(10)}\n",
    "    return len([fut.result() for fut in futs])\n",
    "\n",
    "if __name__ == \"__main__\": \n",
    "    start = time.time()\n",
    "    print(thread_way())\n",
    "    print(time.time() - start)"
   ]
  },
  {
   "cell_type": "markdown",
   "id": "a35d0e15",
   "metadata": {},
   "source": [
    "### 2.2.4  非阻塞方式"
   ]
  },
  {
   "cell_type": "code",
   "execution_count": 13,
   "id": "7cc23572",
   "metadata": {
    "ExecuteTime": {
     "end_time": "2021-06-16T02:18:25.820155Z",
     "start_time": "2021-06-16T02:18:24.667588Z"
    }
   },
   "outputs": [
    {
     "name": "stdout",
     "output_type": "stream",
     "text": [
      "10\n",
      "1.1244540214538574\n"
     ]
    }
   ],
   "source": [
    "import socket\n",
    "import time\n",
    "\n",
    "def nonblocking_way():\n",
    "    sock = socket.socket()\n",
    "    sock.setblocking(False)\n",
    "    try:\n",
    "        sock.connect(('baidu.com', 80))\n",
    "    except BlockingIOError:\n",
    "        # 非阻塞连接过程中也会抛出异常\n",
    "        pass\n",
    "    request = 'GET / HTTP/1.0\\r\\nHost: baidu.com\\r\\n\\r\\n'\n",
    "    data = request.encode('ascii')\n",
    "    # 不知道socket何时就绪，所以不断尝试发送\n",
    "    while True:\n",
    "        try:\n",
    "            sock.send(data)\n",
    "            # 直到send不抛异常，则发送完成\n",
    "            break\n",
    "        except OSError:\n",
    "            pass\n",
    "\n",
    "    response = b''\n",
    "    while True:\n",
    "        try:\n",
    "            chunk = sock.recv(4096)\n",
    "            while chunk:\n",
    "                response += chunk\n",
    "                chunk = sock.recv(4096)\n",
    "            break\n",
    "        except OSError:\n",
    "            pass\n",
    "\n",
    "    return response\n",
    "\n",
    "\n",
    "def sync_way():\n",
    "    res = []\n",
    "    for i in range(10):\n",
    "        res.append(nonblocking_way())\n",
    "    return len(res)\n",
    "\n",
    "if __name__ == \"__main__\": \n",
    "    start = time.time()\n",
    "    print(sync_way())\n",
    "    print(time.time() - start)"
   ]
  },
  {
   "cell_type": "markdown",
   "id": "52cde81c",
   "metadata": {},
   "source": [
    "### 2.2.5  非阻塞改进"
   ]
  },
  {
   "cell_type": "markdown",
   "id": "78741694",
   "metadata": {},
   "source": [
    "#### 2.2.5.2  回调(Callback)"
   ]
  },
  {
   "cell_type": "code",
   "execution_count": 14,
   "id": "8a956473",
   "metadata": {
    "ExecuteTime": {
     "end_time": "2021-06-16T02:19:48.757190Z",
     "start_time": "2021-06-16T02:19:48.743069Z"
    }
   },
   "outputs": [],
   "source": [
    "import time\n",
    "\n",
    "import socket\n",
    "from selectors import DefaultSelector, EVENT_WRITE, EVENT_READ\n",
    "\n",
    "selector = DefaultSelector()\n",
    "stopped = False\n",
    "urls_todo = {'/', '/1', '/2', '/3', '/4', '/5', '/6', '/7', '/8', '/9'}\n",
    "\n",
    "\n",
    "class Crawler:\n",
    "    def __init__(self, url):\n",
    "        self.url = url\n",
    "        self.sock = None\n",
    "        self.response = b''\n",
    "\n",
    "    def fetch(self):\n",
    "        self.sock = socket.socket()\n",
    "        self.sock.setblocking(False)\n",
    "        try:\n",
    "            self.sock.connect(('baidu.com', 80))\n",
    "        except BlockingIOError:\n",
    "            pass\n",
    "        selector.register(self.sock.fileno(), EVENT_WRITE, self.connected)\n",
    "\n",
    "    def connected(self, key, mask):\n",
    "        selector.unregister(key.fd)\n",
    "        get = 'GET {0} HTTP/1.0\\r\\nHost: baidu.com\\r\\n\\r\\n'.format(self.url)\n",
    "        self.sock.send(get.encode('ascii'))\n",
    "        selector.register(key.fd, EVENT_READ, self.read_response)\n",
    "\n",
    "    def read_response(self, key, mask):\n",
    "        global stopped\n",
    "        # 如果响应大于4KB，下一次循环会继续读\n",
    "        chunk = self.sock.recv(4096)\n",
    "        if chunk:\n",
    "            self.response += chunk\n",
    "        else:\n",
    "            selector.unregister(key.fd)\n",
    "            urls_todo.remove(self.url)\n",
    "            if not urls_todo:\n",
    "                stopped = True"
   ]
  },
  {
   "cell_type": "markdown",
   "id": "bca50450",
   "metadata": {},
   "source": [
    "#### 2.2.5.3  事件循环（Event Loop）"
   ]
  },
  {
   "cell_type": "code",
   "execution_count": 15,
   "id": "9a8df4bc",
   "metadata": {
    "ExecuteTime": {
     "end_time": "2021-06-16T02:20:41.184562Z",
     "start_time": "2021-06-16T02:20:41.167615Z"
    }
   },
   "outputs": [],
   "source": [
    "def loop():\n",
    "    while not stopped:\n",
    "        # 阻塞, 直到一个事件发生\n",
    "        events = selector.select()\n",
    "        for event_key, event_mask in events:\n",
    "            callback = event_key.data\n",
    "            callback(event_key, event_mask)"
   ]
  },
  {
   "cell_type": "code",
   "execution_count": 16,
   "id": "00184a6f",
   "metadata": {
    "ExecuteTime": {
     "end_time": "2021-06-16T02:20:58.435415Z",
     "start_time": "2021-06-16T02:20:58.161627Z"
    }
   },
   "outputs": [
    {
     "name": "stdout",
     "output_type": "stream",
     "text": [
      "0.25475072860717773\n"
     ]
    }
   ],
   "source": [
    "start = time.time()\n",
    "for url in urls_todo:\n",
    "    crawler = Crawler(url)\n",
    "    crawler.fetch()\n",
    "loop()\n",
    "print(time.time() - start)"
   ]
  },
  {
   "cell_type": "markdown",
   "id": "af1ad856",
   "metadata": {},
   "source": []
  },
  {
   "cell_type": "markdown",
   "id": "dd3ac42d",
   "metadata": {},
   "source": [
    "## 2.3  Python 对异步I/O的优化之路"
   ]
  },
  {
   "cell_type": "markdown",
   "id": "3742dc34",
   "metadata": {},
   "source": [
    "## 2.3.2  协程"
   ]
  },
  {
   "cell_type": "markdown",
   "id": "397b2dfd",
   "metadata": {},
   "source": [
    "### 2.3.2.1  基于生成器的协程"
   ]
  },
  {
   "cell_type": "code",
   "execution_count": 28,
   "id": "cadb2296",
   "metadata": {
    "ExecuteTime": {
     "end_time": "2021-06-16T02:40:47.655930Z",
     "start_time": "2021-06-16T02:40:47.640555Z"
    }
   },
   "outputs": [],
   "source": [
    "import socket\n",
    "from selectors import DefaultSelector, EVENT_WRITE, EVENT_READ\n",
    "\n",
    "selector = DefaultSelector()\n",
    "stopped = False\n",
    "urls_todo = {'/', '/1', '/2', '/3', '/4', '/5', '/6', '/7', '/8', '/9'}\n",
    "\n",
    "class Future:\n",
    "    def __init__(self):\n",
    "        self.result = None\n",
    "        self._callbacks = []\n",
    "\n",
    "    def add_done_callback(self, fn):\n",
    "        self._callbacks.append(fn)\n",
    "\n",
    "    def set_result(self, result):\n",
    "        self.result = result\n",
    "        for fn in self._callbacks:\n",
    "            fn(self)\n"
   ]
  },
  {
   "cell_type": "code",
   "execution_count": 29,
   "id": "86cb6629",
   "metadata": {
    "ExecuteTime": {
     "end_time": "2021-06-16T02:40:47.717849Z",
     "start_time": "2021-06-16T02:40:47.659018Z"
    }
   },
   "outputs": [],
   "source": [
    "class Crawler:\n",
    "    def __init__(self, url):\n",
    "        self.url = url\n",
    "        self.response = b''\n",
    "\n",
    "    def fetch(self):\n",
    "        sock = socket.socket()\n",
    "        sock.setblocking(False)\n",
    "        try:\n",
    "            sock.connect(('baidu.com', 80))\n",
    "        except BlockingIOError:\n",
    "            pass\n",
    "        f = Future()\n",
    "\n",
    "        def on_connected():\n",
    "            f.set_result(None)\n",
    "\n",
    "        selector.register(sock.fileno(), EVENT_WRITE, on_connected)\n",
    "        yield f\n",
    "        selector.unregister(sock.fileno())\n",
    "        get = 'GET {0} HTTP/1.0\\r\\nHost: baidu.com\\r\\n\\r\\n'.format(self.url)\n",
    "        sock.send(get.encode('ascii'))\n",
    "\n",
    "        global stopped\n",
    "        while True:\n",
    "            f = Future()\n",
    "\n",
    "            def on_readable():\n",
    "                f.set_result(sock.recv(4096))\n",
    "\n",
    "            selector.register(sock.fileno(), EVENT_READ, on_readable)\n",
    "            chunk = yield f\n",
    "            selector.unregister(sock.fileno())\n",
    "            if chunk:\n",
    "                self.response += chunk\n",
    "            else:\n",
    "                urls_todo.remove(self.url)\n",
    "                if not urls_todo:\n",
    "                    stopped = True\n",
    "                break"
   ]
  },
  {
   "cell_type": "code",
   "execution_count": 30,
   "id": "d979426e",
   "metadata": {
    "ExecuteTime": {
     "end_time": "2021-06-16T02:40:48.798717Z",
     "start_time": "2021-06-16T02:40:48.787042Z"
    }
   },
   "outputs": [],
   "source": [
    "class Task:\n",
    "    def __init__(self, coro):\n",
    "        self.coro = coro\n",
    "        f = Future()\n",
    "        f.set_result(None)\n",
    "        self.step(f)\n",
    "\n",
    "    def step(self, future):\n",
    "        try:\n",
    "            # send会进入到coro执行, 即fetch, 直到下次yield\n",
    "            # next_future 为yield返回的对象\n",
    "            next_future = self.coro.send(future.result)\n",
    "        except StopIteration:\n",
    "            return\n",
    "        next_future.add_done_callback(self.step)"
   ]
  },
  {
   "cell_type": "code",
   "execution_count": 31,
   "id": "37145068",
   "metadata": {
    "ExecuteTime": {
     "end_time": "2021-06-16T02:40:50.033628Z",
     "start_time": "2021-06-16T02:40:49.824477Z"
    }
   },
   "outputs": [
    {
     "name": "stdout",
     "output_type": "stream",
     "text": [
      "0.18496417999267578\n"
     ]
    }
   ],
   "source": [
    "def loop():\n",
    "    while not stopped:\n",
    "        # 阻塞, 直到一个事件发生\n",
    "        events = selector.select()\n",
    "        for event_key, event_mask in events:\n",
    "            callback = event_key.data\n",
    "            callback()\n",
    "\n",
    "\n",
    "if __name__ == '__main__':\n",
    "    import time\n",
    "    start = time.time()\n",
    "    for url in urls_todo:\n",
    "        crawler = Crawler(url)\n",
    "        Task(crawler.fetch())\n",
    "    loop()\n",
    "    print(time.time() - start)"
   ]
  },
  {
   "cell_type": "markdown",
   "id": "957d316c",
   "metadata": {},
   "source": [
    "### 2.3.2.2  用 yield from 改进生成器协程"
   ]
  },
  {
   "cell_type": "code",
   "execution_count": 38,
   "id": "96dfa37a",
   "metadata": {
    "ExecuteTime": {
     "end_time": "2021-06-16T02:41:46.058352Z",
     "start_time": "2021-06-16T02:41:46.045397Z"
    }
   },
   "outputs": [],
   "source": [
    "def connect(sock, address):\n",
    "    f = Future()\n",
    "    sock.setblocking(False)\n",
    "    try:\n",
    "        sock.connect(address)\n",
    "    except BlockingIOError:\n",
    "        pass\n",
    "\n",
    "    def on_connected():\n",
    "        f.set_result(None)\n",
    "\n",
    "    selector.register(sock.fileno(), EVENT_WRITE, on_connected)\n",
    "    yield from f\n",
    "    selector.unregister(sock.fileno())"
   ]
  },
  {
   "cell_type": "code",
   "execution_count": 39,
   "id": "4a3710c8",
   "metadata": {
    "ExecuteTime": {
     "end_time": "2021-06-16T02:41:47.127113Z",
     "start_time": "2021-06-16T02:41:47.107436Z"
    }
   },
   "outputs": [],
   "source": [
    "def read(sock):\n",
    "    f = Future()\n",
    "\n",
    "    def on_readable():\n",
    "        f.set_result(sock.recv(4096))\n",
    "\n",
    "    selector.register(sock.fileno(), EVENT_READ, on_readable)\n",
    "    chunk = yield from f\n",
    "    selector.unregister(sock.fileno())\n",
    "    return chunk\n",
    "\n",
    "\n",
    "def read_all(sock):\n",
    "    response = []\n",
    "    chunk = yield from read(sock)\n",
    "    while chunk:\n",
    "        response.append(chunk)\n",
    "        chunk = yield from read(sock)\n",
    "    return b''.join(response)"
   ]
  },
  {
   "cell_type": "code",
   "execution_count": 40,
   "id": "c09eb842",
   "metadata": {
    "ExecuteTime": {
     "end_time": "2021-06-16T02:41:48.087132Z",
     "start_time": "2021-06-16T02:41:48.065255Z"
    }
   },
   "outputs": [],
   "source": [
    "class Crawler:\n",
    "    def __init__(self, url):\n",
    "        self.url = url\n",
    "        self.response = b''\n",
    "\n",
    "    def fetch(self):\n",
    "        global stopped\n",
    "        sock = socket.socket()\n",
    "        yield from connect(sock, ('baidu.com', 80))\n",
    "        get = 'GET {0} HTTP/1.0\\r\\nHost: baidu.com\\r\\n\\r\\n'.format(self.url)\n",
    "        sock.send(get.encode('ascii'))\n",
    "        self.response = yield from read_all(sock)\n",
    "        urls_todo.remove(self.url)\n",
    "        if not urls_todo:\n",
    "            stopped = True"
   ]
  },
  {
   "cell_type": "code",
   "execution_count": 41,
   "id": "9844b298",
   "metadata": {
    "ExecuteTime": {
     "end_time": "2021-06-16T02:41:48.920549Z",
     "start_time": "2021-06-16T02:41:48.901630Z"
    }
   },
   "outputs": [],
   "source": [
    "import socket\n",
    "from selectors import DefaultSelector, EVENT_WRITE, EVENT_READ\n",
    "\n",
    "selector = DefaultSelector()\n",
    "stopped = False\n",
    "urls_todo = {'/', '/1', '/2', '/3', '/4', '/5', '/6', '/7', '/8', '/9'}\n",
    "\n",
    "class Future:\n",
    "    def __init__(self):\n",
    "        self.result = None\n",
    "        self._callbacks = []\n",
    "\n",
    "    def add_done_callback(self, fn):\n",
    "        self._callbacks.append(fn)\n",
    "\n",
    "    def set_result(self, result):\n",
    "        self.result = result\n",
    "        for fn in self._callbacks:\n",
    "            fn(self)\n",
    "\n",
    "    def __iter__(self):\n",
    "        yield self\n",
    "        return self.result"
   ]
  },
  {
   "cell_type": "code",
   "execution_count": 42,
   "id": "80639690",
   "metadata": {
    "ExecuteTime": {
     "end_time": "2021-06-16T02:41:49.962823Z",
     "start_time": "2021-06-16T02:41:49.759100Z"
    }
   },
   "outputs": [
    {
     "name": "stdout",
     "output_type": "stream",
     "text": [
      "0.1895143985748291\n"
     ]
    }
   ],
   "source": [
    "class Task:\n",
    "    def __init__(self, coro):\n",
    "        self.coro = coro\n",
    "        f = Future()\n",
    "        f.set_result(None)\n",
    "        self.step(f)\n",
    "\n",
    "    def step(self, future):\n",
    "        try:\n",
    "            # send会进入到coro执行, 即fetch, 直到下次yield\n",
    "            # next_future 为yield返回的对象\n",
    "            next_future = self.coro.send(future.result)\n",
    "        except StopIteration:\n",
    "            return\n",
    "        next_future.add_done_callback(self.step)\n",
    "\n",
    "\n",
    "def loop():\n",
    "    while not stopped:\n",
    "        # 阻塞, 直到一个事件发生\n",
    "        events = selector.select()\n",
    "        for event_key, event_mask in events:\n",
    "            callback = event_key.data\n",
    "            callback()\n",
    "\n",
    "\n",
    "\n",
    "if __name__ == '__main__':\n",
    "    import time\n",
    "    start = time.time()\n",
    "    for url in urls_todo:\n",
    "        crawler = Crawler(url)\n",
    "        Task(crawler.fetch())\n",
    "    loop()\n",
    "    print(time.time() - start)"
   ]
  },
  {
   "cell_type": "markdown",
   "id": "d73823af",
   "metadata": {},
   "source": [
    "## 2.3.4  asyncio和原生协程初体验"
   ]
  },
  {
   "cell_type": "raw",
   "id": "80913f60",
   "metadata": {},
   "source": [
    "import asyncio\n",
    "import aiohttp\n",
    "\n",
    "host = 'http://baidu.com'\n",
    "urls_todo = {'/', '/1', '/2', '/3', '/4', '/5', '/6', '/7', '/8', '/9'}\n",
    "\n",
    "loop = asyncio.get_event_loop()\n",
    "\n",
    "async def fetch(url):\n",
    "    async with aiohttp.ClientSession(loop=loop) as session:\n",
    "        async with session.get(url) as response:\n",
    "            response = await response.read()\n",
    "            return response\n",
    "\n",
    "\n",
    "if __name__ == '__main__':\n",
    "    import time\n",
    "    start = time.time()\n",
    "    tasks = [fetch(host + url) for url in urls_todo]\n",
    "    loop.run_until_complete(asyncio.gather(*tasks))\n",
    "    print(time.time() - start)"
   ]
  },
  {
   "cell_type": "code",
   "execution_count": null,
   "id": "202568af",
   "metadata": {
    "ExecuteTime": {
     "start_time": "2021-06-16T02:44:18.514Z"
    }
   },
   "outputs": [],
   "source": [
    "!python asyncio_way.py"
   ]
  },
  {
   "cell_type": "markdown",
   "id": "0fa961f3",
   "metadata": {},
   "source": [
    "|程序|耗时（单位：秒）|\n",
    "|:---|:---|\n",
    "|同步阻塞方式|1.3751330375671387|\n",
    "|改进方式：多进程|0.8138792514801025|\n",
    "|继续改进：多线程|0.24358892440795898|\n",
    "|非阻塞方式|1.1244540214538574|\n",
    "|非阻塞改进|0.25475072860717773|\n",
    "|基于生成器的协程|0.18496417999267578|\n",
    "|用 yield from 改进生成器协程|0.1895143985748291|\n",
    "|asyncio和原生协程初体验||"
   ]
  }
 ],
 "metadata": {
  "kernelspec": {
   "display_name": "py36_gpu",
   "language": "python",
   "name": "py36_gpu"
  },
  "language_info": {
   "codemirror_mode": {
    "name": "ipython",
    "version": 3
   },
   "file_extension": ".py",
   "mimetype": "text/x-python",
   "name": "python",
   "nbconvert_exporter": "python",
   "pygments_lexer": "ipython3",
   "version": "3.6.13"
  },
  "toc": {
   "base_numbering": 1,
   "nav_menu": {},
   "number_sections": true,
   "sideBar": true,
   "skip_h1_title": false,
   "title_cell": "Table of Contents",
   "title_sidebar": "Contents",
   "toc_cell": false,
   "toc_position": {
    "height": "calc(100% - 180px)",
    "left": "10px",
    "top": "150px",
    "width": "303.837px"
   },
   "toc_section_display": true,
   "toc_window_display": true
  }
 },
 "nbformat": 4,
 "nbformat_minor": 5
}
