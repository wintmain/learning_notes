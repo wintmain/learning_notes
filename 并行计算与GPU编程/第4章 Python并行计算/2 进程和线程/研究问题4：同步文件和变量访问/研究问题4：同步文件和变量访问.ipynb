{
 "cells": [
  {
   "cell_type": "markdown",
   "id": "179c4a09",
   "metadata": {},
   "source": [
    "在下面的示例中，我们将研究多个进程共享和操作一个状态在本例中，四个进程将一个共享计数器递增一组次数。如果没有同步过程，计数是不正确的。如果您以一致的方式共享数据，则始终需要一种方法来同步数据的读写，否则最终会出现错误。\n",
    "\n",
    "通常，同步方法特定于您使用的操作系统，并且通常特定于您使用的语言。这里，我们看一下使用Python库和在Python进程之间共享整数对象的基于文件的同步。"
   ]
  },
  {
   "cell_type": "markdown",
   "id": "personal-pricing",
   "metadata": {},
   "source": [
    "## 文件锁定"
   ]
  },
  {
   "cell_type": "markdown",
   "id": "649e6509",
   "metadata": {},
   "source": [
    "读取和写入文件将是本节中数据共享的最慢示例。\n",
    "\n",
    "您可以在示例中看到我们的第一个功函数 9-35. 函数在本地计数器上迭代。在每次迭代中，它打开一个文件并读取现有值，将其递增一，然后在旧值上写入新值。在第一次迭代中，文件将是空的或不存在，因此它将捕获一个异常并假设值应该为零。"
   ]
  },
  {
   "cell_type": "markdown",
   "id": "b52f16c7",
   "metadata": {},
   "source": [
    "函数\n",
    "\n",
    "这里给出的示例在实践中得到了简化使用上下文管理器打开文件更安全，使用with open（filename，“r”）作为f:。如果在上下文中引发异常，文件f将正确关闭。"
   ]
  },
  {
   "cell_type": "markdown",
   "id": "periodic-potter",
   "metadata": {},
   "source": [
    "无锁工作函数："
   ]
  },
  {
   "cell_type": "raw",
   "id": "perfect-cleaners",
   "metadata": {},
   "source": [
    "def work(filename, max_count):\n",
    "    for n in range(max_count):\n",
    "        f = open(filename, \"r\")\n",
    "        try:\n",
    "            nbr = int(f.read())\n",
    "        except ValueError as err:\n",
    "            print(\"File is empty, starting to count from 0, error: \" + str(err))\n",
    "            nbr = 0\n",
    "        f = open(filename, \"w\")\n",
    "        f.write(str(nbr + 1) + '\\n')\n",
    "        f.close()"
   ]
  },
  {
   "cell_type": "markdown",
   "id": "freelance-phoenix",
   "metadata": {},
   "source": [
    "让我们用一个进程来运行这个示例。您可以在示例中看到输出 9-36. 工作被调用了1000次，并且正如预期的那样，它正确地计数而不丢失任何数据。在第一次读取时，它会看到一个空文件。这将引发int（）的invalid literal for int（）错误（因为int（）是在空字符串上调用的）。此错误只发生一次；之后，我们总是要读取一个有效值并将其转换为整数。"
   ]
  },
  {
   "cell_type": "markdown",
   "id": "micro-council",
   "metadata": {},
   "source": [
    "例9-36。无锁单进程基于文件计数的计时"
   ]
  },
  {
   "cell_type": "raw",
   "id": "norman-material",
   "metadata": {},
   "source": [
    "$ python ex1_nolock1.py\n",
    "Starting 1 process(es) to count to 1000\n",
    "File is empty, starting to count from 0,\n",
    "error: invalid literal for int() with base 10: ''\n",
    "Expecting to see a count of 1000\n",
    "count.txt contains:\n",
    "1000"
   ]
  },
  {
   "cell_type": "raw",
   "id": "moral-hunger",
   "metadata": {},
   "source": [
    "现在我们将用四个并发进程运行相同的work函数。我们没有任何锁定代码，所以我们希望得到一些奇怪的结果。"
   ]
  },
  {
   "cell_type": "markdown",
   "id": "grave-major",
   "metadata": {},
   "source": [
    "提示\n",
    "在看下面的代码之前，当两个进程同时读写同一个文件时，您希望看到哪两种类型的错误？考虑代码的两种主要状态（每个进程的开始执行和每个进程的正常运行状态）。"
   ]
  },
  {
   "cell_type": "markdown",
   "id": "agricultural-duplicate",
   "metadata": {},
   "source": [
    "看看这个例子 9-37查看问题。首先，当每个进程启动时，文件为空，因此每个进程都尝试从零开始计数。第二，当一个进程写入时，另一个进程可以读取无法解析的部分写入的结果。这将导致异常，并且将回写零。这反过来又会导致我们的计数器不断重置！您能看到\\n和两个值是如何被两个并发进程写入同一个打开的文件，从而导致第三个进程读取无效条目的吗？\n",
    "\n",
    "例9-37。基于文件的无锁四进程计数计时"
   ]
  },
  {
   "cell_type": "raw",
   "id": "dense-wholesale",
   "metadata": {},
   "source": [
    "$ python ex1_nolock4.py\n",
    "Starting 4 process(es) to count to 4000\n",
    "File is empty, starting to count from 0,\n",
    "error: invalid literal for int() with base 10: ''\n",
    "# many errors like these\n",
    "File is empty, starting to count from 0,\n",
    "error: invalid literal for int() with base 10: ''\n",
    "Expecting to see a count of 4000\n",
    "count.txt contains:\n",
    "112\n",
    "\n",
    "$ python -m timeit -s \"import ex1_nolock4\" \"ex1_nolock4.run_workers()\"\n",
    "2 loops, best of 5: 158 msec per loop"
   ]
  },
  {
   "cell_type": "markdown",
   "id": "successful-requirement",
   "metadata": {},
   "source": [
    "例子 9-38显示了使用四个进程调用work的多处理代码。请注意，我们不是使用映射，而是构建一个进程对象列表。虽然我们不使用这里的功能，但是Process对象给了我们反思每个进程状态的能力。我们鼓励您阅读文档，了解您可能希望使用流程的原因。"
   ]
  },
  {
   "cell_type": "markdown",
   "id": "regulated-tongue",
   "metadata": {},
   "source": [
    "例9-38。run_workers 设置四个进程"
   ]
  },
  {
   "cell_type": "raw",
   "id": "greenhouse-drove",
   "metadata": {},
   "source": [
    "import multiprocessing\n",
    "import os\n",
    "\n",
    "...\n",
    "MAX_COUNT_PER_PROCESS = 1000\n",
    "FILENAME = \"count.txt\"\n",
    "...\n",
    "\n",
    "def run_workers():\n",
    "    NBR_PROCESSES = 4\n",
    "    total_expected_count = NBR_PROCESSES * MAX_COUNT_PER_PROCESS\n",
    "    print(\"Starting {} process(es) to count to {}\".format(NBR_PROCESSES,\n",
    "\n",
    "\t\t\t\t\t\t\t\t\t\t\t\t\t\t                                            total_expected_count))\n",
    "    # reset counter\n",
    "    f = open(FILENAME, \"w\")\n",
    "    f.close()\n",
    "\n",
    "    processes = []\n",
    "    for process_nbr in range(NBR_PROCESSES):\n",
    "        p = multiprocessing.Process(target=work, args=(FILENAME,\n",
    "\n",
    "\t\t\t\t\t\t\t\t\t\t\t\t\t                                          MAX_COUNT_PER_PROCESS))\n",
    "        p.start()\n",
    "        processes.append(p)\n",
    "\n",
    "    for p in processes:\n",
    "        p.join()\n",
    "\n",
    "    print(\"Expecting to see a count of {}\".format(total_expected_count))\n",
    "    print(\"{} contains:\".format(FILENAME))\n",
    "    os.system('more ' + FILENAME)\n",
    "\n",
    "if __name__ == \"__main__\":\n",
    "    run_workers()"
   ]
  },
  {
   "cell_type": "raw",
   "id": "sought-copying",
   "metadata": {},
   "source": [
    "通过使用fasteners模块，我们可以引入一种同步方法，这样一次只能写入一个进程，而其他进程则各自等待轮到它们。因此，整个过程运行得比较慢，但不会出错。您可以在示例中看到正确的输出 9-39. 请注意，锁定机制是特定于Python的，因此查看此文件的其他进程将不关心此文件的“锁定”性质。"
   ]
  },
  {
   "cell_type": "markdown",
   "id": "developed-republican",
   "metadata": {},
   "source": [
    "例9-39。带锁和四个进程的基于文件的计数计时:"
   ]
  },
  {
   "cell_type": "raw",
   "id": "christian-doctor",
   "metadata": {},
   "source": [
    "$ python ex1_lock.py\n",
    "Starting 4 process(es) to count to 4000\n",
    "File is empty, starting to count from 0,\n",
    "error: invalid literal for int() with base 10: ''\n",
    "Expecting to see a count of 4000\n",
    "count.txt contains:\n",
    "4000\n",
    "$ python -m timeit -s \"import ex1_lock\" \"ex1_lock.run_workers()\"\n",
    "10 loops, best of 3: 401 msec per loop"
   ]
  },
  {
   "cell_type": "markdown",
   "id": "compatible-aurora",
   "metadata": {},
   "source": [
    "在示例中，使用紧固件会添加一行代码 9-40带@fasteners.interprocess\\u锁装饰器；文件名可以是任何名称，但是使用与要锁定的文件类似的名称可能会使从命令行进行调试更容易。注意，我们不必改变内部函数；decorator在每次调用时都会获得锁，它会等到能够获得锁之后，才能继续调用工作。"
   ]
  },
  {
   "cell_type": "markdown",
   "id": "central-farming",
   "metadata": {},
   "source": [
    "例9-40。带锁的工作功能"
   ]
  },
  {
   "cell_type": "raw",
   "id": "yellow-summit",
   "metadata": {},
   "source": [
    "@fasteners.interprocess_locked('/tmp/tmp_lock')\n",
    "def work(filename, max_count):\n",
    "    for n in range(max_count):\n",
    "        f = open(filename, \"r\")\n",
    "        try:\n",
    "            nbr = int(f.read())\n",
    "        except ValueError as err:\n",
    "            print(\"File is empty, starting to count from 0, error: \" + str(err))\n",
    "            nbr = 0\n",
    "        f = open(filename, \"w\")\n",
    "        f.write(str(nbr + 1) + '\\n')\n",
    "        f.close()"
   ]
  },
  {
   "cell_type": "markdown",
   "id": "adolescent-wages",
   "metadata": {},
   "source": [
    "## 锁定值"
   ]
  },
  {
   "cell_type": "markdown",
   "id": "subjective-isolation",
   "metadata": {},
   "source": [
    "multiprocessing模块提供了几个在进程之间共享Python对象的选项。我们可以以较低的通信开销共享基本对象，也可以使用管理器共享更高级的Python对象（例如，字典和列表）（但请注意，同步成本将显著降低数据共享的速度）。\n",
    "\n",
    "在这里，我们将使用multiprocessing.Value对象在进程之间共享一个整数。当一个值有一个锁时，锁并不能像你期望的那样防止同时读写，但不能提供原子增量。例子 9-41说明了这一点。你可以看到，我们最终得到了一个不正确的计数；这类似于我们前面看到的基于文件的不同步示例。\n",
    "\n",
    "例9-41。没有锁定会导致错误计数"
   ]
  },
  {
   "cell_type": "raw",
   "id": "fifteen-start",
   "metadata": {},
   "source": [
    "$ python ex2_nolock.py\n",
    "Expecting to see a count of 4000\n",
    "We have counted to 2340\n",
    "$ python -m timeit -s \"import ex2_nolock\" \"ex2_nolock.run_workers()\"\n",
    "20 loops, best of 5: 9.97 msec per loop"
   ]
  },
  {
   "cell_type": "markdown",
   "id": "married-deviation",
   "metadata": {},
   "source": [
    "数据没有损坏，但我们确实错过了一些更新。如果您正在从一个进程写入一个值，并在其他进程中使用（但不是修改）该值，那么这种方法可能是合适的。\n",
    "\n",
    "示例中显示了共享该值的代码 9-42. 我们必须使用value（“i”，0）指定数据类型和初始化值，我们请求一个默认值为0的有符号整数。这是作为常规参数传递给我们的Process对象的，它负责在幕后的进程之间共享相同的字节块。要访问由我们的值持有的原始对象，我们使用.Value。注意，我们要求一个就地加法，我们希望这是一个原子操作，但是这个值不支持它，所以我们的最终计数低于预期。\n",
    "\n",
    "例9-42。无锁计数码"
   ]
  },
  {
   "cell_type": "raw",
   "id": "hungry-behavior",
   "metadata": {},
   "source": [
    "import multiprocessing\n",
    "\n",
    "def work(value, max_count):\n",
    "    for n in range(max_count):\n",
    "        value.value += 1\n",
    "\n",
    "def run_workers():\n",
    "...\n",
    "    value = multiprocessing.Value('i', 0)\n",
    "    for process_nbr in range(NBR_PROCESSES):\n",
    "        p = multiprocessing.Process(target=work, args=(value, MAX_COUNT_PER_PROCESS))\n",
    "        p.start()\n",
    "        processes.append(p)\n",
    "..."
   ]
  },
  {
   "cell_type": "markdown",
   "id": "sought-hartford",
   "metadata": {},
   "source": [
    "您可以在示例中看到正确同步的计数 9-43使用multiprocessing.Lock。\n",
    "\n",
    "例9-43。使用锁同步对值的写入"
   ]
  },
  {
   "cell_type": "raw",
   "id": "sudden-sandwich",
   "metadata": {},
   "source": [
    "# lock on the update, but this isn't atomic\n",
    "$ python ex2_lock.py\n",
    "Expecting to see a count of 4000\n",
    "We have counted to 4000\n",
    "$ python -m timeit -s \"import ex2_lock\" \"ex2_lock.run_workers()\"\n",
    "20 loops, best of 5: 19.3 msec per loop"
   ]
  },
  {
   "cell_type": "markdown",
   "id": "dressed-award",
   "metadata": {},
   "source": [
    "在示例中 9-44，我们使用了一个上下文管理器（带锁）来获取锁。\n",
    "\n",
    "例9-44。使用上下文管理器获取锁"
   ]
  },
  {
   "cell_type": "raw",
   "id": "piano-champagne",
   "metadata": {},
   "source": [
    "import multiprocessing\n",
    "\n",
    "\n",
    "def work(value, max_count, lock):\n",
    "    for n in range(max_count):\n",
    "        with lock:\n",
    "            value.value += 1\n",
    "\n",
    "\n",
    "def run_workers():\n",
    "...\n",
    "    processes = []\n",
    "    lock = multiprocessing.Lock()\n",
    "    value = multiprocessing.Value('i', 0)\n",
    "    for process_nbr in range(NBR_PROCESSES):\n",
    "        p = multiprocessing.Process(target=work,\n",
    "                                    args=(value, MAX_COUNT_PER_PROCESS, lock))\n",
    "        p.start()\n",
    "        processes.append(p)\n",
    "..."
   ]
  },
  {
   "cell_type": "raw",
   "id": "deadly-journey",
   "metadata": {},
   "source": [
    "如果我们避免使用上下文管理器，直接用acquire和release包装我们的增量，我们可以更快一点，但是与使用上下文管理器相比，代码的可读性较差。我们建议使用上下文管理器来提高可读性。示例中的代码段 9-45显示了如何获取和释放锁定对象。\n",
    "\n",
    "例9-45。内联锁定而不是使用上下文管理器"
   ]
  },
  {
   "cell_type": "raw",
   "id": "permanent-subscription",
   "metadata": {},
   "source": [
    "lock.acquire()\n",
    "value.value += 1\n",
    "lock.release()"
   ]
  },
  {
   "cell_type": "markdown",
   "id": "measured-office",
   "metadata": {},
   "source": [
    "由于锁不能提供我们所追求的粒度级别，因此它提供的基本锁会浪费一些不必要的时间。我们可以用RawValue替换该值，如示例所示 9-46，并实现增量加速。如果你有兴趣看到这个变化背后的字节码，请阅读Eli Bendersky的博客文章。\n",
    "\n",
    "例9-46。显示更快的值和锁方法的控制台输出"
   ]
  },
  {
   "cell_type": "raw",
   "id": "supported-imaging",
   "metadata": {},
   "source": [
    "# RawValue has no lock on it\n",
    "$ python ex2_lock_rawvalue.py\n",
    "Expecting to see a count of 4000\n",
    "We have counted to 4000\n",
    "$ python -m timeit -s \"import ex2_lock_rawvalue\" \"ex2_lock_rawvalue.run_workers()\"\n",
    "50 loops, best of 5: 9.49 msec per loop"
   ]
  },
  {
   "cell_type": "raw",
   "id": "cheap-joshua",
   "metadata": {},
   "source": [
    "要使用RawValue，只需将其交换为一个值，如示例所示 9-47.\n",
    "\n",
    "例9-47。使用<code>RawValue</code>整数的示例"
   ]
  },
  {
   "cell_type": "raw",
   "id": "governmental-recommendation",
   "metadata": {},
   "source": [
    "...\n",
    "def run_workers():\n",
    "...\n",
    "    lock = multiprocessing.Lock()\n",
    "    value = multiprocessing.RawValue('i', 0)\n",
    "    for process_nbr in range(NBR_PROCESSES):\n",
    "        p = multiprocessing.Process(target=work,\n",
    "                                    args=(value, MAX_COUNT_PER_PROCESS, lock))\n",
    "        p.start()\n",
    "        processes.append(p)"
   ]
  },
  {
   "cell_type": "markdown",
   "id": "complex-wings",
   "metadata": {},
   "source": [
    "如果我们共享一个原始对象数组，我们也可以使用RawArray来代替multiprocessing.Array。\n",
    "\n",
    "我们已经研究了在一台机器上在多个进程之间分配工作的各种方法，以及在这些进程之间共享标志和同步数据共享。不过，请记住，共享数据可能会导致头痛，如果可能，请尽量避免。使机器处理所有状态共享的边缘情况是困难的；当您第一次必须调试多个进程的交互时，您将意识到为什么公认的智慧是尽可能避免这种情况。\n",
    "\n",
    "请考虑编写运行速度稍慢但更容易被团队理解的代码。使用Redis这样的外部工具来共享状态会导致系统在运行时可以被开发人员以外的人检查，这是一种强大的方法，可以让您的团队掌握并行系统中发生的事情。\n",
    "\n",
    "一定要记住，经过性能调整的Python代码不太可能被您的团队中更多的初级成员所理解，他们要么害怕它，要么破坏它。避免这个问题（并接受速度上的牺牲）以保持团队的高速度。"
   ]
  },
  {
   "cell_type": "markdown",
   "id": "180f9271",
   "metadata": {},
   "source": [
    "## 小结"
   ]
  },
  {
   "cell_type": "markdown",
   "id": "a2930298",
   "metadata": {},
   "source": [
    "本项目，我们研究了如何使用文件和内存锁来避免损坏数据这是一个微妙的、难以跟踪的错误源，展示了一些健壮的、轻量级的解决方案。"
   ]
  },
  {
   "cell_type": "code",
   "execution_count": null,
   "id": "6a641eee",
   "metadata": {},
   "outputs": [],
   "source": []
  }
 ],
 "metadata": {
  "kernelspec": {
   "display_name": "Python 3",
   "language": "python",
   "name": "python3"
  },
  "language_info": {
   "codemirror_mode": {
    "name": "ipython",
    "version": 3
   },
   "file_extension": ".py",
   "mimetype": "text/x-python",
   "name": "python",
   "nbconvert_exporter": "python",
   "pygments_lexer": "ipython3",
   "version": "3.6.13"
  },
  "toc": {
   "base_numbering": 1,
   "nav_menu": {},
   "number_sections": true,
   "sideBar": true,
   "skip_h1_title": false,
   "title_cell": "Table of Contents",
   "title_sidebar": "Contents",
   "toc_cell": false,
   "toc_position": {},
   "toc_section_display": true,
   "toc_window_display": false
  }
 },
 "nbformat": 4,
 "nbformat_minor": 5
}
