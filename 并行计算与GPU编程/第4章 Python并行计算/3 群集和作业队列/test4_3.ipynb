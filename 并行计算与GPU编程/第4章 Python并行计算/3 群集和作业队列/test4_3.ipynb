{
 "cells": [
  {
   "cell_type": "code",
   "execution_count": 22,
   "id": "2ad50921",
   "metadata": {
    "ExecuteTime": {
     "end_time": "2021-06-17T07:39:26.606497Z",
     "start_time": "2021-06-17T07:39:26.602675Z"
    }
   },
   "outputs": [],
   "source": [
    "import ipyparallel as ipp"
   ]
  },
  {
   "cell_type": "code",
   "execution_count": 23,
   "id": "a94105f4",
   "metadata": {
    "ExecuteTime": {
     "end_time": "2021-06-17T07:39:38.085979Z",
     "start_time": "2021-06-17T07:39:27.973002Z"
    }
   },
   "outputs": [
    {
     "ename": "TimeoutError",
     "evalue": "Hub connection request timed out",
     "output_type": "error",
     "traceback": [
      "\u001b[1;31m---------------------------------------------------------------------------\u001b[0m",
      "\u001b[1;31mTimeoutError\u001b[0m                              Traceback (most recent call last)",
      "\u001b[1;32m<ipython-input-23-536af1a25279>\u001b[0m in \u001b[0;36m<module>\u001b[1;34m\u001b[0m\n\u001b[1;32m----> 1\u001b[1;33m \u001b[0mc\u001b[0m \u001b[1;33m=\u001b[0m \u001b[0mipp\u001b[0m\u001b[1;33m.\u001b[0m\u001b[0mClient\u001b[0m\u001b[1;33m(\u001b[0m\u001b[1;33m)\u001b[0m\u001b[1;33m\u001b[0m\u001b[1;33m\u001b[0m\u001b[0m\n\u001b[0m",
      "\u001b[1;32mD:\\Miniconda\\envs\\GPU\\lib\\site-packages\\ipyparallel\\client\\client.py\u001b[0m in \u001b[0;36m__init__\u001b[1;34m(self, url_file, profile, profile_dir, ipython_dir, context, debug, sshserver, sshkey, password, paramiko, timeout, cluster_id, **extra_args)\u001b[0m\n\u001b[0;32m    517\u001b[0m \u001b[1;33m\u001b[0m\u001b[0m\n\u001b[0;32m    518\u001b[0m         \u001b[1;32mtry\u001b[0m\u001b[1;33m:\u001b[0m\u001b[1;33m\u001b[0m\u001b[1;33m\u001b[0m\u001b[0m\n\u001b[1;32m--> 519\u001b[1;33m             \u001b[0mself\u001b[0m\u001b[1;33m.\u001b[0m\u001b[0m_connect\u001b[0m\u001b[1;33m(\u001b[0m\u001b[0msshserver\u001b[0m\u001b[1;33m,\u001b[0m \u001b[0mssh_kwargs\u001b[0m\u001b[1;33m,\u001b[0m \u001b[0mtimeout\u001b[0m\u001b[1;33m)\u001b[0m\u001b[1;33m\u001b[0m\u001b[1;33m\u001b[0m\u001b[0m\n\u001b[0m\u001b[0;32m    520\u001b[0m         \u001b[1;32mexcept\u001b[0m\u001b[1;33m:\u001b[0m\u001b[1;33m\u001b[0m\u001b[1;33m\u001b[0m\u001b[0m\n\u001b[0;32m    521\u001b[0m             \u001b[0mself\u001b[0m\u001b[1;33m.\u001b[0m\u001b[0mclose\u001b[0m\u001b[1;33m(\u001b[0m\u001b[0mlinger\u001b[0m\u001b[1;33m=\u001b[0m\u001b[1;36m0\u001b[0m\u001b[1;33m)\u001b[0m\u001b[1;33m\u001b[0m\u001b[1;33m\u001b[0m\u001b[0m\n",
      "\u001b[1;32mD:\\Miniconda\\envs\\GPU\\lib\\site-packages\\ipyparallel\\client\\client.py\u001b[0m in \u001b[0;36m_connect\u001b[1;34m(self, sshserver, ssh_kwargs, timeout)\u001b[0m\n\u001b[0;32m    636\u001b[0m         \u001b[0mevts\u001b[0m \u001b[1;33m=\u001b[0m \u001b[0mpoller\u001b[0m\u001b[1;33m.\u001b[0m\u001b[0mpoll\u001b[0m\u001b[1;33m(\u001b[0m\u001b[0mtimeout\u001b[0m\u001b[1;33m*\u001b[0m\u001b[1;36m1000\u001b[0m\u001b[1;33m)\u001b[0m\u001b[1;33m\u001b[0m\u001b[1;33m\u001b[0m\u001b[0m\n\u001b[0;32m    637\u001b[0m         \u001b[1;32mif\u001b[0m \u001b[1;32mnot\u001b[0m \u001b[0mevts\u001b[0m\u001b[1;33m:\u001b[0m\u001b[1;33m\u001b[0m\u001b[1;33m\u001b[0m\u001b[0m\n\u001b[1;32m--> 638\u001b[1;33m             \u001b[1;32mraise\u001b[0m \u001b[0merror\u001b[0m\u001b[1;33m.\u001b[0m\u001b[0mTimeoutError\u001b[0m\u001b[1;33m(\u001b[0m\u001b[1;34m\"Hub connection request timed out\"\u001b[0m\u001b[1;33m)\u001b[0m\u001b[1;33m\u001b[0m\u001b[1;33m\u001b[0m\u001b[0m\n\u001b[0m\u001b[0;32m    639\u001b[0m         \u001b[0midents\u001b[0m\u001b[1;33m,\u001b[0m \u001b[0mmsg\u001b[0m \u001b[1;33m=\u001b[0m \u001b[0mself\u001b[0m\u001b[1;33m.\u001b[0m\u001b[0msession\u001b[0m\u001b[1;33m.\u001b[0m\u001b[0mrecv\u001b[0m\u001b[1;33m(\u001b[0m\u001b[0mself\u001b[0m\u001b[1;33m.\u001b[0m\u001b[0m_query_socket\u001b[0m\u001b[1;33m,\u001b[0m \u001b[0mmode\u001b[0m\u001b[1;33m=\u001b[0m\u001b[1;36m0\u001b[0m\u001b[1;33m)\u001b[0m\u001b[1;33m\u001b[0m\u001b[1;33m\u001b[0m\u001b[0m\n\u001b[0;32m    640\u001b[0m         \u001b[1;32mif\u001b[0m \u001b[0mself\u001b[0m\u001b[1;33m.\u001b[0m\u001b[0mdebug\u001b[0m\u001b[1;33m:\u001b[0m\u001b[1;33m\u001b[0m\u001b[1;33m\u001b[0m\u001b[0m\n",
      "\u001b[1;31mTimeoutError\u001b[0m: Hub connection request timed out"
     ]
    }
   ],
   "source": [
    "# 需要使用 ipcluster start -n 4 启动四个引擎\n",
    "\n",
    "c = ipp.Client()"
   ]
  },
  {
   "cell_type": "code",
   "execution_count": 9,
   "id": "627b1ddd",
   "metadata": {
    "ExecuteTime": {
     "end_time": "2021-06-17T07:31:01.550821Z",
     "start_time": "2021-06-17T07:31:01.534501Z"
    }
   },
   "outputs": [
    {
     "name": "stdout",
     "output_type": "stream",
     "text": [
      "[0, 1, 2, 3]\n"
     ]
    }
   ],
   "source": [
    "print(c.ids)"
   ]
  },
  {
   "cell_type": "code",
   "execution_count": 13,
   "id": "09708119",
   "metadata": {
    "ExecuteTime": {
     "end_time": "2021-06-17T07:32:47.524653Z",
     "start_time": "2021-06-17T07:32:47.492707Z"
    }
   },
   "outputs": [
    {
     "data": {
      "text/plain": [
       "['Hello High Performance Pythonistas!',\n",
       " 'Hello High Performance Pythonistas!',\n",
       " 'Hello High Performance Pythonistas!',\n",
       " 'Hello High Performance Pythonistas!']"
      ]
     },
     "execution_count": 13,
     "metadata": {},
     "output_type": "execute_result"
    }
   ],
   "source": [
    "c[:].apply_sync(lambda: \"Hello High Performance Pythonistas!\")"
   ]
  },
  {
   "cell_type": "code",
   "execution_count": 14,
   "id": "6a4dca2a",
   "metadata": {
    "ExecuteTime": {
     "end_time": "2021-06-17T07:33:32.199032Z",
     "start_time": "2021-06-17T07:33:32.190602Z"
    }
   },
   "outputs": [],
   "source": [
    "dview=c[:] "
   ]
  },
  {
   "cell_type": "code",
   "execution_count": 15,
   "id": "bf3ebe83",
   "metadata": {
    "ExecuteTime": {
     "end_time": "2021-06-17T07:33:39.104065Z",
     "start_time": "2021-06-17T07:33:39.071421Z"
    }
   },
   "outputs": [
    {
     "name": "stdout",
     "output_type": "stream",
     "text": [
      "importing os on engine(s)\n"
     ]
    }
   ],
   "source": [
    "with dview.sync_imports():\n",
    "    import os"
   ]
  },
  {
   "cell_type": "code",
   "execution_count": 17,
   "id": "b4a21582",
   "metadata": {
    "ExecuteTime": {
     "end_time": "2021-06-17T07:33:55.130040Z",
     "start_time": "2021-06-17T07:33:55.100068Z"
    }
   },
   "outputs": [
    {
     "data": {
      "text/plain": [
       "[24584, 25224, 4816, 19468]"
      ]
     },
     "execution_count": 17,
     "metadata": {},
     "output_type": "execute_result"
    }
   ],
   "source": [
    "dview.apply_sync(lambda:os.getpid())"
   ]
  },
  {
   "cell_type": "code",
   "execution_count": 18,
   "id": "f4fc0324",
   "metadata": {
    "ExecuteTime": {
     "end_time": "2021-06-17T07:34:32.572417Z",
     "start_time": "2021-06-17T07:34:32.544244Z"
    }
   },
   "outputs": [
    {
     "data": {
      "text/plain": [
       "<AsyncResult: execute>"
      ]
     },
     "execution_count": 18,
     "metadata": {},
     "output_type": "execute_result"
    }
   ],
   "source": [
    "dview.execute(\"import sys\")  # 远程执行命令的另一种方法"
   ]
  },
  {
   "cell_type": "code",
   "execution_count": 19,
   "id": "35c6edda",
   "metadata": {
    "ExecuteTime": {
     "end_time": "2021-06-17T07:34:46.185688Z",
     "start_time": "2021-06-17T07:34:46.148719Z"
    }
   },
   "outputs": [
    {
     "data": {
      "text/plain": [
       "<AsyncResult: _push>"
      ]
     },
     "execution_count": 19,
     "metadata": {},
     "output_type": "execute_result"
    }
   ],
   "source": [
    "dview.push({'shared_data':[50, 100]})"
   ]
  },
  {
   "cell_type": "code",
   "execution_count": 20,
   "id": "f60d4711",
   "metadata": {
    "ExecuteTime": {
     "end_time": "2021-06-17T07:35:07.929543Z",
     "start_time": "2021-06-17T07:35:07.890882Z"
    }
   },
   "outputs": [
    {
     "data": {
      "text/plain": [
       "[2, 2, 2, 2]"
      ]
     },
     "execution_count": 20,
     "metadata": {},
     "output_type": "execute_result"
    }
   ],
   "source": [
    "dview.apply_sync(lambda:len(shared_data))"
   ]
  },
  {
   "cell_type": "code",
   "execution_count": 21,
   "id": "5d1b7334",
   "metadata": {
    "ExecuteTime": {
     "end_time": "2021-06-17T07:36:35.643549Z",
     "start_time": "2021-06-17T07:36:09.011436Z"
    }
   },
   "outputs": [
    {
     "name": "stdout",
     "output_type": "stream",
     "text": [
      "We're using 4 engines\n",
      "Estimates made: [19633895, 19635459, 19630845, 19642520]\n",
      "Estimated pi 3.14170876\n",
      "Delta: 26.579152584075928\n"
     ]
    }
   ],
   "source": [
    "import time\n",
    "import ipyparallel as ipp\n",
    "from ipyparallel import require\n",
    "\n",
    "\n",
    "@require('random')\n",
    "def estimate_nbr_points_in_quarter_circle(nbr_estimates):\n",
    "    \"\"\"Monte carlo estimate of the number of points in a      \n",
    "       quarter circle using pure Python\"\"\"\n",
    "    print(f\"Executing estimate_nbr_points_in_quarter_circlewith {nbr_estimates:,} on pid {os.getpid()}\")   \n",
    "    nbr_trials_in_quarter_unit_circle = 0\n",
    "    for step in range(int(nbr_estimates)):\n",
    "        x = random.uniform(0, 1)\n",
    "        y = random.uniform(0, 1)\n",
    "        is_in_unit_circle = x * x + y * y <= 1.0\n",
    "        nbr_trials_in_quarter_unit_circle += is_in_unit_circle\n",
    "    return nbr_trials_in_quarter_unit_circle\n",
    "\n",
    "\n",
    "if __name__ == \"__main__\":\n",
    "    c = ipp.Client()\n",
    "    nbr_engines = len(c.ids)\n",
    "    print(\"We're using {} engines\".format(nbr_engines))\n",
    "    nbr_samples_in_total = 1e8\n",
    "    nbr_parallel_blocks = 4\n",
    "\n",
    "    dview = c[:]\n",
    "\n",
    "    nbr_samples_per_worker = nbr_samples_in_total / nbr_parallel_blocks\n",
    "    t1 = time.time()\n",
    "    nbr_in_quarter_unit_circles = dview.apply_sync(estimate_nbr_points_in_quarter_circle, \\\n",
    "                                                   nbr_samples_per_worker)\n",
    "    print(\"Estimates made:\", nbr_in_quarter_unit_circles)\n",
    "\n",
    "    nbr_jobs = len(nbr_in_quarter_unit_circles)\n",
    "    pi_estimate = sum(nbr_in_quarter_unit_circles) * 4 / nbr_samples_in_total\n",
    "    print(\"Estimated pi\", pi_estimate)\n",
    "    print(\"Delta:\", time.time() - t1)"
   ]
  },
  {
   "cell_type": "code",
   "execution_count": 24,
   "id": "f391d747",
   "metadata": {
    "ExecuteTime": {
     "end_time": "2021-06-17T07:55:52.886039Z",
     "start_time": "2021-06-17T07:55:51.167190Z"
    }
   },
   "outputs": [],
   "source": [
    "import dask.array as ds"
   ]
  },
  {
   "cell_type": "code",
   "execution_count": 25,
   "id": "4a8077b7",
   "metadata": {
    "ExecuteTime": {
     "end_time": "2021-06-17T07:56:07.693095Z",
     "start_time": "2021-06-17T07:56:07.615949Z"
    }
   },
   "outputs": [
    {
     "data": {
      "text/html": [
       "<table>\n",
       "<tr>\n",
       "<td>\n",
       "<table>\n",
       "  <thead>\n",
       "    <tr><td> </td><th> Array </th><th> Chunk </th></tr>\n",
       "  </thead>\n",
       "  <tbody>\n",
       "    <tr><th> Bytes </th><td> 800.00 MB </td> <td> 8.00 MB </td></tr>\n",
       "    <tr><th> Shape </th><td> (10000, 10000) </td> <td> (1000, 1000) </td></tr>\n",
       "    <tr><th> Count </th><td> 100 Tasks </td><td> 100 Chunks </td></tr>\n",
       "    <tr><th> Type </th><td> float64 </td><td> numpy.ndarray </td></tr>\n",
       "  </tbody>\n",
       "</table>\n",
       "</td>\n",
       "<td>\n",
       "<svg width=\"170\" height=\"170\" style=\"stroke:rgb(0,0,0);stroke-width:1\" >\n",
       "\n",
       "  <!-- Horizontal lines -->\n",
       "  <line x1=\"0\" y1=\"0\" x2=\"120\" y2=\"0\" style=\"stroke-width:2\" />\n",
       "  <line x1=\"0\" y1=\"12\" x2=\"120\" y2=\"12\" />\n",
       "  <line x1=\"0\" y1=\"24\" x2=\"120\" y2=\"24\" />\n",
       "  <line x1=\"0\" y1=\"36\" x2=\"120\" y2=\"36\" />\n",
       "  <line x1=\"0\" y1=\"48\" x2=\"120\" y2=\"48\" />\n",
       "  <line x1=\"0\" y1=\"60\" x2=\"120\" y2=\"60\" />\n",
       "  <line x1=\"0\" y1=\"72\" x2=\"120\" y2=\"72\" />\n",
       "  <line x1=\"0\" y1=\"84\" x2=\"120\" y2=\"84\" />\n",
       "  <line x1=\"0\" y1=\"96\" x2=\"120\" y2=\"96\" />\n",
       "  <line x1=\"0\" y1=\"108\" x2=\"120\" y2=\"108\" />\n",
       "  <line x1=\"0\" y1=\"120\" x2=\"120\" y2=\"120\" style=\"stroke-width:2\" />\n",
       "\n",
       "  <!-- Vertical lines -->\n",
       "  <line x1=\"0\" y1=\"0\" x2=\"0\" y2=\"120\" style=\"stroke-width:2\" />\n",
       "  <line x1=\"12\" y1=\"0\" x2=\"12\" y2=\"120\" />\n",
       "  <line x1=\"24\" y1=\"0\" x2=\"24\" y2=\"120\" />\n",
       "  <line x1=\"36\" y1=\"0\" x2=\"36\" y2=\"120\" />\n",
       "  <line x1=\"48\" y1=\"0\" x2=\"48\" y2=\"120\" />\n",
       "  <line x1=\"60\" y1=\"0\" x2=\"60\" y2=\"120\" />\n",
       "  <line x1=\"72\" y1=\"0\" x2=\"72\" y2=\"120\" />\n",
       "  <line x1=\"84\" y1=\"0\" x2=\"84\" y2=\"120\" />\n",
       "  <line x1=\"96\" y1=\"0\" x2=\"96\" y2=\"120\" />\n",
       "  <line x1=\"108\" y1=\"0\" x2=\"108\" y2=\"120\" />\n",
       "  <line x1=\"120\" y1=\"0\" x2=\"120\" y2=\"120\" style=\"stroke-width:2\" />\n",
       "\n",
       "  <!-- Colored Rectangle -->\n",
       "  <polygon points=\"0.0,0.0 120.0,0.0 120.0,120.0 0.0,120.0\" style=\"fill:#ECB172A0;stroke-width:0\"/>\n",
       "\n",
       "  <!-- Text -->\n",
       "  <text x=\"60.000000\" y=\"140.000000\" font-size=\"1.0rem\" font-weight=\"100\" text-anchor=\"middle\" >10000</text>\n",
       "  <text x=\"140.000000\" y=\"60.000000\" font-size=\"1.0rem\" font-weight=\"100\" text-anchor=\"middle\" transform=\"rotate(-90,140.000000,60.000000)\">10000</text>\n",
       "</svg>\n",
       "</td>\n",
       "</tr>\n",
       "</table>"
      ],
      "text/plain": [
       "dask.array<ones, shape=(10000, 10000), dtype=float64, chunksize=(1000, 1000), chunktype=numpy.ndarray>"
      ]
     },
     "execution_count": 25,
     "metadata": {},
     "output_type": "execute_result"
    }
   ],
   "source": [
    "x = ds.ones((10000,10000),chunks=(1000,1000)) #创建1Wx1W的数组,并分成1000X1000块\n",
    "x"
   ]
  },
  {
   "cell_type": "code",
   "execution_count": 27,
   "id": "eb3a182e",
   "metadata": {
    "ExecuteTime": {
     "end_time": "2021-06-17T07:57:25.805332Z",
     "start_time": "2021-06-17T07:57:25.773036Z"
    }
   },
   "outputs": [],
   "source": [
    "y = x + x.T\n",
    "z = x[::2,:].mean(axis =1) #像 numpy一样操作数组"
   ]
  },
  {
   "cell_type": "code",
   "execution_count": 28,
   "id": "8e7bb4a1",
   "metadata": {
    "ExecuteTime": {
     "end_time": "2021-06-17T07:57:38.556385Z",
     "start_time": "2021-06-17T07:57:37.954371Z"
    }
   },
   "outputs": [
    {
     "data": {
      "text/plain": [
       "array([[1., 1., 1., ..., 1., 1., 1.],\n",
       "       [1., 1., 1., ..., 1., 1., 1.],\n",
       "       [1., 1., 1., ..., 1., 1., 1.],\n",
       "       ...,\n",
       "       [1., 1., 1., ..., 1., 1., 1.],\n",
       "       [1., 1., 1., ..., 1., 1., 1.],\n",
       "       [1., 1., 1., ..., 1., 1., 1.]])"
      ]
     },
     "execution_count": 28,
     "metadata": {},
     "output_type": "execute_result"
    }
   ],
   "source": [
    "x.compute()#运行 compute()之后才能得到结果"
   ]
  },
  {
   "cell_type": "code",
   "execution_count": null,
   "id": "6e59cd1e",
   "metadata": {},
   "outputs": [],
   "source": []
  }
 ],
 "metadata": {
  "kernelspec": {
   "display_name": "py36_gpu",
   "language": "python",
   "name": "py36_gpu"
  },
  "language_info": {
   "codemirror_mode": {
    "name": "ipython",
    "version": 3
   },
   "file_extension": ".py",
   "mimetype": "text/x-python",
   "name": "python",
   "nbconvert_exporter": "python",
   "pygments_lexer": "ipython3",
   "version": "3.6.13"
  },
  "toc": {
   "base_numbering": 1,
   "nav_menu": {},
   "number_sections": true,
   "sideBar": true,
   "skip_h1_title": false,
   "title_cell": "Table of Contents",
   "title_sidebar": "Contents",
   "toc_cell": false,
   "toc_position": {},
   "toc_section_display": true,
   "toc_window_display": false
  }
 },
 "nbformat": 4,
 "nbformat_minor": 5
}
