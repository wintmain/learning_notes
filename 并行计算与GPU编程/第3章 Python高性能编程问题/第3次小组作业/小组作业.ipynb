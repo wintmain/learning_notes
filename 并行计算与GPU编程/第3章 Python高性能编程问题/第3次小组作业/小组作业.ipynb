{
 "cells": [
  {
   "cell_type": "markdown",
   "id": "5433dd2a",
   "metadata": {},
   "source": [
    "## 打开虚拟环境,在终端输入perf list\n",
    "以下表示成功，perf在环境里存在（已经提前安装配置好了）"
   ]
  },
  {
   "cell_type": "markdown",
   "id": "b01881bc",
   "metadata": {},
   "source": [
    "![1](1.jpg)"
   ]
  },
  {
   "cell_type": "markdown",
   "id": "19e99b20",
   "metadata": {},
   "source": [
    "## 试一下 count = 10000000命令"
   ]
  },
  {
   "cell_type": "markdown",
   "id": "0681def6",
   "metadata": {},
   "source": [
    "![2](2.jpg)"
   ]
  },
  {
   "cell_type": "markdown",
   "id": "607df3d6",
   "metadata": {},
   "source": [
    "## 使用Perf性能工具复现\"2 矩阵和向量计算\"讲义内容"
   ]
  },
  {
   "cell_type": "markdown",
   "id": "72e4e069",
   "metadata": {},
   "source": [
    "![3](3.jpg)"
   ]
  },
  {
   "cell_type": "code",
   "execution_count": null,
   "id": "6d716018",
   "metadata": {},
   "outputs": [],
   "source": []
  }
 ],
 "metadata": {
  "kernelspec": {
   "display_name": "py36_gpu",
   "language": "python",
   "name": "py36_gpu"
  },
  "language_info": {
   "codemirror_mode": {
    "name": "ipython",
    "version": 3
   },
   "file_extension": ".py",
   "mimetype": "text/x-python",
   "name": "python",
   "nbconvert_exporter": "python",
   "pygments_lexer": "ipython3",
   "version": "3.6.13"
  },
  "toc": {
   "base_numbering": 1,
   "nav_menu": {},
   "number_sections": true,
   "sideBar": true,
   "skip_h1_title": false,
   "title_cell": "Table of Contents",
   "title_sidebar": "Contents",
   "toc_cell": false,
   "toc_position": {},
   "toc_section_display": true,
   "toc_window_display": false
  }
 },
 "nbformat": 4,
 "nbformat_minor": 5
}
