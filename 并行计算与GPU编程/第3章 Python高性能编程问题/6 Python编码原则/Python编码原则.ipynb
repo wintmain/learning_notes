{
 "cells": [
  {
   "cell_type": "markdown",
   "id": "14ce286c",
   "metadata": {
    "toc": true
   },
   "source": [
    "<h1>3 总结：Python优化提速<span class=\"tocSkip\"></span></h1>\n",
    "<div class=\"toc\"><ul class=\"toc-item\"><li><span><a href=\"#编码原则\" data-toc-modified-id=\"编码原则-1\"><span class=\"toc-item-num\">1&nbsp;&nbsp;</span>编码原则</a></span><ul class=\"toc-item\"><li><span><a href=\"#优美胜于丑陋\" data-toc-modified-id=\"优美胜于丑陋-1.1\"><span class=\"toc-item-num\">1.1&nbsp;&nbsp;</span>优美胜于丑陋</a></span></li><li><span><a href=\"#明了胜于晦涩\" data-toc-modified-id=\"明了胜于晦涩-1.2\"><span class=\"toc-item-num\">1.2&nbsp;&nbsp;</span>明了胜于晦涩</a></span></li><li><span><a href=\"#简单胜于复杂\" data-toc-modified-id=\"简单胜于复杂-1.3\"><span class=\"toc-item-num\">1.3&nbsp;&nbsp;</span>简单胜于复杂</a></span></li><li><span><a href=\"#复杂胜于凌乱\" data-toc-modified-id=\"复杂胜于凌乱-1.4\"><span class=\"toc-item-num\">1.4&nbsp;&nbsp;</span>复杂胜于凌乱</a></span></li><li><span><a href=\"#扁平胜于嵌套\" data-toc-modified-id=\"扁平胜于嵌套-1.5\"><span class=\"toc-item-num\">1.5&nbsp;&nbsp;</span>扁平胜于嵌套</a></span></li><li><span><a href=\"#间隔胜于紧凑\" data-toc-modified-id=\"间隔胜于紧凑-1.6\"><span class=\"toc-item-num\">1.6&nbsp;&nbsp;</span>间隔胜于紧凑</a></span></li><li><span><a href=\"#可读性很重要\" data-toc-modified-id=\"可读性很重要-1.7\"><span class=\"toc-item-num\">1.7&nbsp;&nbsp;</span>可读性很重要</a></span></li><li><span><a href=\"#特例不足以特殊到违背这些原则\" data-toc-modified-id=\"特例不足以特殊到违背这些原则-1.8\"><span class=\"toc-item-num\">1.8&nbsp;&nbsp;</span>特例不足以特殊到违背这些原则</a></span></li><li><span><a href=\"#实用性胜过纯粹\" data-toc-modified-id=\"实用性胜过纯粹-1.9\"><span class=\"toc-item-num\">1.9&nbsp;&nbsp;</span>实用性胜过纯粹</a></span></li><li><span><a href=\"#永远不要默默地忽视错误\" data-toc-modified-id=\"永远不要默默地忽视错误-1.10\"><span class=\"toc-item-num\">1.10&nbsp;&nbsp;</span>永远不要默默地忽视错误</a></span></li><li><span><a href=\"#面对模棱两可，拒绝猜测\" data-toc-modified-id=\"面对模棱两可，拒绝猜测-1.11\"><span class=\"toc-item-num\">1.11&nbsp;&nbsp;</span>面对模棱两可，拒绝猜测</a></span></li><li><span><a href=\"#解决问题最直接的方法应该有一种，最好只有一种\" data-toc-modified-id=\"解决问题最直接的方法应该有一种，最好只有一种-1.12\"><span class=\"toc-item-num\">1.12&nbsp;&nbsp;</span>解决问题最直接的方法应该有一种，最好只有一种</a></span></li><li><span><a href=\"#做也许好过不做，但不想就做，还不如不做\" data-toc-modified-id=\"做也许好过不做，但不想就做，还不如不做-1.13\"><span class=\"toc-item-num\">1.13&nbsp;&nbsp;</span>做也许好过不做，但不想就做，还不如不做</a></span></li><li><span><a href=\"#如果方案难以描述明白，那么一定是个糟糕的方案\" data-toc-modified-id=\"如果方案难以描述明白，那么一定是个糟糕的方案-1.14\"><span class=\"toc-item-num\">1.14&nbsp;&nbsp;</span>如果方案难以描述明白，那么一定是个糟糕的方案</a></span></li><li><span><a href=\"#如果实现容易描述，那可能是个好方案\" data-toc-modified-id=\"如果实现容易描述，那可能是个好方案-1.15\"><span class=\"toc-item-num\">1.15&nbsp;&nbsp;</span>如果实现容易描述，那可能是个好方案</a></span></li><li><span><a href=\"#命名空间是一种绝妙的理念，多加利用\" data-toc-modified-id=\"命名空间是一种绝妙的理念，多加利用-1.16\"><span class=\"toc-item-num\">1.16&nbsp;&nbsp;</span>命名空间是一种绝妙的理念，多加利用</a></span></li></ul></li><li><span><a href=\"#代码优化\" data-toc-modified-id=\"代码优化-2\"><span class=\"toc-item-num\">2&nbsp;&nbsp;</span>代码优化</a></span><ul class=\"toc-item\"><li><span><a href=\"#基本原则\" data-toc-modified-id=\"基本原则-2.1\"><span class=\"toc-item-num\">2.1&nbsp;&nbsp;</span>基本原则</a></span></li><li><span><a href=\"#尽量避免\" data-toc-modified-id=\"尽量避免-2.2\"><span class=\"toc-item-num\">2.2&nbsp;&nbsp;</span>尽量避免</a></span><ul class=\"toc-item\"><li><span><a href=\"#避免全局变量\" data-toc-modified-id=\"避免全局变量-2.2.1\"><span class=\"toc-item-num\">2.2.1&nbsp;&nbsp;</span>避免全局变量</a></span></li><li><span><a href=\"#避免模块和函数属性访问\" data-toc-modified-id=\"避免模块和函数属性访问-2.2.2\"><span class=\"toc-item-num\">2.2.2&nbsp;&nbsp;</span>避免模块和函数属性访问</a></span></li><li><span><a href=\"#避免类内属性访问\" data-toc-modified-id=\"避免类内属性访问-2.2.3\"><span class=\"toc-item-num\">2.2.3&nbsp;&nbsp;</span>避免类内属性访问</a></span></li><li><span><a href=\"#避免不必要的抽象\" data-toc-modified-id=\"避免不必要的抽象-2.2.4\"><span class=\"toc-item-num\">2.2.4&nbsp;&nbsp;</span>避免不必要的抽象</a></span></li></ul></li><li><span><a href=\"#避免数据复制\" data-toc-modified-id=\"避免数据复制-2.3\"><span class=\"toc-item-num\">2.3&nbsp;&nbsp;</span>避免数据复制</a></span><ul class=\"toc-item\"><li><span><a href=\"#避免无意义的数据复制\" data-toc-modified-id=\"避免无意义的数据复制-2.3.1\"><span class=\"toc-item-num\">2.3.1&nbsp;&nbsp;</span>避免无意义的数据复制</a></span></li><li><span><a href=\"#交换值时不使用中间变量\" data-toc-modified-id=\"交换值时不使用中间变量-2.3.2\"><span class=\"toc-item-num\">2.3.2&nbsp;&nbsp;</span>交换值时不使用中间变量</a></span></li><li><span><a href=\"#字符串拼接用join而不是+\" data-toc-modified-id=\"字符串拼接用join而不是+-2.3.3\"><span class=\"toc-item-num\">2.3.3&nbsp;&nbsp;</span>字符串拼接用join而不是+</a></span></li></ul></li><li><span><a href=\"#利用if条件的短路特性\" data-toc-modified-id=\"利用if条件的短路特性-2.4\"><span class=\"toc-item-num\">2.4&nbsp;&nbsp;</span>利用if条件的短路特性</a></span></li><li><span><a href=\"#循环优化\" data-toc-modified-id=\"循环优化-2.5\"><span class=\"toc-item-num\">2.5&nbsp;&nbsp;</span>循环优化</a></span><ul class=\"toc-item\"><li><span><a href=\"#同时得到索引和值\" data-toc-modified-id=\"同时得到索引和值-2.5.1\"><span class=\"toc-item-num\">2.5.1&nbsp;&nbsp;</span>同时得到索引和值</a></span></li><li><span><a href=\"#用Product来避免循环的嵌套\" data-toc-modified-id=\"用Product来避免循环的嵌套-2.5.2\"><span class=\"toc-item-num\">2.5.2&nbsp;&nbsp;</span>用Product来避免循环的嵌套</a></span></li><li><span><a href=\"#充分利用itertools优化循环\" data-toc-modified-id=\"充分利用itertools优化循环-2.5.3\"><span class=\"toc-item-num\">2.5.3&nbsp;&nbsp;</span>充分利用itertools优化循环</a></span><ul class=\"toc-item\"><li><span><a href=\"#创建无限循环\" data-toc-modified-id=\"创建无限循环-2.5.3.1\"><span class=\"toc-item-num\">2.5.3.1&nbsp;&nbsp;</span>创建无限循环</a></span></li><li><span><a href=\"#将各列表连为一个列表\" data-toc-modified-id=\"将各列表连为一个列表-2.5.3.2\"><span class=\"toc-item-num\">2.5.3.2&nbsp;&nbsp;</span>将各列表连为一个列表</a></span></li></ul></li><li><span><a href=\"#自定义循环迭代器\" data-toc-modified-id=\"自定义循环迭代器-2.5.4\"><span class=\"toc-item-num\">2.5.4&nbsp;&nbsp;</span>自定义循环迭代器</a></span></li><li><span><a href=\"#用for循环代替while循环\" data-toc-modified-id=\"用for循环代替while循环-2.5.5\"><span class=\"toc-item-num\">2.5.5&nbsp;&nbsp;</span>用for循环代替while循环</a></span></li><li><span><a href=\"#使用隐式for循环代替显式for循环\" data-toc-modified-id=\"使用隐式for循环代替显式for循环-2.5.6\"><span class=\"toc-item-num\">2.5.6&nbsp;&nbsp;</span>使用隐式for循环代替显式for循环</a></span></li><li><span><a href=\"#减少内层for循环的计算\" data-toc-modified-id=\"减少内层for循环的计算-2.5.7\"><span class=\"toc-item-num\">2.5.7&nbsp;&nbsp;</span>减少内层for循环的计算</a></span></li></ul></li><li><span><a href=\"#使用numba.jit\" data-toc-modified-id=\"使用numba.jit-2.6\"><span class=\"toc-item-num\">2.6&nbsp;&nbsp;</span>使用numba.jit</a></span></li><li><span><a href=\"#选择合适的数据结构\" data-toc-modified-id=\"选择合适的数据结构-2.7\"><span class=\"toc-item-num\">2.7&nbsp;&nbsp;</span>选择合适的数据结构</a></span></li></ul></li><li><span><a href=\"#代码质量\" data-toc-modified-id=\"代码质量-3\"><span class=\"toc-item-num\">3&nbsp;&nbsp;</span>代码质量</a></span><ul class=\"toc-item\"><li><span><a href=\"#enumerate()替代range(len())\" data-toc-modified-id=\"enumerate()替代range(len())-3.1\"><span class=\"toc-item-num\">3.1&nbsp;&nbsp;</span>enumerate()替代range(len())</a></span></li><li><span><a href=\"#列表表达式替代for循环\" data-toc-modified-id=\"列表表达式替代for循环-3.2\"><span class=\"toc-item-num\">3.2&nbsp;&nbsp;</span>列表表达式替代for循环</a></span></li><li><span><a href=\"#使用set去重\" data-toc-modified-id=\"使用set去重-3.3\"><span class=\"toc-item-num\">3.3&nbsp;&nbsp;</span>使用set去重</a></span></li><li><span><a href=\"#利用生成器节省内存\" data-toc-modified-id=\"利用生成器节省内存-3.4\"><span class=\"toc-item-num\">3.4&nbsp;&nbsp;</span>利用生成器节省内存</a></span></li><li><span><a href=\"#使用.get()和.setdefault()访问字典\" data-toc-modified-id=\"使用.get()和.setdefault()访问字典-3.5\"><span class=\"toc-item-num\">3.5&nbsp;&nbsp;</span>使用.get()和.setdefault()访问字典</a></span></li><li><span><a href=\"#使用collections.Counter计数\" data-toc-modified-id=\"使用collections.Counter计数-3.6\"><span class=\"toc-item-num\">3.6&nbsp;&nbsp;</span>使用collections.Counter计数</a></span></li><li><span><a href=\"#使用**合并字段\" data-toc-modified-id=\"使用**合并字段-3.7\"><span class=\"toc-item-num\">3.7&nbsp;&nbsp;</span>使用**合并字段</a></span></li><li><span><a href=\"#使用if-x-in-list简化条件语句\" data-toc-modified-id=\"使用if-x-in-list简化条件语句-3.8\"><span class=\"toc-item-num\">3.8&nbsp;&nbsp;</span>使用if x in list简化条件语句</a></span></li><li><span><a href=\"#合并嵌套条件语句\" data-toc-modified-id=\"合并嵌套条件语句-3.9\"><span class=\"toc-item-num\">3.9&nbsp;&nbsp;</span>合并嵌套条件语句</a></span></li><li><span><a href=\"#提升代码复用能力\" data-toc-modified-id=\"提升代码复用能力-3.10\"><span class=\"toc-item-num\">3.10&nbsp;&nbsp;</span>提升代码复用能力</a></span></li><li><span><a href=\"#利用any()替代-for-循环\" data-toc-modified-id=\"利用any()替代-for-循环-3.11\"><span class=\"toc-item-num\">3.11&nbsp;&nbsp;</span>利用any()替代 for 循环</a></span></li><li><span><a href=\"#把重复代码块合并到条件中\" data-toc-modified-id=\"把重复代码块合并到条件中-3.12\"><span class=\"toc-item-num\">3.12&nbsp;&nbsp;</span>把重复代码块合并到条件中</a></span></li><li><span><a href=\"#删除没必要的调用keys()\" data-toc-modified-id=\"删除没必要的调用keys()-3.13\"><span class=\"toc-item-num\">3.13&nbsp;&nbsp;</span>删除没必要的调用keys()</a></span></li><li><span><a href=\"#简化序列比较\" data-toc-modified-id=\"简化序列比较-3.14\"><span class=\"toc-item-num\">3.14&nbsp;&nbsp;</span>简化序列比较</a></span></li><li><span><a href=\"#仅使用一次的内联变量\" data-toc-modified-id=\"仅使用一次的内联变量-3.15\"><span class=\"toc-item-num\">3.15&nbsp;&nbsp;</span>仅使用一次的内联变量</a></span></li><li><span><a href=\"#将条件简化为return语句\" data-toc-modified-id=\"将条件简化为return语句-3.16\"><span class=\"toc-item-num\">3.16&nbsp;&nbsp;</span>将条件简化为return语句</a></span></li></ul></li><li><span><a href=\"#本周结语\" data-toc-modified-id=\"本周结语-4\"><span class=\"toc-item-num\">4&nbsp;&nbsp;</span>本周结语</a></span></li><li><span><a href=\"#参考资料\" data-toc-modified-id=\"参考资料-5\"><span class=\"toc-item-num\">5&nbsp;&nbsp;</span>参考资料</a></span></li></ul></div>"
   ]
  },
  {
   "cell_type": "markdown",
   "id": "5e13121c",
   "metadata": {},
   "source": [
    "假如你刚参与了一个算法项目，当你第一次打开这个项目时，发现里面已经有上万行与算法相关的代码，仔细查看过后，发现如下一些让你抓狂的问题：\n",
    "\n",
    "1、代码写的非常冗余，维护已经变得越来越困难。\n",
    "\n",
    "2、几乎没有任何注释。\n",
    "\n",
    "3、非常错乱的代码风格，让你有一种感觉打开了一个杂乱的网站的html页面。\n",
    "\n",
    "4、存在那么几个函数，单个函数的源码超过500行。\n",
    "\n",
    "5、每一次需求的变更，都意味着一次痛苦的代码编写。\n",
    "\n",
    "\n",
    "\n",
    "这是我们以前参与算法项目时遇到的问题。\n",
    "\n",
    "在参与项目时，大家都在很努力的使项目往期望的方向走，但随着开发进度的往前推进，项目的复杂性正在不断加大，大家都在尽可能使用自己了解的最好的技术将系统打造的更为强壮，但系统复杂性一点也没有降低。在需求端不断变化中，代码的冗余也越来越明显。程序中到处充斥着废弃的代码，但谁也不敢轻易去删除，谁也不清楚自己的一个不经意操作，是否会导致整个程序的奔溃。\n",
    "\n",
    "对于代码的开发，里面包含了很多细枝末节的东西，特别对于需要高度配合的项目（如算法人员和工程人员之间），细节的处理是否妥当，将很大程度影响项目是否可以成功交付，跨行之间的配合与细节的处理是大部分开发者所欠缺的，这类人才也是市场上急需的。\n",
    "\n",
    "Python的设计宗旨是简单、优雅、明确。\n",
    "\n",
    "但很多开发人员通过自己的努力将其做成了复杂、丑陋、晦涩。\n",
    "\n",
    "结合Python之禅与自己的开发经验，给出如下一些观点与建议，希望可以为你带来一些帮助："
   ]
  },
  {
   "cell_type": "markdown",
   "id": "97809fa8",
   "metadata": {},
   "source": [
    "# 编码原则"
   ]
  },
  {
   "cell_type": "markdown",
   "id": "dd4a4808",
   "metadata": {},
   "source": [
    "## 优美胜于丑陋"
   ]
  },
  {
   "cell_type": "markdown",
   "id": "3425120c",
   "metadata": {},
   "source": [
    "代码除了完成指定功能，同时也是给人看的。优美的代码和优美的风景一样，都能让人感到赏心悦目，优美的代码是一种艺术，相对于丑陋的代码，大家都会倾向于查阅优美的代码。\n",
    "\n",
    "在工作过程中，尽可能往编写优美代码的方向走。"
   ]
  },
  {
   "cell_type": "markdown",
   "id": "200baf6e",
   "metadata": {},
   "source": [
    "## 明了胜于晦涩"
   ]
  },
  {
   "cell_type": "markdown",
   "id": "4117a96b",
   "metadata": {},
   "source": [
    "在代码编写中使用明了的词语来命名方法名、函数名或变量名是非常好的习惯。命名很好的代码，可以省略很多代码注释的工作，优秀的代码会说话。\n",
    "\n",
    "编写优秀的代码，代码本身就是注释。\n",
    "\n",
    "最好的代码是不需要注释就可以让大部分人都可以看懂，这需要编写者有很强的编码功底和语言抽象功能，很多时候并不要求所有开发这都有这种能力，但也需要在少量的代码注释情形下可以让代码阅读者可以快速看明白你写的代码。\n",
    "\n",
    "如果可能，尽量减少晦涩代码的出现，大部分情形下，晦涩代码的出现都是因为开发者对需求了解不清楚或没有用更简单的方式思考，对于代码的负责人，若看到出现类似代码，应当小心谨慎，需要了解对应的需求是否确实会如代码那么晦涩，还是开发人员想复杂了。"
   ]
  },
  {
   "cell_type": "markdown",
   "id": "cfa85659",
   "metadata": {},
   "source": [
    "## 简单胜于复杂"
   ]
  },
  {
   "cell_type": "markdown",
   "id": "dd9ec57e",
   "metadata": {},
   "source": [
    "把简单的事情做复杂并不难，但要把复杂的变得简单，那需要付出巨大的艰辛。\n",
    "\n",
    "在工程应用中，把简单的需求做得复杂的案例数不胜数；而能通过抽丝剥茧的方式把复杂应用场景拆分的很简单的案例少之又少，当今市场极为缺乏有这种能力的人才。\n",
    "\n",
    "复杂的来源也是有很多当时以为简单的事情堆积而成的，在多种简单的组合过程中，继续保持整体的简单，是一件值得思考的事情，这要求在对整体了解的情况下对各个细节的把控，编程本来就是一门对细节要求极高的技术，当对细节的掌控了然于胸时，编写出简单的代码就水到渠成了。"
   ]
  },
  {
   "cell_type": "markdown",
   "id": "79b7e76f",
   "metadata": {},
   "source": [
    "## 复杂胜于凌乱"
   ]
  },
  {
   "cell_type": "markdown",
   "id": "7aac70de",
   "metadata": {},
   "source": [
    "我们排斥复杂，但有时复杂难以避免。可以复杂，但不要凌乱。有迹可循的复杂代码还是具有可读性的，至少可以从代码层面找到处理逻辑。\n",
    "\n",
    "当代码以凌乱的方式出现时，那是会让人非常崩溃的。犹如你与人交谈时，若与你谈话的人一直东一句，西一句，让你根本不清楚对方在讲什么，估计你与对方聊上几分钟就不想聊了，并期望不想再遇到类似的聊天对象。编程也一样，对于那些凌乱的代码，大家都是避之不恐。"
   ]
  },
  {
   "cell_type": "markdown",
   "id": "9c1a8c63",
   "metadata": {},
   "source": [
    "## 扁平胜于嵌套"
   ]
  },
  {
   "cell_type": "markdown",
   "id": "a3877261",
   "metadata": {},
   "source": [
    "在编写代码时，每增加一个嵌套，则意味着代码的复杂度增加了一些，代码的执行效率对应的下降了一些。\n",
    "\n",
    "当出现三层以上的嵌套时，那说明代码编写思路出现了偏差，对于这种代码，应该会非常浪费系统的资源，甚至全部耗尽。实际应用中应当避免，并寻求其它更简单的实现方式。\n",
    "\n",
    "能用扁平的方式实现时，就不要使用嵌套实现。"
   ]
  },
  {
   "cell_type": "markdown",
   "id": "e8227230",
   "metadata": {},
   "source": [
    "## 间隔胜于紧凑"
   ]
  },
  {
   "cell_type": "markdown",
   "id": "5b0b75a6",
   "metadata": {},
   "source": [
    "若是面向计算机编程，代码间隔紧凑与否是没有任何关系的。但若需要不断被开发人员查看，适当的间隔那就非常有必要了，组织良好的代码不仅仅是逻辑清晰，在代码结构上也是非常有讲究的，很多时候都会遵循PEP8的规范，那样写出来的代码是让人赏心悦目的。\n",
    "\n",
    "另一方面，这也能帮助你编写出更加高效的代码，因为通过合理的控制代码结构，当程序发生问题时，组织良好的代码结构可以帮助你更快的找到问题。"
   ]
  },
  {
   "cell_type": "markdown",
   "id": "1d5c52d7",
   "metadata": {},
   "source": [
    "## 可读性很重要\n"
   ]
  },
  {
   "cell_type": "markdown",
   "id": "29fbcf63",
   "metadata": {},
   "source": [
    "很多时候，我们编写的代码除了让计算机执行指定的程序，另一个很重要的点就是给其他人查看。而代码的可读性决定了会有多少人愿意读你的代码。\n",
    "\n",
    "现在很流行的一个词叫开源代码，对于开源代码，可读性在很大程度上决定了有多人愿意参与到这个开源中。\n",
    "\n",
    "而对于项目应用中，编写一份可读性非常高的代码是非常必要的，尽管很多时候是以功能优先。提高代码的可读性，不仅仅是一个自我的修炼过程，对于团队、甚至公司，都可以更好的减少开发、维护和学习成本的。"
   ]
  },
  {
   "cell_type": "markdown",
   "id": "1cbb1491",
   "metadata": {},
   "source": [
    "## 特例不足以特殊到违背这些原则"
   ]
  },
  {
   "cell_type": "markdown",
   "id": "fde065d6",
   "metadata": {},
   "source": [
    "在代码编写过程中，不可避免会需要对某些特例提供支持，甚至有时为了可以支持特例，需要违背一些已有的好的原则。\n",
    "\n",
    "当有需要类似的操作时，需要做更为全局的平衡，这个特例是否必须，是否有其它可处理方式，怎么最小化特例给其它原则带来的破坏"
   ]
  },
  {
   "cell_type": "markdown",
   "id": "c443f995",
   "metadata": {},
   "source": [
    "## 实用性胜过纯粹"
   ]
  },
  {
   "cell_type": "markdown",
   "id": "06cbdd96",
   "metadata": {},
   "source": [
    "编写代码的首要原则是可用，在可用的基础上才有可能执行其它如性能优化、效率提升等操作。\n",
    "\n",
    "实用性与纯粹性不同，纯粹性更多体现在实验或验证性操作上，很少参与到真实环境中的应用，而我们需要的是可以在真实环境中可用的代码。"
   ]
  },
  {
   "cell_type": "markdown",
   "id": "9aa50c28",
   "metadata": {},
   "source": [
    "## 永远不要默默地忽视错误"
   ]
  },
  {
   "cell_type": "markdown",
   "id": "06253bb2",
   "metadata": {},
   "source": [
    "当程序出现错误时，那已经在提示我们程序中的某处代码并没有如我们想象的那么完美，它编写有Bug或是有隐藏Bug，需要我们进行正确的处理，若置之不理，很有可能埋下一颗定时炸弹，在某一刻让你的程序直接崩溃，这种的代价往往都会不小。\n",
    "\n",
    "在实际的应用中，即便是很小的问题，也不要选择忽视，建立起必要的异常管理，而不要等到问题发生时才进行亡羊补牢的操作，殊不知可能会为时已晚。"
   ]
  },
  {
   "cell_type": "markdown",
   "id": "a0fdeea8",
   "metadata": {},
   "source": [
    "## 面对模棱两可，拒绝猜测"
   ]
  },
  {
   "cell_type": "markdown",
   "id": "f6e42704",
   "metadata": {},
   "source": [
    "计算机的世界是0或1的世界，是即是，非即非，没有不确定性的存在，也没有任何的猜测。\n",
    "\n",
    "对于编写的任何代码，都应该是清晰的，没有歧义的，若出现有歧义或不清晰的情形，那表明开发者对需要通过代码实现的问题理解不到位，或是有猜测的成分，这种都是需要杜绝的。"
   ]
  },
  {
   "cell_type": "markdown",
   "id": "84b91796",
   "metadata": {},
   "source": [
    "## 解决问题最直接的方法应该有一种，最好只有一种"
   ]
  },
  {
   "cell_type": "markdown",
   "id": "5f81cfa3",
   "metadata": {},
   "source": [
    "在编程的世界里，任何问题的解决办法都有多种，但更多的时候我们需要的是最直接的方法，并最好只有一种最直接的方法。\n",
    "\n",
    "如对编程语言的选择，对于科学计算和人工智能相关的事情，最直接的选择就是使用Python，这个对于目前来说是最直接的唯一选择。"
   ]
  },
  {
   "cell_type": "markdown",
   "id": "242dea43",
   "metadata": {},
   "source": [
    "## 做也许好过不做，但不想就做，还不如不做"
   ]
  },
  {
   "cell_type": "markdown",
   "id": "a43ecef3",
   "metadata": {},
   "source": [
    "对于编程的过程，是一种知行合一的过程，光靠执行很多时候并不能得到期望的结果，还需要伴随思考的过程。越是大的项目，前期思考的时间占比就越多。在动手之前先做一些计划，对全盘先有一个大致了解，把可能遇到的问题，会存在的瓶颈，会占用时间比较多的步骤，需要协助的资源等先做一个前期的规划，会非常有利于后期的执行的。\n",
    "\n",
    "若期望一开始就撸起袖子直接干，那不是一个很建议的方法，除非你对需要做的事情已经非常熟悉，否则还是有必要认认真真想一想需要做什么。"
   ]
  },
  {
   "cell_type": "markdown",
   "id": "be34ea0b",
   "metadata": {},
   "source": [
    "## 如果方案难以描述明白，那么一定是个糟糕的方案"
   ]
  },
  {
   "cell_type": "markdown",
   "id": "29e6e35c",
   "metadata": {},
   "source": [
    "对于编程来说，编写的应该是一个确定的事情，并且已经有可以描述明白的方案。\n",
    "\n",
    "对于不清晰的方案，编程上更不可能清晰。\n",
    "\n",
    "一个糟糕的方案只会诞生一个糟糕的项目，项目里面则包含各种晦涩的代码。"
   ]
  },
  {
   "cell_type": "markdown",
   "id": "d42b3b9c",
   "metadata": {},
   "source": [
    "## 如果实现容易描述，那可能是个好方案"
   ]
  },
  {
   "cell_type": "markdown",
   "id": "56690184",
   "metadata": {},
   "source": [
    "  若一个实现可以通过类似伪代码的方式描述出来，这基本上是一个可行的方案，若可以通过伪代码容易的描述，那很有可能是个好方案，真实的应用上还有很多其它的外界因素，只有结合那些因素，才能完全的确定这是否是一个好的方案。"
   ]
  },
  {
   "cell_type": "markdown",
   "id": "a596f5ed",
   "metadata": {},
   "source": [
    "## 命名空间是一种绝妙的理念，多加利用"
   ]
  },
  {
   "cell_type": "markdown",
   "id": "63e87467",
   "metadata": {},
   "source": [
    "在编码的过程中，命名的冲突是一个非常需要小心的问题，这种问题一般不容易发现，出现问题时的查找并不容易，所以需要充分借助命名空间的理念，尽量避免如命名冲突的问题。\n",
    "\n",
    "通过命名空间控制变量的作用域，可以起到很好的变量的相互隔离的效果。"
   ]
  },
  {
   "cell_type": "markdown",
   "id": "69aa048e",
   "metadata": {},
   "source": [
    "# 代码优化"
   ]
  },
  {
   "cell_type": "markdown",
   "id": "085da5a9",
   "metadata": {},
   "source": [
    "## 基本原则"
   ]
  },
  {
   "cell_type": "markdown",
   "id": "e3376f47",
   "metadata": {},
   "source": [
    "Python 是一种脚本语言，相比 C/C++ 这样的编译语言，在效率和性能方面存在一些不足。但是，有很多时候，Python 的效率并没有想象中的那么夸张。本节对一些 Python 代码加速运行的技巧进行整理。"
   ]
  },
  {
   "cell_type": "markdown",
   "id": "fbe8a4a1",
   "metadata": {},
   "source": [
    "在深入代码优化细节之前，需要了解一些代码优化基本原则。\n",
    "\n",
    "- 第一个基本原则是不要过早优化。很多人一开始写代码就奔着性能优化的目标，“让正确的程序更快要比让快速的程序正确容易得多”。因此，优化的前提是代码能正常工作。过早地进行优化可能会忽视对总体性能指标的把握，在得到全局结果前不要主次颠倒。\n",
    "\n",
    "- 第二个基本原则是权衡优化的代价。优化是有代价的，想解决所有性能的问题是几乎不可能的。通常面临的选择是时间换空间或空间换时间。另外，开发代价也需要考虑。\n",
    "\n",
    "- 第三个原则是不要优化那些无关紧要的部分。如果对代码的每一部分都去优化，这些修改会使代码难以阅读和理解。如果你的代码运行速度很慢，首先要找到代码运行慢的位置，通常是内部循环，专注于运行慢的地方进行优化。在其他地方，一点时间上的损失没有什么影响。"
   ]
  },
  {
   "cell_type": "markdown",
   "id": "fb9dfe3b",
   "metadata": {},
   "source": [
    "## 尽量避免"
   ]
  },
  {
   "cell_type": "markdown",
   "id": "a219bd28",
   "metadata": {},
   "source": [
    "### 避免全局变量"
   ]
  },
  {
   "cell_type": "code",
   "execution_count": 26,
   "id": "c3b80fc0",
   "metadata": {
    "ExecuteTime": {
     "end_time": "2021-05-05T16:23:07.272817Z",
     "start_time": "2021-05-05T16:22:13.338880Z"
    }
   },
   "outputs": [
    {
     "name": "stdout",
     "output_type": "stream",
     "text": [
      "It took 53.93093752861023 seconds to calculate demo_time.\n"
     ]
    }
   ],
   "source": [
    "# 不推荐写法。\n",
    "import math\n",
    "from time import time\n",
    "\n",
    "size = 10000\n",
    "\n",
    "t1 = time()\n",
    "for x in range(size):\n",
    "    for y in range(size):\n",
    "        z = math.sqrt(x) + math.sqrt(y)\n",
    "t2 = time()\n",
    "demo_time = t2 - t1\n",
    "print('It took {} seconds to calculate demo_time.'.format(demo_time)) "
   ]
  },
  {
   "cell_type": "markdown",
   "id": "fb3d818d",
   "metadata": {},
   "source": [
    "许多程序员刚开始会用 Python 语言写一些简单的脚本，当编写脚本时，通常习惯了直接将其写为全局变量，例如上面的代码。但是，由于全局变量和局部变量实现方式不同，定义在全局范围内的代码运行速度会比定义在函数中的慢不少。通过将脚本语句放入到函数中，通常可带来 15% - 30% 的速度提升。"
   ]
  },
  {
   "cell_type": "code",
   "execution_count": 27,
   "id": "8ce39fe0",
   "metadata": {
    "ExecuteTime": {
     "end_time": "2021-05-05T16:23:51.414630Z",
     "start_time": "2021-05-05T16:23:07.274817Z"
    }
   },
   "outputs": [
    {
     "name": "stdout",
     "output_type": "stream",
     "text": [
      "It took 44.13181233406067 seconds to calculate demo_time.\n"
     ]
    }
   ],
   "source": [
    "# 推荐写法。\n",
    "import math\n",
    "from time import time\n",
    "\n",
    "def main():  # 定义到函数中，以减少全部变量使用\n",
    "    size = 10000\n",
    "    for x in range(size):\n",
    "        for y in range(size):\n",
    "            z = math.sqrt(x) + math.sqrt(y)\n",
    "t1 = time()\n",
    "\n",
    "main()\n",
    "\n",
    "t2 = time()\n",
    "demo_time = t2 - t1\n",
    "print('It took {} seconds to calculate demo_time.'.format(demo_time)) "
   ]
  },
  {
   "cell_type": "markdown",
   "id": "78f7cfc7",
   "metadata": {},
   "source": [
    "### 避免模块和函数属性访问"
   ]
  },
  {
   "cell_type": "code",
   "execution_count": 28,
   "id": "70ec31fa",
   "metadata": {
    "ExecuteTime": {
     "end_time": "2021-05-05T16:24:17.602177Z",
     "start_time": "2021-05-05T16:23:51.419630Z"
    }
   },
   "outputs": [
    {
     "name": "stdout",
     "output_type": "stream",
     "text": [
      "It took 26.14534568786621 seconds to calculate demo_time.\n"
     ]
    }
   ],
   "source": [
    "# 不推荐写法。\n",
    "import math\n",
    "from time import time\n",
    "\n",
    "def computeSqrt(size: int):\n",
    "    result = []\n",
    "    for i in range(size):\n",
    "        result.append(math.sqrt(i))\n",
    "    return result\n",
    "\n",
    "def main():\n",
    "    size = 10000\n",
    "    for _ in range(size):\n",
    "        result = computeSqrt(size)\n",
    "\n",
    "t1 = time()\n",
    "main()\n",
    "t2 = time()\n",
    "demo_time = t2 - t1\n",
    "print('It took {} seconds to calculate demo_time.'.format(demo_time)) "
   ]
  },
  {
   "cell_type": "markdown",
   "id": "1877ef77",
   "metadata": {},
   "source": [
    "每次使用.（属性访问操作符时）会触发特定的方法，如 `__getattribute__()` 和 `__getattr__()`，这些方法会进行字典操作，因此会带来额外的时间开销。通过from import语句，可以消除属性访问。"
   ]
  },
  {
   "cell_type": "code",
   "execution_count": 29,
   "id": "7de6724e",
   "metadata": {
    "ExecuteTime": {
     "end_time": "2021-05-05T16:24:40.067292Z",
     "start_time": "2021-05-05T16:24:17.602177Z"
    }
   },
   "outputs": [
    {
     "name": "stdout",
     "output_type": "stream",
     "text": [
      "It took 22.462114810943604 seconds to calculate demo_time.\n"
     ]
    }
   ],
   "source": [
    "# 第一次优化写法。\n",
    "from math import sqrt\n",
    "from time import time\n",
    "\n",
    "def computeSqrt(size: int):\n",
    "    result = []\n",
    "    for i in range(size):\n",
    "        result.append(sqrt(i))  # 避免math.sqrt的使用\n",
    "    return result\n",
    "\n",
    "def main():\n",
    "    size = 10000\n",
    "    for _ in range(size):\n",
    "        result = computeSqrt(size)\n",
    "\n",
    "t1 = time()\n",
    "main()\n",
    "t2 = time()\n",
    "demo_time = t2 - t1\n",
    "print('It took {} seconds to calculate demo_time.'.format(demo_time)) "
   ]
  },
  {
   "cell_type": "markdown",
   "id": "dfc12ef5",
   "metadata": {},
   "source": [
    "在前面我们讲到，局部变量的查找会比全局变量更快，因此对于频繁访问的变量sqrt，通过将其改为局部变量可以加速运行。"
   ]
  },
  {
   "cell_type": "code",
   "execution_count": 30,
   "id": "a89f91da",
   "metadata": {
    "ExecuteTime": {
     "end_time": "2021-05-05T16:25:01.763663Z",
     "start_time": "2021-05-05T16:24:40.068292Z"
    }
   },
   "outputs": [
    {
     "name": "stdout",
     "output_type": "stream",
     "text": [
      "It took 21.675771474838257 seconds to calculate demo_time.\n"
     ]
    }
   ],
   "source": [
    "# 第二次优化写法。\n",
    "import math\n",
    "from time import time\n",
    "\n",
    "def computeSqrt(size: int):\n",
    "    result = []\n",
    "    sqrt = math.sqrt  # 赋值给局部变量\n",
    "    for i in range(size):\n",
    "        result.append(sqrt(i))  # 避免math.sqrt的使用\n",
    "    return result\n",
    "\n",
    "def main():\n",
    "    size = 10000\n",
    "    for _ in range(size):\n",
    "        result = computeSqrt(size)\n",
    "\n",
    "t1 = time()\n",
    "main()\n",
    "t2 = time()\n",
    "demo_time = t2 - t1\n",
    "print('It took {} seconds to calculate demo_time.'.format(demo_time)) "
   ]
  },
  {
   "cell_type": "markdown",
   "id": "c00efd04",
   "metadata": {},
   "source": [
    "除了math.sqrt外，computeSqrt函数中还有 `.` 的存在，那就是调用list的append方法。通过将该方法赋值给一个局部变量，可以彻底消除computeSqrt函数中for循环内部的 `.` 使用。"
   ]
  },
  {
   "cell_type": "code",
   "execution_count": 31,
   "id": "f41811ac",
   "metadata": {
    "ExecuteTime": {
     "end_time": "2021-05-05T16:25:23.946469Z",
     "start_time": "2021-05-05T16:25:01.763663Z"
    }
   },
   "outputs": [
    {
     "name": "stdout",
     "output_type": "stream",
     "text": [
      "It took 22.179805994033813 seconds to calculate demo_time.\n"
     ]
    }
   ],
   "source": [
    "# 推荐写法。\n",
    "import math\n",
    "from time import time\n",
    "\n",
    "def computeSqrt(size: int):\n",
    "    result = []\n",
    "    append = result.append\n",
    "    sqrt = math.sqrt    # 赋值给局部变量\n",
    "    for i in range(size):\n",
    "        append(sqrt(i))  # 避免 result.append 和 math.sqrt 的使用\n",
    "    return result\n",
    "\n",
    "def main():\n",
    "    size = 10000\n",
    "    for _ in range(size):\n",
    "        result = computeSqrt(size)\n",
    "\n",
    "t1 = time()\n",
    "main()\n",
    "t2 = time()\n",
    "demo_time = t2 - t1\n",
    "print('It took {} seconds to calculate demo_time.'.format(demo_time)) "
   ]
  },
  {
   "cell_type": "markdown",
   "id": "2e9c9dcc",
   "metadata": {},
   "source": [
    "### 避免类内属性访问"
   ]
  },
  {
   "cell_type": "code",
   "execution_count": 32,
   "id": "afb889cf",
   "metadata": {
    "ExecuteTime": {
     "end_time": "2021-05-05T16:25:50.172016Z",
     "start_time": "2021-05-05T16:25:23.948470Z"
    }
   },
   "outputs": [
    {
     "name": "stdout",
     "output_type": "stream",
     "text": [
      "It took 26.215545892715454 seconds to calculate demo_time.\n"
     ]
    }
   ],
   "source": [
    "# 不推荐写法。\n",
    "import math\n",
    "from typing import List\n",
    "from time import time\n",
    "\n",
    "class DemoClass:\n",
    "    def __init__(self, value: int):\n",
    "        self._value = value\n",
    "    \n",
    "    def computeSqrt(self, size: int) -> List[float]:\n",
    "        result = []\n",
    "        append = result.append\n",
    "        sqrt = math.sqrt\n",
    "        for _ in range(size):\n",
    "            append(sqrt(self._value))\n",
    "        return result\n",
    "\n",
    "def main():\n",
    "    size = 10000\n",
    "    for _ in range(size):\n",
    "        demo_instance = DemoClass(size)\n",
    "        result = demo_instance.computeSqrt(size)\n",
    "\n",
    "t1 = time()\n",
    "main()\n",
    "t2 = time()\n",
    "demo_time = t2 - t1\n",
    "print('It took {} seconds to calculate demo_time.'.format(demo_time)) "
   ]
  },
  {
   "cell_type": "markdown",
   "id": "e3de3643",
   "metadata": {},
   "source": [
    "避免 `.` 的原则也适用于类内属性，访问 `self._value` 的速度会比访问一个局部变量更慢一些。通过将需要频繁访问的类内属性赋值给一个局部变量，可以提升代码运行速度。"
   ]
  },
  {
   "cell_type": "code",
   "execution_count": 33,
   "id": "0a539130",
   "metadata": {
    "ExecuteTime": {
     "end_time": "2021-05-05T16:26:11.982457Z",
     "start_time": "2021-05-05T16:25:50.175016Z"
    }
   },
   "outputs": [
    {
     "name": "stdout",
     "output_type": "stream",
     "text": [
      "It took 21.78684091567993 seconds to calculate demo_time.\n"
     ]
    }
   ],
   "source": [
    "# 推荐写法。\n",
    "import math\n",
    "from typing import List\n",
    "from time import time\n",
    "\n",
    "class DemoClass:\n",
    "    def __init__(self, value: int):\n",
    "        self._value = value\n",
    "    \n",
    "    def computeSqrt(self, size: int) -> List[float]:\n",
    "        result = []\n",
    "        append = result.append\n",
    "        sqrt = math.sqrt\n",
    "        value = self._value\n",
    "        for _ in range(size):\n",
    "            append(sqrt(value))  # 避免 self._value 的使用\n",
    "        return result\n",
    "\n",
    "def main():\n",
    "    size = 10000\n",
    "    for _ in range(size):\n",
    "        demo_instance = DemoClass(size)\n",
    "        demo_instance.computeSqrt(size)\n",
    "\n",
    "t1 = time()\n",
    "main()\n",
    "t2 = time()\n",
    "demo_time = t2 - t1\n",
    "print('It took {} seconds to calculate demo_time.'.format(demo_time)) "
   ]
  },
  {
   "cell_type": "markdown",
   "id": "821c148a",
   "metadata": {},
   "source": [
    "### 避免不必要的抽象"
   ]
  },
  {
   "cell_type": "code",
   "execution_count": 8,
   "id": "b2033a81",
   "metadata": {
    "ExecuteTime": {
     "end_time": "2021-05-05T16:06:55.648422Z",
     "start_time": "2021-05-05T16:06:54.762014Z"
    }
   },
   "outputs": [
    {
     "name": "stdout",
     "output_type": "stream",
     "text": [
      "It took 0.8648078441619873 seconds to calculate demo_time.\n"
     ]
    }
   ],
   "source": [
    "# 不推荐写法\n",
    "from time import time\n",
    "\n",
    "class DemoClass:\n",
    "    def __init__(self, value: int):\n",
    "        self.value = value\n",
    "\n",
    "    @property\n",
    "    def value(self) -> int:\n",
    "        return self._value\n",
    "\n",
    "    @value.setter\n",
    "    def value(self, x: int):\n",
    "        self._value = x\n",
    "\n",
    "def main():\n",
    "    size = 1000000\n",
    "    for i in range(size):\n",
    "        demo_instance = DemoClass(size)\n",
    "        value = demo_instance.value\n",
    "        demo_instance.value = i\n",
    "\n",
    "t1 = time()\n",
    "main()\n",
    "t2 = time()\n",
    "demo_time = t2 - t1\n",
    "print('It took {} seconds to calculate demo_time.'.format(demo_time)) "
   ]
  },
  {
   "cell_type": "markdown",
   "id": "77eb276d",
   "metadata": {},
   "source": [
    "任何时候当你使用额外的处理层（比如装饰器、属性访问、描述器）去包装代码时，都会让代码变慢。大部分情况下，需要重新进行审视使用属性访问器的定义是否有必要，使用getter/setter函数对属性进行访问通常是 C/C++ 程序员遗留下来的代码风格。如果真的没有必要，就使用简单属性。"
   ]
  },
  {
   "cell_type": "code",
   "execution_count": 9,
   "id": "93fe0d4c",
   "metadata": {
    "ExecuteTime": {
     "end_time": "2021-05-05T16:07:41.664555Z",
     "start_time": "2021-05-05T16:07:41.166341Z"
    }
   },
   "outputs": [
    {
     "name": "stdout",
     "output_type": "stream",
     "text": [
      "It took 0.48261380195617676 seconds to calculate demo_time.\n"
     ]
    }
   ],
   "source": [
    "# 推荐写法，\n",
    "from time import time\n",
    "\n",
    "class DemoClass:\n",
    "    def __init__(self, value: int):\n",
    "        self.value = value  # 避免不必要的属性访问器\n",
    "\n",
    "def main():\n",
    "    size = 1000000\n",
    "    for i in range(size):\n",
    "        demo_instance = DemoClass(size)\n",
    "        value = demo_instance.value\n",
    "        demo_instance.value = i\n",
    "\n",
    "t1 = time()\n",
    "main()\n",
    "t2 = time()\n",
    "demo_time = t2 - t1\n",
    "print('It took {} seconds to calculate demo_time.'.format(demo_time)) "
   ]
  },
  {
   "cell_type": "markdown",
   "id": "057e6dea",
   "metadata": {},
   "source": [
    "## 避免数据复制"
   ]
  },
  {
   "cell_type": "markdown",
   "id": "9eda53e2",
   "metadata": {},
   "source": [
    "### 避免无意义的数据复制"
   ]
  },
  {
   "cell_type": "code",
   "execution_count": 10,
   "id": "c58b8bbf",
   "metadata": {
    "ExecuteTime": {
     "end_time": "2021-05-05T16:08:49.239957Z",
     "start_time": "2021-05-05T16:08:37.447331Z"
    }
   },
   "outputs": [
    {
     "name": "stdout",
     "output_type": "stream",
     "text": [
      "It took 11.789626121520996 seconds to calculate demo_time.\n"
     ]
    }
   ],
   "source": [
    "# 不推荐写法\n",
    "from time import time\n",
    "\n",
    "def main():\n",
    "    size = 10000\n",
    "    for _ in range(size):\n",
    "        value = range(size)\n",
    "        value_list = [x for x in value]\n",
    "        square_list = [x * x for x in value_list]\n",
    "\n",
    "t1 = time()\n",
    "main()\n",
    "t2 = time()\n",
    "demo_time = t2 - t1\n",
    "print('It took {} seconds to calculate demo_time.'.format(demo_time)) "
   ]
  },
  {
   "cell_type": "markdown",
   "id": "d8802993",
   "metadata": {},
   "source": [
    "上面的代码中 `value_list` 完全没有必要，这会创建不必要的数据结构或复制。"
   ]
  },
  {
   "cell_type": "code",
   "execution_count": 11,
   "id": "a2370d77",
   "metadata": {
    "ExecuteTime": {
     "end_time": "2021-05-05T16:09:24.255056Z",
     "start_time": "2021-05-05T16:09:13.739840Z"
    }
   },
   "outputs": [
    {
     "name": "stdout",
     "output_type": "stream",
     "text": [
      "It took 10.49561619758606 seconds to calculate demo_time.\n"
     ]
    }
   ],
   "source": [
    "# 推荐写法\n",
    "from time import time\n",
    "\n",
    "def main():\n",
    "    size = 10000\n",
    "    for _ in range(size):\n",
    "        value = range(size)\n",
    "        square_list = [x * x for x in value]  # 避免无意义的复制\n",
    "\n",
    "t1 = time()\n",
    "main()\n",
    "t2 = time()\n",
    "demo_time = t2 - t1\n",
    "print('It took {} seconds to calculate demo_time.'.format(demo_time)) "
   ]
  },
  {
   "cell_type": "markdown",
   "id": "7d0a3d7a",
   "metadata": {},
   "source": [
    "另外一种情况是对 Python 的数据共享机制过于偏执，并没有很好地理解或信任 Python 的内存模型，滥用 copy.deepcopy()之类的函数。通常在这些代码中是可以去掉复制操作的。"
   ]
  },
  {
   "cell_type": "markdown",
   "id": "d35fe2e7",
   "metadata": {},
   "source": [
    "### 交换值时不使用中间变量"
   ]
  },
  {
   "cell_type": "code",
   "execution_count": 12,
   "id": "209ddbc2",
   "metadata": {
    "ExecuteTime": {
     "end_time": "2021-05-05T16:10:18.531484Z",
     "start_time": "2021-05-05T16:10:18.430279Z"
    }
   },
   "outputs": [
    {
     "name": "stdout",
     "output_type": "stream",
     "text": [
      "It took 0.08260416984558105 seconds to calculate demo_time.\n"
     ]
    }
   ],
   "source": [
    "# 不推荐写法\n",
    "from time import time\n",
    "\n",
    "def main():\n",
    "    size = 1000000\n",
    "    for _ in range(size):\n",
    "        a = 3\n",
    "        b = 5\n",
    "        temp = a\n",
    "        a = b\n",
    "        b = temp\n",
    "\n",
    "t1 = time()\n",
    "main()\n",
    "t2 = time()\n",
    "demo_time = t2 - t1\n",
    "print('It took {} seconds to calculate demo_time.'.format(demo_time)) "
   ]
  },
  {
   "cell_type": "markdown",
   "id": "b227995b",
   "metadata": {},
   "source": [
    "上面的代码在交换值时创建了一个临时变量temp，如果不借助中间变量，代码更为简洁、且运行速度更快。"
   ]
  },
  {
   "cell_type": "code",
   "execution_count": 13,
   "id": "893adc5b",
   "metadata": {
    "ExecuteTime": {
     "end_time": "2021-05-05T16:10:57.582718Z",
     "start_time": "2021-05-05T16:10:57.508115Z"
    }
   },
   "outputs": [
    {
     "name": "stdout",
     "output_type": "stream",
     "text": [
      "It took 0.07260322570800781 seconds to calculate demo_time.\n"
     ]
    }
   ],
   "source": [
    "# 推荐写法\n",
    "from time import time\n",
    "\n",
    "def main():\n",
    "    size = 1000000\n",
    "    for _ in range(size):\n",
    "        a = 3\n",
    "        b = 5\n",
    "        a, b = b, a  # 不借助中间变量\n",
    "\n",
    "t1 = time()\n",
    "main()\n",
    "t2 = time()\n",
    "demo_time = t2 - t1\n",
    "print('It took {} seconds to calculate demo_time.'.format(demo_time)) "
   ]
  },
  {
   "cell_type": "markdown",
   "id": "db999804",
   "metadata": {},
   "source": [
    "### 字符串拼接用join而不是+"
   ]
  },
  {
   "cell_type": "code",
   "execution_count": 14,
   "id": "7af6d1bc",
   "metadata": {
    "ExecuteTime": {
     "end_time": "2021-05-05T16:11:47.406319Z",
     "start_time": "2021-05-05T16:11:34.509276Z"
    }
   },
   "outputs": [
    {
     "name": "stdout",
     "output_type": "stream",
     "text": [
      "It took 12.881442546844482 seconds to calculate demo_time.\n"
     ]
    }
   ],
   "source": [
    "# 不推荐写法\n",
    "import string\n",
    "from typing import List\n",
    "from time import time\n",
    "\n",
    "def concatString(string_list: List[str]) -> str:\n",
    "    result = ''\n",
    "    for str_i in string_list:\n",
    "        result += str_i\n",
    "    return result\n",
    "\n",
    "def main():\n",
    "    string_list = list(string.ascii_letters * 100)\n",
    "    for _ in range(10000):\n",
    "        result = concatString(string_list)\n",
    "\n",
    "t1 = time()\n",
    "main()\n",
    "t2 = time()\n",
    "demo_time = t2 - t1\n",
    "print('It took {} seconds to calculate demo_time.'.format(demo_time)) "
   ]
  },
  {
   "cell_type": "markdown",
   "id": "0cca9605",
   "metadata": {},
   "source": [
    "当使用a + b拼接字符串时，由于 Python 中字符串是不可变对象，其会申请一块内存空间，将a和b分别复制到该新申请的内存空间中。因此，如果要拼接 n 个字符串，会产生 n-1 个中间结果，每产生一个中间结果都需要申请和复制一次内存，严重影响运行效率。而使用join()拼接字符串时，会首先计算出需要申请的总的内存空间，然后一次性地申请所需内存，并将每个字符串元素复制到该内存中去。"
   ]
  },
  {
   "cell_type": "code",
   "execution_count": 15,
   "id": "415913ed",
   "metadata": {
    "ExecuteTime": {
     "end_time": "2021-05-05T16:12:21.905431Z",
     "start_time": "2021-05-05T16:12:21.374220Z"
    }
   },
   "outputs": [
    {
     "name": "stdout",
     "output_type": "stream",
     "text": [
      "It took 0.5000112056732178 seconds to calculate demo_time.\n"
     ]
    }
   ],
   "source": [
    "# 推荐写法，\n",
    "import string\n",
    "from typing import List\n",
    "from time import time\n",
    "\n",
    "def concatString(string_list: List[str]) -> str:\n",
    "    return ''.join(string_list)  # 使用 join 而不是 +\n",
    "\n",
    "def main():\n",
    "    string_list = list(string.ascii_letters * 100)\n",
    "    for _ in range(10000):\n",
    "        result = concatString(string_list)\n",
    "\n",
    "t1 = time()\n",
    "main()\n",
    "t2 = time()\n",
    "demo_time = t2 - t1\n",
    "print('It took {} seconds to calculate demo_time.'.format(demo_time)) "
   ]
  },
  {
   "cell_type": "markdown",
   "id": "c4d24e66",
   "metadata": {},
   "source": [
    "## 利用if条件的短路特性"
   ]
  },
  {
   "cell_type": "code",
   "execution_count": 16,
   "id": "d6e6e019",
   "metadata": {
    "ExecuteTime": {
     "end_time": "2021-05-05T16:13:02.365234Z",
     "start_time": "2021-05-05T16:13:02.327033Z"
    }
   },
   "outputs": [
    {
     "name": "stdout",
     "output_type": "stream",
     "text": [
      "It took 0.019600391387939453 seconds to calculate demo_time.\n"
     ]
    }
   ],
   "source": [
    "# 不推荐写法\n",
    "from typing import List\n",
    "from time import time\n",
    "\n",
    "def concatString(string_list: List[str]) -> str:\n",
    "    abbreviations = {'cf.', 'e.g.', 'ex.', 'etc.', 'flg.', 'i.e.', 'Mr.', 'vs.'}\n",
    "    abbr_count = 0\n",
    "    result = ''\n",
    "    for str_i in string_list:\n",
    "        if str_i in abbreviations:\n",
    "            result += str_i\n",
    "    return result\n",
    "\n",
    "def main():\n",
    "    for _ in range(10000):\n",
    "        string_list = ['Mr.', 'Hat', 'is', 'Chasing', 'the', 'black', 'cat', '.']\n",
    "        result = concatString(string_list)\n",
    "\n",
    "t1 = time()\n",
    "main()\n",
    "t2 = time()\n",
    "demo_time = t2 - t1\n",
    "print('It took {} seconds to calculate demo_time.'.format(demo_time)) "
   ]
  },
  {
   "cell_type": "markdown",
   "id": "f36bc2c8",
   "metadata": {},
   "source": [
    "if 条件的短路特性是指对if a and b这样的语句， 当a为False时将直接返回，不再计算b；对于if a or b这样的语句，当a为True时将直接返回，不再计算b。因此， 为了节约运行时间，对于or语句，应该将值为True可能性比较高的变量写在or前，而and应该推后。"
   ]
  },
  {
   "cell_type": "code",
   "execution_count": 17,
   "id": "2c8ba3dc",
   "metadata": {
    "ExecuteTime": {
     "end_time": "2021-05-05T16:13:40.998164Z",
     "start_time": "2021-05-05T16:13:40.973564Z"
    }
   },
   "outputs": [
    {
     "name": "stdout",
     "output_type": "stream",
     "text": [
      "It took 0.020600318908691406 seconds to calculate demo_time.\n"
     ]
    }
   ],
   "source": [
    "# 推荐写法\n",
    "from typing import List\n",
    "from time import time\n",
    "\n",
    "def concatString(string_list: List[str]) -> str:\n",
    "    abbreviations = {'cf.', 'e.g.', 'ex.', 'etc.', 'flg.', 'i.e.', 'Mr.', 'vs.'}\n",
    "    abbr_count = 0\n",
    "    result = ''\n",
    "    for str_i in string_list:\n",
    "        if str_i[-1] == '.' and str_i in abbreviations:  # 利用 if 条件的短路特性\n",
    "            result += str_i\n",
    "    return result\n",
    "\n",
    "def main():\n",
    "    for _ in range(10000):\n",
    "        string_list = ['Mr.', 'Hat', 'is', 'Chasing', 'the', 'black', 'cat', '.']\n",
    "        result = concatString(string_list)\n",
    "\n",
    "t1 = time()\n",
    "main()\n",
    "t2 = time()\n",
    "demo_time = t2 - t1\n",
    "print('It took {} seconds to calculate demo_time.'.format(demo_time)) "
   ]
  },
  {
   "cell_type": "markdown",
   "id": "a49d5c3b",
   "metadata": {},
   "source": [
    "## 循环优化"
   ]
  },
  {
   "cell_type": "markdown",
   "id": "f1e573e7",
   "metadata": {},
   "source": [
    "在任何一门程序语言中，循环都是最基本的构成元素，在Python中当然不会例外，不过，由于Python本身是解释性语言，所以在Python中尽量不要用嵌套循环，这样会降低其运行效率。\n",
    "\n",
    "本节介绍几种在Python中书写循环方式的技巧，以备同学们在写循环体时借鉴。"
   ]
  },
  {
   "cell_type": "markdown",
   "id": "86fa7e39",
   "metadata": {},
   "source": [
    "### 同时得到索引和值"
   ]
  },
  {
   "cell_type": "markdown",
   "id": "88b1c94a",
   "metadata": {},
   "source": [
    "熟悉Python的同学在遍历列表时，为了得到列表的索引，一般会这样写："
   ]
  },
  {
   "cell_type": "code",
   "execution_count": 1,
   "id": "a90fb123",
   "metadata": {
    "ExecuteTime": {
     "end_time": "2021-05-09T10:17:11.624695Z",
     "start_time": "2021-05-09T10:17:11.609318Z"
    }
   },
   "outputs": [
    {
     "name": "stdout",
     "output_type": "stream",
     "text": [
      "0 a\n",
      "1 b\n",
      "2 c\n",
      "3 d\n",
      "4 e\n"
     ]
    }
   ],
   "source": [
    "lst = ['a','b','c','d','e']\n",
    "for  i in range(len(lst)):\n",
    "    print(i,lst[i])"
   ]
  },
  {
   "cell_type": "markdown",
   "id": "19856545",
   "metadata": {},
   "source": [
    "其实直接用enumerate即可完成这种功能："
   ]
  },
  {
   "cell_type": "code",
   "execution_count": 2,
   "id": "2048175b",
   "metadata": {
    "ExecuteTime": {
     "end_time": "2021-05-09T09:51:36.136816Z",
     "start_time": "2021-05-09T09:51:36.121181Z"
    }
   },
   "outputs": [
    {
     "name": "stdout",
     "output_type": "stream",
     "text": [
      "0 a\n",
      "1 b\n",
      "2 c\n",
      "3 d\n",
      "4 e\n"
     ]
    }
   ],
   "source": [
    "for  i,v in enumerate(lst):\n",
    "    print(i,v)"
   ]
  },
  {
   "cell_type": "markdown",
   "id": "43d55f3c",
   "metadata": {},
   "source": [
    "内置函数enumerate还附带一个start的参数，它可以指定索引从几开始，默认是0，比如我们希望索引从1开始，可以这样："
   ]
  },
  {
   "cell_type": "code",
   "execution_count": 3,
   "id": "10374117",
   "metadata": {
    "ExecuteTime": {
     "end_time": "2021-05-09T09:52:17.377933Z",
     "start_time": "2021-05-09T09:52:17.367915Z"
    }
   },
   "outputs": [
    {
     "name": "stdout",
     "output_type": "stream",
     "text": [
      "1 a\n",
      "2 b\n",
      "3 c\n",
      "4 d\n",
      "5 e\n"
     ]
    }
   ],
   "source": [
    "for  i,v in enumerate(lst,start=1):\n",
    "    print(i,v)"
   ]
  },
  {
   "cell_type": "markdown",
   "id": "2a6b571b",
   "metadata": {},
   "source": [
    "### 用Product来避免循环的嵌套"
   ]
  },
  {
   "cell_type": "markdown",
   "id": "831cc02f",
   "metadata": {},
   "source": [
    "在写循环体时，初学者很容易用嵌套循环来解决问题，这样效率非常低下，比如要找到三位数中的所有水仙花数(三位水仙花数指的是各位数字的三次方之和与该数相等)，初学者有可能会这样写："
   ]
  },
  {
   "cell_type": "code",
   "execution_count": 4,
   "id": "138b1d7d",
   "metadata": {
    "ExecuteTime": {
     "end_time": "2021-05-26T02:21:08.457874Z",
     "start_time": "2021-05-26T02:20:53.693850Z"
    }
   },
   "outputs": [
    {
     "name": "stdout",
     "output_type": "stream",
     "text": [
      "1 5 3\n",
      "3 7 0\n",
      "3 7 1\n",
      "4 0 7\n",
      "10 0 0\n",
      "10 0 1\n",
      "It took 14.761023044586182 seconds to calculate demo_time.\n"
     ]
    }
   ],
   "source": [
    "from time import time\n",
    "\n",
    "t1 = time()\n",
    "for a in range(1,200):\n",
    "    for b in range(0,200):\n",
    "        for c in range(0,200):\n",
    "            if a**3 +b**3 +c**3 == a*100+b*10+c:\n",
    "                print(a,b,c)\n",
    "t2 = time()\n",
    "demo_time = t2 - t1\n",
    "print('It took {} seconds to calculate demo_time.'.format(demo_time)) "
   ]
  },
  {
   "cell_type": "markdown",
   "id": "f7467d97",
   "metadata": {},
   "source": [
    "当然也可以直接从100循环到999，再将百位、十位、个数分离进行判断，这种方法可以自行研究，这里介绍一种改进上述嵌套循环的方法："
   ]
  },
  {
   "cell_type": "code",
   "execution_count": 5,
   "id": "92428d8e",
   "metadata": {
    "ExecuteTime": {
     "end_time": "2021-05-26T02:21:23.663362Z",
     "start_time": "2021-05-26T02:21:08.459874Z"
    }
   },
   "outputs": [
    {
     "name": "stdout",
     "output_type": "stream",
     "text": [
      "0 0 0\n",
      "0 0 1\n",
      "1 5 3\n",
      "3 7 0\n",
      "3 7 1\n",
      "4 0 7\n",
      "10 0 0\n",
      "10 0 1\n",
      "It took 15.184887409210205 seconds to calculate demo_time.\n"
     ]
    }
   ],
   "source": [
    "from time import time\n",
    "\n",
    "t1 = time()\n",
    "\n",
    "from itertools import product\n",
    "lst_num = range(0,200)\n",
    "for a,b,c in product(lst_num,lst_num,lst_num):\n",
    "    if a**3 +b**3 +c**3 == a*100+b*10+c:\n",
    "                print(a,b,c)\n",
    "t2 = time()\n",
    "demo_time = t2 - t1\n",
    "print('It took {} seconds to calculate demo_time.'.format(demo_time)) "
   ]
  },
  {
   "cell_type": "markdown",
   "id": "a72cbed6",
   "metadata": {},
   "source": [
    "从上述代码可以看出，通过itertools的product函数，我们将原本需要三重循环的代码精简为一重循环，这样提高了程序执行效率，同时也增强了代码的可阅读性。"
   ]
  },
  {
   "cell_type": "markdown",
   "id": "a1fd2992",
   "metadata": {},
   "source": [
    "### 充分利用itertools优化循环"
   ]
  },
  {
   "cell_type": "markdown",
   "id": "5f9ec384",
   "metadata": {},
   "source": [
    "我们回顾一下利用itertools模块，其中的一些函数来改进循环的写法。"
   ]
  },
  {
   "cell_type": "markdown",
   "id": "7f3883a5",
   "metadata": {},
   "source": [
    "#### 创建无限循环"
   ]
  },
  {
   "cell_type": "markdown",
   "id": "de556ced",
   "metadata": {},
   "source": [
    "用itertools.count函数可以创建一个基于数字的无限循环，且计数器可以逐渐递增："
   ]
  },
  {
   "cell_type": "code",
   "execution_count": 7,
   "id": "1be4d484",
   "metadata": {
    "ExecuteTime": {
     "end_time": "2021-05-09T10:00:32.888931Z",
     "start_time": "2021-05-09T10:00:32.873966Z"
    }
   },
   "outputs": [
    {
     "name": "stdout",
     "output_type": "stream",
     "text": [
      "1\n",
      "2\n",
      "3\n",
      "4\n",
      "5\n",
      "6\n",
      "7\n",
      "8\n",
      "9\n",
      "10\n"
     ]
    }
   ],
   "source": [
    "import itertools as it\n",
    "\n",
    "num = it.count(1)\n",
    "for n in num:\n",
    "    print(n)\n",
    "    if n==10:break"
   ]
  },
  {
   "cell_type": "markdown",
   "id": "e105d292",
   "metadata": {},
   "source": [
    "用itertools.cycle可以创建一个基于字符串的无限循环字符序列，如："
   ]
  },
  {
   "cell_type": "code",
   "execution_count": 9,
   "id": "6eca246f",
   "metadata": {
    "ExecuteTime": {
     "end_time": "2021-05-09T10:02:44.577572Z",
     "start_time": "2021-05-09T10:02:44.573545Z"
    }
   },
   "outputs": [
    {
     "name": "stdout",
     "output_type": "stream",
     "text": [
      "黄,飞,鸿,黄,飞,鸿,黄,飞,鸿,黄,"
     ]
    }
   ],
   "source": [
    "many_str = it.cycle(\"黄飞鸿\")\n",
    "indx = 0\n",
    "for s in many_str:\n",
    "    print(s,end=',')\n",
    "    indx +=1\n",
    "    if indx == 10:\n",
    "        break"
   ]
  },
  {
   "cell_type": "markdown",
   "id": "5a8a5831",
   "metadata": {},
   "source": [
    "用itertools.repeat可以创建一个不断重复给定字符串的无限循环，如："
   ]
  },
  {
   "cell_type": "code",
   "execution_count": 10,
   "id": "777d987b",
   "metadata": {
    "ExecuteTime": {
     "end_time": "2021-05-09T10:03:44.744620Z",
     "start_time": "2021-05-09T10:03:44.736579Z"
    }
   },
   "outputs": [
    {
     "name": "stdout",
     "output_type": "stream",
     "text": [
      "黄飞鸿,黄飞鸿,黄飞鸿,黄飞鸿,黄飞鸿,黄飞鸿,黄飞鸿,黄飞鸿,黄飞鸿,黄飞鸿,"
     ]
    }
   ],
   "source": [
    "many_str2 = it.repeat(\"黄飞鸿\")\n",
    "indx = 0\n",
    "for s in many_str2:\n",
    "    print(s,end=',')\n",
    "    indx +=1\n",
    "    if indx == 10:\n",
    "        break"
   ]
  },
  {
   "cell_type": "markdown",
   "id": "7c9090ae",
   "metadata": {},
   "source": [
    "#### 将各列表连为一个列表"
   ]
  },
  {
   "cell_type": "markdown",
   "id": "fac49b6d",
   "metadata": {},
   "source": [
    "用itertools.chain可以将给定的列表串联在一起，比如："
   ]
  },
  {
   "cell_type": "code",
   "execution_count": 11,
   "id": "f5b54dc2",
   "metadata": {
    "ExecuteTime": {
     "end_time": "2021-05-09T10:05:49.526231Z",
     "start_time": "2021-05-09T10:05:49.513256Z"
    }
   },
   "outputs": [
    {
     "name": "stdout",
     "output_type": "stream",
     "text": [
      "1,2,3,a,b,c,汉字,"
     ]
    }
   ],
   "source": [
    "lst_a = [1,2,3]\n",
    "lst_b = ['a','b','c']\n",
    "lst_c = ['汉字']\n",
    "for s in it.chain(lst_a,lst_b,lst_c):\n",
    "    print(s,end=',')"
   ]
  },
  {
   "cell_type": "markdown",
   "id": "9c360019",
   "metadata": {},
   "source": [
    "给定一个字符串，现在要找出其中相邻的同样字符，如果让我们自己来写代码完成的话，是这样的："
   ]
  },
  {
   "cell_type": "code",
   "execution_count": 13,
   "id": "64a4e1e4",
   "metadata": {
    "ExecuteTime": {
     "end_time": "2021-05-09T10:08:44.971804Z",
     "start_time": "2021-05-09T10:08:44.951805Z"
    }
   },
   "outputs": [
    {
     "name": "stdout",
     "output_type": "stream",
     "text": [
      "A ['A', 'A', 'A']\n",
      "a ['a']\n",
      "B ['B', 'B', 'B']\n",
      "c ['c', 'c']\n",
      "A ['A', 'A', 'A']\n",
      "唧 ['唧', '唧']\n",
      "复 ['复']\n",
      "唧 ['唧', '唧']\n"
     ]
    }
   ],
   "source": [
    "samestr = \"AAaBBBccAAA唧唧复唧唧\"\n",
    "tmp = [samestr[0],]\n",
    "for s in samestr:\n",
    "    if s in tmp:\n",
    "        tmp.append(s)\n",
    "    else:\n",
    "        print(tmp[0],tmp)\n",
    "        tmp = [s,]\n",
    "print(tmp[0],tmp)"
   ]
  },
  {
   "cell_type": "markdown",
   "id": "3dd027ad",
   "metadata": {},
   "source": [
    "如果用itertools.groupby，则完成上述功能的代码是这样的："
   ]
  },
  {
   "cell_type": "code",
   "execution_count": 14,
   "id": "1f7862af",
   "metadata": {
    "ExecuteTime": {
     "end_time": "2021-05-09T10:09:48.410918Z",
     "start_time": "2021-05-09T10:09:48.399753Z"
    }
   },
   "outputs": [
    {
     "name": "stdout",
     "output_type": "stream",
     "text": [
      "A ['A', 'A']\n",
      "a ['a']\n",
      "B ['B', 'B', 'B']\n",
      "c ['c', 'c']\n",
      "A ['A', 'A', 'A']\n",
      "唧 ['唧', '唧']\n",
      "复 ['复']\n",
      "唧 ['唧', '唧']\n"
     ]
    }
   ],
   "source": [
    "for key,group in it.groupby(samestr):\n",
    "    print(key,list(group))"
   ]
  },
  {
   "cell_type": "markdown",
   "id": "2a45fcc6",
   "metadata": {},
   "source": [
    "两相对比，明显后者简洁的多。"
   ]
  },
  {
   "cell_type": "markdown",
   "id": "010cd7ed",
   "metadata": {},
   "source": [
    "### 自定义循环迭代器"
   ]
  },
  {
   "cell_type": "markdown",
   "id": "28f12093",
   "metadata": {},
   "source": [
    "其实我们也可以模仿上述itertools中的函数模式创建属于我们自己的迭代器，比如我们可以来写一个求取偶数的函数，这时用到一个 `yield` 函数："
   ]
  },
  {
   "cell_type": "code",
   "execution_count": 15,
   "id": "e61adbef",
   "metadata": {
    "ExecuteTime": {
     "end_time": "2021-05-09T10:12:49.034612Z",
     "start_time": "2021-05-09T10:12:49.028780Z"
    }
   },
   "outputs": [
    {
     "name": "stdout",
     "output_type": "stream",
     "text": [
      "2\n",
      "4\n",
      "6\n",
      "12\n"
     ]
    }
   ],
   "source": [
    "def only_even(num):\n",
    "    for i in num:\n",
    "        if i%2 == 0:\n",
    "            yield i\n",
    "\n",
    "lst = [1,3,5,2,4,6,9,12]\n",
    "for n in only_even(lst):\n",
    "    print(n)"
   ]
  },
  {
   "cell_type": "markdown",
   "id": "a3d951a9",
   "metadata": {},
   "source": [
    "基于这种方法，我们可以将刚才自己写的完成groupby的代码改写成这类函数："
   ]
  },
  {
   "cell_type": "code",
   "execution_count": 16,
   "id": "ac2e15a0",
   "metadata": {
    "ExecuteTime": {
     "end_time": "2021-05-09T10:15:19.846168Z",
     "start_time": "2021-05-09T10:15:19.831164Z"
    }
   },
   "outputs": [
    {
     "name": "stdout",
     "output_type": "stream",
     "text": [
      "A ['A', 'A', 'A']\n",
      "a ['a']\n",
      "B ['B', 'B', 'B']\n",
      "c ['c', 'c']\n",
      "A ['A', 'A', 'A']\n",
      "唧 ['唧', '唧']\n",
      "复 ['复']\n",
      "唧 ['唧', '唧']\n"
     ]
    }
   ],
   "source": [
    "def my_groupby(lst):\n",
    "    tmp = [samestr[0],]\n",
    "    for s in samestr:\n",
    "        if s in tmp:\n",
    "            tmp.append(s)\n",
    "        else:\n",
    "            yield(tmp[0],tmp)\n",
    "            tmp = [s,]\n",
    "    yield(tmp[0],tmp)\n",
    "\n",
    "for key,group in my_groupby(samestr):\n",
    "    print(key,list(group))"
   ]
  },
  {
   "cell_type": "markdown",
   "id": "cc8e0cfa",
   "metadata": {},
   "source": [
    "### 用for循环代替while循环"
   ]
  },
  {
   "cell_type": "code",
   "execution_count": 18,
   "id": "d2015b62",
   "metadata": {
    "ExecuteTime": {
     "end_time": "2021-05-05T16:14:55.521684Z",
     "start_time": "2021-05-05T16:14:42.405059Z"
    }
   },
   "outputs": [
    {
     "name": "stdout",
     "output_type": "stream",
     "text": [
      "It took 13.085424184799194 seconds to calculate demo_time.\n"
     ]
    }
   ],
   "source": [
    "# 不推荐写法\n",
    "from time import time\n",
    "def computeSum(size: int) -> int:\n",
    "    sum_ = 0\n",
    "    i = 0\n",
    "    while i < size:\n",
    "        sum_ += i\n",
    "        i += 1\n",
    "    return sum_\n",
    "\n",
    "def main():\n",
    "    size = 10000\n",
    "    for _ in range(size):\n",
    "        sum_ = computeSum(size)\n",
    "\n",
    "t1 = time()\n",
    "main()\n",
    "t2 = time()\n",
    "demo_time = t2 - t1\n",
    "print('It took {} seconds to calculate demo_time.'.format(demo_time)) "
   ]
  },
  {
   "cell_type": "markdown",
   "id": "002ff5c0",
   "metadata": {},
   "source": [
    "Python 的for循环比while循环快不少。"
   ]
  },
  {
   "cell_type": "code",
   "execution_count": 19,
   "id": "6de264be",
   "metadata": {
    "ExecuteTime": {
     "end_time": "2021-05-05T16:15:28.419455Z",
     "start_time": "2021-05-05T16:15:21.523160Z"
    }
   },
   "outputs": [
    {
     "name": "stdout",
     "output_type": "stream",
     "text": [
      "It took 6.876694679260254 seconds to calculate demo_time.\n"
     ]
    }
   ],
   "source": [
    "# 推荐写法\n",
    "from time import time\n",
    "\n",
    "def computeSum(size: int) -> int:\n",
    "    sum_ = 0\n",
    "    for i in range(size):  # for 循环代替 while 循环\n",
    "        sum_ += i\n",
    "    return sum_\n",
    "\n",
    "def main():\n",
    "    size = 10000\n",
    "    for _ in range(size):\n",
    "        sum_ = computeSum(size)\n",
    "\n",
    "t1 = time()\n",
    "main()\n",
    "t2 = time()\n",
    "demo_time = t2 - t1\n",
    "print('It took {} seconds to calculate demo_time.'.format(demo_time)) "
   ]
  },
  {
   "cell_type": "markdown",
   "id": "0af84590",
   "metadata": {},
   "source": [
    "### 使用隐式for循环代替显式for循环"
   ]
  },
  {
   "cell_type": "markdown",
   "id": "8cabc294",
   "metadata": {},
   "source": [
    "针对上面的例子，更进一步可以用隐式for循环来替代显式for循环"
   ]
  },
  {
   "cell_type": "code",
   "execution_count": 20,
   "id": "9fe53f5b",
   "metadata": {
    "ExecuteTime": {
     "end_time": "2021-05-05T16:16:17.729780Z",
     "start_time": "2021-05-05T16:16:15.053088Z"
    }
   },
   "outputs": [
    {
     "name": "stdout",
     "output_type": "stream",
     "text": [
      "It took 2.673691749572754 seconds to calculate demo_time.\n"
     ]
    }
   ],
   "source": [
    "# 推荐写法\n",
    "from time import time\n",
    "\n",
    "def computeSum(size: int) -> int:\n",
    "    return sum(range(size))  # 隐式 for 循环代替显式 for 循环\n",
    "\n",
    "def main():\n",
    "    size = 10000\n",
    "    for _ in range(size):\n",
    "        sum = computeSum(size)\n",
    "\n",
    "t1 = time()\n",
    "main()\n",
    "t2 = time()\n",
    "demo_time = t2 - t1\n",
    "print('It took {} seconds to calculate demo_time.'.format(demo_time)) "
   ]
  },
  {
   "cell_type": "markdown",
   "id": "130d47f2",
   "metadata": {},
   "source": [
    "### 减少内层for循环的计算"
   ]
  },
  {
   "cell_type": "code",
   "execution_count": 21,
   "id": "2547265f",
   "metadata": {
    "ExecuteTime": {
     "end_time": "2021-05-05T16:17:34.867850Z",
     "start_time": "2021-05-05T16:17:03.153202Z"
    }
   },
   "outputs": [
    {
     "name": "stdout",
     "output_type": "stream",
     "text": [
      "It took 31.699048042297363 seconds to calculate demo_time.\n"
     ]
    }
   ],
   "source": [
    "# 不推荐写法\n",
    "import math\n",
    "from time import time\n",
    "\n",
    "def main():\n",
    "    size = 10000\n",
    "    sqrt = math.sqrt\n",
    "    for x in range(size):\n",
    "        for y in range(size):\n",
    "            z = sqrt(x) + sqrt(y)\n",
    "\n",
    "t1 = time()\n",
    "main()\n",
    "t2 = time()\n",
    "demo_time = t2 - t1\n",
    "print('It took {} seconds to calculate demo_time.'.format(demo_time)) "
   ]
  },
  {
   "cell_type": "markdown",
   "id": "6c64a516",
   "metadata": {},
   "source": [
    "上面的代码中sqrt(x)位于内侧for循环， 每次训练过程中都会重新计算一次，增加了时间开销。"
   ]
  },
  {
   "cell_type": "code",
   "execution_count": 22,
   "id": "782cc953",
   "metadata": {
    "ExecuteTime": {
     "end_time": "2021-05-05T16:18:04.305134Z",
     "start_time": "2021-05-05T16:17:45.959160Z"
    }
   },
   "outputs": [
    {
     "name": "stdout",
     "output_type": "stream",
     "text": [
      "It took 18.326374053955078 seconds to calculate demo_time.\n"
     ]
    }
   ],
   "source": [
    "# 推荐写法\n",
    "import math\n",
    "from time import time\n",
    "\n",
    "def main():\n",
    "    size = 10000\n",
    "    sqrt = math.sqrt\n",
    "    for x in range(size):\n",
    "        sqrt_x = sqrt(x)  # 减少内层 for 循环的计算\n",
    "        for y in range(size):\n",
    "            z = sqrt_x + sqrt(y)\n",
    "\n",
    "t1 = time()\n",
    "main()\n",
    "t2 = time()\n",
    "demo_time = t2 - t1\n",
    "print('It took {} seconds to calculate demo_time.'.format(demo_time)) "
   ]
  },
  {
   "cell_type": "markdown",
   "id": "ee1c008c",
   "metadata": {},
   "source": [
    "## 使用numba.jit"
   ]
  },
  {
   "cell_type": "code",
   "execution_count": 24,
   "id": "f5376a99",
   "metadata": {
    "ExecuteTime": {
     "end_time": "2021-05-05T16:19:42.756611Z",
     "start_time": "2021-05-05T16:19:02.949070Z"
    }
   },
   "outputs": [
    {
     "name": "stdout",
     "output_type": "stream",
     "text": [
      "Looking in indexes: http://mirrors.aliyun.com/pypi/simple/\n",
      "Collecting numba\n",
      "  Downloading http://mirrors.aliyun.com/pypi/packages/73/b5/ee52615b3fd15d5302cf094005a1995cc37c67729094194de634f305a51c/numba-0.53.1-cp37-cp37m-win_amd64.whl (2.3 MB)\n",
      "Collecting llvmlite<0.37,>=0.36.0rc1\n",
      "  Downloading http://mirrors.aliyun.com/pypi/packages/64/12/d2ab8618b3e68b7121de9ed743aee9b737777aa219586f71f3e11bb706aa/llvmlite-0.36.0-cp37-cp37m-win_amd64.whl (16.0 MB)\n",
      "Requirement already satisfied: numpy>=1.15 in d:\\programdata\\miniconda3\\lib\\site-packages (from numba) (1.20.2)\n",
      "Requirement already satisfied: setuptools in d:\\programdata\\miniconda3\\lib\\site-packages (from numba) (45.2.0.post20200210)\n",
      "Installing collected packages: llvmlite, numba\n",
      "Successfully installed llvmlite-0.36.0 numba-0.53.1\n"
     ]
    }
   ],
   "source": [
    "!pip install numba"
   ]
  },
  {
   "cell_type": "markdown",
   "id": "542acb35",
   "metadata": {},
   "source": [
    "|我们沿用上面介绍过的例子，在此基础上使用numba.jit。numba可以将 Python 函数 JIT 编译为机器码执行，大大提高代码运行速度。"
   ]
  },
  {
   "cell_type": "code",
   "execution_count": 25,
   "id": "cafd8ae8",
   "metadata": {
    "ExecuteTime": {
     "end_time": "2021-05-05T16:19:51.696346Z",
     "start_time": "2021-05-05T16:19:45.756300Z"
    }
   },
   "outputs": [
    {
     "name": "stdout",
     "output_type": "stream",
     "text": [
      "It took 0.5600275993347168 seconds to calculate demo_time.\n"
     ]
    }
   ],
   "source": [
    "# 推荐写法\n",
    "import numba\n",
    "from time import time\n",
    "\n",
    "@numba.jit\n",
    "def computeSum(size: float) -> int:\n",
    "    sum = 0\n",
    "    for i in range(size):\n",
    "        sum += i\n",
    "    return sum\n",
    "\n",
    "def main():\n",
    "    size = 10000\n",
    "    for _ in range(size):\n",
    "        sum = computeSum(size)\n",
    "\n",
    "t1 = time()\n",
    "main()\n",
    "t2 = time()\n",
    "demo_time = t2 - t1\n",
    "print('It took {} seconds to calculate demo_time.'.format(demo_time)) "
   ]
  },
  {
   "cell_type": "markdown",
   "id": "68da2b9b",
   "metadata": {},
   "source": [
    "## 选择合适的数据结构"
   ]
  },
  {
   "cell_type": "markdown",
   "id": "99ad7c0e",
   "metadata": {},
   "source": [
    "Python 内置的数据结构如str, tuple, list, set, dict底层都是 C 实现的，速度非常快，自己实现新的数据结构想在性能上达到内置的速度几乎是不可能的。\n",
    "\n",
    "list类似于 C++ 中的std::vector，是一种动态数组。其会预分配一定内存空间，当预分配的内存空间用完，又继续向其中添加元素时，会申请一块更大的内存空间，然后将原有的所有元素都复制过去，之后销毁之前的内存空间，再插入新元素。\n",
    "\n",
    "删除元素时操作类似，当已使用内存空间比预分配内存空间的一半还少时，会另外申请一块小内存，做一次元素复制，之后销毁原有大内存空间。\n",
    "\n",
    "因此，如果有频繁的新增、删除操作，新增、删除的元素数量又很多时，list的效率不高。此时，应该考虑使用collections.deque。collections.deque是双端队列，同时具备栈和队列的特性，能够在两端进行 O(1) 复杂度的插入和删除操作。\n",
    "\n",
    "list的查找操作也非常耗时。当需要在list频繁查找某些元素，或频繁有序访问这些元素时，可以使用bisect维护list对象有序并在其中进行二分查找，提升查找的效率。\n",
    "\n",
    "另外一个常见需求是查找极小值或极大值，此时可以使用heapq模块将list转化为一个堆，使得获取最小值的时间复杂度是 O(1)。\n",
    "\n",
    "下面的网页给出了常用的 Python 数据结构的各项操作的时间复杂度：https://wiki.python.org/moin/TimeComplexity"
   ]
  },
  {
   "cell_type": "markdown",
   "id": "2a259308",
   "metadata": {},
   "source": [
    "# 代码质量"
   ]
  },
  {
   "cell_type": "markdown",
   "id": "49a7bc54",
   "metadata": {},
   "source": [
    "代码质量，是评价开发者的一个重要指标。\n",
    "\n",
    "我曾经不止一次的提及过代码质量的重要性，优秀的代码，直接关乎可读性、维护成本等诸多方面的问题。\n",
    "\n",
    "Python作为一种高级编程语言，对于语法的限制非常少，开发者可以忽略很多要点，同样可以满足自己的需要的功能，因此，代码质量开始被很多Python开发者忽视。\n",
    "\n",
    "但是，要成为一名优秀的开发者，代码质量是永远无法绕开的话题。\n",
    "\n",
    "下面，就来教大家如何写出简洁、干净的Python代码，来提升一下你的代码质量吧！"
   ]
  },
  {
   "cell_type": "markdown",
   "id": "6470645b",
   "metadata": {},
   "source": [
    "##  enumerate()替代range(len())"
   ]
  },
  {
   "cell_type": "markdown",
   "id": "dd69f65b",
   "metadata": {},
   "source": [
    "问题：遍历一个列表，把里面小于0的值置为0。\n",
    "\n",
    "遍历列表，是开发过程中经常会涉及到的一种操作。\n",
    "\n",
    "大多数Python开发者都习惯于使用range(len())语法，这一种方式是很多教程、书籍上介绍的，因此，很多同学也就默认选择使用这种方式去遍历列表。\n",
    "\n",
    "在遍历列表里，使用enumerate()枚举函数是一个更佳的选择，因为它可以同时获取索引和当前项，这对在很多场景下是非常实用的。而使用range(len())却不能兼顾索引和当前项。\n",
    "\n",
    "下面看一下2种方式的对比："
   ]
  },
  {
   "cell_type": "code",
   "execution_count": 1,
   "id": "30ac04ef",
   "metadata": {},
   "outputs": [],
   "source": [
    "data = [1, 2, -3, -4]\n",
    "\n",
    "# range(len())\n",
    "for i in range(len(data)):\n",
    "    if data[i] < 0:\n",
    "        data[i] = 0\n",
    "\n",
    "# enumerate()\n",
    "data = [1, 2, -3, -4]\n",
    "for idx, num in enumerate(data):\n",
    "    if num < 0:\n",
    "        data[idx] = 0"
   ]
  },
  {
   "cell_type": "markdown",
   "id": "8618995c",
   "metadata": {},
   "source": [
    "##  列表表达式替代for循环"
   ]
  },
  {
   "cell_type": "markdown",
   "id": "881617da",
   "metadata": {},
   "source": [
    "问题：求一个列表中所有数的平方。\n",
    "\n",
    "如果使用比较常用的for循环方式是这样的："
   ]
  },
  {
   "cell_type": "code",
   "execution_count": 2,
   "id": "00a9ad87",
   "metadata": {},
   "outputs": [],
   "source": [
    "squares = []\n",
    "for i in range(10):\n",
    "    squares.append(i*i)"
   ]
  },
  {
   "cell_type": "markdown",
   "id": "58f512a4",
   "metadata": {},
   "source": [
    "而使用列表表达式，是下面这样的："
   ]
  },
  {
   "cell_type": "code",
   "execution_count": 3,
   "id": "80991b09",
   "metadata": {},
   "outputs": [],
   "source": [
    "squares = [i*i for i in range(10)]"
   ]
  },
  {
   "cell_type": "markdown",
   "id": "0ac0ff52",
   "metadata": {},
   "source": [
    "一行代码就可以实现for循环3行代码才能实现的功能。\n",
    "\n",
    "列表表达式非常强大，它还可以结合条件语句进行使用。\n",
    "\n",
    "不过，不要过度使用列表表达式。因为，它使代码变得简单的同时也增加了阅读理解的成本。所以，在一些复杂的语句不建议使用列表表达式。"
   ]
  },
  {
   "cell_type": "markdown",
   "id": "847028d6",
   "metadata": {},
   "source": [
    "##  使用set去重"
   ]
  },
  {
   "cell_type": "markdown",
   "id": "894ffae9",
   "metadata": {},
   "source": [
    "问题：对一个列表中的元素进行去重。\n",
    "\n",
    "当看到这个问题，获取有的同学会想到很多复杂的方法，遍历、字典....\n",
    "\n",
    "如果使用set一行代码就可以实现列表元素的去重。\n",
    "\n",
    "因为，set是一种无序的集合，所以，它会自动去除列表中的重复元素。"
   ]
  },
  {
   "cell_type": "code",
   "execution_count": 4,
   "id": "923f3255",
   "metadata": {},
   "outputs": [
    {
     "data": {
      "text/plain": [
       "{1, 2, 3, 4, 5, 6, 7}"
      ]
     },
     "execution_count": 4,
     "metadata": {},
     "output_type": "execute_result"
    }
   ],
   "source": [
    "my_list = [1,2,3,4,5,6,7,7,7]\n",
    "set(my_list)\n",
    "# set([1, 2, 3, 4, 5, 6, 7])"
   ]
  },
  {
   "cell_type": "markdown",
   "id": "d0331766",
   "metadata": {},
   "source": [
    "##  利用生成器节省内存"
   ]
  },
  {
   "cell_type": "markdown",
   "id": "1ffd8e03",
   "metadata": {},
   "source": [
    "问题：如果列表中有10000个元素，该如何节省内存？\n",
    "\n",
    "如果元素比较少，使用列表是一个比较好的选择。如果元素多到一定程度，那么列表就变得非常耗费内存。\n",
    "\n",
    "形象的解释生成器，就如同它的名称一样，它每次只生成一个元素，当你调用它的时候，它会逐步生成下一个元素。如果你不调用它的话，它就是一个非常节省内存的函数。\n",
    "\n",
    "下面来对比一下，"
   ]
  },
  {
   "cell_type": "code",
   "execution_count": 5,
   "id": "8eeecaf6",
   "metadata": {},
   "outputs": [
    {
     "name": "stdout",
     "output_type": "stream",
     "text": [
      "87624 bytes\n",
      "120 bytes\n"
     ]
    }
   ],
   "source": [
    "import sys\n",
    "\n",
    "my_list = [i for i in range(10000)]\n",
    "print(sys.getsizeof(my_list), 'bytes') # 87616 bytes\n",
    "\n",
    "my_gen = (i for i in range(10000))\n",
    "print(sys.getsizeof(my_gen), 'bytes') # 128 bytes"
   ]
  },
  {
   "cell_type": "markdown",
   "id": "309669e5",
   "metadata": {},
   "source": [
    "可以看出，同样是10000个元素，在内存占用方面，使用列表是使用生成器的684.5倍。"
   ]
  },
  {
   "cell_type": "markdown",
   "id": "7c485be5",
   "metadata": {},
   "source": [
    "## 使用.get()和.setdefault()访问字典"
   ]
  },
  {
   "cell_type": "markdown",
   "id": "b2ad8d11",
   "metadata": {},
   "source": [
    "问题：访问一个字典中的值。\n",
    "\n",
    "当我们通过key访问字典时，如果字典中没有这个K-V值，那么，它会报错、终止程序，并返回KeyError。\n",
    "\n",
    "所以更好的方法是在字典上使用.get()方法。这也会返回键的值，但是如果键不可用，它不会引发键错误。相反，它返回我们指定的默认值，如果我们没有指定它，则返回None。"
   ]
  },
  {
   "cell_type": "code",
   "execution_count": 6,
   "id": "9f9e41f4",
   "metadata": {},
   "outputs": [
    {
     "ename": "KeyError",
     "evalue": "'count'",
     "output_type": "error",
     "traceback": [
      "\u001b[1;31m---------------------------------------------------------------------------\u001b[0m",
      "\u001b[1;31mKeyError\u001b[0m                                  Traceback (most recent call last)",
      "\u001b[1;32m<ipython-input-6-2eb4ba99b64e>\u001b[0m in \u001b[0;36m<module>\u001b[1;34m\u001b[0m\n\u001b[0;32m      1\u001b[0m \u001b[0mmy_dict\u001b[0m \u001b[1;33m=\u001b[0m \u001b[1;33m{\u001b[0m\u001b[1;34m'item'\u001b[0m\u001b[1;33m:\u001b[0m \u001b[1;34m'football'\u001b[0m\u001b[1;33m,\u001b[0m \u001b[1;34m'price'\u001b[0m\u001b[1;33m:\u001b[0m \u001b[1;36m10.00\u001b[0m\u001b[1;33m}\u001b[0m\u001b[1;33m\u001b[0m\u001b[1;33m\u001b[0m\u001b[0m\n\u001b[1;32m----> 2\u001b[1;33m \u001b[0mprice\u001b[0m \u001b[1;33m=\u001b[0m \u001b[0mmy_dict\u001b[0m\u001b[1;33m[\u001b[0m\u001b[1;34m'count'\u001b[0m\u001b[1;33m]\u001b[0m \u001b[1;31m# KeyError!\u001b[0m\u001b[1;33m\u001b[0m\u001b[1;33m\u001b[0m\u001b[0m\n\u001b[0m\u001b[0;32m      3\u001b[0m \u001b[1;33m\u001b[0m\u001b[0m\n\u001b[0;32m      4\u001b[0m \u001b[1;31m# better:\u001b[0m\u001b[1;33m\u001b[0m\u001b[1;33m\u001b[0m\u001b[1;33m\u001b[0m\u001b[0m\n\u001b[0;32m      5\u001b[0m \u001b[0mprice\u001b[0m \u001b[1;33m=\u001b[0m \u001b[0mmy_dict\u001b[0m\u001b[1;33m.\u001b[0m\u001b[0mget\u001b[0m\u001b[1;33m(\u001b[0m\u001b[1;34m'count'\u001b[0m\u001b[1;33m,\u001b[0m \u001b[1;36m0\u001b[0m\u001b[1;33m)\u001b[0m \u001b[1;31m# optional default value\u001b[0m\u001b[1;33m\u001b[0m\u001b[1;33m\u001b[0m\u001b[0m\n",
      "\u001b[1;31mKeyError\u001b[0m: 'count'"
     ]
    }
   ],
   "source": [
    "my_dict = {'item': 'football', 'price': 10.00}\n",
    "price = my_dict['count'] # KeyError!\n",
    "\n",
    "# better:\n",
    "price = my_dict.get('count', 0) # optional default value"
   ]
  },
  {
   "cell_type": "markdown",
   "id": "fc0115ca",
   "metadata": {},
   "source": [
    "使用字典进行计数是一种常用的操作。\n",
    "\n",
    "在这个过程中，需要首先判断字典中是否存在key，然后赋给默认值，而使用.setdefault()可以直接给字典设定默认值。"
   ]
  },
  {
   "cell_type": "markdown",
   "id": "b3c2fe0d",
   "metadata": {},
   "source": [
    "##  使用collections.Counter计数"
   ]
  },
  {
   "cell_type": "markdown",
   "id": "d45bbfaf",
   "metadata": {},
   "source": [
    "问题：统计列表字段中的元素出现次数，筛选出现频率最高的元素。\n",
    "\n",
    "在项目开发过中，计数、统计频率，是经常会遇到的问题。\n",
    "\n",
    "而Python自带的标准模块collections.Counter提供了很多好用、强大的技术方法，只需要一行代码，就可以完成很多复杂逻辑才能完成的工作。\n",
    "\n",
    "例如，你要统计一个列表中出现频率最高的元素，可以这样实现："
   ]
  },
  {
   "cell_type": "code",
   "execution_count": 7,
   "id": "f450851b",
   "metadata": {},
   "outputs": [
    {
     "name": "stdout",
     "output_type": "stream",
     "text": [
      "[(9, 6), (10, 3)]\n",
      "(9, 6)\n",
      "9\n"
     ]
    }
   ],
   "source": [
    "from collections import Counter\n",
    "\n",
    "my_list = [10, 10, 10, 5, 5, 2, 9, 9, 9, 9, 9, 9]\n",
    "counter = Counter(my_list)\n",
    "\n",
    "most_common = counter.most_common(2)\n",
    "print(most_common) # [(9, 6), (10, 3)]\n",
    "print(most_common[0]) # (9, 6)\n",
    "print(most_common[0][0]) # 9"
   ]
  },
  {
   "cell_type": "markdown",
   "id": "19bd41ca",
   "metadata": {},
   "source": [
    "##  使用**合并字段"
   ]
  },
  {
   "cell_type": "markdown",
   "id": "f77620a7",
   "metadata": {},
   "source": [
    "问题：给你2个字典，把元素合并到同一个字段里\n",
    "\n",
    "你不需要经过2层遍历去读取字典中的元素，然后在把这些元素合并到同一个字典中，只需要简单的双星号**就可以实现这个需求。\n",
    "\n",
    "这种语法是自Python 3.5以来的新语法，在Python3.5之前无法使用。\n",
    "\n",
    "下面来看一下示例："
   ]
  },
  {
   "cell_type": "code",
   "execution_count": 8,
   "id": "928728af",
   "metadata": {},
   "outputs": [
    {
     "name": "stdout",
     "output_type": "stream",
     "text": [
      "{'name': 'Alex', 'age': 25, 'city': 'New York'}\n"
     ]
    }
   ],
   "source": [
    "d1 = {'name': 'Alex', 'age': 25}\n",
    "d2 = {'name': 'Alex', 'city': 'New York'}\n",
    "merged_dict = {**d1, **d2}\n",
    "print(merged_dict)\n",
    "# {'name': 'Alex', 'age': 25, 'city': 'New York'}"
   ]
  },
  {
   "cell_type": "markdown",
   "id": "5a912ea4",
   "metadata": {},
   "source": [
    "##  使用if x in list简化条件语句"
   ]
  },
  {
   "cell_type": "markdown",
   "id": "eafdb314",
   "metadata": {},
   "source": [
    "问题：判断是否等于列表中的某个元素的值。\n",
    "\n",
    "习惯于C/C++、Java等其他编程语言进行开发的同学，当遇到条件语句时，会选择==或者!=来进行判断。\n",
    "\n",
    "如果需要判断的条件较多的话，这样需要写很长的语句，例如，"
   ]
  },
  {
   "cell_type": "code",
   "execution_count": 9,
   "id": "f6f0c711",
   "metadata": {},
   "outputs": [
    {
     "name": "stdout",
     "output_type": "stream",
     "text": [
      "is main color\n"
     ]
    }
   ],
   "source": [
    "colors = [\"red\", \"green\", \"blue\"]\n",
    "\n",
    "c = \"red\"\n",
    "\n",
    "if c == \"red\"or c == \"green\"or c == \"blue\":\n",
    "    print(\"is main color\")"
   ]
  },
  {
   "cell_type": "markdown",
   "id": "dfa2efeb",
   "metadata": {},
   "source": [
    "而在Python中，对于条件语句进行了很大程度的简化，可以使用in来解决这个问题，只需要简短的一行代码就可以完成。"
   ]
  },
  {
   "cell_type": "code",
   "execution_count": 10,
   "id": "ac31e8a1",
   "metadata": {},
   "outputs": [
    {
     "name": "stdout",
     "output_type": "stream",
     "text": [
      "is main color\n"
     ]
    }
   ],
   "source": [
    "colors = [\"red\", \"green\", \"blue\"]\n",
    "\n",
    "c = \"red\"\n",
    "\n",
    "if c in colors:\n",
    "    print(\"is main color\")"
   ]
  },
  {
   "cell_type": "markdown",
   "id": "c8b314af",
   "metadata": {},
   "source": [
    "## 合并嵌套条件语句"
   ]
  },
  {
   "cell_type": "markdown",
   "id": "3e393a1a",
   "metadata": {},
   "source": [
    "太多的嵌套，会使得代码变得非常难以理解，在Python中尤其如此，因为Python中没有括号来帮助描述不同的嵌套级别。\n",
    "\n",
    "阅读深层嵌套的代码令人困惑，因为你必须跟踪哪些条件与哪些级别相关。\n",
    "\n",
    "因此，我们力求在可能的情况下减少嵌套，并减少两个 if 条件可以组合使用的情况。"
   ]
  },
  {
   "cell_type": "raw",
   "id": "eb84849c",
   "metadata": {},
   "source": [
    "# 重构前\n",
    "\n",
    "if a:\n",
    "    if b:\n",
    "        return c"
   ]
  },
  {
   "cell_type": "raw",
   "id": "4bc1f089",
   "metadata": {},
   "source": [
    "# 重构后\n",
    "\n",
    "if a and b:\n",
    "    return c\n"
   ]
  },
  {
   "cell_type": "markdown",
   "id": "ebb776bc",
   "metadata": {},
   "source": [
    "## 提升代码复用能力"
   ]
  },
  {
   "cell_type": "markdown",
   "id": "47ad50f9",
   "metadata": {},
   "source": [
    "删减重复代码，是提升代码质量、减少代码冗余的一个很好方法。\n",
    "\n",
    "有时候，我们在实现一些相近功能时，有很多代码是可以通过一些抽象进行复用的，通过这种方法，可以提升代码的简洁度。"
   ]
  },
  {
   "cell_type": "raw",
   "id": "36817b06",
   "metadata": {},
   "source": [
    "# 重构前\n",
    "if sold > DISCOUNT_AMOUNT:\n",
    "    total = sold * DISCOUNT_PRICE\n",
    "    label = f'Total: {total}'\n",
    "else:\n",
    "    total = sold * PRICE\n",
    "    label = f'Total: {total}'"
   ]
  },
  {
   "cell_type": "markdown",
   "id": "16f33bcf",
   "metadata": {},
   "source": [
    "在这段代码中，通过对变量label进行抽取，不仅能够删除重复代码，还能够使代码逻辑更加清晰。"
   ]
  },
  {
   "cell_type": "raw",
   "id": "a5c6989d",
   "metadata": {},
   "source": [
    "# 重构后\n",
    "\n",
    "if sold > DISCOUNT_AMOUNT:\n",
    "    total = sold * DISCOUNT_PRICE\n",
    "else:\n",
    "    total = sold * PRICE\n",
    "label = f'Total: {total}'"
   ]
  },
  {
   "cell_type": "markdown",
   "id": "04e3c56d",
   "metadata": {},
   "source": [
    "## 利用any()替代 for 循环"
   ]
  },
  {
   "cell_type": "markdown",
   "id": "fe956161",
   "metadata": {},
   "source": [
    "一个常见的问题，我们需要查找某个条件是否满足集合中一个或所有项目的条件。\n",
    "\n",
    "这时，很多同学都会想起 for 循环。"
   ]
  },
  {
   "cell_type": "raw",
   "id": "3cd47bec",
   "metadata": {},
   "source": [
    "found = False\n",
    "for thing in things:\n",
    "    if thing == other_thing:\n",
    "        found = True\n",
    "        break"
   ]
  },
  {
   "cell_type": "markdown",
   "id": "e7f178d5",
   "metadata": {},
   "source": [
    "其实，Python中有两个函数all()和any()，能够使这段代码变得更加清晰、简洁："
   ]
  },
  {
   "cell_type": "raw",
   "id": "6fec6469",
   "metadata": {},
   "source": [
    "found = any(thing == other_thing for thing in things)"
   ]
  },
  {
   "cell_type": "markdown",
   "id": "b1b7fcbb",
   "metadata": {},
   "source": [
    "这个应该很容易理解，如果至少有一个满足any()内部条件，它会返回True，反之返回False。"
   ]
  },
  {
   "cell_type": "markdown",
   "id": "54cd99b1",
   "metadata": {},
   "source": [
    "##  把重复代码块合并到条件中"
   ]
  },
  {
   "cell_type": "markdown",
   "id": "24f279ad",
   "metadata": {},
   "source": [
    "就像前面所说的那样，删除重复代码块，是提升代码常用的一种方法。\n",
    "\n",
    "其中，`if...elif` 就是一个非常值得关注的点。"
   ]
  },
  {
   "cell_type": "raw",
   "id": "1041452b",
   "metadata": {},
   "source": [
    "def process_payment(payment):\n",
    "    if payment.currency == 'USD':\n",
    "        process_standard_payment(payment)\n",
    "    elif payment.currency == 'EUR':\n",
    "        process_standard_payment(payment)\n",
    "    else:\n",
    "        process_international_payment(payment)"
   ]
  },
  {
   "cell_type": "markdown",
   "id": "3f266998",
   "metadata": {},
   "source": [
    "从这段代码中可以看出，有很多冗余的代码可以优化，我们可以通过 `or` 把多余的语句合并起来："
   ]
  },
  {
   "cell_type": "raw",
   "id": "48ac09cf",
   "metadata": {},
   "source": [
    "def process_payment(payment):\n",
    "    if payment.currency == 'USD'or payment.currency == 'EUR':\n",
    "        process_standard_payment(payment)\n",
    "    else:\n",
    "        process_international_payment(payment)"
   ]
  },
  {
   "cell_type": "markdown",
   "id": "82c9177e",
   "metadata": {},
   "source": [
    "##  删除没必要的调用keys()"
   ]
  },
  {
   "cell_type": "markdown",
   "id": "b05bce19",
   "metadata": {},
   "source": [
    "字典是由一个个的键值对组成的，如果你遍历字典时只需要访问键，用不到值，有很多同学会用下面这种方式："
   ]
  },
  {
   "cell_type": "raw",
   "id": "558ea26d",
   "metadata": {},
   "source": [
    "for currency in currencies.keys():\n",
    "    process(currency)"
   ]
  },
  {
   "cell_type": "markdown",
   "id": "b6cf31e3",
   "metadata": {},
   "source": [
    "在这种情况下，不需要调用keys（），因为遍历字典时的默认行为是遍历键。"
   ]
  },
  {
   "cell_type": "raw",
   "id": "41e43122",
   "metadata": {},
   "source": [
    "for currency in currencies:\n",
    "    process(currency)"
   ]
  },
  {
   "cell_type": "markdown",
   "id": "26712f3e",
   "metadata": {},
   "source": [
    "现在，该代码更加简洁，易于阅读，并且避免调用函数会带来性能改进。"
   ]
  },
  {
   "cell_type": "markdown",
   "id": "f1d92178",
   "metadata": {},
   "source": [
    "## 简化序列比较"
   ]
  },
  {
   "cell_type": "markdown",
   "id": "ea6e607e",
   "metadata": {},
   "source": [
    "我们经常要做的是在尝试对列表或序列进行操作之前检查列表或序列是否包含元素。"
   ]
  },
  {
   "cell_type": "raw",
   "id": "1434af7f",
   "metadata": {},
   "source": [
    "if len(list_of_hats) > 0:\n",
    "    hat_to_wear = choose_hat(list_of_hats)"
   ]
  },
  {
   "cell_type": "markdown",
   "id": "a9963963",
   "metadata": {},
   "source": [
    "使用Python的方法则更加简单：如果Python列表和序列具有元素，则返回为True，否则为False："
   ]
  },
  {
   "cell_type": "markdown",
   "id": "a9e4b84b",
   "metadata": {},
   "source": [
    "## 仅使用一次的内联变量"
   ]
  },
  {
   "cell_type": "markdown",
   "id": "331d881c",
   "metadata": {},
   "source": [
    "我们在很多代码中经常看到，有些同学分配结果给变量，然后马上返回它，例如，"
   ]
  },
  {
   "cell_type": "raw",
   "id": "6369b6e5",
   "metadata": {},
   "source": [
    "def state_attributes(self):\n",
    "    \"\"\"Return the state attributes.\"\"\"\n",
    "    state_attr = {\n",
    "        ATTR_CODE_FORMAT: self.code_format,\n",
    "        ATTR_CHANGED_BY: self.changed_by,\n",
    "    }\n",
    "    return state_attr"
   ]
  },
  {
   "cell_type": "markdown",
   "id": "b06ca09c",
   "metadata": {},
   "source": [
    "如果直接返回，则更加直观、简洁，"
   ]
  },
  {
   "cell_type": "raw",
   "id": "e1953e93",
   "metadata": {},
   "source": [
    "def state_attributes(self):\n",
    "    \"\"\"Return the state attributes.\"\"\"\n",
    "    return {\n",
    "        ATTR_CODE_FORMAT: self.code_format,\n",
    "        ATTR_CHANGED_BY: self.changed_by,\n",
    "    }"
   ]
  },
  {
   "cell_type": "markdown",
   "id": "b329e4d5",
   "metadata": {},
   "source": [
    "这样可以缩短代码并删除不必要的变量，从而减轻了读取函数的负担。"
   ]
  },
  {
   "cell_type": "markdown",
   "id": "edeaafb1",
   "metadata": {},
   "source": [
    "## 将条件简化为return语句"
   ]
  },
  {
   "cell_type": "markdown",
   "id": "96768455",
   "metadata": {},
   "source": [
    "如果，我们实现的函数要返回一个布尔型的结果，通常会这样去做，"
   ]
  },
  {
   "cell_type": "raw",
   "id": "4e447b3e",
   "metadata": {},
   "source": [
    "def function():\n",
    "    if isinstance(a, b) or issubclass(b, a):\n",
    "        returnTrue\n",
    "    return False"
   ]
  },
  {
   "cell_type": "markdown",
   "id": "1191c721",
   "metadata": {},
   "source": [
    "但是，对比这样，直接返回结果会更加明智："
   ]
  },
  {
   "cell_type": "raw",
   "id": "da9e6b7d",
   "metadata": {},
   "source": [
    "def function():\n",
    "    return isinstance(a, b) or issubclass(b, a)"
   ]
  },
  {
   "cell_type": "markdown",
   "id": "f0401951",
   "metadata": {},
   "source": [
    "前面介绍的Python小技巧，虽然看上去非常简单，甚至在一些Python开发者眼里看着如同小儿科一般。但是，对于刚从书籍或者教程中走出来的同学，难免会陷入书本相对狭窄的范围内。\n",
    "\n",
    "这时候，就需要多看、多学习。看别人的代码、让别人看自己的代码，在这个过程中学习一些自己不曾知道的小技巧，这对提升自己的编码能力非常有价值。而且，这不仅适用于Python，适合于任何一门其他编程语言。"
   ]
  },
  {
   "cell_type": "markdown",
   "id": "43d2632d",
   "metadata": {},
   "source": [
    "# 本周结语"
   ]
  },
  {
   "cell_type": "markdown",
   "id": "d9f9f1f5",
   "metadata": {},
   "source": [
    "编码是一件快乐的事情，特别当看到一些貌似不太可行的事情，通过编程的方式变为可行时，会感到一种发自内心深处的快乐。并且当一群人通过群策之力，完成一件艰巨的任务时，创造出一些令人惊诧的事情时，那是一种不可言喻的喜悦。\n",
    "\n",
    "而编写出如艺术般的代码需要付出很多，也需要经过时间的锤炼，但当它出现在大家眼前时，是需要一种心境的追求才可以企及，任何人都可以往这个方向追求，它没有任何标准，没有任何约束，有的只是你的不断创造，在计算机编程这块沃土上，还有一个超大的空间等待更多的人去开拓。"
   ]
  },
  {
   "cell_type": "markdown",
   "id": "bf8307ad",
   "metadata": {},
   "source": [
    "# 参考资料"
   ]
  },
  {
   "cell_type": "markdown",
   "id": "24c41611",
   "metadata": {},
   "source": [
    "1. David Beazley & Brian K. Jones. Python Cookbook, Third edition. O'Reilly Media, ISBN: 9781449340377, 2013.\n",
    "2. 张颖 & 赖勇浩. 编写高质量代码：改善Python程序的91个建议. 机械工业出版社, ISBN: 9787111467045, 2014.\n",
    "3. 刘宇宙等，《Python进阶编程：编写更高效 优雅的Python代码》,北京华章图文信息有限公司,2020"
   ]
  }
 ],
 "metadata": {
  "kernelspec": {
   "display_name": "Python 3",
   "language": "python",
   "name": "python3"
  },
  "language_info": {
   "codemirror_mode": {
    "name": "ipython",
    "version": 3
   },
   "file_extension": ".py",
   "mimetype": "text/x-python",
   "name": "python",
   "nbconvert_exporter": "python",
   "pygments_lexer": "ipython3",
   "version": "3.6.13"
  },
  "toc": {
   "base_numbering": 1,
   "nav_menu": {},
   "number_sections": true,
   "sideBar": true,
   "skip_h1_title": false,
   "title_cell": "3 总结：Python优化提速",
   "title_sidebar": "Contents",
   "toc_cell": true,
   "toc_position": {
    "height": "calc(100% - 180px)",
    "left": "10px",
    "top": "150px",
    "width": "273.057px"
   },
   "toc_section_display": true,
   "toc_window_display": true
  }
 },
 "nbformat": 4,
 "nbformat_minor": 5
}
