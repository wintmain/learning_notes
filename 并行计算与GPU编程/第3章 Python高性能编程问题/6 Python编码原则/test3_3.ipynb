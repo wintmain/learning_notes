{
 "cells": [
  {
   "cell_type": "code",
   "execution_count": 1,
   "id": "0798d2f9",
   "metadata": {
    "ExecuteTime": {
     "end_time": "2021-06-11T00:28:04.863925Z",
     "start_time": "2021-06-11T00:27:00.235526Z"
    }
   },
   "outputs": [
    {
     "name": "stdout",
     "output_type": "stream",
     "text": [
      "It took 64.61369633674622 seconds to calculate demo_time.\n"
     ]
    }
   ],
   "source": [
    "# 推荐写法。\n",
    "import math\n",
    "from time import time\n",
    "\n",
    "def main():  # 定义到函数中，以减少全部变量使用\n",
    "    size = 10000\n",
    "    for x in range(size):\n",
    "        for y in range(size):\n",
    "            z = math.sqrt(x) + math.sqrt(y)\n",
    "t1 = time()\n",
    "\n",
    "main()\n",
    "\n",
    "t2 = time()\n",
    "demo_time = t2 - t1\n",
    "print('It took {} seconds to calculate demo_time.'.format(demo_time)) "
   ]
  },
  {
   "cell_type": "code",
   "execution_count": 2,
   "id": "de139aec",
   "metadata": {
    "ExecuteTime": {
     "end_time": "2021-06-11T00:29:42.623669Z",
     "start_time": "2021-06-11T00:29:04.756024Z"
    }
   },
   "outputs": [
    {
     "name": "stdout",
     "output_type": "stream",
     "text": [
      "It took 37.84953427314758 seconds to calculate demo_time.\n"
     ]
    }
   ],
   "source": [
    "# 第二次优化写法。\n",
    "import math\n",
    "from time import time\n",
    "\n",
    "def computeSqrt(size: int):\n",
    "    result = []\n",
    "    sqrt = math.sqrt  # 赋值给局部变量\n",
    "    for i in range(size):\n",
    "        result.append(sqrt(i))  # 避免math.sqrt的使用\n",
    "    return result\n",
    "\n",
    "def main():\n",
    "    size = 10000\n",
    "    for _ in range(size):\n",
    "        result = computeSqrt(size)\n",
    "\n",
    "t1 = time()\n",
    "main()\n",
    "t2 = time()\n",
    "demo_time = t2 - t1\n",
    "print('It took {} seconds to calculate demo_time.'.format(demo_time)) "
   ]
  },
  {
   "cell_type": "code",
   "execution_count": 4,
   "id": "a3693680",
   "metadata": {
    "ExecuteTime": {
     "end_time": "2021-06-11T00:33:01.940741Z",
     "start_time": "2021-06-11T00:33:01.911430Z"
    }
   },
   "outputs": [
    {
     "name": "stdout",
     "output_type": "stream",
     "text": [
      "0 0 0 0 0 "
     ]
    }
   ],
   "source": [
    "a = 0\n",
    "b = 1\n",
    "for _ in range(5):\n",
    "    # '_'是循环的标志位\n",
    "    print(a, end=' ')"
   ]
  },
  {
   "cell_type": "code",
   "execution_count": 5,
   "id": "06b14814",
   "metadata": {
    "ExecuteTime": {
     "end_time": "2021-06-11T00:41:00.423065Z",
     "start_time": "2021-06-11T00:40:30.851711Z"
    }
   },
   "outputs": [
    {
     "name": "stdout",
     "output_type": "stream",
     "text": [
      "0 0 0\n",
      "0 0 1\n",
      "1 5 3\n",
      "3 7 0\n",
      "3 7 1\n",
      "4 0 7\n",
      "10 0 0\n",
      "10 0 1\n",
      "It took 29.5592999458313 seconds to calculate demo_time.\n"
     ]
    }
   ],
   "source": [
    "from time import time\n",
    "\n",
    "t1 = time()\n",
    "\n",
    "from itertools import product\n",
    "lst_num = range(0,200)\n",
    "for a,b,c in product(lst_num,lst_num,lst_num):\n",
    "    if a**3 +b**3 +c**3 == a*100+b*10+c:\n",
    "                print(a,b,c)\n",
    "t2 = time()\n",
    "demo_time = t2 - t1\n",
    "print('It took {} seconds to calculate demo_time.'.format(demo_time)) "
   ]
  },
  {
   "cell_type": "code",
   "execution_count": 6,
   "id": "676a899f",
   "metadata": {
    "ExecuteTime": {
     "end_time": "2021-06-11T00:44:02.514731Z",
     "start_time": "2021-06-11T00:44:02.497599Z"
    }
   },
   "outputs": [
    {
     "name": "stdout",
     "output_type": "stream",
     "text": [
      "1\n",
      "2\n",
      "3\n",
      "4\n",
      "5\n",
      "6\n",
      "7\n",
      "8\n",
      "9\n",
      "10\n"
     ]
    }
   ],
   "source": [
    "import itertools as it\n",
    "\n",
    "num = it.count(1)\n",
    "for n in num:\n",
    "    print(n)\n",
    "    if n==10:break"
   ]
  },
  {
   "cell_type": "code",
   "execution_count": 7,
   "id": "1463e00b",
   "metadata": {
    "ExecuteTime": {
     "end_time": "2021-06-11T00:44:16.677054Z",
     "start_time": "2021-06-11T00:44:16.659570Z"
    }
   },
   "outputs": [
    {
     "name": "stdout",
     "output_type": "stream",
     "text": [
      "A ['A', 'A', 'A']\n",
      "a ['a']\n",
      "B ['B', 'B', 'B']\n",
      "c ['c', 'c']\n",
      "A ['A', 'A', 'A']\n",
      "唧 ['唧', '唧']\n",
      "复 ['复']\n",
      "唧 ['唧', '唧']\n"
     ]
    }
   ],
   "source": [
    "samestr = \"AAaBBBccAAA唧唧复唧唧\"\n",
    "tmp = [samestr[0],]\n",
    "for s in samestr:\n",
    "    if s in tmp:\n",
    "        tmp.append(s)\n",
    "    else:\n",
    "        print(tmp[0],tmp)\n",
    "        tmp = [s,]\n",
    "print(tmp[0],tmp)"
   ]
  },
  {
   "cell_type": "code",
   "execution_count": 8,
   "id": "ada06743",
   "metadata": {
    "ExecuteTime": {
     "end_time": "2021-06-11T00:44:29.721334Z",
     "start_time": "2021-06-11T00:44:29.700406Z"
    }
   },
   "outputs": [
    {
     "name": "stdout",
     "output_type": "stream",
     "text": [
      "A ['A', 'A']\n",
      "a ['a']\n",
      "B ['B', 'B', 'B']\n",
      "c ['c', 'c']\n",
      "A ['A', 'A', 'A']\n",
      "唧 ['唧', '唧']\n",
      "复 ['复']\n",
      "唧 ['唧', '唧']\n"
     ]
    }
   ],
   "source": [
    "for key,group in it.groupby(samestr):\n",
    "    print(key,list(group))"
   ]
  },
  {
   "cell_type": "code",
   "execution_count": 9,
   "id": "dc7f5229",
   "metadata": {
    "ExecuteTime": {
     "end_time": "2021-06-11T00:45:55.055952Z",
     "start_time": "2021-06-11T00:45:41.526069Z"
    }
   },
   "outputs": [
    {
     "name": "stdout",
     "output_type": "stream",
     "text": [
      "It took 13.517883539199829 seconds to calculate demo_time.\n"
     ]
    }
   ],
   "source": [
    "# 推荐写法。\n",
    "from time import time\n",
    "\n",
    "def computeSum(size: int) -> int:\n",
    "    sum_ = 0\n",
    "    for i in range(size):  # for 循环代替 while 循环\n",
    "        sum_ += i\n",
    "    return sum_\n",
    "\n",
    "def main():\n",
    "    size = 10000\n",
    "    for _ in range(size):\n",
    "        sum_ = computeSum(size)\n",
    "\n",
    "t1 = time()\n",
    "main()\n",
    "t2 = time()\n",
    "demo_time = t2 - t1\n",
    "print('It took {} seconds to calculate demo_time.'.format(demo_time)) "
   ]
  },
  {
   "cell_type": "code",
   "execution_count": 10,
   "id": "71f6c7e5",
   "metadata": {
    "ExecuteTime": {
     "end_time": "2021-06-11T00:46:57.384564Z",
     "start_time": "2021-06-11T00:46:51.734838Z"
    }
   },
   "outputs": [
    {
     "name": "stdout",
     "output_type": "stream",
     "text": [
      "It took 5.638540029525757 seconds to calculate demo_time.\n"
     ]
    }
   ],
   "source": [
    "# 推荐写法\n",
    "from time import time\n",
    "\n",
    "def computeSum(size: int) -> int:\n",
    "    return sum(range(size))  # 隐式 for 循环代替显式 for 循环\n",
    "\n",
    "def main():\n",
    "    size = 10000\n",
    "    for _ in range(size):\n",
    "        sum = computeSum(size)\n",
    "\n",
    "t1 = time()\n",
    "main()\n",
    "t2 = time()\n",
    "demo_time = t2 - t1\n",
    "print('It took {} seconds to calculate demo_time.'.format(demo_time)) "
   ]
  },
  {
   "cell_type": "code",
   "execution_count": 11,
   "id": "14960027",
   "metadata": {
    "ExecuteTime": {
     "end_time": "2021-06-11T00:48:42.045289Z",
     "start_time": "2021-06-11T00:48:22.905187Z"
    }
   },
   "outputs": [
    {
     "name": "stdout",
     "output_type": "stream",
     "text": [
      "It took 19.129863262176514 seconds to calculate demo_time.\n"
     ]
    }
   ],
   "source": [
    "# 推荐写法\n",
    "import math\n",
    "from time import time\n",
    "\n",
    "def main():\n",
    "    size = 10000\n",
    "    sqrt = math.sqrt\n",
    "    for x in range(size):\n",
    "        sqrt_x = sqrt(x)  # 减少内层 for 循环的计算\n",
    "        for y in range(size):\n",
    "            z = sqrt_x + sqrt(y)\n",
    "\n",
    "t1 = time()\n",
    "main()\n",
    "t2 = time()\n",
    "demo_time = t2 - t1\n",
    "print('It took {} seconds to calculate demo_time.'.format(demo_time)) "
   ]
  },
  {
   "cell_type": "code",
   "execution_count": null,
   "id": "798899c0",
   "metadata": {},
   "outputs": [],
   "source": []
  }
 ],
 "metadata": {
  "kernelspec": {
   "display_name": "py36_gpu",
   "language": "python",
   "name": "py36_gpu"
  },
  "language_info": {
   "codemirror_mode": {
    "name": "ipython",
    "version": 3
   },
   "file_extension": ".py",
   "mimetype": "text/x-python",
   "name": "python",
   "nbconvert_exporter": "python",
   "pygments_lexer": "ipython3",
   "version": "3.6.13"
  },
  "toc": {
   "base_numbering": 1,
   "nav_menu": {},
   "number_sections": true,
   "sideBar": true,
   "skip_h1_title": false,
   "title_cell": "Table of Contents",
   "title_sidebar": "Contents",
   "toc_cell": false,
   "toc_position": {},
   "toc_section_display": true,
   "toc_window_display": false
  }
 },
 "nbformat": 4,
 "nbformat_minor": 5
}
