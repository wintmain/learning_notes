{
 "cells": [
  {
   "cell_type": "markdown",
   "id": "4a63144d",
   "metadata": {
    "toc": true
   },
   "source": [
    "<h1>练习3：Scipy 与统计分析基础<span class=\"tocSkip\"></span></h1>\n",
    "<div class=\"toc\"><ul class=\"toc-item\"><li><span><a href=\"#模块\" data-toc-modified-id=\"模块-1\"><span class=\"toc-item-num\">1&nbsp;&nbsp;</span>模块</a></span></li><li><span><a href=\"#数据准备\" data-toc-modified-id=\"数据准备-2\"><span class=\"toc-item-num\">2&nbsp;&nbsp;</span>数据准备</a></span><ul class=\"toc-item\"><li><span><a href=\"#股市数据获取的几个模块\" data-toc-modified-id=\"股市数据获取的几个模块-2.1\"><span class=\"toc-item-num\">2.1&nbsp;&nbsp;</span>股市数据获取的几个模块</a></span><ul class=\"toc-item\"><li><span><a href=\"#Tushare\" data-toc-modified-id=\"Tushare-2.1.1\"><span class=\"toc-item-num\">2.1.1&nbsp;&nbsp;</span>Tushare</a></span></li><li><span><a href=\"#Baostock\" data-toc-modified-id=\"Baostock-2.1.2\"><span class=\"toc-item-num\">2.1.2&nbsp;&nbsp;</span>Baostock</a></span></li><li><span><a href=\"#Yfinance\" data-toc-modified-id=\"Yfinance-2.1.3\"><span class=\"toc-item-num\">2.1.3&nbsp;&nbsp;</span>Yfinance</a></span></li></ul></li><li><span><a href=\"#pandas\" data-toc-modified-id=\"pandas-2.2\"><span class=\"toc-item-num\">2.2&nbsp;&nbsp;</span>pandas</a></span><ul class=\"toc-item\"><li><span><a href=\"#获取中国平安股票数据\" data-toc-modified-id=\"获取中国平安股票数据-2.2.1\"><span class=\"toc-item-num\">2.2.1&nbsp;&nbsp;</span>获取中国平安股票数据</a></span></li><li><span><a href=\"#获取腾讯股票数据\" data-toc-modified-id=\"获取腾讯股票数据-2.2.2\"><span class=\"toc-item-num\">2.2.2&nbsp;&nbsp;</span>获取腾讯股票数据</a></span></li></ul></li><li><span><a href=\"#NumPy\" data-toc-modified-id=\"NumPy-2.3\"><span class=\"toc-item-num\">2.3&nbsp;&nbsp;</span>NumPy</a></span></li><li><span><a href=\"#Matrix\" data-toc-modified-id=\"Matrix-2.4\"><span class=\"toc-item-num\">2.4&nbsp;&nbsp;</span>Matrix</a></span></li></ul></li><li><span><a href=\"#特征创造\" data-toc-modified-id=\"特征创造-3\"><span class=\"toc-item-num\">3&nbsp;&nbsp;</span>特征创造</a></span></li><li><span><a href=\"#统计分析\" data-toc-modified-id=\"统计分析-4\"><span class=\"toc-item-num\">4&nbsp;&nbsp;</span>统计分析</a></span><ul class=\"toc-item\"><li><span><a href=\"#Mean-均值\" data-toc-modified-id=\"Mean-均值-4.1\"><span class=\"toc-item-num\">4.1&nbsp;&nbsp;</span>Mean 均值</a></span></li><li><span><a href=\"#Median-中位数\" data-toc-modified-id=\"Median-中位数-4.2\"><span class=\"toc-item-num\">4.2&nbsp;&nbsp;</span>Median 中位数</a></span></li><li><span><a href=\"#Mode-众数\" data-toc-modified-id=\"Mode-众数-4.3\"><span class=\"toc-item-num\">4.3&nbsp;&nbsp;</span>Mode 众数</a></span></li><li><span><a href=\"#Range-全距\" data-toc-modified-id=\"Range-全距-4.4\"><span class=\"toc-item-num\">4.4&nbsp;&nbsp;</span>Range 全距</a></span></li><li><span><a href=\"#Variance-方差\" data-toc-modified-id=\"Variance-方差-4.5\"><span class=\"toc-item-num\">4.5&nbsp;&nbsp;</span>Variance 方差</a></span></li><li><span><a href=\"#Standard-标准差\" data-toc-modified-id=\"Standard-标准差-4.6\"><span class=\"toc-item-num\">4.6&nbsp;&nbsp;</span>Standard 标准差</a></span></li><li><span><a href=\"#Standard-error-标准误差\" data-toc-modified-id=\"Standard-error-标准误差-4.7\"><span class=\"toc-item-num\">4.7&nbsp;&nbsp;</span>Standard error 标准误差</a></span></li><li><span><a href=\"#Z-Scores\" data-toc-modified-id=\"Z-Scores-4.8\"><span class=\"toc-item-num\">4.8&nbsp;&nbsp;</span>Z-Scores</a></span></li><li><span><a href=\"#Contingency-Table-列联表\" data-toc-modified-id=\"Contingency-Table-列联表-4.9\"><span class=\"toc-item-num\">4.9&nbsp;&nbsp;</span>Contingency Table 列联表</a></span></li><li><span><a href=\"#Scatter-plot-散点图\" data-toc-modified-id=\"Scatter-plot-散点图-4.10\"><span class=\"toc-item-num\">4.10&nbsp;&nbsp;</span>Scatter plot 散点图</a></span></li><li><span><a href=\"#Regression-回归\" data-toc-modified-id=\"Regression-回归-4.11\"><span class=\"toc-item-num\">4.11&nbsp;&nbsp;</span>Regression 回归</a></span></li></ul></li><li><span><a href=\"#初等概率论预测结果\" data-toc-modified-id=\"初等概率论预测结果-5\"><span class=\"toc-item-num\">5&nbsp;&nbsp;</span>初等概率论预测结果</a></span><ul class=\"toc-item\"><li><span><a href=\"#蒙特卡罗方法\" data-toc-modified-id=\"蒙特卡罗方法-5.1\"><span class=\"toc-item-num\">5.1&nbsp;&nbsp;</span>蒙特卡罗方法</a></span></li></ul></li><li><span><a href=\"#随机变量和概率分布\" data-toc-modified-id=\"随机变量和概率分布-6\"><span class=\"toc-item-num\">6&nbsp;&nbsp;</span>随机变量和概率分布</a></span><ul class=\"toc-item\"><li><span><a href=\"#累积分布\" data-toc-modified-id=\"累积分布-6.1\"><span class=\"toc-item-num\">6.1&nbsp;&nbsp;</span>累积分布</a></span></li><li><span><a href=\"#概率密度函数\" data-toc-modified-id=\"概率密度函数-6.2\"><span class=\"toc-item-num\">6.2&nbsp;&nbsp;</span>概率密度函数</a></span></li><li><span><a href=\"#累积概率分布\" data-toc-modified-id=\"累积概率分布-6.3\"><span class=\"toc-item-num\">6.3&nbsp;&nbsp;</span>累积概率分布</a></span></li><li><span><a href=\"#均匀分布\" data-toc-modified-id=\"均匀分布-6.4\"><span class=\"toc-item-num\">6.4&nbsp;&nbsp;</span>均匀分布</a></span></li><li><span><a href=\"#二项分布\" data-toc-modified-id=\"二项分布-6.5\"><span class=\"toc-item-num\">6.5&nbsp;&nbsp;</span>二项分布</a></span></li><li><span><a href=\"#概率质量函数\" data-toc-modified-id=\"概率质量函数-6.6\"><span class=\"toc-item-num\">6.6&nbsp;&nbsp;</span>概率质量函数</a></span></li><li><span><a href=\"#函数模拟二项随机变量\" data-toc-modified-id=\"函数模拟二项随机变量-6.7\"><span class=\"toc-item-num\">6.7&nbsp;&nbsp;</span>函数模拟二项随机变量</a></span></li><li><span><a href=\"#泊松分布\" data-toc-modified-id=\"泊松分布-6.8\"><span class=\"toc-item-num\">6.8&nbsp;&nbsp;</span>泊松分布</a></span></li><li><span><a href=\"#概率质量函数\" data-toc-modified-id=\"概率质量函数-6.9\"><span class=\"toc-item-num\">6.9&nbsp;&nbsp;</span>概率质量函数</a></span></li><li><span><a href=\"#模拟泊松随机变量\" data-toc-modified-id=\"模拟泊松随机变量-6.10\"><span class=\"toc-item-num\">6.10&nbsp;&nbsp;</span>模拟泊松随机变量</a></span></li><li><span><a href=\"#贝塔分布\" data-toc-modified-id=\"贝塔分布-6.11\"><span class=\"toc-item-num\">6.11&nbsp;&nbsp;</span>贝塔分布</a></span></li><li><span><a href=\"#概率密度函数\" data-toc-modified-id=\"概率密度函数-6.12\"><span class=\"toc-item-num\">6.12&nbsp;&nbsp;</span>概率密度函数</a></span></li><li><span><a href=\"#指数分布\" data-toc-modified-id=\"指数分布-6.13\"><span class=\"toc-item-num\">6.13&nbsp;&nbsp;</span>指数分布</a></span></li><li><span><a href=\"#对数正态分布\" data-toc-modified-id=\"对数正态分布-6.14\"><span class=\"toc-item-num\">6.14&nbsp;&nbsp;</span>对数正态分布</a></span></li><li><span><a href=\"#计算分位数\" data-toc-modified-id=\"计算分位数-6.15\"><span class=\"toc-item-num\">6.15&nbsp;&nbsp;</span>计算分位数</a></span></li></ul></li><li><span><a href=\"#统计假设检验\" data-toc-modified-id=\"统计假设检验-7\"><span class=\"toc-item-num\">7&nbsp;&nbsp;</span>统计假设检验</a></span><ul class=\"toc-item\"><li><span><a href=\"#假设(hypothesis)\" data-toc-modified-id=\"假设(hypothesis)-7.1\"><span class=\"toc-item-num\">7.1&nbsp;&nbsp;</span>假设(hypothesis)</a></span></li><li><span><a href=\"#假设检验(hypothesis-testing)\" data-toc-modified-id=\"假设检验(hypothesis-testing)-7.2\"><span class=\"toc-item-num\">7.2&nbsp;&nbsp;</span>假设检验(hypothesis testing)</a></span></li><li><span><a href=\"#假设检验的过程\" data-toc-modified-id=\"假设检验的过程-7.3\"><span class=\"toc-item-num\">7.3&nbsp;&nbsp;</span>假设检验的过程</a></span></li><li><span><a href=\"#规定显著性水平\" data-toc-modified-id=\"规定显著性水平-7.4\"><span class=\"toc-item-num\">7.4&nbsp;&nbsp;</span>规定显著性水平</a></span></li><li><span><a href=\"#计算统计量的值\" data-toc-modified-id=\"计算统计量的值-7.5\"><span class=\"toc-item-num\">7.5&nbsp;&nbsp;</span>计算统计量的值</a></span></li><li><span><a href=\"#作出统计决策\" data-toc-modified-id=\"作出统计决策-7.6\"><span class=\"toc-item-num\">7.6&nbsp;&nbsp;</span>作出统计决策</a></span></li><li><span><a href=\"#单侧检验\" data-toc-modified-id=\"单侧检验-7.7\"><span class=\"toc-item-num\">7.7&nbsp;&nbsp;</span>单侧检验</a></span></li><li><span><a href=\"#p值检验\" data-toc-modified-id=\"p值检验-7.8\"><span class=\"toc-item-num\">7.8&nbsp;&nbsp;</span>p值检验</a></span></li></ul></li><li><span><a href=\"#scipy.stats中的假设检验\" data-toc-modified-id=\"scipy.stats中的假设检验-8\"><span class=\"toc-item-num\">8&nbsp;&nbsp;</span>scipy.stats中的假设检验</a></span><ul class=\"toc-item\"><li><span><a href=\"#Shapiro-Wilk-检验\" data-toc-modified-id=\"Shapiro-Wilk-检验-8.1\"><span class=\"toc-item-num\">8.1&nbsp;&nbsp;</span>Shapiro-Wilk 检验</a></span></li><li><span><a href=\"#安德森-达令检验\" data-toc-modified-id=\"安德森-达令检验-8.2\"><span class=\"toc-item-num\">8.2&nbsp;&nbsp;</span>安德森-达令检验</a></span></li><li><span><a href=\"#F-检验\" data-toc-modified-id=\"F-检验-8.3\"><span class=\"toc-item-num\">8.3&nbsp;&nbsp;</span>F-检验</a></span></li><li><span><a href=\"#皮尔逊相关系数\" data-toc-modified-id=\"皮尔逊相关系数-8.4\"><span class=\"toc-item-num\">8.4&nbsp;&nbsp;</span>皮尔逊相关系数</a></span></li><li><span><a href=\"#斯皮尔曼等级相关\" data-toc-modified-id=\"斯皮尔曼等级相关-8.5\"><span class=\"toc-item-num\">8.5&nbsp;&nbsp;</span>斯皮尔曼等级相关</a></span></li><li><span><a href=\"#肯德尔等级相关\" data-toc-modified-id=\"肯德尔等级相关-8.6\"><span class=\"toc-item-num\">8.6&nbsp;&nbsp;</span>肯德尔等级相关</a></span></li><li><span><a href=\"#卡方检验\" data-toc-modified-id=\"卡方检验-8.7\"><span class=\"toc-item-num\">8.7&nbsp;&nbsp;</span>卡方检验</a></span></li><li><span><a href=\"#统计量决策\" data-toc-modified-id=\"统计量决策-8.8\"><span class=\"toc-item-num\">8.8&nbsp;&nbsp;</span>统计量决策</a></span></li><li><span><a href=\"#p值决策\" data-toc-modified-id=\"p值决策-8.9\"><span class=\"toc-item-num\">8.9&nbsp;&nbsp;</span>p值决策</a></span></li></ul></li><li><span><a href=\"#scipy.stats中其他假设检验\" data-toc-modified-id=\"scipy.stats中其他假设检验-9\"><span class=\"toc-item-num\">9&nbsp;&nbsp;</span>scipy.stats中其他假设检验</a></span><ul class=\"toc-item\"><li><span><a href=\"#Box-Cox-Power-Transformation\" data-toc-modified-id=\"Box-Cox-Power-Transformation-9.1\"><span class=\"toc-item-num\">9.1&nbsp;&nbsp;</span>Box-Cox Power Transformation</a></span></li><li><span><a href=\"#折线图\" data-toc-modified-id=\"折线图-9.2\"><span class=\"toc-item-num\">9.2&nbsp;&nbsp;</span>折线图</a></span></li><li><span><a href=\"#直方图\" data-toc-modified-id=\"直方图-9.3\"><span class=\"toc-item-num\">9.3&nbsp;&nbsp;</span>直方图</a></span></li></ul></li><li><span><a href=\"#参考资料\" data-toc-modified-id=\"参考资料-10\"><span class=\"toc-item-num\">10&nbsp;&nbsp;</span>参考资料</a></span></li></ul></div>"
   ]
  },
  {
   "cell_type": "markdown",
   "id": "385b11a1",
   "metadata": {},
   "source": [
    "本文将探索Scipy包的一些与统计相关的实用性知识。意图是探索统计分析的一些基本方法及对应的Python实现方法。本文理论与实践相结合，将枯燥的统计学知识通过实用的股市数据生动地表达出来，方便大家一看就懂，拿来即用！"
   ]
  },
  {
   "attachments": {
    "image.png": {
     "image/png": "[encoded data removed]"
    }
   },
   "cell_type": "markdown",
   "id": "0fac38e0",
   "metadata": {},
   "source": [
    "![image.png](attachment:image.png)"
   ]
  },
  {
   "cell_type": "markdown",
   "id": "a2718ac3",
   "metadata": {},
   "source": [
    "统计学是一门收集、处理、分析、解释数据并从中得出结论的科学，其核心是数据。\n",
    "\n",
    "数据分析的四个步骤，收集数据→处理数据→分析数据→解释数据。\n",
    "\n",
    "统计学分析数据的方法有两类：\n",
    "\n",
    "- 描述性分析方法 总体规模、对比关系、集中趋势、离散程度、偏态、峰态、......\n",
    "- 推断性分析方法 估计、假设检验、列联分析、方差分析、相关分析、回归分析、......"
   ]
  },
  {
   "cell_type": "markdown",
   "id": "82fa5662",
   "metadata": {},
   "source": [
    "# 模块"
   ]
  },
  {
   "cell_type": "markdown",
   "id": "32d775dd",
   "metadata": {},
   "source": [
    "本文主要基于SciPy实现统计分布及检验，SciPy是基于NumPy的，提供了更多的科学计算功能，比如线性代数、优化、积分、插值、信号处理等。\n",
    "\n",
    "Scipy包含的功能有最优化、线性代数、积分、插值、拟合、特殊函数、快速傅里叶变换、信号处理和图像处理、常微分方程求解和其他科学与工程中常用的计算，而这些功能都是我们在之后进行数据分析需要的。"
   ]
  },
  {
   "cell_type": "code",
   "execution_count": 1,
   "id": "2da832a7",
   "metadata": {
    "ExecuteTime": {
     "end_time": "2021-05-21T15:10:32.998106Z",
     "start_time": "2021-05-21T15:10:26.322690Z"
    }
   },
   "outputs": [],
   "source": [
    "import seaborn as sns  \n",
    "from scipy import stats  \n",
    "from scipy.stats import norm  \n",
    "import math"
   ]
  },
  {
   "cell_type": "markdown",
   "id": "f68d19f7",
   "metadata": {
    "ExecuteTime": {
     "end_time": "2021-05-21T15:10:34.846341Z",
     "start_time": "2021-05-21T15:10:34.815141Z"
    }
   },
   "source": [
    "# 数据准备"
   ]
  },
  {
   "cell_type": "markdown",
   "id": "c1de4311",
   "metadata": {},
   "source": [
    "数据准备是一项必须具备的技术，是一个迭代且灵活的过程，可以用于查找、组合、清理、转换和共享数据集，包括用于分析/商业智能（BI）、数据科学/机器学习（ML）和自主数据集成中。具体来说，数据准备是在处理和分析之前对原始数据进行清洗和转换的过程，通常包括重新格式化数据、更正数据和组合数据集来丰富数据等。"
   ]
  },
  {
   "cell_type": "markdown",
   "id": "84a5b9e9",
   "metadata": {},
   "source": [
    "本次数据分析实战系列运用股市金融数据，并对其进行一些列分析处理。处理金融数据是量化分析的基础，当然方法都是通用的，换做其他数据也同样适用。本文先回顾数据分析常用模块Pandas和NumPy，回顾DataFrame、array、matrix 基本操作。"
   ]
  },
  {
   "cell_type": "markdown",
   "id": "4a25ea1a",
   "metadata": {},
   "source": [
    "## 股市数据获取的几个模块"
   ]
  },
  {
   "cell_type": "markdown",
   "id": "93c3d124",
   "metadata": {},
   "source": [
    "### Tushare"
   ]
  },
  {
   "cell_type": "markdown",
   "id": "12cf31ed",
   "metadata": {},
   "source": [
    "Tushare是一个免费、开源的python财经数据接口包。主要实现对股票等金融数据从数据采集、清洗加工到数据存储的过程，能够为金融分析人员提供快速、整洁、和多样的便于分析的数据，为他们在数据获取方面极大地减轻工作量，使他们更加专注于策略和模型的研究与实现上。\n",
    "\n",
    "首先使用pip安装第三方依赖库 tushare 下载股市数据。（国内）"
   ]
  },
  {
   "cell_type": "code",
   "execution_count": 3,
   "id": "4b332ccb",
   "metadata": {
    "ExecuteTime": {
     "end_time": "2021-05-21T15:15:17.783941Z",
     "start_time": "2021-05-21T15:14:58.425369Z"
    }
   },
   "outputs": [
    {
     "name": "stdout",
     "output_type": "stream",
     "text": [
      "Looking in indexes: https://pypi.douban.com/simple/\n",
      "Collecting tushare\n",
      "  Downloading https://pypi.doubanio.com/packages/17/76/dc6784a1c07ec040e748c8e552a92e8f4bdc9f3e0e42c65699efcfee032b/tushare-1.2.62-py3-none-any.whl (214 kB)\n",
      "Collecting bs4>=0.0.1\n",
      "  Downloading https://pypi.doubanio.com/packages/10/ed/7e8b97591f6f456174139ec089c769f89a94a1a4025fe967691de971f314/bs4-0.0.1.tar.gz (1.1 kB)\n",
      "Collecting websocket-client>=0.57.0\n",
      "  Downloading https://pypi.doubanio.com/packages/ba/d1/501076b54481412df1bc4cdd1fe479f66e17857c63ec5981bedcdc2ca793/websocket_client-1.0.0-py2.py3-none-any.whl (68 kB)\n",
      "Requirement already satisfied: simplejson>=3.16.0 in d:\\programdata\\miniconda3\\lib\\site-packages (from tushare) (3.17.2)\n",
      "Requirement already satisfied: lxml>=3.8.0 in d:\\programdata\\miniconda3\\lib\\site-packages (from tushare) (4.6.3)\n",
      "Requirement already satisfied: requests>=2.0.0 in d:\\programdata\\miniconda3\\lib\\site-packages (from tushare) (2.22.0)\n",
      "Collecting beautifulsoup4\n",
      "  Downloading https://pypi.doubanio.com/packages/d1/41/e6495bd7d3781cee623ce23ea6ac73282a373088fcd0ddc809a047b18eae/beautifulsoup4-4.9.3-py3-none-any.whl (115 kB)\n",
      "Requirement already satisfied: idna<2.9,>=2.5 in d:\\programdata\\miniconda3\\lib\\site-packages (from requests>=2.0.0->tushare) (2.8)\n",
      "Requirement already satisfied: certifi>=2017.4.17 in d:\\programdata\\miniconda3\\lib\\site-packages (from requests>=2.0.0->tushare) (2020.12.5)\n",
      "Requirement already satisfied: urllib3!=1.25.0,!=1.25.1,<1.26,>=1.21.1 in d:\\programdata\\miniconda3\\lib\\site-packages (from requests>=2.0.0->tushare) (1.25.8)\n",
      "Requirement already satisfied: chardet<3.1.0,>=3.0.2 in d:\\programdata\\miniconda3\\lib\\site-packages (from requests>=2.0.0->tushare) (3.0.4)\n",
      "Collecting soupsieve>1.2; python_version >= \"3.0\"\n",
      "  Downloading https://pypi.doubanio.com/packages/36/69/d82d04022f02733bf9a72bc3b96332d360c0c5307096d76f6bb7489f7e57/soupsieve-2.2.1-py3-none-any.whl (33 kB)\n",
      "Building wheels for collected packages: bs4\n",
      "  Building wheel for bs4 (setup.py): started\n",
      "  Building wheel for bs4 (setup.py): finished with status 'done'\n",
      "  Created wheel for bs4: filename=bs4-0.0.1-py3-none-any.whl size=1279 sha256=78d9dd4a5950f297b144dfefcf3bf36362359ded4381ac24b2397ca3b5238afd\n",
      "  Stored in directory: c:\\users\\administrator\\appdata\\local\\pip\\cache\\wheels\\7a\\a8\\21\\d1c3f6f8de0d69e321b25c47e6844f083500b21789645fb4af\n",
      "Successfully built bs4\n",
      "Installing collected packages: soupsieve, beautifulsoup4, bs4, websocket-client, tushare\n",
      "Successfully installed beautifulsoup4-4.9.3 bs4-0.0.1 soupsieve-2.2.1 tushare-1.2.62 websocket-client-1.0.0\n"
     ]
    }
   ],
   "source": [
    "!pip install tushare -i https://pypi.douban.com/simple/"
   ]
  },
  {
   "cell_type": "markdown",
   "id": "cdeb4035",
   "metadata": {},
   "source": [
    "然后在tushare.pro注册用户，注意获取你自己的token。使用daily函数获取日线数据。"
   ]
  },
  {
   "cell_type": "raw",
   "id": "f2cc66c8",
   "metadata": {},
   "source": [
    "# 导入tushare库\n",
    "import tushare as ts\n",
    "# 设置token\n",
    "ts.set_token('your token here')\n",
    "# 初始化pro接口\n",
    "pro = ts.pro_api()\n",
    "# 获取日线数据\n",
    "df = pro.daily(ts_code='000001.SZ', start_date='20180701', end_date='20180718'"
   ]
  },
  {
   "cell_type": "markdown",
   "id": "21c6cbaf",
   "metadata": {},
   "source": [
    "### Baostock"
   ]
  },
  {
   "cell_type": "markdown",
   "id": "092dd540",
   "metadata": {},
   "source": [
    "证券宝( http://www.baostock.com )是一个免费、开源的证券数据平台（无需注册）。提供大量准确、完整的证券历史行情数据、上市公司财务数据等。通过python API获取证券数据信息，满足量化交易投资者、数量金融爱好者、计量经济从业者数据需求。\n",
    "\n",
    "首先使用pip安装第三方依赖库 baostock 下载股市数据。（国内）"
   ]
  },
  {
   "cell_type": "code",
   "execution_count": 4,
   "id": "0668540d",
   "metadata": {
    "ExecuteTime": {
     "end_time": "2021-05-21T15:16:29.184542Z",
     "start_time": "2021-05-21T15:16:23.378301Z"
    }
   },
   "outputs": [
    {
     "name": "stdout",
     "output_type": "stream",
     "text": [
      "Looking in indexes: https://pypi.douban.com/simple/\n",
      "Collecting baostock\n",
      "  Downloading https://pypi.doubanio.com/packages/43/e2/b367c78db42bafcf752442b7d582ba2a724286313d9f126c5fee06064fb2/baostock-0.8.8-py3-none-any.whl (55 kB)\n",
      "Requirement already satisfied: pandas>=0.18.0 in d:\\programdata\\miniconda3\\lib\\site-packages (from baostock) (1.2.4)\n",
      "Requirement already satisfied: python-dateutil>=2.7.3 in d:\\programdata\\miniconda3\\lib\\site-packages (from pandas>=0.18.0->baostock) (2.8.1)\n",
      "Requirement already satisfied: numpy>=1.16.5 in d:\\programdata\\miniconda3\\lib\\site-packages (from pandas>=0.18.0->baostock) (1.20.2)\n",
      "Requirement already satisfied: pytz>=2017.3 in d:\\programdata\\miniconda3\\lib\\site-packages (from pandas>=0.18.0->baostock) (2021.1)\n",
      "Requirement already satisfied: six>=1.5 in d:\\programdata\\miniconda3\\lib\\site-packages (from python-dateutil>=2.7.3->pandas>=0.18.0->baostock) (1.14.0)\n",
      "Installing collected packages: baostock\n",
      "Successfully installed baostock-0.8.8\n"
     ]
    }
   ],
   "source": [
    "!pip install baostock -i https://pypi.douban.com/simple/"
   ]
  },
  {
   "cell_type": "markdown",
   "id": "8f125e6d",
   "metadata": {},
   "source": [
    "然后使用 `query_history_k_data_plus` 函数获取日线数据"
   ]
  },
  {
   "cell_type": "code",
   "execution_count": 5,
   "id": "ccf839e2",
   "metadata": {
    "ExecuteTime": {
     "end_time": "2021-05-21T15:16:50.289092Z",
     "start_time": "2021-05-21T15:16:49.776085Z"
    }
   },
   "outputs": [
    {
     "name": "stdout",
     "output_type": "stream",
     "text": [
      "login success!\n",
      "logout success!\n"
     ]
    },
    {
     "data": {
      "text/plain": [
       "<baostock.data.resultset.ResultData at 0x5d3f708>"
      ]
     },
     "execution_count": 5,
     "metadata": {},
     "output_type": "execute_result"
    }
   ],
   "source": [
    "import baostock as bs\n",
    "import pandas as pd\n",
    "\n",
    "# 登陆系统\n",
    "lg = bs.login()\n",
    "# 获取沪深A股历史K线数据\n",
    "rs_result = bs.query_history_k_data_plus(\"sh.600000\",\n",
    "                                         fields=\"date,open,high, low, close,preclose,volume,amount,adjustflag\",\n",
    "                                         start_date='2017-07-01', \n",
    "                                         end_date='2017-12-31', \n",
    "                                         frequency=\"d\", \n",
    "                                         adjustflag=\"3\")\n",
    "df_result = rs_result.get_data()\n",
    "# 登出系统\n",
    "bs.logout()"
   ]
  },
  {
   "cell_type": "markdown",
   "id": "5257d969",
   "metadata": {},
   "source": [
    "### Yfinance"
   ]
  },
  {
   "cell_type": "markdown",
   "id": "1ef84c00",
   "metadata": {},
   "source": [
    "yfinance的老版本是fix_yahoo_finance，二者都可以使用，推荐使用新版本。\n",
    "\n",
    "首先使用pip安装第三方依赖库 fix_yahoo_finance 下载yahoo股市数据。（国外）"
   ]
  },
  {
   "cell_type": "code",
   "execution_count": 9,
   "id": "8bc5c4cf",
   "metadata": {
    "ExecuteTime": {
     "end_time": "2021-05-21T15:18:16.520102Z",
     "start_time": "2021-05-21T15:18:06.704620Z"
    }
   },
   "outputs": [
    {
     "name": "stdout",
     "output_type": "stream",
     "text": [
      "Looking in indexes: https://pypi.douban.com/simple/\n",
      "Collecting yfinance\n",
      "  Downloading https://pypi.doubanio.com/packages/a7/ee/315752b9ef281ba83c62aa7ec2e2074f85223da6e7e74efb4d3e11c0f510/yfinance-0.1.59.tar.gz (25 kB)\n",
      "Requirement already satisfied: pandas>=0.24 in d:\\programdata\\miniconda3\\lib\\site-packages (from yfinance) (1.2.4)\n",
      "Requirement already satisfied: numpy>=1.15 in d:\\programdata\\miniconda3\\lib\\site-packages (from yfinance) (1.20.2)\n",
      "Requirement already satisfied: requests>=2.20 in d:\\programdata\\miniconda3\\lib\\site-packages (from yfinance) (2.22.0)\n",
      "Collecting multitasking>=0.0.7\n",
      "  Downloading https://pypi.doubanio.com/packages/69/e7/e9f1661c28f7b87abfa08cb0e8f51dad2240a9f4f741f02ea839835e6d18/multitasking-0.0.9.tar.gz (8.1 kB)\n",
      "Requirement already satisfied: lxml>=4.5.1 in d:\\programdata\\miniconda3\\lib\\site-packages (from yfinance) (4.6.3)\n",
      "Requirement already satisfied: python-dateutil>=2.7.3 in d:\\programdata\\miniconda3\\lib\\site-packages (from pandas>=0.24->yfinance) (2.8.1)\n",
      "Requirement already satisfied: pytz>=2017.3 in d:\\programdata\\miniconda3\\lib\\site-packages (from pandas>=0.24->yfinance) (2021.1)\n",
      "Requirement already satisfied: chardet<3.1.0,>=3.0.2 in d:\\programdata\\miniconda3\\lib\\site-packages (from requests>=2.20->yfinance) (3.0.4)\n",
      "Requirement already satisfied: idna<2.9,>=2.5 in d:\\programdata\\miniconda3\\lib\\site-packages (from requests>=2.20->yfinance) (2.8)\n",
      "Requirement already satisfied: certifi>=2017.4.17 in d:\\programdata\\miniconda3\\lib\\site-packages (from requests>=2.20->yfinance) (2020.12.5)\n",
      "Requirement already satisfied: urllib3!=1.25.0,!=1.25.1,<1.26,>=1.21.1 in d:\\programdata\\miniconda3\\lib\\site-packages (from requests>=2.20->yfinance) (1.25.8)\n",
      "Requirement already satisfied: six>=1.5 in d:\\programdata\\miniconda3\\lib\\site-packages (from python-dateutil>=2.7.3->pandas>=0.24->yfinance) (1.14.0)\n",
      "Building wheels for collected packages: yfinance, multitasking\n",
      "  Building wheel for yfinance (setup.py): started\n",
      "  Building wheel for yfinance (setup.py): finished with status 'done'\n",
      "  Created wheel for yfinance: filename=yfinance-0.1.59-py2.py3-none-any.whl size=23447 sha256=0f0745407c9b6d737abe34f8e6c51d38452407b7d05cde8e41cc6b9e52a944c0\n",
      "  Stored in directory: c:\\users\\administrator\\appdata\\local\\pip\\cache\\wheels\\5a\\f6\\e0\\d835f7b02067bf45580d5d57b7b4a2fee8a037e8602d68354a\n",
      "  Building wheel for multitasking (setup.py): started\n",
      "  Building wheel for multitasking (setup.py): finished with status 'done'\n",
      "  Created wheel for multitasking: filename=multitasking-0.0.9-py3-none-any.whl size=8374 sha256=39be06b7ea61b05c0f9c0a9a28f089908721148019c9f7185c0b9ec7510a0420\n",
      "  Stored in directory: c:\\users\\administrator\\appdata\\local\\pip\\cache\\wheels\\ef\\43\\18\\7ca4c75eedae8b31db72ba7e4bc4aa5399d33a5468dc703e9d\n",
      "Successfully built yfinance multitasking\n",
      "Installing collected packages: multitasking, yfinance\n",
      "Successfully installed multitasking-0.0.9 yfinance-0.1.59\n"
     ]
    }
   ],
   "source": [
    "!pip install yfinance -i https://pypi.douban.com/simple/"
   ]
  },
  {
   "cell_type": "code",
   "execution_count": 11,
   "id": "7a541737",
   "metadata": {
    "ExecuteTime": {
     "end_time": "2021-05-21T15:20:39.747125Z",
     "start_time": "2021-05-21T15:20:31.645504Z"
    }
   },
   "outputs": [
    {
     "name": "stdout",
     "output_type": "stream",
     "text": [
      "Looking in indexes: http://mirrors.aliyun.com/pypi/simple/\n",
      "Collecting fix_yahoo_finance\n",
      "  Downloading http://mirrors.aliyun.com/pypi/packages/a5/f3/aba3b563452faaea71b4161754991e3143751ec9141d83c4bce05992332a/fix-yahoo-finance-0.1.37.tar.gz (6.3 kB)\n",
      "Requirement already satisfied, skipping upgrade: yfinance in d:\\programdata\\miniconda3\\lib\\site-packages (from fix_yahoo_finance) (0.1.59)\n",
      "Requirement already satisfied, skipping upgrade: numpy>=1.15 in d:\\programdata\\miniconda3\\lib\\site-packages (from yfinance->fix_yahoo_finance) (1.20.2)\n",
      "Requirement already satisfied, skipping upgrade: lxml>=4.5.1 in d:\\programdata\\miniconda3\\lib\\site-packages (from yfinance->fix_yahoo_finance) (4.6.3)\n",
      "Requirement already satisfied, skipping upgrade: multitasking>=0.0.7 in d:\\programdata\\miniconda3\\lib\\site-packages (from yfinance->fix_yahoo_finance) (0.0.9)\n",
      "Requirement already satisfied, skipping upgrade: requests>=2.20 in d:\\programdata\\miniconda3\\lib\\site-packages (from yfinance->fix_yahoo_finance) (2.22.0)\n",
      "Requirement already satisfied, skipping upgrade: pandas>=0.24 in d:\\programdata\\miniconda3\\lib\\site-packages (from yfinance->fix_yahoo_finance) (1.2.4)\n",
      "Requirement already satisfied, skipping upgrade: chardet<3.1.0,>=3.0.2 in d:\\programdata\\miniconda3\\lib\\site-packages (from requests>=2.20->yfinance->fix_yahoo_finance) (3.0.4)\n",
      "Requirement already satisfied, skipping upgrade: urllib3!=1.25.0,!=1.25.1,<1.26,>=1.21.1 in d:\\programdata\\miniconda3\\lib\\site-packages (from requests>=2.20->yfinance->fix_yahoo_finance) (1.25.8)\n",
      "Requirement already satisfied, skipping upgrade: idna<2.9,>=2.5 in d:\\programdata\\miniconda3\\lib\\site-packages (from requests>=2.20->yfinance->fix_yahoo_finance) (2.8)\n",
      "Requirement already satisfied, skipping upgrade: certifi>=2017.4.17 in d:\\programdata\\miniconda3\\lib\\site-packages (from requests>=2.20->yfinance->fix_yahoo_finance) (2020.12.5)\n",
      "Requirement already satisfied, skipping upgrade: python-dateutil>=2.7.3 in d:\\programdata\\miniconda3\\lib\\site-packages (from pandas>=0.24->yfinance->fix_yahoo_finance) (2.8.1)\n",
      "Requirement already satisfied, skipping upgrade: pytz>=2017.3 in d:\\programdata\\miniconda3\\lib\\site-packages (from pandas>=0.24->yfinance->fix_yahoo_finance) (2021.1)\n",
      "Requirement already satisfied, skipping upgrade: six>=1.5 in d:\\programdata\\miniconda3\\lib\\site-packages (from python-dateutil>=2.7.3->pandas>=0.24->yfinance->fix_yahoo_finance) (1.14.0)\n",
      "Building wheels for collected packages: fix-yahoo-finance\n",
      "  Building wheel for fix-yahoo-finance (setup.py): started\n",
      "  Building wheel for fix-yahoo-finance (setup.py): finished with status 'done'\n",
      "  Created wheel for fix-yahoo-finance: filename=fix_yahoo_finance-0.1.37-py3-none-any.whl size=7062 sha256=a7470590f31d38a0ec0050a8479e3c094ac2d660613d4cd5359e7070dfac438d\n",
      "  Stored in directory: c:\\users\\administrator\\appdata\\local\\pip\\cache\\wheels\\d0\\e0\\ba\\2e984c606b4eca51f6ad14157114dc1403cba41e33383d99b8\n",
      "Successfully built fix-yahoo-finance\n",
      "Installing collected packages: fix-yahoo-finance\n",
      "Successfully installed fix-yahoo-finance-0.1.37\n"
     ]
    }
   ],
   "source": [
    "!pip install fix_yahoo_finance --upgrade"
   ]
  },
  {
   "cell_type": "code",
   "execution_count": 3,
   "id": "1c425549",
   "metadata": {
    "ExecuteTime": {
     "end_time": "2021-05-21T15:21:51.643898Z",
     "start_time": "2021-05-21T15:21:45.498681Z"
    }
   },
   "outputs": [
    {
     "name": "stdout",
     "output_type": "stream",
     "text": [
      "Looking in indexes: http://mirrors.aliyun.com/pypi/simple/\n",
      "Collecting pandas_datareader\n",
      "  Downloading http://mirrors.aliyun.com/pypi/packages/22/f1/a02eea03628865c3d4c29849cda8c8a73f43358048aee47d79dfbfa6c6c3/pandas_datareader-0.9.0-py3-none-any.whl (107 kB)\n",
      "Requirement already satisfied: lxml in d:\\programdata\\miniconda3\\lib\\site-packages (from pandas_datareader) (4.6.3)\n",
      "Requirement already satisfied: requests>=2.19.0 in d:\\programdata\\miniconda3\\lib\\site-packages (from pandas_datareader) (2.22.0)\n",
      "Requirement already satisfied: pandas>=0.23 in d:\\programdata\\miniconda3\\lib\\site-packages (from pandas_datareader) (1.2.4)\n",
      "Requirement already satisfied: urllib3!=1.25.0,!=1.25.1,<1.26,>=1.21.1 in d:\\programdata\\miniconda3\\lib\\site-packages (from requests>=2.19.0->pandas_datareader) (1.25.8)\n",
      "Requirement already satisfied: chardet<3.1.0,>=3.0.2 in d:\\programdata\\miniconda3\\lib\\site-packages (from requests>=2.19.0->pandas_datareader) (3.0.4)\n",
      "Requirement already satisfied: certifi>=2017.4.17 in d:\\programdata\\miniconda3\\lib\\site-packages (from requests>=2.19.0->pandas_datareader) (2020.12.5)\n",
      "Requirement already satisfied: idna<2.9,>=2.5 in d:\\programdata\\miniconda3\\lib\\site-packages (from requests>=2.19.0->pandas_datareader) (2.8)\n",
      "Requirement already satisfied: python-dateutil>=2.7.3 in d:\\programdata\\miniconda3\\lib\\site-packages (from pandas>=0.23->pandas_datareader) (2.8.1)\n",
      "Requirement already satisfied: pytz>=2017.3 in d:\\programdata\\miniconda3\\lib\\site-packages (from pandas>=0.23->pandas_datareader) (2021.1)\n",
      "Requirement already satisfied: numpy>=1.16.5 in d:\\programdata\\miniconda3\\lib\\site-packages (from pandas>=0.23->pandas_datareader) (1.20.2)\n",
      "Requirement already satisfied: six>=1.5 in d:\\programdata\\miniconda3\\lib\\site-packages (from python-dateutil>=2.7.3->pandas>=0.23->pandas_datareader) (1.14.0)\n",
      "Installing collected packages: pandas-datareader\n",
      "Successfully installed pandas-datareader-0.9.0\n"
     ]
    }
   ],
   "source": [
    "!pip install pandas_datareader"
   ]
  },
  {
   "cell_type": "markdown",
   "id": "2225a439",
   "metadata": {},
   "source": [
    "然后使用 `pdr_override` 函数获取日线数据"
   ]
  },
  {
   "cell_type": "code",
   "execution_count": 5,
   "id": "5f9be16c",
   "metadata": {
    "ExecuteTime": {
     "end_time": "2021-05-21T15:22:59.372899Z",
     "start_time": "2021-05-21T15:22:57.655887Z"
    }
   },
   "outputs": [
    {
     "name": "stdout",
     "output_type": "stream",
     "text": [
      "[*********************100%***********************]  1 of 1 completed\n"
     ]
    },
    {
     "data": {
      "text/html": [
       "<div>\n",
       "<style scoped>\n",
       "    .dataframe tbody tr th:only-of-type {\n",
       "        vertical-align: middle;\n",
       "    }\n",
       "\n",
       "    .dataframe tbody tr th {\n",
       "        vertical-align: top;\n",
       "    }\n",
       "\n",
       "    .dataframe thead th {\n",
       "        text-align: right;\n",
       "    }\n",
       "</style>\n",
       "<table border=\"1\" class=\"dataframe\">\n",
       "  <thead>\n",
       "    <tr style=\"text-align: right;\">\n",
       "      <th></th>\n",
       "      <th>Open</th>\n",
       "      <th>High</th>\n",
       "      <th>Low</th>\n",
       "      <th>Close</th>\n",
       "      <th>Adj Close</th>\n",
       "      <th>Volume</th>\n",
       "    </tr>\n",
       "    <tr>\n",
       "      <th>Date</th>\n",
       "      <th></th>\n",
       "      <th></th>\n",
       "      <th></th>\n",
       "      <th></th>\n",
       "      <th></th>\n",
       "      <th></th>\n",
       "    </tr>\n",
       "  </thead>\n",
       "  <tbody>\n",
       "    <tr>\n",
       "      <th>2017-01-03</th>\n",
       "      <td>757.919983</td>\n",
       "      <td>758.760010</td>\n",
       "      <td>747.700012</td>\n",
       "      <td>753.669983</td>\n",
       "      <td>753.669983</td>\n",
       "      <td>3521100</td>\n",
       "    </tr>\n",
       "    <tr>\n",
       "      <th>2017-01-04</th>\n",
       "      <td>758.390015</td>\n",
       "      <td>759.679993</td>\n",
       "      <td>754.200012</td>\n",
       "      <td>757.179993</td>\n",
       "      <td>757.179993</td>\n",
       "      <td>2510500</td>\n",
       "    </tr>\n",
       "    <tr>\n",
       "      <th>2017-01-05</th>\n",
       "      <td>761.549988</td>\n",
       "      <td>782.400024</td>\n",
       "      <td>760.260010</td>\n",
       "      <td>780.450012</td>\n",
       "      <td>780.450012</td>\n",
       "      <td>5830100</td>\n",
       "    </tr>\n",
       "    <tr>\n",
       "      <th>2017-01-06</th>\n",
       "      <td>782.359985</td>\n",
       "      <td>799.440002</td>\n",
       "      <td>778.479980</td>\n",
       "      <td>795.989990</td>\n",
       "      <td>795.989990</td>\n",
       "      <td>5986200</td>\n",
       "    </tr>\n",
       "    <tr>\n",
       "      <th>2017-01-09</th>\n",
       "      <td>798.000000</td>\n",
       "      <td>801.770020</td>\n",
       "      <td>791.770020</td>\n",
       "      <td>796.919983</td>\n",
       "      <td>796.919983</td>\n",
       "      <td>3446100</td>\n",
       "    </tr>\n",
       "  </tbody>\n",
       "</table>\n",
       "</div>"
      ],
      "text/plain": [
       "                  Open        High         Low       Close   Adj Close  \\\n",
       "Date                                                                     \n",
       "2017-01-03  757.919983  758.760010  747.700012  753.669983  753.669983   \n",
       "2017-01-04  758.390015  759.679993  754.200012  757.179993  757.179993   \n",
       "2017-01-05  761.549988  782.400024  760.260010  780.450012  780.450012   \n",
       "2017-01-06  782.359985  799.440002  778.479980  795.989990  795.989990   \n",
       "2017-01-09  798.000000  801.770020  791.770020  796.919983  796.919983   \n",
       "\n",
       "             Volume  \n",
       "Date                 \n",
       "2017-01-03  3521100  \n",
       "2017-01-04  2510500  \n",
       "2017-01-05  5830100  \n",
       "2017-01-06  5986200  \n",
       "2017-01-09  3446100  "
      ]
     },
     "execution_count": 5,
     "metadata": {},
     "output_type": "execute_result"
    }
   ],
   "source": [
    "from pandas_datareader import data as pdr\n",
    "import yfinance as yf\n",
    "yf.pdr_override()\n",
    "data = pdr.get_data_yahoo(\"AMZN\", start=\"2017-01-01\", end=\"2017-09-12\")\n",
    "data.head()"
   ]
  },
  {
   "cell_type": "markdown",
   "id": "69e5795c",
   "metadata": {},
   "source": [
    "下面开始本节主要内容，运用数据处理最常用的第三方模块Pandas和NumPy获取数据，为后续数据分析、机器学习做数据准备。"
   ]
  },
  {
   "cell_type": "markdown",
   "id": "2fb26de6",
   "metadata": {},
   "source": [
    "## pandas"
   ]
  },
  {
   "cell_type": "markdown",
   "id": "3f5e42d2",
   "metadata": {},
   "source": [
    "pandas 是基于NumPy 的一种工具，该工具是为解决数据分析任务而创建的。Pandas 纳入了大量库和一些标准的数据模型，提供了高效地操作大型数据集所需的工具。pandas提供了大量能使我们快速便捷地处理数据的函数和方法。你很快就会发现，它是使Python成为强大而高效的数据分析环境的重要因素之一。"
   ]
  },
  {
   "cell_type": "code",
   "execution_count": 6,
   "id": "2c33122a",
   "metadata": {
    "ExecuteTime": {
     "end_time": "2021-05-21T15:24:09.683336Z",
     "start_time": "2021-05-21T15:24:09.652136Z"
    }
   },
   "outputs": [],
   "source": [
    "# Pandas Library\n",
    "import pandas as pd\n",
    "import warnings\n",
    "warnings.filterwarnings(\"ignore\")"
   ]
  },
  {
   "cell_type": "markdown",
   "id": "d4f2d438",
   "metadata": {},
   "source": [
    "### 获取中国平安股票数据"
   ]
  },
  {
   "cell_type": "code",
   "execution_count": 7,
   "id": "1e92c57f",
   "metadata": {
    "ExecuteTime": {
     "end_time": "2021-05-21T15:24:27.703960Z",
     "start_time": "2021-05-21T15:24:27.645758Z"
    }
   },
   "outputs": [],
   "source": [
    "import baostock as bs"
   ]
  },
  {
   "cell_type": "code",
   "execution_count": 8,
   "id": "926f244a",
   "metadata": {
    "ExecuteTime": {
     "end_time": "2021-05-21T15:24:51.860530Z",
     "start_time": "2021-05-21T15:24:51.488121Z"
    }
   },
   "outputs": [
    {
     "name": "stdout",
     "output_type": "stream",
     "text": [
      "login success!\n",
      "logout success!\n"
     ]
    },
    {
     "data": {
      "text/plain": [
       "<baostock.data.resultset.ResultData at 0x4fe5ec8>"
      ]
     },
     "execution_count": 8,
     "metadata": {},
     "output_type": "execute_result"
    }
   ],
   "source": [
    "# 登陆系统\n",
    "lg = bs.login()\n",
    "# 获取沪深A股历史K线数据\n",
    "rs_result = bs.query_history_k_data_plus(\"sh.601318\",  \n",
    "                        fields=\"date,open,high,low,close,volume\",   \n",
    "                        start_date='2018-01-01',   \n",
    "                        end_date='2021-03-31',  \n",
    "                        frequency=\"d\",  \n",
    "                        adjustflag=\"3\")\n",
    "df_result = rs_result.get_data()\n",
    "# 登出系统 \n",
    "bs.logout()"
   ]
  },
  {
   "cell_type": "code",
   "execution_count": 9,
   "id": "83f5e8da",
   "metadata": {
    "ExecuteTime": {
     "end_time": "2021-05-21T15:24:58.396783Z",
     "start_time": "2021-05-21T15:24:58.365583Z"
    }
   },
   "outputs": [
    {
     "data": {
      "text/html": [
       "<div>\n",
       "<style scoped>\n",
       "    .dataframe tbody tr th:only-of-type {\n",
       "        vertical-align: middle;\n",
       "    }\n",
       "\n",
       "    .dataframe tbody tr th {\n",
       "        vertical-align: top;\n",
       "    }\n",
       "\n",
       "    .dataframe thead th {\n",
       "        text-align: right;\n",
       "    }\n",
       "</style>\n",
       "<table border=\"1\" class=\"dataframe\">\n",
       "  <thead>\n",
       "    <tr style=\"text-align: right;\">\n",
       "      <th></th>\n",
       "      <th>date</th>\n",
       "      <th>open</th>\n",
       "      <th>high</th>\n",
       "      <th>low</th>\n",
       "      <th>close</th>\n",
       "      <th>volume</th>\n",
       "    </tr>\n",
       "  </thead>\n",
       "  <tbody>\n",
       "    <tr>\n",
       "      <th>0</th>\n",
       "      <td>2018-01-02</td>\n",
       "      <td>70.2100</td>\n",
       "      <td>72.8000</td>\n",
       "      <td>70.1800</td>\n",
       "      <td>72.5900</td>\n",
       "      <td>123616317</td>\n",
       "    </tr>\n",
       "    <tr>\n",
       "      <th>1</th>\n",
       "      <td>2018-01-03</td>\n",
       "      <td>73.4000</td>\n",
       "      <td>73.9000</td>\n",
       "      <td>70.1100</td>\n",
       "      <td>70.9700</td>\n",
       "      <td>179405492</td>\n",
       "    </tr>\n",
       "    <tr>\n",
       "      <th>2</th>\n",
       "      <td>2018-01-04</td>\n",
       "      <td>71.0200</td>\n",
       "      <td>72.2000</td>\n",
       "      <td>70.5500</td>\n",
       "      <td>71.1800</td>\n",
       "      <td>106115784</td>\n",
       "    </tr>\n",
       "    <tr>\n",
       "      <th>3</th>\n",
       "      <td>2018-01-05</td>\n",
       "      <td>71.5900</td>\n",
       "      <td>71.8800</td>\n",
       "      <td>70.4500</td>\n",
       "      <td>70.8900</td>\n",
       "      <td>77207581</td>\n",
       "    </tr>\n",
       "    <tr>\n",
       "      <th>4</th>\n",
       "      <td>2018-01-08</td>\n",
       "      <td>70.7900</td>\n",
       "      <td>70.7900</td>\n",
       "      <td>69.3200</td>\n",
       "      <td>70.0100</td>\n",
       "      <td>122872953</td>\n",
       "    </tr>\n",
       "  </tbody>\n",
       "</table>\n",
       "</div>"
      ],
      "text/plain": [
       "         date     open     high      low    close     volume\n",
       "0  2018-01-02  70.2100  72.8000  70.1800  72.5900  123616317\n",
       "1  2018-01-03  73.4000  73.9000  70.1100  70.9700  179405492\n",
       "2  2018-01-04  71.0200  72.2000  70.5500  71.1800  106115784\n",
       "3  2018-01-05  71.5900  71.8800  70.4500  70.8900   77207581\n",
       "4  2018-01-08  70.7900  70.7900  69.3200  70.0100  122872953"
      ]
     },
     "execution_count": 9,
     "metadata": {},
     "output_type": "execute_result"
    }
   ],
   "source": [
    "df_result.head()"
   ]
  },
  {
   "cell_type": "markdown",
   "id": "162cf8b1",
   "metadata": {},
   "source": [
    "### 获取腾讯股票数据"
   ]
  },
  {
   "cell_type": "code",
   "execution_count": 10,
   "id": "452688b0",
   "metadata": {
    "ExecuteTime": {
     "end_time": "2021-05-21T15:25:31.614202Z",
     "start_time": "2021-05-21T15:25:30.484974Z"
    }
   },
   "outputs": [
    {
     "name": "stdout",
     "output_type": "stream",
     "text": [
      "[*********************100%***********************]  1 of 1 completed\n"
     ]
    }
   ],
   "source": [
    "import yfinance as yf\n",
    "\n",
    "symbol = 'TCEHY'\n",
    "start = '2016-01-01'\n",
    "end = '2021-03-31'\n",
    "yf.pdr_override()\n",
    "\n",
    "dataset = yf.download(symbol,start,end)"
   ]
  },
  {
   "cell_type": "code",
   "execution_count": 11,
   "id": "d6ed1afd",
   "metadata": {
    "ExecuteTime": {
     "end_time": "2021-05-21T15:25:36.861403Z",
     "start_time": "2021-05-21T15:25:36.830203Z"
    }
   },
   "outputs": [
    {
     "data": {
      "text/html": [
       "<div>\n",
       "<style scoped>\n",
       "    .dataframe tbody tr th:only-of-type {\n",
       "        vertical-align: middle;\n",
       "    }\n",
       "\n",
       "    .dataframe tbody tr th {\n",
       "        vertical-align: top;\n",
       "    }\n",
       "\n",
       "    .dataframe thead th {\n",
       "        text-align: right;\n",
       "    }\n",
       "</style>\n",
       "<table border=\"1\" class=\"dataframe\">\n",
       "  <thead>\n",
       "    <tr style=\"text-align: right;\">\n",
       "      <th></th>\n",
       "      <th>Open</th>\n",
       "      <th>High</th>\n",
       "      <th>Low</th>\n",
       "      <th>Close</th>\n",
       "      <th>Adj Close</th>\n",
       "      <th>Volume</th>\n",
       "    </tr>\n",
       "    <tr>\n",
       "      <th>Date</th>\n",
       "      <th></th>\n",
       "      <th></th>\n",
       "      <th></th>\n",
       "      <th></th>\n",
       "      <th></th>\n",
       "      <th></th>\n",
       "    </tr>\n",
       "  </thead>\n",
       "  <tbody>\n",
       "    <tr>\n",
       "      <th>2015-12-31</th>\n",
       "      <td>19.590000</td>\n",
       "      <td>19.660000</td>\n",
       "      <td>19.510000</td>\n",
       "      <td>19.620001</td>\n",
       "      <td>19.369148</td>\n",
       "      <td>382600</td>\n",
       "    </tr>\n",
       "    <tr>\n",
       "      <th>2016-01-04</th>\n",
       "      <td>19.129999</td>\n",
       "      <td>19.260000</td>\n",
       "      <td>18.930000</td>\n",
       "      <td>19.129999</td>\n",
       "      <td>18.885412</td>\n",
       "      <td>469100</td>\n",
       "    </tr>\n",
       "    <tr>\n",
       "      <th>2016-01-05</th>\n",
       "      <td>19.090000</td>\n",
       "      <td>19.230000</td>\n",
       "      <td>18.940001</td>\n",
       "      <td>19.080000</td>\n",
       "      <td>18.836052</td>\n",
       "      <td>170300</td>\n",
       "    </tr>\n",
       "    <tr>\n",
       "      <th>2016-01-06</th>\n",
       "      <td>18.639999</td>\n",
       "      <td>18.709999</td>\n",
       "      <td>18.530001</td>\n",
       "      <td>18.660000</td>\n",
       "      <td>18.421425</td>\n",
       "      <td>333400</td>\n",
       "    </tr>\n",
       "    <tr>\n",
       "      <th>2016-01-07</th>\n",
       "      <td>18.049999</td>\n",
       "      <td>18.200001</td>\n",
       "      <td>17.910000</td>\n",
       "      <td>17.910000</td>\n",
       "      <td>17.681011</td>\n",
       "      <td>548200</td>\n",
       "    </tr>\n",
       "  </tbody>\n",
       "</table>\n",
       "</div>"
      ],
      "text/plain": [
       "                 Open       High        Low      Close  Adj Close  Volume\n",
       "Date                                                                     \n",
       "2015-12-31  19.590000  19.660000  19.510000  19.620001  19.369148  382600\n",
       "2016-01-04  19.129999  19.260000  18.930000  19.129999  18.885412  469100\n",
       "2016-01-05  19.090000  19.230000  18.940001  19.080000  18.836052  170300\n",
       "2016-01-06  18.639999  18.709999  18.530001  18.660000  18.421425  333400\n",
       "2016-01-07  18.049999  18.200001  17.910000  17.910000  17.681011  548200"
      ]
     },
     "execution_count": 11,
     "metadata": {},
     "output_type": "execute_result"
    }
   ],
   "source": [
    "dataset.head()"
   ]
  },
  {
   "cell_type": "code",
   "execution_count": 12,
   "id": "7e20ee27",
   "metadata": {
    "ExecuteTime": {
     "end_time": "2021-05-21T15:25:47.063153Z",
     "start_time": "2021-05-21T15:25:47.031953Z"
    }
   },
   "outputs": [
    {
     "data": {
      "text/html": [
       "<div>\n",
       "<style scoped>\n",
       "    .dataframe tbody tr th:only-of-type {\n",
       "        vertical-align: middle;\n",
       "    }\n",
       "\n",
       "    .dataframe tbody tr th {\n",
       "        vertical-align: top;\n",
       "    }\n",
       "\n",
       "    .dataframe thead th {\n",
       "        text-align: right;\n",
       "    }\n",
       "</style>\n",
       "<table border=\"1\" class=\"dataframe\">\n",
       "  <thead>\n",
       "    <tr style=\"text-align: right;\">\n",
       "      <th></th>\n",
       "      <th>Open</th>\n",
       "      <th>High</th>\n",
       "      <th>Low</th>\n",
       "      <th>Close</th>\n",
       "      <th>Adj Close</th>\n",
       "      <th>Volume</th>\n",
       "    </tr>\n",
       "    <tr>\n",
       "      <th>Date</th>\n",
       "      <th></th>\n",
       "      <th></th>\n",
       "      <th></th>\n",
       "      <th></th>\n",
       "      <th></th>\n",
       "      <th></th>\n",
       "    </tr>\n",
       "  </thead>\n",
       "  <tbody>\n",
       "    <tr>\n",
       "      <th>2021-03-24</th>\n",
       "      <td>80.930000</td>\n",
       "      <td>81.160004</td>\n",
       "      <td>76.599998</td>\n",
       "      <td>76.809998</td>\n",
       "      <td>76.809998</td>\n",
       "      <td>5983900</td>\n",
       "    </tr>\n",
       "    <tr>\n",
       "      <th>2021-03-25</th>\n",
       "      <td>77.309998</td>\n",
       "      <td>78.190002</td>\n",
       "      <td>76.800003</td>\n",
       "      <td>77.419998</td>\n",
       "      <td>77.419998</td>\n",
       "      <td>4747400</td>\n",
       "    </tr>\n",
       "    <tr>\n",
       "      <th>2021-03-26</th>\n",
       "      <td>79.440002</td>\n",
       "      <td>80.980003</td>\n",
       "      <td>77.820000</td>\n",
       "      <td>80.980003</td>\n",
       "      <td>80.980003</td>\n",
       "      <td>5923100</td>\n",
       "    </tr>\n",
       "    <tr>\n",
       "      <th>2021-03-29</th>\n",
       "      <td>79.190002</td>\n",
       "      <td>79.800003</td>\n",
       "      <td>78.070000</td>\n",
       "      <td>78.690002</td>\n",
       "      <td>78.690002</td>\n",
       "      <td>3468900</td>\n",
       "    </tr>\n",
       "    <tr>\n",
       "      <th>2021-03-30</th>\n",
       "      <td>78.570000</td>\n",
       "      <td>79.410004</td>\n",
       "      <td>78.029999</td>\n",
       "      <td>78.830002</td>\n",
       "      <td>78.830002</td>\n",
       "      <td>1715900</td>\n",
       "    </tr>\n",
       "  </tbody>\n",
       "</table>\n",
       "</div>"
      ],
      "text/plain": [
       "                 Open       High        Low      Close  Adj Close   Volume\n",
       "Date                                                                      \n",
       "2021-03-24  80.930000  81.160004  76.599998  76.809998  76.809998  5983900\n",
       "2021-03-25  77.309998  78.190002  76.800003  77.419998  77.419998  4747400\n",
       "2021-03-26  79.440002  80.980003  77.820000  80.980003  80.980003  5923100\n",
       "2021-03-29  79.190002  79.800003  78.070000  78.690002  78.690002  3468900\n",
       "2021-03-30  78.570000  79.410004  78.029999  78.830002  78.830002  1715900"
      ]
     },
     "execution_count": 12,
     "metadata": {},
     "output_type": "execute_result"
    }
   ],
   "source": [
    "dataset.tail()"
   ]
  },
  {
   "cell_type": "code",
   "execution_count": 13,
   "id": "db4ecd41",
   "metadata": {
    "ExecuteTime": {
     "end_time": "2021-05-21T15:25:53.282418Z",
     "start_time": "2021-05-21T15:25:53.266818Z"
    }
   },
   "outputs": [
    {
     "data": {
      "text/plain": [
       "(1320, 6)"
      ]
     },
     "execution_count": 13,
     "metadata": {},
     "output_type": "execute_result"
    }
   ],
   "source": [
    "dataset.shape"
   ]
  },
  {
   "cell_type": "code",
   "execution_count": 14,
   "id": "4b406b45",
   "metadata": {
    "ExecuteTime": {
     "end_time": "2021-05-21T15:26:11.237905Z",
     "start_time": "2021-05-21T15:26:11.197903Z"
    }
   },
   "outputs": [
    {
     "data": {
      "text/html": [
       "<div>\n",
       "<style scoped>\n",
       "    .dataframe tbody tr th:only-of-type {\n",
       "        vertical-align: middle;\n",
       "    }\n",
       "\n",
       "    .dataframe tbody tr th {\n",
       "        vertical-align: top;\n",
       "    }\n",
       "\n",
       "    .dataframe thead th {\n",
       "        text-align: right;\n",
       "    }\n",
       "</style>\n",
       "<table border=\"1\" class=\"dataframe\">\n",
       "  <thead>\n",
       "    <tr style=\"text-align: right;\">\n",
       "      <th></th>\n",
       "      <th>Open</th>\n",
       "      <th>High</th>\n",
       "      <th>Low</th>\n",
       "      <th>Close</th>\n",
       "      <th>Adj Close</th>\n",
       "      <th>Volume</th>\n",
       "    </tr>\n",
       "    <tr>\n",
       "      <th>Date</th>\n",
       "      <th></th>\n",
       "      <th></th>\n",
       "      <th></th>\n",
       "      <th></th>\n",
       "      <th></th>\n",
       "      <th></th>\n",
       "    </tr>\n",
       "  </thead>\n",
       "  <tbody>\n",
       "    <tr>\n",
       "      <th>2015-12-31</th>\n",
       "      <td>NaN</td>\n",
       "      <td>NaN</td>\n",
       "      <td>NaN</td>\n",
       "      <td>NaN</td>\n",
       "      <td>NaN</td>\n",
       "      <td>NaN</td>\n",
       "    </tr>\n",
       "    <tr>\n",
       "      <th>2016-01-04</th>\n",
       "      <td>NaN</td>\n",
       "      <td>NaN</td>\n",
       "      <td>NaN</td>\n",
       "      <td>NaN</td>\n",
       "      <td>NaN</td>\n",
       "      <td>NaN</td>\n",
       "    </tr>\n",
       "    <tr>\n",
       "      <th>2016-01-05</th>\n",
       "      <td>NaN</td>\n",
       "      <td>NaN</td>\n",
       "      <td>NaN</td>\n",
       "      <td>NaN</td>\n",
       "      <td>NaN</td>\n",
       "      <td>NaN</td>\n",
       "    </tr>\n",
       "    <tr>\n",
       "      <th>2016-01-06</th>\n",
       "      <td>NaN</td>\n",
       "      <td>NaN</td>\n",
       "      <td>NaN</td>\n",
       "      <td>NaN</td>\n",
       "      <td>NaN</td>\n",
       "      <td>NaN</td>\n",
       "    </tr>\n",
       "    <tr>\n",
       "      <th>2016-01-07</th>\n",
       "      <td>18.900000</td>\n",
       "      <td>19.012000</td>\n",
       "      <td>18.764000</td>\n",
       "      <td>18.880000</td>\n",
       "      <td>18.638610</td>\n",
       "      <td>380720.0</td>\n",
       "    </tr>\n",
       "    <tr>\n",
       "      <th>...</th>\n",
       "      <td>...</td>\n",
       "      <td>...</td>\n",
       "      <td>...</td>\n",
       "      <td>...</td>\n",
       "      <td>...</td>\n",
       "      <td>...</td>\n",
       "    </tr>\n",
       "    <tr>\n",
       "      <th>2021-03-24</th>\n",
       "      <td>81.346001</td>\n",
       "      <td>82.080000</td>\n",
       "      <td>80.003999</td>\n",
       "      <td>80.829999</td>\n",
       "      <td>80.829999</td>\n",
       "      <td>2837640.0</td>\n",
       "    </tr>\n",
       "    <tr>\n",
       "      <th>2021-03-25</th>\n",
       "      <td>80.498000</td>\n",
       "      <td>81.356001</td>\n",
       "      <td>79.208000</td>\n",
       "      <td>80.113998</td>\n",
       "      <td>80.113998</td>\n",
       "      <td>3389740.0</td>\n",
       "    </tr>\n",
       "    <tr>\n",
       "      <th>2021-03-26</th>\n",
       "      <td>80.246001</td>\n",
       "      <td>81.024002</td>\n",
       "      <td>78.752000</td>\n",
       "      <td>79.781999</td>\n",
       "      <td>79.781999</td>\n",
       "      <td>4073700.0</td>\n",
       "    </tr>\n",
       "    <tr>\n",
       "      <th>2021-03-29</th>\n",
       "      <td>79.704001</td>\n",
       "      <td>80.414003</td>\n",
       "      <td>78.040001</td>\n",
       "      <td>78.966000</td>\n",
       "      <td>78.966000</td>\n",
       "      <td>4396860.0</td>\n",
       "    </tr>\n",
       "    <tr>\n",
       "      <th>2021-03-30</th>\n",
       "      <td>79.088000</td>\n",
       "      <td>79.908003</td>\n",
       "      <td>77.464000</td>\n",
       "      <td>78.546001</td>\n",
       "      <td>78.546001</td>\n",
       "      <td>4367840.0</td>\n",
       "    </tr>\n",
       "  </tbody>\n",
       "</table>\n",
       "<p>1320 rows × 6 columns</p>\n",
       "</div>"
      ],
      "text/plain": [
       "                 Open       High        Low      Close  Adj Close     Volume\n",
       "Date                                                                        \n",
       "2015-12-31        NaN        NaN        NaN        NaN        NaN        NaN\n",
       "2016-01-04        NaN        NaN        NaN        NaN        NaN        NaN\n",
       "2016-01-05        NaN        NaN        NaN        NaN        NaN        NaN\n",
       "2016-01-06        NaN        NaN        NaN        NaN        NaN        NaN\n",
       "2016-01-07  18.900000  19.012000  18.764000  18.880000  18.638610   380720.0\n",
       "...               ...        ...        ...        ...        ...        ...\n",
       "2021-03-24  81.346001  82.080000  80.003999  80.829999  80.829999  2837640.0\n",
       "2021-03-25  80.498000  81.356001  79.208000  80.113998  80.113998  3389740.0\n",
       "2021-03-26  80.246001  81.024002  78.752000  79.781999  79.781999  4073700.0\n",
       "2021-03-29  79.704001  80.414003  78.040001  78.966000  78.966000  4396860.0\n",
       "2021-03-30  79.088000  79.908003  77.464000  78.546001  78.546001  4367840.0\n",
       "\n",
       "[1320 rows x 6 columns]"
      ]
     },
     "execution_count": 14,
     "metadata": {},
     "output_type": "execute_result"
    }
   ],
   "source": [
    "# 滚动窗口计算\n",
    "dataset.rolling(window=5).mean() # 求最后4行的均值"
   ]
  },
  {
   "cell_type": "raw",
   "id": "536d2328",
   "metadata": {},
   "source": [
    "函数解析\n",
    "dataset.rolling(\n",
    "    window,\n",
    "    min_periods=None,\n",
    "    center=False,\n",
    "    win_type=None,\n",
    "    on=None,\n",
    "    axis=0,\n",
    "    closed=None,)\n",
    "    \n",
    "提供滚动窗口计算。\n",
    "\n",
    "window：也可以省略不写。表示时间窗的大小，注意有两种形式（int or offset）。如果使用int，则数值表示计算统计量的观测值的数量即向前几个数据。 如果是offset类型，表示时间窗的大小。\n",
    "\n",
    "min_periods：每个窗口最少包含的观测值数量，小于这个值的窗口结果为NA。值可以是int，默认None。offset情况下，默认为1。\n",
    "\n",
    "center: 把窗口的标签设置为居中。布尔型，默认False，居右\n",
    "\n",
    "win_type: 窗口的类型。截取窗的各种函数。字符串类型，默认为None。各种类型\n",
    "\n",
    "on: 可选参数。对于dataframe而言，指定要计算滚动窗口的列。值为列名。\n",
    "\n",
    "axis: int、字符串，默认为0，即对列进行计算\n",
    "\n",
    "closed：定义区间的开闭，支持int类型的window。对于offset类型默认是左开右闭的即默认为right。可以根据情况指定为left both等。"
   ]
  },
  {
   "cell_type": "code",
   "execution_count": 16,
   "id": "8fbb8d9f",
   "metadata": {
    "ExecuteTime": {
     "end_time": "2021-05-21T15:27:11.333579Z",
     "start_time": "2021-05-21T15:27:11.271377Z"
    }
   },
   "outputs": [
    {
     "data": {
      "text/html": [
       "<div>\n",
       "<style scoped>\n",
       "    .dataframe tbody tr th:only-of-type {\n",
       "        vertical-align: middle;\n",
       "    }\n",
       "\n",
       "    .dataframe tbody tr th {\n",
       "        vertical-align: top;\n",
       "    }\n",
       "\n",
       "    .dataframe thead th {\n",
       "        text-align: right;\n",
       "    }\n",
       "</style>\n",
       "<table border=\"1\" class=\"dataframe\">\n",
       "  <thead>\n",
       "    <tr style=\"text-align: right;\">\n",
       "      <th></th>\n",
       "      <th>Open</th>\n",
       "      <th>High</th>\n",
       "      <th>Low</th>\n",
       "      <th>Close</th>\n",
       "      <th>Adj Close</th>\n",
       "      <th>Volume</th>\n",
       "      <th>ewm</th>\n",
       "    </tr>\n",
       "    <tr>\n",
       "      <th>Date</th>\n",
       "      <th></th>\n",
       "      <th></th>\n",
       "      <th></th>\n",
       "      <th></th>\n",
       "      <th></th>\n",
       "      <th></th>\n",
       "      <th></th>\n",
       "    </tr>\n",
       "  </thead>\n",
       "  <tbody>\n",
       "    <tr>\n",
       "      <th>2015-12-31</th>\n",
       "      <td>19.590000</td>\n",
       "      <td>19.660000</td>\n",
       "      <td>19.510000</td>\n",
       "      <td>19.620001</td>\n",
       "      <td>19.369148</td>\n",
       "      <td>382600</td>\n",
       "      <td>19.369148</td>\n",
       "    </tr>\n",
       "    <tr>\n",
       "      <th>2016-01-04</th>\n",
       "      <td>19.129999</td>\n",
       "      <td>19.260000</td>\n",
       "      <td>18.930000</td>\n",
       "      <td>19.129999</td>\n",
       "      <td>18.885412</td>\n",
       "      <td>469100</td>\n",
       "      <td>19.323078</td>\n",
       "    </tr>\n",
       "    <tr>\n",
       "      <th>2016-01-05</th>\n",
       "      <td>19.090000</td>\n",
       "      <td>19.230000</td>\n",
       "      <td>18.940001</td>\n",
       "      <td>19.080000</td>\n",
       "      <td>18.836052</td>\n",
       "      <td>170300</td>\n",
       "      <td>19.276695</td>\n",
       "    </tr>\n",
       "    <tr>\n",
       "      <th>2016-01-06</th>\n",
       "      <td>18.639999</td>\n",
       "      <td>18.709999</td>\n",
       "      <td>18.530001</td>\n",
       "      <td>18.660000</td>\n",
       "      <td>18.421425</td>\n",
       "      <td>333400</td>\n",
       "      <td>19.195240</td>\n",
       "    </tr>\n",
       "    <tr>\n",
       "      <th>2016-01-07</th>\n",
       "      <td>18.049999</td>\n",
       "      <td>18.200001</td>\n",
       "      <td>17.910000</td>\n",
       "      <td>17.910000</td>\n",
       "      <td>17.681011</td>\n",
       "      <td>548200</td>\n",
       "      <td>19.051028</td>\n",
       "    </tr>\n",
       "  </tbody>\n",
       "</table>\n",
       "</div>"
      ],
      "text/plain": [
       "                 Open       High        Low      Close  Adj Close  Volume  \\\n",
       "Date                                                                        \n",
       "2015-12-31  19.590000  19.660000  19.510000  19.620001  19.369148  382600   \n",
       "2016-01-04  19.129999  19.260000  18.930000  19.129999  18.885412  469100   \n",
       "2016-01-05  19.090000  19.230000  18.940001  19.080000  18.836052  170300   \n",
       "2016-01-06  18.639999  18.709999  18.530001  18.660000  18.421425  333400   \n",
       "2016-01-07  18.049999  18.200001  17.910000  17.910000  17.681011  548200   \n",
       "\n",
       "                  ewm  \n",
       "Date                   \n",
       "2015-12-31  19.369148  \n",
       "2016-01-04  19.323078  \n",
       "2016-01-05  19.276695  \n",
       "2016-01-06  19.195240  \n",
       "2016-01-07  19.051028  "
      ]
     },
     "execution_count": 16,
     "metadata": {},
     "output_type": "execute_result"
    }
   ],
   "source": [
    "# 指数加权函数ewm\n",
    "\n",
    "dataset['ewm'] = dataset['Adj Close'].ewm(span=20,\n",
    "                                              min_periods=0,\n",
    "                                              adjust=False,\n",
    "                                              ignore_na=False).mean()\n",
    "dataset.head()"
   ]
  },
  {
   "cell_type": "raw",
   "id": "f1a30169",
   "metadata": {},
   "source": [
    "函数解析\n",
    "DataFrame.ewm(com=None,  \n",
    "            span=None,  \n",
    "            halflife=None,  \n",
    "            alpha=None,  \n",
    "            min_periods=0,  \n",
    "            adjust=True,  \n",
    "            ignore_na=False,  \n",
    "            axis=0,  \n",
    "            times=None)\n",
    "提供指数加权（EW）函数。可用EW功能：mean()，var()，std()，corr()，cov()。参数：com，span，halflife，或alpha必须提供。"
   ]
  },
  {
   "cell_type": "code",
   "execution_count": 17,
   "id": "91e7c5f8",
   "metadata": {
    "ExecuteTime": {
     "end_time": "2021-05-21T15:28:19.279521Z",
     "start_time": "2021-05-21T15:28:19.263921Z"
    }
   },
   "outputs": [
    {
     "name": "stdout",
     "output_type": "stream",
     "text": [
      "19.59000015258789\n"
     ]
    }
   ],
   "source": [
    "# 提取数据\n",
    "\n",
    "# iloc[] \n",
    "print(dataset.iloc[0][0])"
   ]
  },
  {
   "cell_type": "code",
   "execution_count": 18,
   "id": "45c25b3a",
   "metadata": {
    "ExecuteTime": {
     "end_time": "2021-05-21T15:28:30.045300Z",
     "start_time": "2021-05-21T15:28:30.029700Z"
    }
   },
   "outputs": [
    {
     "name": "stdout",
     "output_type": "stream",
     "text": [
      "19.59000015258789\n"
     ]
    }
   ],
   "source": [
    "# iat[] \n",
    "print(dataset.iat[0,0])"
   ]
  },
  {
   "cell_type": "markdown",
   "id": "18ec194f",
   "metadata": {},
   "source": [
    "at的使用方法与loc类似，但是比loc有更快的访问数据的速度，而且只能访问单个元素，不能访问多个元素。iat与iloc类似。"
   ]
  },
  {
   "cell_type": "code",
   "execution_count": 21,
   "id": "502dee69",
   "metadata": {
    "ExecuteTime": {
     "end_time": "2021-05-21T15:29:26.695987Z",
     "start_time": "2021-05-21T15:29:26.680387Z"
    }
   },
   "outputs": [
    {
     "name": "stdout",
     "output_type": "stream",
     "text": [
      "19.65999984741211\n"
     ]
    }
   ],
   "source": [
    "# iloc[]\n",
    "print(dataset.iloc[0]['High'])"
   ]
  },
  {
   "cell_type": "code",
   "execution_count": 23,
   "id": "c639075d",
   "metadata": {
    "ExecuteTime": {
     "end_time": "2021-05-21T15:29:55.606349Z",
     "start_time": "2021-05-21T15:29:55.575149Z"
    }
   },
   "outputs": [
    {
     "name": "stdout",
     "output_type": "stream",
     "text": [
      "Open             19.590000\n",
      "High             19.660000\n",
      "Low              19.510000\n",
      "Close            19.620001\n",
      "Adj Close        19.369148\n",
      "Volume       382600.000000\n",
      "ewm              19.369148\n",
      "Name: 2015-12-31 00:00:00, dtype: float64\n"
     ]
    }
   ],
   "source": [
    "print(dataset.iloc[0])"
   ]
  },
  {
   "cell_type": "code",
   "execution_count": 24,
   "id": "a8490dd4",
   "metadata": {
    "ExecuteTime": {
     "end_time": "2021-05-21T15:30:13.604567Z",
     "start_time": "2021-05-21T15:30:13.579966Z"
    }
   },
   "outputs": [
    {
     "data": {
      "text/html": [
       "<div>\n",
       "<style scoped>\n",
       "    .dataframe tbody tr th:only-of-type {\n",
       "        vertical-align: middle;\n",
       "    }\n",
       "\n",
       "    .dataframe tbody tr th {\n",
       "        vertical-align: top;\n",
       "    }\n",
       "\n",
       "    .dataframe thead th {\n",
       "        text-align: right;\n",
       "    }\n",
       "</style>\n",
       "<table border=\"1\" class=\"dataframe\">\n",
       "  <thead>\n",
       "    <tr style=\"text-align: right;\">\n",
       "      <th></th>\n",
       "      <th>Date</th>\n",
       "      <th>Open</th>\n",
       "      <th>High</th>\n",
       "      <th>Low</th>\n",
       "      <th>Close</th>\n",
       "      <th>Adj Close</th>\n",
       "      <th>Volume</th>\n",
       "      <th>ewm</th>\n",
       "    </tr>\n",
       "  </thead>\n",
       "  <tbody>\n",
       "    <tr>\n",
       "      <th>0</th>\n",
       "      <td>2015-12-31</td>\n",
       "      <td>19.590000</td>\n",
       "      <td>19.660000</td>\n",
       "      <td>19.510000</td>\n",
       "      <td>19.620001</td>\n",
       "      <td>19.369148</td>\n",
       "      <td>382600</td>\n",
       "      <td>19.369148</td>\n",
       "    </tr>\n",
       "    <tr>\n",
       "      <th>1</th>\n",
       "      <td>2016-01-04</td>\n",
       "      <td>19.129999</td>\n",
       "      <td>19.260000</td>\n",
       "      <td>18.930000</td>\n",
       "      <td>19.129999</td>\n",
       "      <td>18.885412</td>\n",
       "      <td>469100</td>\n",
       "      <td>19.323078</td>\n",
       "    </tr>\n",
       "    <tr>\n",
       "      <th>2</th>\n",
       "      <td>2016-01-05</td>\n",
       "      <td>19.090000</td>\n",
       "      <td>19.230000</td>\n",
       "      <td>18.940001</td>\n",
       "      <td>19.080000</td>\n",
       "      <td>18.836052</td>\n",
       "      <td>170300</td>\n",
       "      <td>19.276695</td>\n",
       "    </tr>\n",
       "    <tr>\n",
       "      <th>3</th>\n",
       "      <td>2016-01-06</td>\n",
       "      <td>18.639999</td>\n",
       "      <td>18.709999</td>\n",
       "      <td>18.530001</td>\n",
       "      <td>18.660000</td>\n",
       "      <td>18.421425</td>\n",
       "      <td>333400</td>\n",
       "      <td>19.195240</td>\n",
       "    </tr>\n",
       "    <tr>\n",
       "      <th>4</th>\n",
       "      <td>2016-01-07</td>\n",
       "      <td>18.049999</td>\n",
       "      <td>18.200001</td>\n",
       "      <td>17.910000</td>\n",
       "      <td>17.910000</td>\n",
       "      <td>17.681011</td>\n",
       "      <td>548200</td>\n",
       "      <td>19.051028</td>\n",
       "    </tr>\n",
       "  </tbody>\n",
       "</table>\n",
       "</div>"
      ],
      "text/plain": [
       "        Date       Open       High        Low      Close  Adj Close  Volume  \\\n",
       "0 2015-12-31  19.590000  19.660000  19.510000  19.620001  19.369148  382600   \n",
       "1 2016-01-04  19.129999  19.260000  18.930000  19.129999  18.885412  469100   \n",
       "2 2016-01-05  19.090000  19.230000  18.940001  19.080000  18.836052  170300   \n",
       "3 2016-01-06  18.639999  18.709999  18.530001  18.660000  18.421425  333400   \n",
       "4 2016-01-07  18.049999  18.200001  17.910000  17.910000  17.681011  548200   \n",
       "\n",
       "         ewm  \n",
       "0  19.369148  \n",
       "1  19.323078  \n",
       "2  19.276695  \n",
       "3  19.195240  \n",
       "4  19.051028  "
      ]
     },
     "execution_count": 24,
     "metadata": {},
     "output_type": "execute_result"
    }
   ],
   "source": [
    "# 重置索引\n",
    "df = dataset.reset_index()\n",
    "df.head()"
   ]
  },
  {
   "cell_type": "code",
   "execution_count": 25,
   "id": "1fe5df3e",
   "metadata": {
    "ExecuteTime": {
     "end_time": "2021-05-21T15:30:39.283491Z",
     "start_time": "2021-05-21T15:30:39.259890Z"
    }
   },
   "outputs": [
    {
     "data": {
      "text/html": [
       "<div>\n",
       "<style scoped>\n",
       "    .dataframe tbody tr th:only-of-type {\n",
       "        vertical-align: middle;\n",
       "    }\n",
       "\n",
       "    .dataframe tbody tr th {\n",
       "        vertical-align: top;\n",
       "    }\n",
       "\n",
       "    .dataframe thead th {\n",
       "        text-align: right;\n",
       "    }\n",
       "</style>\n",
       "<table border=\"1\" class=\"dataframe\">\n",
       "  <thead>\n",
       "    <tr style=\"text-align: right;\">\n",
       "      <th></th>\n",
       "      <th>Open</th>\n",
       "      <th>High</th>\n",
       "      <th>Low</th>\n",
       "      <th>Close</th>\n",
       "      <th>Adj Close</th>\n",
       "      <th>Volume</th>\n",
       "      <th>ewm</th>\n",
       "    </tr>\n",
       "  </thead>\n",
       "  <tbody>\n",
       "    <tr>\n",
       "      <th>0</th>\n",
       "      <td>19.590000</td>\n",
       "      <td>19.660000</td>\n",
       "      <td>19.510000</td>\n",
       "      <td>19.620001</td>\n",
       "      <td>19.369148</td>\n",
       "      <td>382600</td>\n",
       "      <td>19.369148</td>\n",
       "    </tr>\n",
       "    <tr>\n",
       "      <th>1</th>\n",
       "      <td>19.129999</td>\n",
       "      <td>19.260000</td>\n",
       "      <td>18.930000</td>\n",
       "      <td>19.129999</td>\n",
       "      <td>18.885412</td>\n",
       "      <td>469100</td>\n",
       "      <td>19.323078</td>\n",
       "    </tr>\n",
       "    <tr>\n",
       "      <th>2</th>\n",
       "      <td>19.090000</td>\n",
       "      <td>19.230000</td>\n",
       "      <td>18.940001</td>\n",
       "      <td>19.080000</td>\n",
       "      <td>18.836052</td>\n",
       "      <td>170300</td>\n",
       "      <td>19.276695</td>\n",
       "    </tr>\n",
       "    <tr>\n",
       "      <th>3</th>\n",
       "      <td>18.639999</td>\n",
       "      <td>18.709999</td>\n",
       "      <td>18.530001</td>\n",
       "      <td>18.660000</td>\n",
       "      <td>18.421425</td>\n",
       "      <td>333400</td>\n",
       "      <td>19.195240</td>\n",
       "    </tr>\n",
       "    <tr>\n",
       "      <th>4</th>\n",
       "      <td>18.049999</td>\n",
       "      <td>18.200001</td>\n",
       "      <td>17.910000</td>\n",
       "      <td>17.910000</td>\n",
       "      <td>17.681011</td>\n",
       "      <td>548200</td>\n",
       "      <td>19.051028</td>\n",
       "    </tr>\n",
       "  </tbody>\n",
       "</table>\n",
       "</div>"
      ],
      "text/plain": [
       "        Open       High        Low      Close  Adj Close  Volume        ewm\n",
       "0  19.590000  19.660000  19.510000  19.620001  19.369148  382600  19.369148\n",
       "1  19.129999  19.260000  18.930000  19.129999  18.885412  469100  19.323078\n",
       "2  19.090000  19.230000  18.940001  19.080000  18.836052  170300  19.276695\n",
       "3  18.639999  18.709999  18.530001  18.660000  18.421425  333400  19.195240\n",
       "4  18.049999  18.200001  17.910000  17.910000  17.681011  548200  19.051028"
      ]
     },
     "execution_count": 25,
     "metadata": {},
     "output_type": "execute_result"
    }
   ],
   "source": [
    "# 删除列\n",
    "\n",
    "# 删除数据\n",
    "new_df = df.drop(['Date'], axis=1)\n",
    "new_df.head()"
   ]
  },
  {
   "cell_type": "code",
   "execution_count": 26,
   "id": "88e60362",
   "metadata": {
    "ExecuteTime": {
     "end_time": "2021-05-21T15:30:58.701328Z",
     "start_time": "2021-05-21T15:30:58.676728Z"
    }
   },
   "outputs": [
    {
     "data": {
      "text/html": [
       "<div>\n",
       "<style scoped>\n",
       "    .dataframe tbody tr th:only-of-type {\n",
       "        vertical-align: middle;\n",
       "    }\n",
       "\n",
       "    .dataframe tbody tr th {\n",
       "        vertical-align: top;\n",
       "    }\n",
       "\n",
       "    .dataframe thead th {\n",
       "        text-align: right;\n",
       "    }\n",
       "</style>\n",
       "<table border=\"1\" class=\"dataframe\">\n",
       "  <thead>\n",
       "    <tr style=\"text-align: right;\">\n",
       "      <th></th>\n",
       "      <th>Open</th>\n",
       "      <th>High</th>\n",
       "      <th>Low</th>\n",
       "      <th>Close</th>\n",
       "      <th>Adj Close</th>\n",
       "      <th>Volume</th>\n",
       "      <th>ewm</th>\n",
       "      <th>Date</th>\n",
       "    </tr>\n",
       "  </thead>\n",
       "  <tbody>\n",
       "    <tr>\n",
       "      <th>0</th>\n",
       "      <td>19.590000</td>\n",
       "      <td>19.660000</td>\n",
       "      <td>19.510000</td>\n",
       "      <td>19.620001</td>\n",
       "      <td>19.369148</td>\n",
       "      <td>382600</td>\n",
       "      <td>19.369148</td>\n",
       "      <td>2015-12-31</td>\n",
       "    </tr>\n",
       "    <tr>\n",
       "      <th>1</th>\n",
       "      <td>19.129999</td>\n",
       "      <td>19.260000</td>\n",
       "      <td>18.930000</td>\n",
       "      <td>19.129999</td>\n",
       "      <td>18.885412</td>\n",
       "      <td>469100</td>\n",
       "      <td>19.323078</td>\n",
       "      <td>2016-01-04</td>\n",
       "    </tr>\n",
       "    <tr>\n",
       "      <th>2</th>\n",
       "      <td>19.090000</td>\n",
       "      <td>19.230000</td>\n",
       "      <td>18.940001</td>\n",
       "      <td>19.080000</td>\n",
       "      <td>18.836052</td>\n",
       "      <td>170300</td>\n",
       "      <td>19.276695</td>\n",
       "      <td>2016-01-05</td>\n",
       "    </tr>\n",
       "    <tr>\n",
       "      <th>3</th>\n",
       "      <td>18.639999</td>\n",
       "      <td>18.709999</td>\n",
       "      <td>18.530001</td>\n",
       "      <td>18.660000</td>\n",
       "      <td>18.421425</td>\n",
       "      <td>333400</td>\n",
       "      <td>19.195240</td>\n",
       "      <td>2016-01-06</td>\n",
       "    </tr>\n",
       "    <tr>\n",
       "      <th>4</th>\n",
       "      <td>18.049999</td>\n",
       "      <td>18.200001</td>\n",
       "      <td>17.910000</td>\n",
       "      <td>17.910000</td>\n",
       "      <td>17.681011</td>\n",
       "      <td>548200</td>\n",
       "      <td>19.051028</td>\n",
       "      <td>2016-01-07</td>\n",
       "    </tr>\n",
       "  </tbody>\n",
       "</table>\n",
       "</div>"
      ],
      "text/plain": [
       "        Open       High        Low      Close  Adj Close  Volume        ewm  \\\n",
       "0  19.590000  19.660000  19.510000  19.620001  19.369148  382600  19.369148   \n",
       "1  19.129999  19.260000  18.930000  19.129999  18.885412  469100  19.323078   \n",
       "2  19.090000  19.230000  18.940001  19.080000  18.836052  170300  19.276695   \n",
       "3  18.639999  18.709999  18.530001  18.660000  18.421425  333400  19.195240   \n",
       "4  18.049999  18.200001  17.910000  17.910000  17.681011  548200  19.051028   \n",
       "\n",
       "        Date  \n",
       "0 2015-12-31  \n",
       "1 2016-01-04  \n",
       "2 2016-01-05  \n",
       "3 2016-01-06  \n",
       "4 2016-01-07  "
      ]
     },
     "execution_count": 26,
     "metadata": {},
     "output_type": "execute_result"
    }
   ],
   "source": [
    "#添加列\n",
    "# 添加日期\n",
    "new_column = df['Date']\n",
    "new_df['Date'] = new_column\n",
    "new_df.head()"
   ]
  },
  {
   "cell_type": "code",
   "execution_count": 27,
   "id": "4c0ea4be",
   "metadata": {
    "ExecuteTime": {
     "end_time": "2021-05-21T15:31:19.069225Z",
     "start_time": "2021-05-21T15:31:19.038025Z"
    }
   },
   "outputs": [
    {
     "data": {
      "text/plain": [
       "['Date', 'Open', 'High', 'Low', 'Close', 'Adj Close', 'Volume', 'ewm']"
      ]
     },
     "execution_count": 27,
     "metadata": {},
     "output_type": "execute_result"
    }
   ],
   "source": [
    "#移动列\n",
    "# 将 Date 移动至第一列\n",
    "cols = list(new_df)\n",
    "cols.insert(0, cols.pop(cols.index('Date')))\n",
    "cols"
   ]
  },
  {
   "cell_type": "code",
   "execution_count": 28,
   "id": "8cf365d6",
   "metadata": {
    "ExecuteTime": {
     "end_time": "2021-05-21T15:31:30.525827Z",
     "start_time": "2021-05-21T15:31:30.487627Z"
    }
   },
   "outputs": [
    {
     "data": {
      "text/html": [
       "<div>\n",
       "<style scoped>\n",
       "    .dataframe tbody tr th:only-of-type {\n",
       "        vertical-align: middle;\n",
       "    }\n",
       "\n",
       "    .dataframe tbody tr th {\n",
       "        vertical-align: top;\n",
       "    }\n",
       "\n",
       "    .dataframe thead th {\n",
       "        text-align: right;\n",
       "    }\n",
       "</style>\n",
       "<table border=\"1\" class=\"dataframe\">\n",
       "  <thead>\n",
       "    <tr style=\"text-align: right;\">\n",
       "      <th></th>\n",
       "      <th>Date</th>\n",
       "      <th>Open</th>\n",
       "      <th>High</th>\n",
       "      <th>Low</th>\n",
       "      <th>Close</th>\n",
       "      <th>Adj Close</th>\n",
       "      <th>Volume</th>\n",
       "      <th>ewm</th>\n",
       "    </tr>\n",
       "  </thead>\n",
       "  <tbody>\n",
       "    <tr>\n",
       "      <th>0</th>\n",
       "      <td>2015-12-31</td>\n",
       "      <td>19.590000</td>\n",
       "      <td>19.660000</td>\n",
       "      <td>19.510000</td>\n",
       "      <td>19.620001</td>\n",
       "      <td>19.369148</td>\n",
       "      <td>382600</td>\n",
       "      <td>19.369148</td>\n",
       "    </tr>\n",
       "    <tr>\n",
       "      <th>1</th>\n",
       "      <td>2016-01-04</td>\n",
       "      <td>19.129999</td>\n",
       "      <td>19.260000</td>\n",
       "      <td>18.930000</td>\n",
       "      <td>19.129999</td>\n",
       "      <td>18.885412</td>\n",
       "      <td>469100</td>\n",
       "      <td>19.323078</td>\n",
       "    </tr>\n",
       "    <tr>\n",
       "      <th>2</th>\n",
       "      <td>2016-01-05</td>\n",
       "      <td>19.090000</td>\n",
       "      <td>19.230000</td>\n",
       "      <td>18.940001</td>\n",
       "      <td>19.080000</td>\n",
       "      <td>18.836052</td>\n",
       "      <td>170300</td>\n",
       "      <td>19.276695</td>\n",
       "    </tr>\n",
       "    <tr>\n",
       "      <th>3</th>\n",
       "      <td>2016-01-06</td>\n",
       "      <td>18.639999</td>\n",
       "      <td>18.709999</td>\n",
       "      <td>18.530001</td>\n",
       "      <td>18.660000</td>\n",
       "      <td>18.421425</td>\n",
       "      <td>333400</td>\n",
       "      <td>19.195240</td>\n",
       "    </tr>\n",
       "    <tr>\n",
       "      <th>4</th>\n",
       "      <td>2016-01-07</td>\n",
       "      <td>18.049999</td>\n",
       "      <td>18.200001</td>\n",
       "      <td>17.910000</td>\n",
       "      <td>17.910000</td>\n",
       "      <td>17.681011</td>\n",
       "      <td>548200</td>\n",
       "      <td>19.051028</td>\n",
       "    </tr>\n",
       "  </tbody>\n",
       "</table>\n",
       "</div>"
      ],
      "text/plain": [
       "        Date       Open       High        Low      Close  Adj Close  Volume  \\\n",
       "0 2015-12-31  19.590000  19.660000  19.510000  19.620001  19.369148  382600   \n",
       "1 2016-01-04  19.129999  19.260000  18.930000  19.129999  18.885412  469100   \n",
       "2 2016-01-05  19.090000  19.230000  18.940001  19.080000  18.836052  170300   \n",
       "3 2016-01-06  18.639999  18.709999  18.530001  18.660000  18.421425  333400   \n",
       "4 2016-01-07  18.049999  18.200001  17.910000  17.910000  17.681011  548200   \n",
       "\n",
       "         ewm  \n",
       "0  19.369148  \n",
       "1  19.323078  \n",
       "2  19.276695  \n",
       "3  19.195240  \n",
       "4  19.051028  "
      ]
     },
     "execution_count": 28,
     "metadata": {},
     "output_type": "execute_result"
    }
   ],
   "source": [
    "# loc是DataFrame有索引标记的值的\n",
    "new_df = new_df.loc[:, cols]\n",
    "new_df.head()"
   ]
  },
  {
   "cell_type": "code",
   "execution_count": 29,
   "id": "fad81626",
   "metadata": {
    "ExecuteTime": {
     "end_time": "2021-05-21T15:31:49.402492Z",
     "start_time": "2021-05-21T15:31:49.379891Z"
    }
   },
   "outputs": [
    {
     "data": {
      "text/html": [
       "<div>\n",
       "<style scoped>\n",
       "    .dataframe tbody tr th:only-of-type {\n",
       "        vertical-align: middle;\n",
       "    }\n",
       "\n",
       "    .dataframe tbody tr th {\n",
       "        vertical-align: top;\n",
       "    }\n",
       "\n",
       "    .dataframe thead th {\n",
       "        text-align: right;\n",
       "    }\n",
       "</style>\n",
       "<table border=\"1\" class=\"dataframe\">\n",
       "  <thead>\n",
       "    <tr style=\"text-align: right;\">\n",
       "      <th></th>\n",
       "      <th>Date</th>\n",
       "      <th>Open</th>\n",
       "      <th>High</th>\n",
       "      <th>Low</th>\n",
       "      <th>Adj Close</th>\n",
       "      <th>Volume</th>\n",
       "      <th>ewm</th>\n",
       "    </tr>\n",
       "  </thead>\n",
       "  <tbody>\n",
       "    <tr>\n",
       "      <th>0</th>\n",
       "      <td>2015-12-31</td>\n",
       "      <td>19.590000</td>\n",
       "      <td>19.660000</td>\n",
       "      <td>19.510000</td>\n",
       "      <td>19.369148</td>\n",
       "      <td>382600</td>\n",
       "      <td>19.369148</td>\n",
       "    </tr>\n",
       "    <tr>\n",
       "      <th>1</th>\n",
       "      <td>2016-01-04</td>\n",
       "      <td>19.129999</td>\n",
       "      <td>19.260000</td>\n",
       "      <td>18.930000</td>\n",
       "      <td>18.885412</td>\n",
       "      <td>469100</td>\n",
       "      <td>19.323078</td>\n",
       "    </tr>\n",
       "    <tr>\n",
       "      <th>2</th>\n",
       "      <td>2016-01-05</td>\n",
       "      <td>19.090000</td>\n",
       "      <td>19.230000</td>\n",
       "      <td>18.940001</td>\n",
       "      <td>18.836052</td>\n",
       "      <td>170300</td>\n",
       "      <td>19.276695</td>\n",
       "    </tr>\n",
       "    <tr>\n",
       "      <th>3</th>\n",
       "      <td>2016-01-06</td>\n",
       "      <td>18.639999</td>\n",
       "      <td>18.709999</td>\n",
       "      <td>18.530001</td>\n",
       "      <td>18.421425</td>\n",
       "      <td>333400</td>\n",
       "      <td>19.195240</td>\n",
       "    </tr>\n",
       "    <tr>\n",
       "      <th>4</th>\n",
       "      <td>2016-01-07</td>\n",
       "      <td>18.049999</td>\n",
       "      <td>18.200001</td>\n",
       "      <td>17.910000</td>\n",
       "      <td>17.681011</td>\n",
       "      <td>548200</td>\n",
       "      <td>19.051028</td>\n",
       "    </tr>\n",
       "  </tbody>\n",
       "</table>\n",
       "</div>"
      ],
      "text/plain": [
       "        Date       Open       High        Low  Adj Close  Volume        ewm\n",
       "0 2015-12-31  19.590000  19.660000  19.510000  19.369148  382600  19.369148\n",
       "1 2016-01-04  19.129999  19.260000  18.930000  18.885412  469100  19.323078\n",
       "2 2016-01-05  19.090000  19.230000  18.940001  18.836052  170300  19.276695\n",
       "3 2016-01-06  18.639999  18.709999  18.530001  18.421425  333400  19.195240\n",
       "4 2016-01-07  18.049999  18.200001  17.910000  17.681011  548200  19.051028"
      ]
     },
     "execution_count": 29,
     "metadata": {},
     "output_type": "execute_result"
    }
   ],
   "source": [
    "#删除列\n",
    "del new_df['Close']\n",
    "new_df.head()"
   ]
  },
  {
   "cell_type": "code",
   "execution_count": 30,
   "id": "6844fd61",
   "metadata": {
    "ExecuteTime": {
     "end_time": "2021-05-21T15:32:08.597476Z",
     "start_time": "2021-05-21T15:32:08.573876Z"
    }
   },
   "outputs": [
    {
     "data": {
      "text/html": [
       "<div>\n",
       "<style scoped>\n",
       "    .dataframe tbody tr th:only-of-type {\n",
       "        vertical-align: middle;\n",
       "    }\n",
       "\n",
       "    .dataframe tbody tr th {\n",
       "        vertical-align: top;\n",
       "    }\n",
       "\n",
       "    .dataframe thead th {\n",
       "        text-align: right;\n",
       "    }\n",
       "</style>\n",
       "<table border=\"1\" class=\"dataframe\">\n",
       "  <thead>\n",
       "    <tr style=\"text-align: right;\">\n",
       "      <th></th>\n",
       "      <th>Date</th>\n",
       "      <th>Open</th>\n",
       "      <th>High</th>\n",
       "      <th>Low</th>\n",
       "      <th>Close</th>\n",
       "      <th>Volume</th>\n",
       "      <th>ewm</th>\n",
       "    </tr>\n",
       "  </thead>\n",
       "  <tbody>\n",
       "    <tr>\n",
       "      <th>0</th>\n",
       "      <td>2015-12-31</td>\n",
       "      <td>19.590000</td>\n",
       "      <td>19.660000</td>\n",
       "      <td>19.510000</td>\n",
       "      <td>19.369148</td>\n",
       "      <td>382600</td>\n",
       "      <td>19.369148</td>\n",
       "    </tr>\n",
       "    <tr>\n",
       "      <th>1</th>\n",
       "      <td>2016-01-04</td>\n",
       "      <td>19.129999</td>\n",
       "      <td>19.260000</td>\n",
       "      <td>18.930000</td>\n",
       "      <td>18.885412</td>\n",
       "      <td>469100</td>\n",
       "      <td>19.323078</td>\n",
       "    </tr>\n",
       "    <tr>\n",
       "      <th>2</th>\n",
       "      <td>2016-01-05</td>\n",
       "      <td>19.090000</td>\n",
       "      <td>19.230000</td>\n",
       "      <td>18.940001</td>\n",
       "      <td>18.836052</td>\n",
       "      <td>170300</td>\n",
       "      <td>19.276695</td>\n",
       "    </tr>\n",
       "    <tr>\n",
       "      <th>3</th>\n",
       "      <td>2016-01-06</td>\n",
       "      <td>18.639999</td>\n",
       "      <td>18.709999</td>\n",
       "      <td>18.530001</td>\n",
       "      <td>18.421425</td>\n",
       "      <td>333400</td>\n",
       "      <td>19.195240</td>\n",
       "    </tr>\n",
       "    <tr>\n",
       "      <th>4</th>\n",
       "      <td>2016-01-07</td>\n",
       "      <td>18.049999</td>\n",
       "      <td>18.200001</td>\n",
       "      <td>17.910000</td>\n",
       "      <td>17.681011</td>\n",
       "      <td>548200</td>\n",
       "      <td>19.051028</td>\n",
       "    </tr>\n",
       "  </tbody>\n",
       "</table>\n",
       "</div>"
      ],
      "text/plain": [
       "        Date       Open       High        Low      Close  Volume        ewm\n",
       "0 2015-12-31  19.590000  19.660000  19.510000  19.369148  382600  19.369148\n",
       "1 2016-01-04  19.129999  19.260000  18.930000  18.885412  469100  19.323078\n",
       "2 2016-01-05  19.090000  19.230000  18.940001  18.836052  170300  19.276695\n",
       "3 2016-01-06  18.639999  18.709999  18.530001  18.421425  333400  19.195240\n",
       "4 2016-01-07  18.049999  18.200001  17.910000  17.681011  548200  19.051028"
      ]
     },
     "execution_count": 30,
     "metadata": {},
     "output_type": "execute_result"
    }
   ],
   "source": [
    "#重命名列\n",
    "#重命名\n",
    "new_df = new_df.rename(index=str,  \n",
    "                           columns={'Adj Close':'Close'})\n",
    "new_df.head()"
   ]
  },
  {
   "cell_type": "code",
   "execution_count": 31,
   "id": "067defe7",
   "metadata": {
    "ExecuteTime": {
     "end_time": "2021-05-21T15:32:20.194673Z",
     "start_time": "2021-05-21T15:32:20.164072Z"
    }
   },
   "outputs": [
    {
     "data": {
      "text/html": [
       "<div>\n",
       "<style scoped>\n",
       "    .dataframe tbody tr th:only-of-type {\n",
       "        vertical-align: middle;\n",
       "    }\n",
       "\n",
       "    .dataframe tbody tr th {\n",
       "        vertical-align: top;\n",
       "    }\n",
       "\n",
       "    .dataframe thead th {\n",
       "        text-align: right;\n",
       "    }\n",
       "</style>\n",
       "<table border=\"1\" class=\"dataframe\">\n",
       "  <thead>\n",
       "    <tr style=\"text-align: right;\">\n",
       "      <th></th>\n",
       "      <th>DATE</th>\n",
       "      <th>OPEN</th>\n",
       "      <th>HIGH</th>\n",
       "      <th>LOW</th>\n",
       "      <th>CLOSE</th>\n",
       "      <th>VOLUME</th>\n",
       "      <th>EWM</th>\n",
       "    </tr>\n",
       "  </thead>\n",
       "  <tbody>\n",
       "    <tr>\n",
       "      <th>0</th>\n",
       "      <td>2015-12-31</td>\n",
       "      <td>19.590000</td>\n",
       "      <td>19.660000</td>\n",
       "      <td>19.510000</td>\n",
       "      <td>19.369148</td>\n",
       "      <td>382600</td>\n",
       "      <td>19.369148</td>\n",
       "    </tr>\n",
       "    <tr>\n",
       "      <th>1</th>\n",
       "      <td>2016-01-04</td>\n",
       "      <td>19.129999</td>\n",
       "      <td>19.260000</td>\n",
       "      <td>18.930000</td>\n",
       "      <td>18.885412</td>\n",
       "      <td>469100</td>\n",
       "      <td>19.323078</td>\n",
       "    </tr>\n",
       "    <tr>\n",
       "      <th>2</th>\n",
       "      <td>2016-01-05</td>\n",
       "      <td>19.090000</td>\n",
       "      <td>19.230000</td>\n",
       "      <td>18.940001</td>\n",
       "      <td>18.836052</td>\n",
       "      <td>170300</td>\n",
       "      <td>19.276695</td>\n",
       "    </tr>\n",
       "    <tr>\n",
       "      <th>3</th>\n",
       "      <td>2016-01-06</td>\n",
       "      <td>18.639999</td>\n",
       "      <td>18.709999</td>\n",
       "      <td>18.530001</td>\n",
       "      <td>18.421425</td>\n",
       "      <td>333400</td>\n",
       "      <td>19.195240</td>\n",
       "    </tr>\n",
       "    <tr>\n",
       "      <th>4</th>\n",
       "      <td>2016-01-07</td>\n",
       "      <td>18.049999</td>\n",
       "      <td>18.200001</td>\n",
       "      <td>17.910000</td>\n",
       "      <td>17.681011</td>\n",
       "      <td>548200</td>\n",
       "      <td>19.051028</td>\n",
       "    </tr>\n",
       "    <tr>\n",
       "      <th>...</th>\n",
       "      <td>...</td>\n",
       "      <td>...</td>\n",
       "      <td>...</td>\n",
       "      <td>...</td>\n",
       "      <td>...</td>\n",
       "      <td>...</td>\n",
       "      <td>...</td>\n",
       "    </tr>\n",
       "    <tr>\n",
       "      <th>1315</th>\n",
       "      <td>2021-03-24</td>\n",
       "      <td>80.930000</td>\n",
       "      <td>81.160004</td>\n",
       "      <td>76.599998</td>\n",
       "      <td>76.809998</td>\n",
       "      <td>5983900</td>\n",
       "      <td>84.254647</td>\n",
       "    </tr>\n",
       "    <tr>\n",
       "      <th>1316</th>\n",
       "      <td>2021-03-25</td>\n",
       "      <td>77.309998</td>\n",
       "      <td>78.190002</td>\n",
       "      <td>76.800003</td>\n",
       "      <td>77.419998</td>\n",
       "      <td>4747400</td>\n",
       "      <td>83.603728</td>\n",
       "    </tr>\n",
       "    <tr>\n",
       "      <th>1317</th>\n",
       "      <td>2021-03-26</td>\n",
       "      <td>79.440002</td>\n",
       "      <td>80.980003</td>\n",
       "      <td>77.820000</td>\n",
       "      <td>80.980003</td>\n",
       "      <td>5923100</td>\n",
       "      <td>83.353850</td>\n",
       "    </tr>\n",
       "    <tr>\n",
       "      <th>1318</th>\n",
       "      <td>2021-03-29</td>\n",
       "      <td>79.190002</td>\n",
       "      <td>79.800003</td>\n",
       "      <td>78.070000</td>\n",
       "      <td>78.690002</td>\n",
       "      <td>3468900</td>\n",
       "      <td>82.909674</td>\n",
       "    </tr>\n",
       "    <tr>\n",
       "      <th>1319</th>\n",
       "      <td>2021-03-30</td>\n",
       "      <td>78.570000</td>\n",
       "      <td>79.410004</td>\n",
       "      <td>78.029999</td>\n",
       "      <td>78.830002</td>\n",
       "      <td>1715900</td>\n",
       "      <td>82.521134</td>\n",
       "    </tr>\n",
       "  </tbody>\n",
       "</table>\n",
       "<p>1320 rows × 7 columns</p>\n",
       "</div>"
      ],
      "text/plain": [
       "           DATE       OPEN       HIGH        LOW      CLOSE   VOLUME  \\\n",
       "0    2015-12-31  19.590000  19.660000  19.510000  19.369148   382600   \n",
       "1    2016-01-04  19.129999  19.260000  18.930000  18.885412   469100   \n",
       "2    2016-01-05  19.090000  19.230000  18.940001  18.836052   170300   \n",
       "3    2016-01-06  18.639999  18.709999  18.530001  18.421425   333400   \n",
       "4    2016-01-07  18.049999  18.200001  17.910000  17.681011   548200   \n",
       "...         ...        ...        ...        ...        ...      ...   \n",
       "1315 2021-03-24  80.930000  81.160004  76.599998  76.809998  5983900   \n",
       "1316 2021-03-25  77.309998  78.190002  76.800003  77.419998  4747400   \n",
       "1317 2021-03-26  79.440002  80.980003  77.820000  80.980003  5923100   \n",
       "1318 2021-03-29  79.190002  79.800003  78.070000  78.690002  3468900   \n",
       "1319 2021-03-30  78.570000  79.410004  78.029999  78.830002  1715900   \n",
       "\n",
       "            EWM  \n",
       "0     19.369148  \n",
       "1     19.323078  \n",
       "2     19.276695  \n",
       "3     19.195240  \n",
       "4     19.051028  \n",
       "...         ...  \n",
       "1315  84.254647  \n",
       "1316  83.603728  \n",
       "1317  83.353850  \n",
       "1318  82.909674  \n",
       "1319  82.521134  \n",
       "\n",
       "[1320 rows x 7 columns]"
      ]
     },
     "execution_count": 31,
     "metadata": {},
     "output_type": "execute_result"
    }
   ],
   "source": [
    "#列名改为大写\n",
    "new_df.rename(str.upper, axis='columns')"
   ]
  },
  {
   "cell_type": "code",
   "execution_count": 32,
   "id": "08872a34",
   "metadata": {
    "ExecuteTime": {
     "end_time": "2021-05-21T15:32:33.243156Z",
     "start_time": "2021-05-21T15:32:33.198955Z"
    }
   },
   "outputs": [
    {
     "data": {
      "text/html": [
       "<div>\n",
       "<style scoped>\n",
       "    .dataframe tbody tr th:only-of-type {\n",
       "        vertical-align: middle;\n",
       "    }\n",
       "\n",
       "    .dataframe tbody tr th {\n",
       "        vertical-align: top;\n",
       "    }\n",
       "\n",
       "    .dataframe thead th {\n",
       "        text-align: right;\n",
       "    }\n",
       "</style>\n",
       "<table border=\"1\" class=\"dataframe\">\n",
       "  <thead>\n",
       "    <tr style=\"text-align: right;\">\n",
       "      <th></th>\n",
       "      <th>date</th>\n",
       "      <th>open</th>\n",
       "      <th>high</th>\n",
       "      <th>low</th>\n",
       "      <th>close</th>\n",
       "      <th>volume</th>\n",
       "      <th>ewm</th>\n",
       "    </tr>\n",
       "  </thead>\n",
       "  <tbody>\n",
       "    <tr>\n",
       "      <th>0</th>\n",
       "      <td>2015-12-31</td>\n",
       "      <td>19.590000</td>\n",
       "      <td>19.660000</td>\n",
       "      <td>19.510000</td>\n",
       "      <td>19.369148</td>\n",
       "      <td>382600</td>\n",
       "      <td>19.369148</td>\n",
       "    </tr>\n",
       "    <tr>\n",
       "      <th>1</th>\n",
       "      <td>2016-01-04</td>\n",
       "      <td>19.129999</td>\n",
       "      <td>19.260000</td>\n",
       "      <td>18.930000</td>\n",
       "      <td>18.885412</td>\n",
       "      <td>469100</td>\n",
       "      <td>19.323078</td>\n",
       "    </tr>\n",
       "    <tr>\n",
       "      <th>2</th>\n",
       "      <td>2016-01-05</td>\n",
       "      <td>19.090000</td>\n",
       "      <td>19.230000</td>\n",
       "      <td>18.940001</td>\n",
       "      <td>18.836052</td>\n",
       "      <td>170300</td>\n",
       "      <td>19.276695</td>\n",
       "    </tr>\n",
       "    <tr>\n",
       "      <th>3</th>\n",
       "      <td>2016-01-06</td>\n",
       "      <td>18.639999</td>\n",
       "      <td>18.709999</td>\n",
       "      <td>18.530001</td>\n",
       "      <td>18.421425</td>\n",
       "      <td>333400</td>\n",
       "      <td>19.195240</td>\n",
       "    </tr>\n",
       "    <tr>\n",
       "      <th>4</th>\n",
       "      <td>2016-01-07</td>\n",
       "      <td>18.049999</td>\n",
       "      <td>18.200001</td>\n",
       "      <td>17.910000</td>\n",
       "      <td>17.681011</td>\n",
       "      <td>548200</td>\n",
       "      <td>19.051028</td>\n",
       "    </tr>\n",
       "    <tr>\n",
       "      <th>...</th>\n",
       "      <td>...</td>\n",
       "      <td>...</td>\n",
       "      <td>...</td>\n",
       "      <td>...</td>\n",
       "      <td>...</td>\n",
       "      <td>...</td>\n",
       "      <td>...</td>\n",
       "    </tr>\n",
       "    <tr>\n",
       "      <th>1315</th>\n",
       "      <td>2021-03-24</td>\n",
       "      <td>80.930000</td>\n",
       "      <td>81.160004</td>\n",
       "      <td>76.599998</td>\n",
       "      <td>76.809998</td>\n",
       "      <td>5983900</td>\n",
       "      <td>84.254647</td>\n",
       "    </tr>\n",
       "    <tr>\n",
       "      <th>1316</th>\n",
       "      <td>2021-03-25</td>\n",
       "      <td>77.309998</td>\n",
       "      <td>78.190002</td>\n",
       "      <td>76.800003</td>\n",
       "      <td>77.419998</td>\n",
       "      <td>4747400</td>\n",
       "      <td>83.603728</td>\n",
       "    </tr>\n",
       "    <tr>\n",
       "      <th>1317</th>\n",
       "      <td>2021-03-26</td>\n",
       "      <td>79.440002</td>\n",
       "      <td>80.980003</td>\n",
       "      <td>77.820000</td>\n",
       "      <td>80.980003</td>\n",
       "      <td>5923100</td>\n",
       "      <td>83.353850</td>\n",
       "    </tr>\n",
       "    <tr>\n",
       "      <th>1318</th>\n",
       "      <td>2021-03-29</td>\n",
       "      <td>79.190002</td>\n",
       "      <td>79.800003</td>\n",
       "      <td>78.070000</td>\n",
       "      <td>78.690002</td>\n",
       "      <td>3468900</td>\n",
       "      <td>82.909674</td>\n",
       "    </tr>\n",
       "    <tr>\n",
       "      <th>1319</th>\n",
       "      <td>2021-03-30</td>\n",
       "      <td>78.570000</td>\n",
       "      <td>79.410004</td>\n",
       "      <td>78.029999</td>\n",
       "      <td>78.830002</td>\n",
       "      <td>1715900</td>\n",
       "      <td>82.521134</td>\n",
       "    </tr>\n",
       "  </tbody>\n",
       "</table>\n",
       "<p>1320 rows × 7 columns</p>\n",
       "</div>"
      ],
      "text/plain": [
       "           date       open       high        low      close   volume  \\\n",
       "0    2015-12-31  19.590000  19.660000  19.510000  19.369148   382600   \n",
       "1    2016-01-04  19.129999  19.260000  18.930000  18.885412   469100   \n",
       "2    2016-01-05  19.090000  19.230000  18.940001  18.836052   170300   \n",
       "3    2016-01-06  18.639999  18.709999  18.530001  18.421425   333400   \n",
       "4    2016-01-07  18.049999  18.200001  17.910000  17.681011   548200   \n",
       "...         ...        ...        ...        ...        ...      ...   \n",
       "1315 2021-03-24  80.930000  81.160004  76.599998  76.809998  5983900   \n",
       "1316 2021-03-25  77.309998  78.190002  76.800003  77.419998  4747400   \n",
       "1317 2021-03-26  79.440002  80.980003  77.820000  80.980003  5923100   \n",
       "1318 2021-03-29  79.190002  79.800003  78.070000  78.690002  3468900   \n",
       "1319 2021-03-30  78.570000  79.410004  78.029999  78.830002  1715900   \n",
       "\n",
       "            ewm  \n",
       "0     19.369148  \n",
       "1     19.323078  \n",
       "2     19.276695  \n",
       "3     19.195240  \n",
       "4     19.051028  \n",
       "...         ...  \n",
       "1315  84.254647  \n",
       "1316  83.603728  \n",
       "1317  83.353850  \n",
       "1318  82.909674  \n",
       "1319  82.521134  \n",
       "\n",
       "[1320 rows x 7 columns]"
      ]
     },
     "execution_count": 32,
     "metadata": {},
     "output_type": "execute_result"
    }
   ],
   "source": [
    "#列名改为小写\n",
    "# column name to lower case\n",
    "new_df.rename(str.lower, axis='columns')"
   ]
  },
  {
   "cell_type": "code",
   "execution_count": 33,
   "id": "91d2cc26",
   "metadata": {
    "ExecuteTime": {
     "end_time": "2021-05-21T15:32:45.251958Z",
     "start_time": "2021-05-21T15:32:45.215758Z"
    }
   },
   "outputs": [
    {
     "data": {
      "text/html": [
       "<div>\n",
       "<style scoped>\n",
       "    .dataframe tbody tr th:only-of-type {\n",
       "        vertical-align: middle;\n",
       "    }\n",
       "\n",
       "    .dataframe tbody tr th {\n",
       "        vertical-align: top;\n",
       "    }\n",
       "\n",
       "    .dataframe thead th {\n",
       "        text-align: right;\n",
       "    }\n",
       "</style>\n",
       "<table border=\"1\" class=\"dataframe\">\n",
       "  <thead>\n",
       "    <tr style=\"text-align: right;\">\n",
       "      <th></th>\n",
       "      <th>Open</th>\n",
       "      <th>High</th>\n",
       "      <th>Low</th>\n",
       "      <th>Close</th>\n",
       "    </tr>\n",
       "  </thead>\n",
       "  <tbody>\n",
       "    <tr>\n",
       "      <th>0</th>\n",
       "      <td>19.590000</td>\n",
       "      <td>19.660000</td>\n",
       "      <td>19.510000</td>\n",
       "      <td>19.369148</td>\n",
       "    </tr>\n",
       "    <tr>\n",
       "      <th>1</th>\n",
       "      <td>19.129999</td>\n",
       "      <td>19.260000</td>\n",
       "      <td>18.930000</td>\n",
       "      <td>18.885412</td>\n",
       "    </tr>\n",
       "    <tr>\n",
       "      <th>2</th>\n",
       "      <td>19.090000</td>\n",
       "      <td>19.230000</td>\n",
       "      <td>18.940001</td>\n",
       "      <td>18.836052</td>\n",
       "    </tr>\n",
       "    <tr>\n",
       "      <th>3</th>\n",
       "      <td>18.639999</td>\n",
       "      <td>18.709999</td>\n",
       "      <td>18.530001</td>\n",
       "      <td>18.421425</td>\n",
       "    </tr>\n",
       "    <tr>\n",
       "      <th>4</th>\n",
       "      <td>18.049999</td>\n",
       "      <td>18.200001</td>\n",
       "      <td>17.910000</td>\n",
       "      <td>17.681011</td>\n",
       "    </tr>\n",
       "    <tr>\n",
       "      <th>...</th>\n",
       "      <td>...</td>\n",
       "      <td>...</td>\n",
       "      <td>...</td>\n",
       "      <td>...</td>\n",
       "    </tr>\n",
       "    <tr>\n",
       "      <th>1315</th>\n",
       "      <td>80.930000</td>\n",
       "      <td>81.160004</td>\n",
       "      <td>76.599998</td>\n",
       "      <td>76.809998</td>\n",
       "    </tr>\n",
       "    <tr>\n",
       "      <th>1316</th>\n",
       "      <td>77.309998</td>\n",
       "      <td>78.190002</td>\n",
       "      <td>76.800003</td>\n",
       "      <td>77.419998</td>\n",
       "    </tr>\n",
       "    <tr>\n",
       "      <th>1317</th>\n",
       "      <td>79.440002</td>\n",
       "      <td>80.980003</td>\n",
       "      <td>77.820000</td>\n",
       "      <td>80.980003</td>\n",
       "    </tr>\n",
       "    <tr>\n",
       "      <th>1318</th>\n",
       "      <td>79.190002</td>\n",
       "      <td>79.800003</td>\n",
       "      <td>78.070000</td>\n",
       "      <td>78.690002</td>\n",
       "    </tr>\n",
       "    <tr>\n",
       "      <th>1319</th>\n",
       "      <td>78.570000</td>\n",
       "      <td>79.410004</td>\n",
       "      <td>78.029999</td>\n",
       "      <td>78.830002</td>\n",
       "    </tr>\n",
       "  </tbody>\n",
       "</table>\n",
       "<p>1320 rows × 4 columns</p>\n",
       "</div>"
      ],
      "text/plain": [
       "           Open       High        Low      Close\n",
       "0     19.590000  19.660000  19.510000  19.369148\n",
       "1     19.129999  19.260000  18.930000  18.885412\n",
       "2     19.090000  19.230000  18.940001  18.836052\n",
       "3     18.639999  18.709999  18.530001  18.421425\n",
       "4     18.049999  18.200001  17.910000  17.681011\n",
       "...         ...        ...        ...        ...\n",
       "1315  80.930000  81.160004  76.599998  76.809998\n",
       "1316  77.309998  78.190002  76.800003  77.419998\n",
       "1317  79.440002  80.980003  77.820000  80.980003\n",
       "1318  79.190002  79.800003  78.070000  78.690002\n",
       "1319  78.570000  79.410004  78.029999  78.830002\n",
       "\n",
       "[1320 rows x 4 columns]"
      ]
     },
     "execution_count": 33,
     "metadata": {},
     "output_type": "execute_result"
    }
   ],
   "source": [
    "#选择多个列\n",
    "new_df[new_df.columns[1:5]]"
   ]
  },
  {
   "cell_type": "code",
   "execution_count": 34,
   "id": "79eca405",
   "metadata": {
    "ExecuteTime": {
     "end_time": "2021-05-21T15:32:56.998388Z",
     "start_time": "2021-05-21T15:32:56.965187Z"
    }
   },
   "outputs": [
    {
     "data": {
      "text/html": [
       "<div>\n",
       "<style scoped>\n",
       "    .dataframe tbody tr th:only-of-type {\n",
       "        vertical-align: middle;\n",
       "    }\n",
       "\n",
       "    .dataframe tbody tr th {\n",
       "        vertical-align: top;\n",
       "    }\n",
       "\n",
       "    .dataframe thead th {\n",
       "        text-align: right;\n",
       "    }\n",
       "</style>\n",
       "<table border=\"1\" class=\"dataframe\">\n",
       "  <thead>\n",
       "    <tr style=\"text-align: right;\">\n",
       "      <th></th>\n",
       "      <th>Date</th>\n",
       "      <th>Open</th>\n",
       "      <th>High</th>\n",
       "      <th>Low</th>\n",
       "      <th>Close</th>\n",
       "      <th>Volume</th>\n",
       "      <th>ewm</th>\n",
       "    </tr>\n",
       "  </thead>\n",
       "  <tbody>\n",
       "    <tr>\n",
       "      <th>1</th>\n",
       "      <td>2016-01-04</td>\n",
       "      <td>19.129999</td>\n",
       "      <td>19.260000</td>\n",
       "      <td>18.930000</td>\n",
       "      <td>18.885412</td>\n",
       "      <td>469100</td>\n",
       "      <td>19.323078</td>\n",
       "    </tr>\n",
       "    <tr>\n",
       "      <th>2</th>\n",
       "      <td>2016-01-05</td>\n",
       "      <td>19.090000</td>\n",
       "      <td>19.230000</td>\n",
       "      <td>18.940001</td>\n",
       "      <td>18.836052</td>\n",
       "      <td>170300</td>\n",
       "      <td>19.276695</td>\n",
       "    </tr>\n",
       "    <tr>\n",
       "      <th>3</th>\n",
       "      <td>2016-01-06</td>\n",
       "      <td>18.639999</td>\n",
       "      <td>18.709999</td>\n",
       "      <td>18.530001</td>\n",
       "      <td>18.421425</td>\n",
       "      <td>333400</td>\n",
       "      <td>19.195240</td>\n",
       "    </tr>\n",
       "  </tbody>\n",
       "</table>\n",
       "</div>"
      ],
      "text/plain": [
       "        Date       Open       High        Low      Close  Volume        ewm\n",
       "1 2016-01-04  19.129999  19.260000  18.930000  18.885412  469100  19.323078\n",
       "2 2016-01-05  19.090000  19.230000  18.940001  18.836052  170300  19.276695\n",
       "3 2016-01-06  18.639999  18.709999  18.530001  18.421425  333400  19.195240"
      ]
     },
     "execution_count": 34,
     "metadata": {},
     "output_type": "execute_result"
    }
   ],
   "source": [
    "#选择多个行\n",
    "new_df[1:4]"
   ]
  },
  {
   "cell_type": "code",
   "execution_count": 35,
   "id": "5d1d690f",
   "metadata": {
    "ExecuteTime": {
     "end_time": "2021-05-21T15:33:11.320305Z",
     "start_time": "2021-05-21T15:33:11.302304Z"
    }
   },
   "outputs": [
    {
     "data": {
      "text/html": [
       "<div>\n",
       "<style scoped>\n",
       "    .dataframe tbody tr th:only-of-type {\n",
       "        vertical-align: middle;\n",
       "    }\n",
       "\n",
       "    .dataframe tbody tr th {\n",
       "        vertical-align: top;\n",
       "    }\n",
       "\n",
       "    .dataframe thead th {\n",
       "        text-align: right;\n",
       "    }\n",
       "</style>\n",
       "<table border=\"1\" class=\"dataframe\">\n",
       "  <thead>\n",
       "    <tr style=\"text-align: right;\">\n",
       "      <th></th>\n",
       "      <th>IBM</th>\n",
       "      <th>Apple</th>\n",
       "      <th>Tesla</th>\n",
       "    </tr>\n",
       "  </thead>\n",
       "  <tbody>\n",
       "    <tr>\n",
       "      <th>0</th>\n",
       "      <td>123.50</td>\n",
       "      <td>145.35</td>\n",
       "      <td>165.50</td>\n",
       "    </tr>\n",
       "    <tr>\n",
       "      <th>1</th>\n",
       "      <td>152.35</td>\n",
       "      <td>154.67</td>\n",
       "      <td>160.35</td>\n",
       "    </tr>\n",
       "    <tr>\n",
       "      <th>2</th>\n",
       "      <td>201.25</td>\n",
       "      <td>236.54</td>\n",
       "      <td>254.69</td>\n",
       "    </tr>\n",
       "  </tbody>\n",
       "</table>\n",
       "</div>"
      ],
      "text/plain": [
       "      IBM   Apple   Tesla\n",
       "0  123.50  145.35  165.50\n",
       "1  152.35  154.67  160.35\n",
       "2  201.25  236.54  254.69"
      ]
     },
     "execution_count": 35,
     "metadata": {},
     "output_type": "execute_result"
    }
   ],
   "source": [
    "#创建Dataframe\n",
    "stock_df = pd.DataFrame([[123.50, 145.35, 165.50],   \n",
    "                             [152.35, 154.67, 160.35],   \n",
    "                             [201.25, 236.54, 254.69]], \n",
    "                            columns=['IBM', 'Apple', 'Tesla'])\n",
    "stock_df"
   ]
  },
  {
   "cell_type": "code",
   "execution_count": 36,
   "id": "836cc339",
   "metadata": {
    "ExecuteTime": {
     "end_time": "2021-05-21T15:33:25.456194Z",
     "start_time": "2021-05-21T15:33:25.437594Z"
    }
   },
   "outputs": [
    {
     "data": {
      "text/html": [
       "<div>\n",
       "<style scoped>\n",
       "    .dataframe tbody tr th:only-of-type {\n",
       "        vertical-align: middle;\n",
       "    }\n",
       "\n",
       "    .dataframe tbody tr th {\n",
       "        vertical-align: top;\n",
       "    }\n",
       "\n",
       "    .dataframe thead th {\n",
       "        text-align: right;\n",
       "    }\n",
       "</style>\n",
       "<table border=\"1\" class=\"dataframe\">\n",
       "  <thead>\n",
       "    <tr style=\"text-align: right;\">\n",
       "      <th></th>\n",
       "      <th>IBM</th>\n",
       "      <th>Apple</th>\n",
       "      <th>Tesla</th>\n",
       "    </tr>\n",
       "  </thead>\n",
       "  <tbody>\n",
       "    <tr>\n",
       "      <th>0</th>\n",
       "      <td>123.50</td>\n",
       "      <td>888.00</td>\n",
       "      <td>165.50</td>\n",
       "    </tr>\n",
       "    <tr>\n",
       "      <th>1</th>\n",
       "      <td>152.35</td>\n",
       "      <td>154.67</td>\n",
       "      <td>160.35</td>\n",
       "    </tr>\n",
       "    <tr>\n",
       "      <th>2</th>\n",
       "      <td>888.00</td>\n",
       "      <td>236.54</td>\n",
       "      <td>254.69</td>\n",
       "    </tr>\n",
       "  </tbody>\n",
       "</table>\n",
       "</div>"
      ],
      "text/plain": [
       "      IBM   Apple   Tesla\n",
       "0  123.50  888.00  165.50\n",
       "1  152.35  154.67  160.35\n",
       "2  888.00  236.54  254.69"
      ]
     },
     "execution_count": 36,
     "metadata": {},
     "output_type": "execute_result"
    }
   ],
   "source": [
    "#替换数据\n",
    "stock_df = stock_df.replace([201.25, 145.35], [888, 888])\n",
    "stock_df"
   ]
  },
  {
   "cell_type": "code",
   "execution_count": 37,
   "id": "d8d09797",
   "metadata": {
    "ExecuteTime": {
     "end_time": "2021-05-21T15:33:35.374192Z",
     "start_time": "2021-05-21T15:33:35.362191Z"
    }
   },
   "outputs": [
    {
     "data": {
      "text/html": [
       "<div>\n",
       "<style scoped>\n",
       "    .dataframe tbody tr th:only-of-type {\n",
       "        vertical-align: middle;\n",
       "    }\n",
       "\n",
       "    .dataframe tbody tr th {\n",
       "        vertical-align: top;\n",
       "    }\n",
       "\n",
       "    .dataframe thead th {\n",
       "        text-align: right;\n",
       "    }\n",
       "</style>\n",
       "<table border=\"1\" class=\"dataframe\">\n",
       "  <thead>\n",
       "    <tr style=\"text-align: right;\">\n",
       "      <th></th>\n",
       "      <th>IBM</th>\n",
       "      <th>Apple</th>\n",
       "      <th>Tesla</th>\n",
       "    </tr>\n",
       "  </thead>\n",
       "  <tbody>\n",
       "    <tr>\n",
       "      <th>0</th>\n",
       "      <td>123.50</td>\n",
       "      <td>888.00</td>\n",
       "      <td>NaN</td>\n",
       "    </tr>\n",
       "    <tr>\n",
       "      <th>1</th>\n",
       "      <td>152.35</td>\n",
       "      <td>154.67</td>\n",
       "      <td>NaN</td>\n",
       "    </tr>\n",
       "    <tr>\n",
       "      <th>2</th>\n",
       "      <td>888.00</td>\n",
       "      <td>236.54</td>\n",
       "      <td>254.69</td>\n",
       "    </tr>\n",
       "  </tbody>\n",
       "</table>\n",
       "</div>"
      ],
      "text/plain": [
       "      IBM   Apple   Tesla\n",
       "0  123.50  888.00     NaN\n",
       "1  152.35  154.67     NaN\n",
       "2  888.00  236.54  254.69"
      ]
     },
     "execution_count": 37,
     "metadata": {},
     "output_type": "execute_result"
    }
   ],
   "source": [
    "stock_df = stock_df.replace([165.50, 160.35], ['NaN', 'NaN'])\n",
    "stock_df"
   ]
  },
  {
   "cell_type": "code",
   "execution_count": 39,
   "id": "aff831e0",
   "metadata": {
    "ExecuteTime": {
     "end_time": "2021-05-21T15:33:59.412918Z",
     "start_time": "2021-05-21T15:33:59.397318Z"
    }
   },
   "outputs": [
    {
     "name": "stdout",
     "output_type": "stream",
     "text": [
      "123.5 888.0\n",
      "152.35 154.67\n",
      "888.0 236.54\n"
     ]
    }
   ],
   "source": [
    "#获取数据框数据\n",
    "for index, row in stock_df.iterrows():\n",
    "    print(row['IBM'], row['Apple'])"
   ]
  },
  {
   "cell_type": "markdown",
   "id": "dd6608da",
   "metadata": {},
   "source": [
    "当然，课程中pandas/numpy高效数据处理方法总结里列举了很多实用方法，大家可随时查看。"
   ]
  },
  {
   "cell_type": "markdown",
   "id": "72f77a3b",
   "metadata": {},
   "source": [
    "## NumPy"
   ]
  },
  {
   "cell_type": "markdown",
   "id": "ac16d606",
   "metadata": {},
   "source": [
    "NumPy是专为简化Python中的数组运算而设计的，每个NumPy数组都具有以下属性：\n",
    "\n",
    "- ndim：维数。\n",
    "- shape：每一维的大小。\n",
    "- size：数组中元素的总数。\n",
    "- dtype：数组的数据类型（例如int、float、string等）。"
   ]
  },
  {
   "cell_type": "code",
   "execution_count": 40,
   "id": "5cb2b16a",
   "metadata": {
    "ExecuteTime": {
     "end_time": "2021-05-21T15:35:10.968457Z",
     "start_time": "2021-05-21T15:35:10.952857Z"
    }
   },
   "outputs": [],
   "source": [
    "# Numpy 模块\n",
    "import numpy as np"
   ]
  },
  {
   "cell_type": "code",
   "execution_count": 41,
   "id": "71f4f156",
   "metadata": {
    "ExecuteTime": {
     "end_time": "2021-05-21T15:35:45.939007Z",
     "start_time": "2021-05-21T15:35:45.907807Z"
    }
   },
   "outputs": [
    {
     "data": {
      "text/plain": [
       "array([19.59000015, 19.12999916, 19.09000015, ..., 79.44000244,\n",
       "       79.19000244, 78.56999969])"
      ]
     },
     "execution_count": 41,
     "metadata": {},
     "output_type": "execute_result"
    }
   ],
   "source": [
    "# 将数据集转换为numpy\n",
    "# 将打开的DataFrame转换为numpy数组\n",
    "Open_array = np.array(dataset['Open'])\n",
    "Open_array  "
   ]
  },
  {
   "cell_type": "code",
   "execution_count": 42,
   "id": "1e23fc34",
   "metadata": {
    "ExecuteTime": {
     "end_time": "2021-05-21T15:36:02.371390Z",
     "start_time": "2021-05-21T15:36:02.340190Z"
    }
   },
   "outputs": [
    {
     "name": "stdout",
     "output_type": "stream",
     "text": [
      "First element: 19.59000015258789\n",
      "Second element: 19.1299991607666\n",
      "Second last element: 78.56999969482422\n"
     ]
    }
   ],
   "source": [
    "#查看单个元素\n",
    "print(\"First element:\", Open_array [0])\n",
    "print(\"Second element:\", Open_array [1])\n",
    "print(\"Second last element:\", Open_array[-1])"
   ]
  },
  {
   "cell_type": "code",
   "execution_count": 43,
   "id": "46fbbd60",
   "metadata": {
    "ExecuteTime": {
     "end_time": "2021-05-21T15:36:13.746009Z",
     "start_time": "2021-05-21T15:36:13.730409Z"
    }
   },
   "outputs": [
    {
     "name": "stdout",
     "output_type": "stream",
     "text": [
      "[19.09000015 18.63999939 18.04999924]\n"
     ]
    }
   ],
   "source": [
    "#查看多个元素\n",
    "print(Open_array[2:5]) # 第3个到第5个 "
   ]
  },
  {
   "cell_type": "code",
   "execution_count": 44,
   "id": "9e98a5e8",
   "metadata": {
    "ExecuteTime": {
     "end_time": "2021-05-21T15:36:19.385633Z",
     "start_time": "2021-05-21T15:36:19.354433Z"
    }
   },
   "outputs": [
    {
     "name": "stdout",
     "output_type": "stream",
     "text": [
      "[19.59000015 19.12999916 19.09000015 ... 80.69999695 81.90000153\n",
      " 81.65000153]\n"
     ]
    }
   ],
   "source": [
    "print(Open_array[:-5]) # 从开始到最后第4个  "
   ]
  },
  {
   "cell_type": "code",
   "execution_count": 45,
   "id": "8733fdb8",
   "metadata": {
    "ExecuteTime": {
     "end_time": "2021-05-21T15:36:24.889051Z",
     "start_time": "2021-05-21T15:36:24.873451Z"
    }
   },
   "outputs": [
    {
     "name": "stdout",
     "output_type": "stream",
     "text": [
      "[18.32999992 17.76000023 17.64999962 ... 79.44000244 79.19000244\n",
      " 78.56999969]\n"
     ]
    }
   ],
   "source": [
    "print(Open_array[5:])  # 第6个到最后"
   ]
  },
  {
   "cell_type": "code",
   "execution_count": 46,
   "id": "089707df",
   "metadata": {
    "ExecuteTime": {
     "end_time": "2021-05-21T15:36:31.062094Z",
     "start_time": "2021-05-21T15:36:31.046494Z"
    }
   },
   "outputs": [
    {
     "name": "stdout",
     "output_type": "stream",
     "text": [
      "[19.59000015 19.12999916 19.09000015 ... 79.44000244 79.19000244\n",
      " 78.56999969]\n"
     ]
    }
   ],
   "source": [
    "print(Open_array[:])   # 开始到最后  "
   ]
  },
  {
   "cell_type": "code",
   "execution_count": 47,
   "id": "a9bee868",
   "metadata": {
    "ExecuteTime": {
     "end_time": "2021-05-21T15:36:47.579037Z",
     "start_time": "2021-05-21T15:36:47.547837Z"
    }
   },
   "outputs": [
    {
     "name": "stdout",
     "output_type": "stream",
     "text": [
      "[      0  469100  170300 ... 5923100 3468900 1715900]\n"
     ]
    }
   ],
   "source": [
    "#修改元素\n",
    "#改变第一个元素\n",
    "volume = np.array(dataset['Volume'])\n",
    "\n",
    "volume[0] = 0    \n",
    "print(volume)  "
   ]
  },
  {
   "cell_type": "code",
   "execution_count": 48,
   "id": "9cc3036c",
   "metadata": {
    "ExecuteTime": {
     "end_time": "2021-05-21T15:37:02.529163Z",
     "start_time": "2021-05-21T15:37:02.497963Z"
    }
   },
   "outputs": [
    {
     "name": "stdout",
     "output_type": "stream",
     "text": [
      "[      0  469100       4 ... 5923100 3468900 1715900]\n"
     ]
    }
   ],
   "source": [
    "#改变多个元素\n",
    "# 更改第3到5个元素\n",
    "volume[2:5] = np.array([4, 6, 8])   \n",
    "print(volume)      "
   ]
  },
  {
   "cell_type": "code",
   "execution_count": 50,
   "id": "a36284cc",
   "metadata": {
    "ExecuteTime": {
     "end_time": "2021-05-21T15:37:31.991060Z",
     "start_time": "2021-05-21T15:37:31.954860Z"
    }
   },
   "outputs": [
    {
     "ename": "TypeError",
     "evalue": "only integer scalar arrays can be converted to a scalar index",
     "output_type": "error",
     "traceback": [
      "\u001b[1;31m---------------------------------------------------------------------------\u001b[0m",
      "\u001b[1;31mTypeError\u001b[0m                                 Traceback (most recent call last)",
      "\u001b[1;32m<ipython-input-50-16c8a93d7006>\u001b[0m in \u001b[0;36m<module>\u001b[1;34m\u001b[0m\n\u001b[0;32m      1\u001b[0m \u001b[1;31m#增加元素\u001b[0m\u001b[1;33m\u001b[0m\u001b[1;33m\u001b[0m\u001b[1;33m\u001b[0m\u001b[0m\n\u001b[0;32m      2\u001b[0m \u001b[0madd_numbers\u001b[0m \u001b[1;33m=\u001b[0m \u001b[0mnp\u001b[0m\u001b[1;33m.\u001b[0m\u001b[0marray\u001b[0m\u001b[1;33m(\u001b[0m\u001b[1;33m[\u001b[0m\u001b[1;36m1\u001b[0m\u001b[1;33m,\u001b[0m \u001b[1;36m2\u001b[0m\u001b[1;33m,\u001b[0m \u001b[1;36m3\u001b[0m\u001b[1;33m]\u001b[0m\u001b[1;33m)\u001b[0m\u001b[1;33m\u001b[0m\u001b[1;33m\u001b[0m\u001b[0m\n\u001b[1;32m----> 3\u001b[1;33m \u001b[0mnp\u001b[0m\u001b[1;33m.\u001b[0m\u001b[0mconcatenate\u001b[0m\u001b[1;33m(\u001b[0m\u001b[0mvolume\u001b[0m\u001b[1;33m,\u001b[0m \u001b[0madd_numbers\u001b[0m\u001b[1;33m)\u001b[0m\u001b[1;33m\u001b[0m\u001b[1;33m\u001b[0m\u001b[0m\n\u001b[0m",
      "\u001b[1;32m<__array_function__ internals>\u001b[0m in \u001b[0;36mconcatenate\u001b[1;34m(*args, **kwargs)\u001b[0m\n",
      "\u001b[1;31mTypeError\u001b[0m: only integer scalar arrays can be converted to a scalar index"
     ]
    }
   ],
   "source": [
    "#增加元素\n",
    "add_numbers = np.array([1, 2, 3])\n",
    "np.concatenate(volume, add_numbers)"
   ]
  },
  {
   "cell_type": "code",
   "execution_count": 51,
   "id": "e87ccf40",
   "metadata": {
    "ExecuteTime": {
     "end_time": "2021-05-21T15:38:04.528586Z",
     "start_time": "2021-05-21T15:38:04.510986Z"
    }
   },
   "outputs": [
    {
     "data": {
      "text/plain": [
       "array([     0, 469100,      4, ...,      1,      2,      3], dtype=int64)"
      ]
     },
     "execution_count": 51,
     "metadata": {},
     "output_type": "execute_result"
    }
   ],
   "source": [
    "np.append(volume, add_numbers, axis=0)"
   ]
  },
  {
   "cell_type": "code",
   "execution_count": 52,
   "id": "b8f7447a",
   "metadata": {
    "ExecuteTime": {
     "end_time": "2021-05-21T15:38:38.727642Z",
     "start_time": "2021-05-21T15:38:38.712042Z"
    }
   },
   "outputs": [
    {
     "name": "stdout",
     "output_type": "stream",
     "text": [
      "[      0  469100       4 ... 5923100 3468900 1715900]\n"
     ]
    }
   ],
   "source": [
    "#删除元素\n",
    "#直接删除\n",
    "print(volume)"
   ]
  },
  {
   "cell_type": "code",
   "execution_count": 53,
   "id": "8cc6bf93",
   "metadata": {
    "ExecuteTime": {
     "end_time": "2021-05-21T15:38:44.251052Z",
     "start_time": "2021-05-21T15:38:44.235452Z"
    }
   },
   "outputs": [
    {
     "data": {
      "text/plain": [
       "array([      0,       4,       6, ..., 5923100, 3468900, 1715900],\n",
       "      dtype=int64)"
      ]
     },
     "execution_count": 53,
     "metadata": {},
     "output_type": "execute_result"
    }
   ],
   "source": [
    "np.delete(volume, 1) "
   ]
  },
  {
   "cell_type": "code",
   "execution_count": 54,
   "id": "f3a86c47",
   "metadata": {
    "ExecuteTime": {
     "end_time": "2021-05-21T15:39:03.497177Z",
     "start_time": "2021-05-21T15:39:03.448976Z"
    },
    "scrolled": true
   },
   "outputs": [
    {
     "data": {
      "text/plain": [
       "[0,\n",
       " 469100,\n",
       " 4,\n",
       " 6,\n",
       " 8,\n",
       " 1168100,\n",
       " 496200,\n",
       " 403400,\n",
       " 1863300,\n",
       " 784700,\n",
       " 433800,\n",
       " 906100,\n",
       " 647800,\n",
       " 364000,\n",
       " 938800,\n",
       " 1064400,\n",
       " 360800,\n",
       " 391900,\n",
       " 664800,\n",
       " 455600,\n",
       " 597400,\n",
       " 917100,\n",
       " 1978200,\n",
       " 1341000,\n",
       " 1177200,\n",
       " 650700,\n",
       " 1118800,\n",
       " 974800,\n",
       " 1006100,\n",
       " 984600,\n",
       " 421400,\n",
       " 910800,\n",
       " 1982200,\n",
       " 248600,\n",
       " 591800,\n",
       " 712100,\n",
       " 308100,\n",
       " 866100,\n",
       " 379600,\n",
       " 256500,\n",
       " 1201300,\n",
       " 328000,\n",
       " 319700,\n",
       " 546600,\n",
       " 404700,\n",
       " 205800,\n",
       " 520700,\n",
       " 508800,\n",
       " 524500,\n",
       " 360700,\n",
       " 306400,\n",
       " 656300,\n",
       " 822200,\n",
       " 999900,\n",
       " 1293300,\n",
       " 929500,\n",
       " 1062800,\n",
       " 389400,\n",
       " 424300,\n",
       " 260300,\n",
       " 871900,\n",
       " 1428700,\n",
       " 215100,\n",
       " 611200,\n",
       " 556000,\n",
       " 771400,\n",
       " 450600,\n",
       " 347100,\n",
       " 312800,\n",
       " 421600,\n",
       " 593200,\n",
       " 373500,\n",
       " 220800,\n",
       " 481500,\n",
       " 319900,\n",
       " 920600,\n",
       " 290700,\n",
       " 175100,\n",
       " 524800,\n",
       " 367500,\n",
       " 238200,\n",
       " 251900,\n",
       " 367200,\n",
       " 433700,\n",
       " 561500,\n",
       " 518800,\n",
       " 373300,\n",
       " 153600,\n",
       " 513700,\n",
       " 443100,\n",
       " 354700,\n",
       " 307500,\n",
       " 445100,\n",
       " 654100,\n",
       " 842300,\n",
       " 2430400,\n",
       " 770700,\n",
       " 586400,\n",
       " 309200,\n",
       " 546300,\n",
       " 884600,\n",
       " 1430900,\n",
       " 928200,\n",
       " 1648600,\n",
       " 1395800,\n",
       " 566400,\n",
       " 1211200,\n",
       " 1174300,\n",
       " 427900,\n",
       " 210200,\n",
       " 395500,\n",
       " 932000,\n",
       " 964500,\n",
       " 681700,\n",
       " 1162000,\n",
       " 520000,\n",
       " 1034900,\n",
       " 920000,\n",
       " 1162700,\n",
       " 685100,\n",
       " 1138900,\n",
       " 1690100,\n",
       " 995500,\n",
       " 1181800,\n",
       " 733000,\n",
       " 937600,\n",
       " 643900,\n",
       " 372600,\n",
       " 605900,\n",
       " 1378900,\n",
       " 389400,\n",
       " 498200,\n",
       " 573300,\n",
       " 305600,\n",
       " 480200,\n",
       " 241500,\n",
       " 714900,\n",
       " 311300,\n",
       " 1110500,\n",
       " 227800,\n",
       " 791800,\n",
       " 385900,\n",
       " 351800,\n",
       " 383300,\n",
       " 381900,\n",
       " 344000,\n",
       " 1014100,\n",
       " 558300,\n",
       " 414900,\n",
       " 175600,\n",
       " 444600,\n",
       " 638700,\n",
       " 180500,\n",
       " 277200,\n",
       " 441100,\n",
       " 372300,\n",
       " 629200,\n",
       " 1047400,\n",
       " 973500,\n",
       " 729800,\n",
       " 557400,\n",
       " 537000,\n",
       " 398800,\n",
       " 456200,\n",
       " 279200,\n",
       " 695500,\n",
       " 414700,\n",
       " 412400,\n",
       " 374800,\n",
       " 834100,\n",
       " 450600,\n",
       " 1026900,\n",
       " 571000,\n",
       " 904600,\n",
       " 691100,\n",
       " 880100,\n",
       " 570700,\n",
       " 345700,\n",
       " 1933600,\n",
       " 1029700,\n",
       " 898800,\n",
       " 1794900,\n",
       " 2434100,\n",
       " 1725100,\n",
       " 1470300,\n",
       " 948200,\n",
       " 998500,\n",
       " 1030200,\n",
       " 1245000,\n",
       " 1355400,\n",
       " 620700,\n",
       " 1033600,\n",
       " 498100,\n",
       " 848600,\n",
       " 441900,\n",
       " 440100,\n",
       " 796300,\n",
       " 603800,\n",
       " 1031000,\n",
       " 982600,\n",
       " 701300,\n",
       " 533200,\n",
       " 561300,\n",
       " 525600,\n",
       " 527600,\n",
       " 604000,\n",
       " 616400,\n",
       " 617900,\n",
       " 357000,\n",
       " 561100,\n",
       " 631500,\n",
       " 739900,\n",
       " 1730500,\n",
       " 1062900,\n",
       " 804700,\n",
       " 1520600,\n",
       " 1249200,\n",
       " 1182600,\n",
       " 1409900,\n",
       " 2093400,\n",
       " 1306100,\n",
       " 1668800,\n",
       " 1073000,\n",
       " 656700,\n",
       " 575000,\n",
       " 768900,\n",
       " 607900,\n",
       " 807000,\n",
       " 545900,\n",
       " 576900,\n",
       " 1039100,\n",
       " 751400,\n",
       " 1230800,\n",
       " 1386400,\n",
       " 581500,\n",
       " 960200,\n",
       " 665100,\n",
       " 739200,\n",
       " 1208800,\n",
       " 1164500,\n",
       " 1326600,\n",
       " 1359800,\n",
       " 971900,\n",
       " 852500,\n",
       " 699100,\n",
       " 1070000,\n",
       " 787700,\n",
       " 1169300,\n",
       " 679800,\n",
       " 487600,\n",
       " 639500,\n",
       " 863600,\n",
       " 632900,\n",
       " 802200,\n",
       " 977800,\n",
       " 805500,\n",
       " 745600,\n",
       " 455300,\n",
       " 2412300,\n",
       " 1066300,\n",
       " 894700,\n",
       " 248300,\n",
       " 423700,\n",
       " 490000,\n",
       " 823800,\n",
       " 694600,\n",
       " 559600,\n",
       " 829000,\n",
       " 778400,\n",
       " 882200,\n",
       " 1245800,\n",
       " 360100,\n",
       " 391000,\n",
       " 1132800,\n",
       " 765900,\n",
       " 451500,\n",
       " 294100,\n",
       " 358200,\n",
       " 562000,\n",
       " 352900,\n",
       " 463200,\n",
       " 491800,\n",
       " 437800,\n",
       " 988200,\n",
       " 609700,\n",
       " 329500,\n",
       " 756000,\n",
       " 1240000,\n",
       " 915500,\n",
       " 502600,\n",
       " 272900,\n",
       " 729900,\n",
       " 727100,\n",
       " 748700,\n",
       " 605400,\n",
       " 535500,\n",
       " 839000,\n",
       " 855700,\n",
       " 1178700,\n",
       " 563000,\n",
       " 881600,\n",
       " 851600,\n",
       " 1791400,\n",
       " 1250400,\n",
       " 732100,\n",
       " 1319800,\n",
       " 1718400,\n",
       " 1602700,\n",
       " 953600,\n",
       " 629800,\n",
       " 934000,\n",
       " 1174500,\n",
       " 981300,\n",
       " 663200,\n",
       " 666000,\n",
       " 856500,\n",
       " 650700,\n",
       " 1300900,\n",
       " 907800,\n",
       " 983200,\n",
       " 616600,\n",
       " 711200,\n",
       " 1208400,\n",
       " 379700,\n",
       " 649800,\n",
       " 727500,\n",
       " 496500,\n",
       " 1315700,\n",
       " 818200,\n",
       " 747800,\n",
       " 1097800,\n",
       " 918600,\n",
       " 804600,\n",
       " 966000,\n",
       " 813500,\n",
       " 1740400,\n",
       " 936900,\n",
       " 1486800,\n",
       " 1222200,\n",
       " 1105400,\n",
       " 1441700,\n",
       " 617500,\n",
       " 936000,\n",
       " 1581500,\n",
       " 1955600,\n",
       " 3047400,\n",
       " 3194400,\n",
       " 2525300,\n",
       " 2130000,\n",
       " 3275200,\n",
       " 2498800,\n",
       " 1684200,\n",
       " 1517200,\n",
       " 1088400,\n",
       " 1218700,\n",
       " 1809500,\n",
       " 1626100,\n",
       " 1731000,\n",
       " 1678700,\n",
       " 1183600,\n",
       " 1578000,\n",
       " 3009600,\n",
       " 6065900,\n",
       " 2468200,\n",
       " 1877500,\n",
       " 1893300,\n",
       " 2674600,\n",
       " 847700,\n",
       " 1811900,\n",
       " 1619900,\n",
       " 1232600,\n",
       " 1956000,\n",
       " 1943300,\n",
       " 1689400,\n",
       " 2289600,\n",
       " 1999400,\n",
       " 3481000,\n",
       " 4438600,\n",
       " 880700,\n",
       " 2664000,\n",
       " 2265200,\n",
       " 1403300,\n",
       " 1054200,\n",
       " 1196700,\n",
       " 1625000,\n",
       " 2026700,\n",
       " 1895300,\n",
       " 1975500,\n",
       " 1840100,\n",
       " 2293100,\n",
       " 1391400,\n",
       " 1624700,\n",
       " 1282000,\n",
       " 1548600,\n",
       " 1617500,\n",
       " 1680300,\n",
       " 1019100,\n",
       " 1566900,\n",
       " 1764300,\n",
       " 2153200,\n",
       " 1439700,\n",
       " 893400,\n",
       " 1790900,\n",
       " 2813400,\n",
       " 1576300,\n",
       " 2748500,\n",
       " 2915700,\n",
       " 2033600,\n",
       " 1979600,\n",
       " 3834000,\n",
       " 3189100,\n",
       " 2202000,\n",
       " 1551600,\n",
       " 2721900,\n",
       " 2894800,\n",
       " 2697300,\n",
       " 2343200,\n",
       " 1974900,\n",
       " 1914200,\n",
       " 1992200,\n",
       " 1671200,\n",
       " 2130100,\n",
       " 2465700,\n",
       " 1277300,\n",
       " 1343500,\n",
       " 1271100,\n",
       " 1554600,\n",
       " 1881500,\n",
       " 1383400,\n",
       " 1399500,\n",
       " 1165900,\n",
       " 2679600,\n",
       " 2051900,\n",
       " 1686400,\n",
       " 1664100,\n",
       " 1007000,\n",
       " 3033000,\n",
       " 2066900,\n",
       " 1838500,\n",
       " 1282400,\n",
       " 1609600,\n",
       " 1895400,\n",
       " 1677300,\n",
       " 1569400,\n",
       " 1380900,\n",
       " 1441600,\n",
       " 1345800,\n",
       " 1473300,\n",
       " 1766400,\n",
       " 1599600,\n",
       " 3213700,\n",
       " 1489000,\n",
       " 1304800,\n",
       " 1186000,\n",
       " 1620100,\n",
       " 1316200,\n",
       " 894200,\n",
       " 760600,\n",
       " 2540400,\n",
       " 1061600,\n",
       " 2560900,\n",
       " 1416300,\n",
       " 1385600,\n",
       " 1890400,\n",
       " 1832500,\n",
       " 1522500,\n",
       " 2039900,\n",
       " 2827600,\n",
       " 1527500,\n",
       " 2467100,\n",
       " 1599300,\n",
       " 2118200,\n",
       " 3554000,\n",
       " 3109200,\n",
       " 4109700,\n",
       " 4322500,\n",
       " 4545800,\n",
       " 5301600,\n",
       " 4043000,\n",
       " 2679100,\n",
       " 3804400,\n",
       " 3584500,\n",
       " 5081900,\n",
       " 2931600,\n",
       " 5799100,\n",
       " 4872500,\n",
       " 4876000,\n",
       " 7116900,\n",
       " 4462500,\n",
       " 4752000,\n",
       " 2827600,\n",
       " 3240300,\n",
       " 3284300,\n",
       " 2887900,\n",
       " 3209500,\n",
       " 2974500,\n",
       " 2062300,\n",
       " 1622500,\n",
       " 2723500,\n",
       " 1723300,\n",
       " 1291000,\n",
       " 1704000,\n",
       " 1742700,\n",
       " 1646500,\n",
       " 2411200,\n",
       " 2988400,\n",
       " 3059100,\n",
       " 2837100,\n",
       " 2915400,\n",
       " 3178700,\n",
       " 2633200,\n",
       " 2286100,\n",
       " 2107500,\n",
       " 3833000,\n",
       " 2636700,\n",
       " 2572400,\n",
       " 2107400,\n",
       " 3198900,\n",
       " 3928200,\n",
       " 4159200,\n",
       " 4178600,\n",
       " 2570900,\n",
       " 4327300,\n",
       " 5398100,\n",
       " 2631900,\n",
       " 3531100,\n",
       " 5099500,\n",
       " 6110700,\n",
       " 9918400,\n",
       " 6263600,\n",
       " 7279100,\n",
       " 7757100,\n",
       " 4801400,\n",
       " 3335300,\n",
       " 5175700,\n",
       " 4495400,\n",
       " 2692700,\n",
       " 3237400,\n",
       " 2950500,\n",
       " 2729600,\n",
       " 1612600,\n",
       " 2344600,\n",
       " 2818100,\n",
       " 2999600,\n",
       " 3404800,\n",
       " 2872900,\n",
       " 3379600,\n",
       " 2648500,\n",
       " 2806400,\n",
       " 1491500,\n",
       " 2947500,\n",
       " 2627400,\n",
       " 3037700,\n",
       " 2658600,\n",
       " 3607300,\n",
       " 3773000,\n",
       " 4057000,\n",
       " 4025500,\n",
       " 6467300,\n",
       " 27203300,\n",
       " 9625400,\n",
       " 7169400,\n",
       " 5481300,\n",
       " 7811000,\n",
       " 4925900,\n",
       " 5505700,\n",
       " 3736800,\n",
       " 6980200,\n",
       " 5849700,\n",
       " 3260700,\n",
       " 3744600,\n",
       " 7083000,\n",
       " 4010200,\n",
       " 5352100,\n",
       " 3743400,\n",
       " 2888400,\n",
       " 5305900,\n",
       " 3168300,\n",
       " 1996700,\n",
       " 2961000,\n",
       " 2734300,\n",
       " 4181100,\n",
       " 4419800,\n",
       " 3994600,\n",
       " 2941800,\n",
       " 2155400,\n",
       " 3687000,\n",
       " 3260200,\n",
       " 5208400,\n",
       " 3416500,\n",
       " 7049400,\n",
       " 3056000,\n",
       " 2706000,\n",
       " 6335600,\n",
       " 2451900,\n",
       " 4901900,\n",
       " 4293600,\n",
       " 9869300,\n",
       " 5623300,\n",
       " 3836800,\n",
       " 4268600,\n",
       " 4469400,\n",
       " 3148100,\n",
       " 2602200,\n",
       " 3030900,\n",
       " 3976400,\n",
       " 4333300,\n",
       " 3982600,\n",
       " 5390600,\n",
       " 3788800,\n",
       " 3717200,\n",
       " 4025400,\n",
       " 4322400,\n",
       " 5313500,\n",
       " 2475700,\n",
       " 3066300,\n",
       " 4876600,\n",
       " 4170900,\n",
       " 3471300,\n",
       " 3749500,\n",
       " 6168600,\n",
       " 3262600,\n",
       " 5418200,\n",
       " 3083000,\n",
       " 8402200,\n",
       " 5701100,\n",
       " 6211400,\n",
       " 6826400,\n",
       " 6186600,\n",
       " 2408300,\n",
       " 1287400,\n",
       " 3099700,\n",
       " 2576500,\n",
       " 3175000,\n",
       " 6785600,\n",
       " 3976200,\n",
       " 5567800,\n",
       " 3136200,\n",
       " 2550700,\n",
       " 3251600,\n",
       " 4554500,\n",
       " 3247800,\n",
       " 4347900,\n",
       " 3536400,\n",
       " 5455700,\n",
       " 3011600,\n",
       " 4147600,\n",
       " 3693000,\n",
       " 5735000,\n",
       " 6370200,\n",
       " 4591200,\n",
       " 8409800,\n",
       " 5918600,\n",
       " 3596500,\n",
       " 4553900,\n",
       " 5095400,\n",
       " 6609100,\n",
       " 5724700,\n",
       " 5048200,\n",
       " 8239100,\n",
       " 26774300,\n",
       " 11702300,\n",
       " 10522600,\n",
       " 5668600,\n",
       " 8162400,\n",
       " 6116500,\n",
       " 7584600,\n",
       " 5538500,\n",
       " 6589200,\n",
       " 2897700,\n",
       " 3312700,\n",
       " 16532000,\n",
       " 8848800,\n",
       " 7326400,\n",
       " 14577100,\n",
       " 6836700,\n",
       " 5383200,\n",
       " 7539700,\n",
       " 7561800,\n",
       " 7035600,\n",
       " 7741000,\n",
       " 5039300,\n",
       " 2885200,\n",
       " 3043500,\n",
       " 4734500,\n",
       " 5233400,\n",
       " 5876700,\n",
       " 2364200,\n",
       " 2591900,\n",
       " 4269100,\n",
       " 4430100,\n",
       " 4068600,\n",
       " 2820400,\n",
       " 4038000,\n",
       " 3943300,\n",
       " 6321800,\n",
       " 5033900,\n",
       " 4614400,\n",
       " 8261600,\n",
       " 11682900,\n",
       " 14372100,\n",
       " 6899400,\n",
       " 4890500,\n",
       " 4229800,\n",
       " 2745300,\n",
       " 6378000,\n",
       " 3590300,\n",
       " 3585400,\n",
       " 7775600,\n",
       " 6904600,\n",
       " 5014500,\n",
       " 9837200,\n",
       " 10730900,\n",
       " 5641800,\n",
       " 7051500,\n",
       " 11069400,\n",
       " 8930700,\n",
       " 6735700,\n",
       " 4414600,\n",
       " 5928700,\n",
       " 7969100,\n",
       " 8848100,\n",
       " 4188900,\n",
       " 6534200,\n",
       " 9505300,\n",
       " 5070900,\n",
       " 3011200,\n",
       " 4382200,\n",
       " 4423400,\n",
       " 3188600,\n",
       " 794500,\n",
       " 3587900,\n",
       " 3010600,\n",
       " 6287100,\n",
       " 5179200,\n",
       " 3858500,\n",
       " 6944400,\n",
       " 5935900,\n",
       " 5508700,\n",
       " 8242100,\n",
       " 6641100,\n",
       " 3944000,\n",
       " 4802100,\n",
       " 4015800,\n",
       " 4190200,\n",
       " 5361000,\n",
       " 3104800,\n",
       " 4614200,\n",
       " 5663000,\n",
       " 9151500,\n",
       " 2329700,\n",
       " 4585300,\n",
       " 3796000,\n",
       " 3809900,\n",
       " 3526300,\n",
       " 3838100,\n",
       " 4245600,\n",
       " 6018000,\n",
       " 2376200,\n",
       " 3312500,\n",
       " 6503500,\n",
       " 3390500,\n",
       " 2886800,\n",
       " 3006300,\n",
       " 3156300,\n",
       " 5530100,\n",
       " 3583300,\n",
       " 5836100,\n",
       " 4023800,\n",
       " 2764100,\n",
       " 2730000,\n",
       " 6127600,\n",
       " 4462500,\n",
       " 4655700,\n",
       " 3364100,\n",
       " 4195900,\n",
       " 4137400,\n",
       " 2207700,\n",
       " 2912700,\n",
       " 3830700,\n",
       " 2144500,\n",
       " 1806300,\n",
       " 2945700,\n",
       " 2992200,\n",
       " 3377500,\n",
       " 5024300,\n",
       " 2446200,\n",
       " 3154400,\n",
       " 2882100,\n",
       " 3531200,\n",
       " 2688400,\n",
       " 3973500,\n",
       " 2560300,\n",
       " 4333900,\n",
       " 3352500,\n",
       " 2850300,\n",
       " 2941500,\n",
       " 7615900,\n",
       " 2347400,\n",
       " 4581000,\n",
       " 5227100,\n",
       " 4059700,\n",
       " 3464900,\n",
       " 1884000,\n",
       " 1686700,\n",
       " 3000400,\n",
       " 2734500,\n",
       " 2876000,\n",
       " 3969400,\n",
       " 4916600,\n",
       " 4217500,\n",
       " 2739000,\n",
       " 2416600,\n",
       " 2237000,\n",
       " 2966300,\n",
       " 3690100,\n",
       " 3604900,\n",
       " 2229200,\n",
       " 3994200,\n",
       " 4026700,\n",
       " 2445200,\n",
       " 2294300,\n",
       " 2124900,\n",
       " 9060400,\n",
       " 2357400,\n",
       " 4097900,\n",
       " 1730400,\n",
       " 2406900,\n",
       " 2318800,\n",
       " 2289400,\n",
       " 3040300,\n",
       " 1719200,\n",
       " 2041300,\n",
       " 2815800,\n",
       " 2535200,\n",
       " 1383700,\n",
       " 1320500,\n",
       " 1983700,\n",
       " 2868000,\n",
       " 2016000,\n",
       " 5470600,\n",
       " 6144300,\n",
       " 6302500,\n",
       " 5542800,\n",
       " 3782900,\n",
       " 6897100,\n",
       " 4197100,\n",
       " 8520900,\n",
       " 3543800,\n",
       " 5606000,\n",
       " 4912400,\n",
       " 4226100,\n",
       " 3363200,\n",
       " 5497400,\n",
       " 6120000,\n",
       " 3005600,\n",
       " 2844300,\n",
       " 3161000,\n",
       " 2840100,\n",
       " 3087500,\n",
       " 5930200,\n",
       " 3168800,\n",
       " 2292100,\n",
       " 3266900,\n",
       " 4475500,\n",
       " 3455400,\n",
       " 2363400,\n",
       " 1984400,\n",
       " 2616400,\n",
       " 2567500,\n",
       " 5141800,\n",
       " 3332200,\n",
       " 2275900,\n",
       " 2958200,\n",
       " 2746800,\n",
       " 3252900,\n",
       " 2638700,\n",
       " 1847900,\n",
       " 1633200,\n",
       " 3366800,\n",
       " 1979800,\n",
       " 609400,\n",
       " 1678200,\n",
       " 2360800,\n",
       " 2150400,\n",
       " 3305000,\n",
       " 1415800,\n",
       " 1547200,\n",
       " 2001200,\n",
       " 1414400,\n",
       " 2530100,\n",
       " 2525500,\n",
       " 2366200,\n",
       " 2854900,\n",
       " 2614400,\n",
       " 1948800,\n",
       " 2527300,\n",
       " 2321500,\n",
       " 2498600,\n",
       " 1997900,\n",
       " 1910300,\n",
       " 5596000,\n",
       " 4900600,\n",
       " 7300400,\n",
       " 4398800,\n",
       " 3722200,\n",
       " 4670200,\n",
       " 3389400,\n",
       " 4262300,\n",
       " 5033500,\n",
       " 10273500,\n",
       " 3962200,\n",
       " 4240200,\n",
       " 4409700,\n",
       " 2580000,\n",
       " 2143100,\n",
       " 2856900,\n",
       " 5718000,\n",
       " 2729000,\n",
       " 3395200,\n",
       " 4941400,\n",
       " 3974500,\n",
       " 2222300,\n",
       " 4442700,\n",
       " 4464600,\n",
       " 3185000,\n",
       " 3890900,\n",
       " 3543500,\n",
       " 4004700,\n",
       " 3606400,\n",
       " 2741700,\n",
       " 2823900,\n",
       " 3232300,\n",
       " 2331600,\n",
       " 4042200,\n",
       " 2629200,\n",
       " 2857700,\n",
       " 2350400,\n",
       " 1718000,\n",
       " 2780000,\n",
       " 2944300,\n",
       " 5930500,\n",
       " 3637600,\n",
       " 2266000,\n",
       " 3348800,\n",
       " 2675000,\n",
       " 2473900,\n",
       " 1749300,\n",
       " 3577800,\n",
       " 3148800,\n",
       " 4892000,\n",
       " 1631900,\n",
       " 3517700,\n",
       " 4626200,\n",
       " 3409400,\n",
       " 2424800,\n",
       " 3268800,\n",
       " 2249000,\n",
       " 2324200,\n",
       " 3758200,\n",
       " 5436500,\n",
       " 5175600,\n",
       " 5281400,\n",
       " 4333500,\n",
       " 2229400,\n",
       " 2433200,\n",
       " 3218000,\n",
       " 3684300,\n",
       " 2907300,\n",
       " 2183800,\n",
       " 3161400,\n",
       " 2835300,\n",
       " 3286400,\n",
       " 3586100,\n",
       " 5947000,\n",
       " 3649400,\n",
       " 2863800,\n",
       " 4090700,\n",
       " 4271600,\n",
       " 2880900,\n",
       " 1679700,\n",
       " 1880500,\n",
       " 3442800,\n",
       " 3366700,\n",
       " 2121500,\n",
       " 1557400,\n",
       " 3318800,\n",
       " 2734900,\n",
       " 3100800,\n",
       " 2574500,\n",
       " 3043100,\n",
       " 2507800,\n",
       " 2703600,\n",
       " 3482200,\n",
       " 7248600,\n",
       " 5258300,\n",
       " 3050000,\n",
       " 6892000,\n",
       " 3425200,\n",
       " 3783100,\n",
       " ...]"
      ]
     },
     "execution_count": 54,
     "metadata": {},
     "output_type": "execute_result"
    }
   ],
   "source": [
    "#转换为list()来使用remove\n",
    "volume = volume.tolist() # Convert tolist() to use remove\n",
    "volume"
   ]
  },
  {
   "cell_type": "code",
   "execution_count": 55,
   "id": "9c5d3ec1",
   "metadata": {
    "ExecuteTime": {
     "end_time": "2021-05-21T15:39:14.709659Z",
     "start_time": "2021-05-21T15:39:14.694059Z"
    }
   },
   "outputs": [],
   "source": [
    "volume.remove(0)"
   ]
  },
  {
   "cell_type": "code",
   "execution_count": 56,
   "id": "4aac9b41",
   "metadata": {
    "ExecuteTime": {
     "end_time": "2021-05-21T15:39:19.500864Z",
     "start_time": "2021-05-21T15:39:19.494863Z"
    }
   },
   "outputs": [
    {
     "name": "stdout",
     "output_type": "stream",
     "text": [
      "[469100, 4, 6, 8, 1168100, 496200, 403400, 1863300, 784700, 433800, 906100, 647800, 364000, 938800, 1064400, 360800, 391900, 664800, 455600, 597400, 917100, 1978200, 1341000, 1177200, 650700, 1118800, 974800, 1006100, 984600, 421400, 910800, 1982200, 248600, 591800, 712100, 308100, 866100, 379600, 256500, 1201300, 328000, 319700, 546600, 404700, 205800, 520700, 508800, 524500, 360700, 306400, 656300, 822200, 999900, 1293300, 929500, 1062800, 389400, 424300, 260300, 871900, 1428700, 215100, 611200, 556000, 771400, 450600, 347100, 312800, 421600, 593200, 373500, 220800, 481500, 319900, 920600, 290700, 175100, 524800, 367500, 238200, 251900, 367200, 433700, 561500, 518800, 373300, 153600, 513700, 443100, 354700, 307500, 445100, 654100, 842300, 2430400, 770700, 586400, 309200, 546300, 884600, 1430900, 928200, 1648600, 1395800, 566400, 1211200, 1174300, 427900, 210200, 395500, 932000, 964500, 681700, 1162000, 520000, 1034900, 920000, 1162700, 685100, 1138900, 1690100, 995500, 1181800, 733000, 937600, 643900, 372600, 605900, 1378900, 389400, 498200, 573300, 305600, 480200, 241500, 714900, 311300, 1110500, 227800, 791800, 385900, 351800, 383300, 381900, 344000, 1014100, 558300, 414900, 175600, 444600, 638700, 180500, 277200, 441100, 372300, 629200, 1047400, 973500, 729800, 557400, 537000, 398800, 456200, 279200, 695500, 414700, 412400, 374800, 834100, 450600, 1026900, 571000, 904600, 691100, 880100, 570700, 345700, 1933600, 1029700, 898800, 1794900, 2434100, 1725100, 1470300, 948200, 998500, 1030200, 1245000, 1355400, 620700, 1033600, 498100, 848600, 441900, 440100, 796300, 603800, 1031000, 982600, 701300, 533200, 561300, 525600, 527600, 604000, 616400, 617900, 357000, 561100, 631500, 739900, 1730500, 1062900, 804700, 1520600, 1249200, 1182600, 1409900, 2093400, 1306100, 1668800, 1073000, 656700, 575000, 768900, 607900, 807000, 545900, 576900, 1039100, 751400, 1230800, 1386400, 581500, 960200, 665100, 739200, 1208800, 1164500, 1326600, 1359800, 971900, 852500, 699100, 1070000, 787700, 1169300, 679800, 487600, 639500, 863600, 632900, 802200, 977800, 805500, 745600, 455300, 2412300, 1066300, 894700, 248300, 423700, 490000, 823800, 694600, 559600, 829000, 778400, 882200, 1245800, 360100, 391000, 1132800, 765900, 451500, 294100, 358200, 562000, 352900, 463200, 491800, 437800, 988200, 609700, 329500, 756000, 1240000, 915500, 502600, 272900, 729900, 727100, 748700, 605400, 535500, 839000, 855700, 1178700, 563000, 881600, 851600, 1791400, 1250400, 732100, 1319800, 1718400, 1602700, 953600, 629800, 934000, 1174500, 981300, 663200, 666000, 856500, 650700, 1300900, 907800, 983200, 616600, 711200, 1208400, 379700, 649800, 727500, 496500, 1315700, 818200, 747800, 1097800, 918600, 804600, 966000, 813500, 1740400, 936900, 1486800, 1222200, 1105400, 1441700, 617500, 936000, 1581500, 1955600, 3047400, 3194400, 2525300, 2130000, 3275200, 2498800, 1684200, 1517200, 1088400, 1218700, 1809500, 1626100, 1731000, 1678700, 1183600, 1578000, 3009600, 6065900, 2468200, 1877500, 1893300, 2674600, 847700, 1811900, 1619900, 1232600, 1956000, 1943300, 1689400, 2289600, 1999400, 3481000, 4438600, 880700, 2664000, 2265200, 1403300, 1054200, 1196700, 1625000, 2026700, 1895300, 1975500, 1840100, 2293100, 1391400, 1624700, 1282000, 1548600, 1617500, 1680300, 1019100, 1566900, 1764300, 2153200, 1439700, 893400, 1790900, 2813400, 1576300, 2748500, 2915700, 2033600, 1979600, 3834000, 3189100, 2202000, 1551600, 2721900, 2894800, 2697300, 2343200, 1974900, 1914200, 1992200, 1671200, 2130100, 2465700, 1277300, 1343500, 1271100, 1554600, 1881500, 1383400, 1399500, 1165900, 2679600, 2051900, 1686400, 1664100, 1007000, 3033000, 2066900, 1838500, 1282400, 1609600, 1895400, 1677300, 1569400, 1380900, 1441600, 1345800, 1473300, 1766400, 1599600, 3213700, 1489000, 1304800, 1186000, 1620100, 1316200, 894200, 760600, 2540400, 1061600, 2560900, 1416300, 1385600, 1890400, 1832500, 1522500, 2039900, 2827600, 1527500, 2467100, 1599300, 2118200, 3554000, 3109200, 4109700, 4322500, 4545800, 5301600, 4043000, 2679100, 3804400, 3584500, 5081900, 2931600, 5799100, 4872500, 4876000, 7116900, 4462500, 4752000, 2827600, 3240300, 3284300, 2887900, 3209500, 2974500, 2062300, 1622500, 2723500, 1723300, 1291000, 1704000, 1742700, 1646500, 2411200, 2988400, 3059100, 2837100, 2915400, 3178700, 2633200, 2286100, 2107500, 3833000, 2636700, 2572400, 2107400, 3198900, 3928200, 4159200, 4178600, 2570900, 4327300, 5398100, 2631900, 3531100, 5099500, 6110700, 9918400, 6263600, 7279100, 7757100, 4801400, 3335300, 5175700, 4495400, 2692700, 3237400, 2950500, 2729600, 1612600, 2344600, 2818100, 2999600, 3404800, 2872900, 3379600, 2648500, 2806400, 1491500, 2947500, 2627400, 3037700, 2658600, 3607300, 3773000, 4057000, 4025500, 6467300, 27203300, 9625400, 7169400, 5481300, 7811000, 4925900, 5505700, 3736800, 6980200, 5849700, 3260700, 3744600, 7083000, 4010200, 5352100, 3743400, 2888400, 5305900, 3168300, 1996700, 2961000, 2734300, 4181100, 4419800, 3994600, 2941800, 2155400, 3687000, 3260200, 5208400, 3416500, 7049400, 3056000, 2706000, 6335600, 2451900, 4901900, 4293600, 9869300, 5623300, 3836800, 4268600, 4469400, 3148100, 2602200, 3030900, 3976400, 4333300, 3982600, 5390600, 3788800, 3717200, 4025400, 4322400, 5313500, 2475700, 3066300, 4876600, 4170900, 3471300, 3749500, 6168600, 3262600, 5418200, 3083000, 8402200, 5701100, 6211400, 6826400, 6186600, 2408300, 1287400, 3099700, 2576500, 3175000, 6785600, 3976200, 5567800, 3136200, 2550700, 3251600, 4554500, 3247800, 4347900, 3536400, 5455700, 3011600, 4147600, 3693000, 5735000, 6370200, 4591200, 8409800, 5918600, 3596500, 4553900, 5095400, 6609100, 5724700, 5048200, 8239100, 26774300, 11702300, 10522600, 5668600, 8162400, 6116500, 7584600, 5538500, 6589200, 2897700, 3312700, 16532000, 8848800, 7326400, 14577100, 6836700, 5383200, 7539700, 7561800, 7035600, 7741000, 5039300, 2885200, 3043500, 4734500, 5233400, 5876700, 2364200, 2591900, 4269100, 4430100, 4068600, 2820400, 4038000, 3943300, 6321800, 5033900, 4614400, 8261600, 11682900, 14372100, 6899400, 4890500, 4229800, 2745300, 6378000, 3590300, 3585400, 7775600, 6904600, 5014500, 9837200, 10730900, 5641800, 7051500, 11069400, 8930700, 6735700, 4414600, 5928700, 7969100, 8848100, 4188900, 6534200, 9505300, 5070900, 3011200, 4382200, 4423400, 3188600, 794500, 3587900, 3010600, 6287100, 5179200, 3858500, 6944400, 5935900, 5508700, 8242100, 6641100, 3944000, 4802100, 4015800, 4190200, 5361000, 3104800, 4614200, 5663000, 9151500, 2329700, 4585300, 3796000, 3809900, 3526300, 3838100, 4245600, 6018000, 2376200, 3312500, 6503500, 3390500, 2886800, 3006300, 3156300, 5530100, 3583300, 5836100, 4023800, 2764100, 2730000, 6127600, 4462500, 4655700, 3364100, 4195900, 4137400, 2207700, 2912700, 3830700, 2144500, 1806300, 2945700, 2992200, 3377500, 5024300, 2446200, 3154400, 2882100, 3531200, 2688400, 3973500, 2560300, 4333900, 3352500, 2850300, 2941500, 7615900, 2347400, 4581000, 5227100, 4059700, 3464900, 1884000, 1686700, 3000400, 2734500, 2876000, 3969400, 4916600, 4217500, 2739000, 2416600, 2237000, 2966300, 3690100, 3604900, 2229200, 3994200, 4026700, 2445200, 2294300, 2124900, 9060400, 2357400, 4097900, 1730400, 2406900, 2318800, 2289400, 3040300, 1719200, 2041300, 2815800, 2535200, 1383700, 1320500, 1983700, 2868000, 2016000, 5470600, 6144300, 6302500, 5542800, 3782900, 6897100, 4197100, 8520900, 3543800, 5606000, 4912400, 4226100, 3363200, 5497400, 6120000, 3005600, 2844300, 3161000, 2840100, 3087500, 5930200, 3168800, 2292100, 3266900, 4475500, 3455400, 2363400, 1984400, 2616400, 2567500, 5141800, 3332200, 2275900, 2958200, 2746800, 3252900, 2638700, 1847900, 1633200, 3366800, 1979800, 609400, 1678200, 2360800, 2150400, 3305000, 1415800, 1547200, 2001200, 1414400, 2530100, 2525500, 2366200, 2854900, 2614400, 1948800, 2527300, 2321500, 2498600, 1997900, 1910300, 5596000, 4900600, 7300400, 4398800, 3722200, 4670200, 3389400, 4262300, 5033500, 10273500, 3962200, 4240200, 4409700, 2580000, 2143100, 2856900, 5718000, 2729000, 3395200, 4941400, 3974500, 2222300, 4442700, 4464600, 3185000, 3890900, 3543500, 4004700, 3606400, 2741700, 2823900, 3232300, 2331600, 4042200, 2629200, 2857700, 2350400, 1718000, 2780000, 2944300, 5930500, 3637600, 2266000, 3348800, 2675000, 2473900, 1749300, 3577800, 3148800, 4892000, 1631900, 3517700, 4626200, 3409400, 2424800, 3268800, 2249000, 2324200, 3758200, 5436500, 5175600, 5281400, 4333500, 2229400, 2433200, 3218000, 3684300, 2907300, 2183800, 3161400, 2835300, 3286400, 3586100, 5947000, 3649400, 2863800, 4090700, 4271600, 2880900, 1679700, 1880500, 3442800, 3366700, 2121500, 1557400, 3318800, 2734900, 3100800, 2574500, 3043100, 2507800, 2703600, 3482200, 7248600, 5258300, 3050000, 6892000, 3425200, 3783100, 4489100, 1739200, 572600, 1584300, 2065900, 2571800, 1931300, 4293200, 2728500, 4712100, 4667000, 2925200, 2874000, 5373200, 4920700, 3395200, 3149400, 2269800, 1846200, 6423300, 4748200, 4581700, 4248300, 9271000, 7210600, 6089200, 5431100, 5588800, 5344100, 4850900, 5240500, 3259800, 4114900, 3547500, 5289400, 4969300, 3460700, 2513300, 2692100, 3497100, 3589000, 4103500, 4669900, 7824400, 6239400, 8508600, 7163400, 6001300, 5335900, 4213600, 6867200, 4817400, 6861700, 5071600, 6092900, 11802900, 8499900, 9104500, 8603800, 8460300, 7809200, 8911100, 8613400, 11939500, 5177200, 7463400, 3762200, 3769000, 2589900, 4189200, 3199500, 2865200, 2822300, 3282500, 3214300, 4217800, 3764500, 3212600, 2991100, 5469800, 3703900, 2532200, 2480400, 2719900, 2240600, 1635600, 1963700, 2918100, 1942400, 3097800, 5653000, 2443600, 2653000, 2884800, 2647100, 5009800, 4730200, 4110200, 9222800, 6025700, 4853900, 3471400, 3537400, 5423800, 5413200, 8033300, 5106100, 4612200, 4071300, 6098200, 2425100, 4676700, 3266900, 2938900, 4014800, 4141200, 2140700, 3594600, 2407500, 1975100, 2104300, 3410400, 2587600, 2364300, 2540600, 7277000, 4458900, 2786700, 3143200, 2026100, 2531000, 4062800, 2695800, 3891200, 3609900, 2524800, 4969700, 5876300, 3181900, 4878100, 2870800, 2901600, 3036400, 1377600, 2399800, 3606200, 3103800, 4844500, 3280200, 3742600, 3521600, 2203200, 2107300, 2433300, 3002200, 2025400, 2474000, 1856000, 9096500, 9031000, 2973300, 3888700, 4239400, 3080100, 2043800, 1630600, 2362700, 1669900, 3435700, 2968500, 3723500, 3335300, 3050900, 2338000, 3600500, 2989300, 3754600, 4544800, 3439900, 3321900, 2705000, 3028900, 2406300, 1971700, 1466500, 2134600, 2331800, 4876800, 3414600, 1825900, 2045100, 2265300, 4351300, 1191700, 1647900, 3734900, 2571200, 2560300, 1506200, 3583300, 3890000, 2187000, 2119400, 3195100, 3768600, 2627200, 1904000, 3445100, 1837200, 2161300, 2154500, 1583400, 1593600, 2334000, 3302900, 4517200, 3842000, 3582300, 4204400, 5947700, 5321500, 5021100, 5905800, 5604900, 6034200, 6282600, 5667700, 7311100, 3108100, 1772700, 3060700, 3049200, 2661300, 2595800, 1635200, 1783000, 1095200, 3566800, 1883200, 2092100, 1487600, 1436000, 2157100, 1515200, 1659100, 2123000, 1197900, 2448100, 1873100, 1218200, 889300, 1231500, 1617600, 3708800, 1090600, 5695300, 6858000, 4625500, 3000800, 2562000, 3019600, 2203000, 4378100, 6867700, 10876700, 3591200, 2343600, 3355200, 3177600, 2698500, 4152400, 4412100, 4149800, 3690300, 6672400, 3567900, 2607400, 2099200, 1535700, 2423200, 2597900, 2317700, 1979100, 1532200, 2598300, 2401100, 2089600, 2041300, 960300, 1839100, 1878300, 3150500, 1660500, 3129900, 3564400, 3019000, 2521600, 4191300, 3492300, 1160600, 3812900, 4579900, 5211100, 3068100, 2716000, 2199500, 1911800, 5212000, 2639700, 2062600, 2070800, 1986900, 2503300, 1853100, 1861000, 5983900, 4747400, 5923100, 3468900, 1715900]\n"
     ]
    }
   ],
   "source": [
    "print(volume)"
   ]
  },
  {
   "cell_type": "code",
   "execution_count": 57,
   "id": "4a81c0a2",
   "metadata": {
    "ExecuteTime": {
     "end_time": "2021-05-21T15:39:28.156406Z",
     "start_time": "2021-05-21T15:39:28.125206Z"
    }
   },
   "outputs": [
    {
     "name": "stdout",
     "output_type": "stream",
     "text": [
      "6\n"
     ]
    }
   ],
   "source": [
    "print(volume.pop(2))"
   ]
  },
  {
   "cell_type": "code",
   "execution_count": 58,
   "id": "5f5fe4ca",
   "metadata": {
    "ExecuteTime": {
     "end_time": "2021-05-21T15:39:33.038805Z",
     "start_time": "2021-05-21T15:39:33.023205Z"
    }
   },
   "outputs": [
    {
     "name": "stdout",
     "output_type": "stream",
     "text": [
      "[469100, 4, 8, 1168100, 496200, 403400, 1863300, 784700, 433800, 906100, 647800, 364000, 938800, 1064400, 360800, 391900, 664800, 455600, 597400, 917100, 1978200, 1341000, 1177200, 650700, 1118800, 974800, 1006100, 984600, 421400, 910800, 1982200, 248600, 591800, 712100, 308100, 866100, 379600, 256500, 1201300, 328000, 319700, 546600, 404700, 205800, 520700, 508800, 524500, 360700, 306400, 656300, 822200, 999900, 1293300, 929500, 1062800, 389400, 424300, 260300, 871900, 1428700, 215100, 611200, 556000, 771400, 450600, 347100, 312800, 421600, 593200, 373500, 220800, 481500, 319900, 920600, 290700, 175100, 524800, 367500, 238200, 251900, 367200, 433700, 561500, 518800, 373300, 153600, 513700, 443100, 354700, 307500, 445100, 654100, 842300, 2430400, 770700, 586400, 309200, 546300, 884600, 1430900, 928200, 1648600, 1395800, 566400, 1211200, 1174300, 427900, 210200, 395500, 932000, 964500, 681700, 1162000, 520000, 1034900, 920000, 1162700, 685100, 1138900, 1690100, 995500, 1181800, 733000, 937600, 643900, 372600, 605900, 1378900, 389400, 498200, 573300, 305600, 480200, 241500, 714900, 311300, 1110500, 227800, 791800, 385900, 351800, 383300, 381900, 344000, 1014100, 558300, 414900, 175600, 444600, 638700, 180500, 277200, 441100, 372300, 629200, 1047400, 973500, 729800, 557400, 537000, 398800, 456200, 279200, 695500, 414700, 412400, 374800, 834100, 450600, 1026900, 571000, 904600, 691100, 880100, 570700, 345700, 1933600, 1029700, 898800, 1794900, 2434100, 1725100, 1470300, 948200, 998500, 1030200, 1245000, 1355400, 620700, 1033600, 498100, 848600, 441900, 440100, 796300, 603800, 1031000, 982600, 701300, 533200, 561300, 525600, 527600, 604000, 616400, 617900, 357000, 561100, 631500, 739900, 1730500, 1062900, 804700, 1520600, 1249200, 1182600, 1409900, 2093400, 1306100, 1668800, 1073000, 656700, 575000, 768900, 607900, 807000, 545900, 576900, 1039100, 751400, 1230800, 1386400, 581500, 960200, 665100, 739200, 1208800, 1164500, 1326600, 1359800, 971900, 852500, 699100, 1070000, 787700, 1169300, 679800, 487600, 639500, 863600, 632900, 802200, 977800, 805500, 745600, 455300, 2412300, 1066300, 894700, 248300, 423700, 490000, 823800, 694600, 559600, 829000, 778400, 882200, 1245800, 360100, 391000, 1132800, 765900, 451500, 294100, 358200, 562000, 352900, 463200, 491800, 437800, 988200, 609700, 329500, 756000, 1240000, 915500, 502600, 272900, 729900, 727100, 748700, 605400, 535500, 839000, 855700, 1178700, 563000, 881600, 851600, 1791400, 1250400, 732100, 1319800, 1718400, 1602700, 953600, 629800, 934000, 1174500, 981300, 663200, 666000, 856500, 650700, 1300900, 907800, 983200, 616600, 711200, 1208400, 379700, 649800, 727500, 496500, 1315700, 818200, 747800, 1097800, 918600, 804600, 966000, 813500, 1740400, 936900, 1486800, 1222200, 1105400, 1441700, 617500, 936000, 1581500, 1955600, 3047400, 3194400, 2525300, 2130000, 3275200, 2498800, 1684200, 1517200, 1088400, 1218700, 1809500, 1626100, 1731000, 1678700, 1183600, 1578000, 3009600, 6065900, 2468200, 1877500, 1893300, 2674600, 847700, 1811900, 1619900, 1232600, 1956000, 1943300, 1689400, 2289600, 1999400, 3481000, 4438600, 880700, 2664000, 2265200, 1403300, 1054200, 1196700, 1625000, 2026700, 1895300, 1975500, 1840100, 2293100, 1391400, 1624700, 1282000, 1548600, 1617500, 1680300, 1019100, 1566900, 1764300, 2153200, 1439700, 893400, 1790900, 2813400, 1576300, 2748500, 2915700, 2033600, 1979600, 3834000, 3189100, 2202000, 1551600, 2721900, 2894800, 2697300, 2343200, 1974900, 1914200, 1992200, 1671200, 2130100, 2465700, 1277300, 1343500, 1271100, 1554600, 1881500, 1383400, 1399500, 1165900, 2679600, 2051900, 1686400, 1664100, 1007000, 3033000, 2066900, 1838500, 1282400, 1609600, 1895400, 1677300, 1569400, 1380900, 1441600, 1345800, 1473300, 1766400, 1599600, 3213700, 1489000, 1304800, 1186000, 1620100, 1316200, 894200, 760600, 2540400, 1061600, 2560900, 1416300, 1385600, 1890400, 1832500, 1522500, 2039900, 2827600, 1527500, 2467100, 1599300, 2118200, 3554000, 3109200, 4109700, 4322500, 4545800, 5301600, 4043000, 2679100, 3804400, 3584500, 5081900, 2931600, 5799100, 4872500, 4876000, 7116900, 4462500, 4752000, 2827600, 3240300, 3284300, 2887900, 3209500, 2974500, 2062300, 1622500, 2723500, 1723300, 1291000, 1704000, 1742700, 1646500, 2411200, 2988400, 3059100, 2837100, 2915400, 3178700, 2633200, 2286100, 2107500, 3833000, 2636700, 2572400, 2107400, 3198900, 3928200, 4159200, 4178600, 2570900, 4327300, 5398100, 2631900, 3531100, 5099500, 6110700, 9918400, 6263600, 7279100, 7757100, 4801400, 3335300, 5175700, 4495400, 2692700, 3237400, 2950500, 2729600, 1612600, 2344600, 2818100, 2999600, 3404800, 2872900, 3379600, 2648500, 2806400, 1491500, 2947500, 2627400, 3037700, 2658600, 3607300, 3773000, 4057000, 4025500, 6467300, 27203300, 9625400, 7169400, 5481300, 7811000, 4925900, 5505700, 3736800, 6980200, 5849700, 3260700, 3744600, 7083000, 4010200, 5352100, 3743400, 2888400, 5305900, 3168300, 1996700, 2961000, 2734300, 4181100, 4419800, 3994600, 2941800, 2155400, 3687000, 3260200, 5208400, 3416500, 7049400, 3056000, 2706000, 6335600, 2451900, 4901900, 4293600, 9869300, 5623300, 3836800, 4268600, 4469400, 3148100, 2602200, 3030900, 3976400, 4333300, 3982600, 5390600, 3788800, 3717200, 4025400, 4322400, 5313500, 2475700, 3066300, 4876600, 4170900, 3471300, 3749500, 6168600, 3262600, 5418200, 3083000, 8402200, 5701100, 6211400, 6826400, 6186600, 2408300, 1287400, 3099700, 2576500, 3175000, 6785600, 3976200, 5567800, 3136200, 2550700, 3251600, 4554500, 3247800, 4347900, 3536400, 5455700, 3011600, 4147600, 3693000, 5735000, 6370200, 4591200, 8409800, 5918600, 3596500, 4553900, 5095400, 6609100, 5724700, 5048200, 8239100, 26774300, 11702300, 10522600, 5668600, 8162400, 6116500, 7584600, 5538500, 6589200, 2897700, 3312700, 16532000, 8848800, 7326400, 14577100, 6836700, 5383200, 7539700, 7561800, 7035600, 7741000, 5039300, 2885200, 3043500, 4734500, 5233400, 5876700, 2364200, 2591900, 4269100, 4430100, 4068600, 2820400, 4038000, 3943300, 6321800, 5033900, 4614400, 8261600, 11682900, 14372100, 6899400, 4890500, 4229800, 2745300, 6378000, 3590300, 3585400, 7775600, 6904600, 5014500, 9837200, 10730900, 5641800, 7051500, 11069400, 8930700, 6735700, 4414600, 5928700, 7969100, 8848100, 4188900, 6534200, 9505300, 5070900, 3011200, 4382200, 4423400, 3188600, 794500, 3587900, 3010600, 6287100, 5179200, 3858500, 6944400, 5935900, 5508700, 8242100, 6641100, 3944000, 4802100, 4015800, 4190200, 5361000, 3104800, 4614200, 5663000, 9151500, 2329700, 4585300, 3796000, 3809900, 3526300, 3838100, 4245600, 6018000, 2376200, 3312500, 6503500, 3390500, 2886800, 3006300, 3156300, 5530100, 3583300, 5836100, 4023800, 2764100, 2730000, 6127600, 4462500, 4655700, 3364100, 4195900, 4137400, 2207700, 2912700, 3830700, 2144500, 1806300, 2945700, 2992200, 3377500, 5024300, 2446200, 3154400, 2882100, 3531200, 2688400, 3973500, 2560300, 4333900, 3352500, 2850300, 2941500, 7615900, 2347400, 4581000, 5227100, 4059700, 3464900, 1884000, 1686700, 3000400, 2734500, 2876000, 3969400, 4916600, 4217500, 2739000, 2416600, 2237000, 2966300, 3690100, 3604900, 2229200, 3994200, 4026700, 2445200, 2294300, 2124900, 9060400, 2357400, 4097900, 1730400, 2406900, 2318800, 2289400, 3040300, 1719200, 2041300, 2815800, 2535200, 1383700, 1320500, 1983700, 2868000, 2016000, 5470600, 6144300, 6302500, 5542800, 3782900, 6897100, 4197100, 8520900, 3543800, 5606000, 4912400, 4226100, 3363200, 5497400, 6120000, 3005600, 2844300, 3161000, 2840100, 3087500, 5930200, 3168800, 2292100, 3266900, 4475500, 3455400, 2363400, 1984400, 2616400, 2567500, 5141800, 3332200, 2275900, 2958200, 2746800, 3252900, 2638700, 1847900, 1633200, 3366800, 1979800, 609400, 1678200, 2360800, 2150400, 3305000, 1415800, 1547200, 2001200, 1414400, 2530100, 2525500, 2366200, 2854900, 2614400, 1948800, 2527300, 2321500, 2498600, 1997900, 1910300, 5596000, 4900600, 7300400, 4398800, 3722200, 4670200, 3389400, 4262300, 5033500, 10273500, 3962200, 4240200, 4409700, 2580000, 2143100, 2856900, 5718000, 2729000, 3395200, 4941400, 3974500, 2222300, 4442700, 4464600, 3185000, 3890900, 3543500, 4004700, 3606400, 2741700, 2823900, 3232300, 2331600, 4042200, 2629200, 2857700, 2350400, 1718000, 2780000, 2944300, 5930500, 3637600, 2266000, 3348800, 2675000, 2473900, 1749300, 3577800, 3148800, 4892000, 1631900, 3517700, 4626200, 3409400, 2424800, 3268800, 2249000, 2324200, 3758200, 5436500, 5175600, 5281400, 4333500, 2229400, 2433200, 3218000, 3684300, 2907300, 2183800, 3161400, 2835300, 3286400, 3586100, 5947000, 3649400, 2863800, 4090700, 4271600, 2880900, 1679700, 1880500, 3442800, 3366700, 2121500, 1557400, 3318800, 2734900, 3100800, 2574500, 3043100, 2507800, 2703600, 3482200, 7248600, 5258300, 3050000, 6892000, 3425200, 3783100, 4489100, 1739200, 572600, 1584300, 2065900, 2571800, 1931300, 4293200, 2728500, 4712100, 4667000, 2925200, 2874000, 5373200, 4920700, 3395200, 3149400, 2269800, 1846200, 6423300, 4748200, 4581700, 4248300, 9271000, 7210600, 6089200, 5431100, 5588800, 5344100, 4850900, 5240500, 3259800, 4114900, 3547500, 5289400, 4969300, 3460700, 2513300, 2692100, 3497100, 3589000, 4103500, 4669900, 7824400, 6239400, 8508600, 7163400, 6001300, 5335900, 4213600, 6867200, 4817400, 6861700, 5071600, 6092900, 11802900, 8499900, 9104500, 8603800, 8460300, 7809200, 8911100, 8613400, 11939500, 5177200, 7463400, 3762200, 3769000, 2589900, 4189200, 3199500, 2865200, 2822300, 3282500, 3214300, 4217800, 3764500, 3212600, 2991100, 5469800, 3703900, 2532200, 2480400, 2719900, 2240600, 1635600, 1963700, 2918100, 1942400, 3097800, 5653000, 2443600, 2653000, 2884800, 2647100, 5009800, 4730200, 4110200, 9222800, 6025700, 4853900, 3471400, 3537400, 5423800, 5413200, 8033300, 5106100, 4612200, 4071300, 6098200, 2425100, 4676700, 3266900, 2938900, 4014800, 4141200, 2140700, 3594600, 2407500, 1975100, 2104300, 3410400, 2587600, 2364300, 2540600, 7277000, 4458900, 2786700, 3143200, 2026100, 2531000, 4062800, 2695800, 3891200, 3609900, 2524800, 4969700, 5876300, 3181900, 4878100, 2870800, 2901600, 3036400, 1377600, 2399800, 3606200, 3103800, 4844500, 3280200, 3742600, 3521600, 2203200, 2107300, 2433300, 3002200, 2025400, 2474000, 1856000, 9096500, 9031000, 2973300, 3888700, 4239400, 3080100, 2043800, 1630600, 2362700, 1669900, 3435700, 2968500, 3723500, 3335300, 3050900, 2338000, 3600500, 2989300, 3754600, 4544800, 3439900, 3321900, 2705000, 3028900, 2406300, 1971700, 1466500, 2134600, 2331800, 4876800, 3414600, 1825900, 2045100, 2265300, 4351300, 1191700, 1647900, 3734900, 2571200, 2560300, 1506200, 3583300, 3890000, 2187000, 2119400, 3195100, 3768600, 2627200, 1904000, 3445100, 1837200, 2161300, 2154500, 1583400, 1593600, 2334000, 3302900, 4517200, 3842000, 3582300, 4204400, 5947700, 5321500, 5021100, 5905800, 5604900, 6034200, 6282600, 5667700, 7311100, 3108100, 1772700, 3060700, 3049200, 2661300, 2595800, 1635200, 1783000, 1095200, 3566800, 1883200, 2092100, 1487600, 1436000, 2157100, 1515200, 1659100, 2123000, 1197900, 2448100, 1873100, 1218200, 889300, 1231500, 1617600, 3708800, 1090600, 5695300, 6858000, 4625500, 3000800, 2562000, 3019600, 2203000, 4378100, 6867700, 10876700, 3591200, 2343600, 3355200, 3177600, 2698500, 4152400, 4412100, 4149800, 3690300, 6672400, 3567900, 2607400, 2099200, 1535700, 2423200, 2597900, 2317700, 1979100, 1532200, 2598300, 2401100, 2089600, 2041300, 960300, 1839100, 1878300, 3150500, 1660500, 3129900, 3564400, 3019000, 2521600, 4191300, 3492300, 1160600, 3812900, 4579900, 5211100, 3068100, 2716000, 2199500, 1911800, 5212000, 2639700, 2062600, 2070800, 1986900, 2503300, 1853100, 1861000, 5983900, 4747400, 5923100, 3468900, 1715900]\n"
     ]
    }
   ],
   "source": [
    "print(volume)"
   ]
  },
  {
   "cell_type": "markdown",
   "id": "a3f7f0b5",
   "metadata": {},
   "source": [
    "## Matrix"
   ]
  },
  {
   "cell_type": "markdown",
   "id": "0c0ab21d",
   "metadata": {},
   "source": [
    "在数学中，矩阵（Matrix）是一个按照长方阵列排列的复数或实数集合。由 m × n 个数aij排成的m行n列的数表称为m行n列的矩阵，简称m × n矩阵。矩阵运算在科学计算中非常重要，而矩阵的基本运算包括矩阵的加法，减法，数乘，转置，共轭和共轭转置 。"
   ]
  },
  {
   "cell_type": "code",
   "execution_count": 59,
   "id": "d29a96b7",
   "metadata": {
    "ExecuteTime": {
     "end_time": "2021-05-21T15:40:12.265335Z",
     "start_time": "2021-05-21T15:40:12.229135Z"
    }
   },
   "outputs": [],
   "source": [
    "import numpy as np # 对于矩阵和线性代数\n",
    "import numpy.matlib"
   ]
  },
  {
   "cell_type": "code",
   "execution_count": 61,
   "id": "b59f2b72",
   "metadata": {
    "ExecuteTime": {
     "end_time": "2021-05-21T15:42:26.030504Z",
     "start_time": "2021-05-21T15:42:25.252688Z"
    }
   },
   "outputs": [
    {
     "name": "stdout",
     "output_type": "stream",
     "text": [
      "[*********************100%***********************]  1 of 1 completed\n"
     ]
    },
    {
     "data": {
      "text/html": [
       "<div>\n",
       "<style scoped>\n",
       "    .dataframe tbody tr th:only-of-type {\n",
       "        vertical-align: middle;\n",
       "    }\n",
       "\n",
       "    .dataframe tbody tr th {\n",
       "        vertical-align: top;\n",
       "    }\n",
       "\n",
       "    .dataframe thead th {\n",
       "        text-align: right;\n",
       "    }\n",
       "</style>\n",
       "<table border=\"1\" class=\"dataframe\">\n",
       "  <thead>\n",
       "    <tr style=\"text-align: right;\">\n",
       "      <th></th>\n",
       "      <th>Open</th>\n",
       "      <th>High</th>\n",
       "      <th>Low</th>\n",
       "      <th>Close</th>\n",
       "      <th>Adj Close</th>\n",
       "      <th>Volume</th>\n",
       "    </tr>\n",
       "    <tr>\n",
       "      <th>Date</th>\n",
       "      <th></th>\n",
       "      <th></th>\n",
       "      <th></th>\n",
       "      <th></th>\n",
       "      <th></th>\n",
       "      <th></th>\n",
       "    </tr>\n",
       "  </thead>\n",
       "  <tbody>\n",
       "    <tr>\n",
       "      <th>2021-03-19</th>\n",
       "      <td>80.699997</td>\n",
       "      <td>82.639999</td>\n",
       "      <td>80.099998</td>\n",
       "      <td>82.639999</td>\n",
       "      <td>82.639999</td>\n",
       "      <td>2503300</td>\n",
       "    </tr>\n",
       "    <tr>\n",
       "      <th>2021-03-22</th>\n",
       "      <td>81.900002</td>\n",
       "      <td>82.849998</td>\n",
       "      <td>81.629997</td>\n",
       "      <td>82.769997</td>\n",
       "      <td>82.769997</td>\n",
       "      <td>1853100</td>\n",
       "    </tr>\n",
       "    <tr>\n",
       "      <th>2021-03-23</th>\n",
       "      <td>81.650002</td>\n",
       "      <td>81.940002</td>\n",
       "      <td>80.910004</td>\n",
       "      <td>80.930000</td>\n",
       "      <td>80.930000</td>\n",
       "      <td>1861000</td>\n",
       "    </tr>\n",
       "    <tr>\n",
       "      <th>2021-03-24</th>\n",
       "      <td>80.930000</td>\n",
       "      <td>81.160004</td>\n",
       "      <td>76.599998</td>\n",
       "      <td>76.809998</td>\n",
       "      <td>76.809998</td>\n",
       "      <td>5983900</td>\n",
       "    </tr>\n",
       "    <tr>\n",
       "      <th>2021-03-25</th>\n",
       "      <td>77.309998</td>\n",
       "      <td>78.190002</td>\n",
       "      <td>76.800003</td>\n",
       "      <td>77.419998</td>\n",
       "      <td>77.419998</td>\n",
       "      <td>4747400</td>\n",
       "    </tr>\n",
       "  </tbody>\n",
       "</table>\n",
       "</div>"
      ],
      "text/plain": [
       "                 Open       High        Low      Close  Adj Close   Volume\n",
       "Date                                                                      \n",
       "2021-03-19  80.699997  82.639999  80.099998  82.639999  82.639999  2503300\n",
       "2021-03-22  81.900002  82.849998  81.629997  82.769997  82.769997  1853100\n",
       "2021-03-23  81.650002  81.940002  80.910004  80.930000  80.930000  1861000\n",
       "2021-03-24  80.930000  81.160004  76.599998  76.809998  76.809998  5983900\n",
       "2021-03-25  77.309998  78.190002  76.800003  77.419998  77.419998  4747400"
      ]
     },
     "execution_count": 61,
     "metadata": {},
     "output_type": "execute_result"
    }
   ],
   "source": [
    "from pandas_datareader import data as pdr\n",
    "import yfinance as yf\n",
    "yf.pdr_override()\n",
    "df = pdr.get_data_yahoo(\"TCEHY\", start= '2021-03-20', end='2021-03-31')\n",
    "df.head()"
   ]
  },
  {
   "cell_type": "code",
   "execution_count": 62,
   "id": "4446dd4a",
   "metadata": {
    "ExecuteTime": {
     "end_time": "2021-05-21T15:42:33.308403Z",
     "start_time": "2021-05-21T15:42:33.277203Z"
    }
   },
   "outputs": [
    {
     "data": {
      "text/plain": [
       "matrix([[8.06999969e+01, 8.26399994e+01, 8.00999985e+01, 8.26399994e+01,\n",
       "         8.26399994e+01, 2.50330000e+06],\n",
       "        [8.19000015e+01, 8.28499985e+01, 8.16299973e+01, 8.27699966e+01,\n",
       "         8.27699966e+01, 1.85310000e+06],\n",
       "        [8.16500015e+01, 8.19400024e+01, 8.09100037e+01, 8.09300003e+01,\n",
       "         8.09300003e+01, 1.86100000e+06],\n",
       "        [8.09300003e+01, 8.11600037e+01, 7.65999985e+01, 7.68099976e+01,\n",
       "         7.68099976e+01, 5.98390000e+06],\n",
       "        [7.73099976e+01, 7.81900024e+01, 7.68000031e+01, 7.74199982e+01,\n",
       "         7.74199982e+01, 4.74740000e+06],\n",
       "        [7.94400024e+01, 8.09800034e+01, 7.78199997e+01, 8.09800034e+01,\n",
       "         8.09800034e+01, 5.92310000e+06],\n",
       "        [7.91900024e+01, 7.98000031e+01, 7.80699997e+01, 7.86900024e+01,\n",
       "         7.86900024e+01, 3.46890000e+06],\n",
       "        [7.85699997e+01, 7.94100037e+01, 7.80299988e+01, 7.88300018e+01,\n",
       "         7.88300018e+01, 1.71590000e+06]])"
      ]
     },
     "execution_count": 62,
     "metadata": {},
     "output_type": "execute_result"
    }
   ],
   "source": [
    "#转换为矩阵\n",
    "A = np.matrix(df)\n",
    "A"
   ]
  },
  {
   "cell_type": "markdown",
   "id": "8fc2526b",
   "metadata": {},
   "source": [
    "因为matrix很多操作不方便，如添加修改某个元素。这里可以先用array函数读写完毕以后，再用matrix函数让它恢复矩阵类型。"
   ]
  },
  {
   "cell_type": "code",
   "execution_count": 63,
   "id": "6db10a46",
   "metadata": {
    "ExecuteTime": {
     "end_time": "2021-05-21T15:43:01.410017Z",
     "start_time": "2021-05-21T15:43:01.394417Z"
    }
   },
   "outputs": [
    {
     "data": {
      "text/plain": [
       "array([[8.06999969e+01, 8.26399994e+01, 8.00999985e+01, 8.26399994e+01,\n",
       "        8.26399994e+01, 2.50330000e+06],\n",
       "       [8.19000015e+01, 8.28499985e+01, 8.16299973e+01, 8.27699966e+01,\n",
       "        8.27699966e+01, 1.85310000e+06],\n",
       "       [8.16500015e+01, 8.19400024e+01, 8.09100037e+01, 8.09300003e+01,\n",
       "        8.09300003e+01, 1.86100000e+06],\n",
       "       [8.09300003e+01, 8.11600037e+01, 7.65999985e+01, 7.68099976e+01,\n",
       "        7.68099976e+01, 5.98390000e+06],\n",
       "       [7.73099976e+01, 7.81900024e+01, 7.68000031e+01, 7.74199982e+01,\n",
       "        7.74199982e+01, 4.74740000e+06],\n",
       "       [7.94400024e+01, 8.09800034e+01, 7.78199997e+01, 8.09800034e+01,\n",
       "        8.09800034e+01, 5.92310000e+06],\n",
       "       [7.91900024e+01, 7.98000031e+01, 7.80699997e+01, 7.86900024e+01,\n",
       "        7.86900024e+01, 3.46890000e+06],\n",
       "       [7.85699997e+01, 7.94100037e+01, 7.80299988e+01, 7.88300018e+01,\n",
       "        7.88300018e+01, 1.71590000e+06]])"
      ]
     },
     "execution_count": 63,
     "metadata": {},
     "output_type": "execute_result"
    }
   ],
   "source": [
    "#转换数组\n",
    "A = np.array(df)\n",
    "A"
   ]
  },
  {
   "cell_type": "code",
   "execution_count": 64,
   "id": "80103b5d",
   "metadata": {
    "ExecuteTime": {
     "end_time": "2021-05-21T15:43:14.435657Z",
     "start_time": "2021-05-21T15:43:14.420057Z"
    }
   },
   "outputs": [
    {
     "data": {
      "text/plain": [
       "numpy.ndarray"
      ]
     },
     "execution_count": 64,
     "metadata": {},
     "output_type": "execute_result"
    }
   ],
   "source": [
    "#访问元素\n",
    "type(A)"
   ]
  },
  {
   "cell_type": "code",
   "execution_count": 65,
   "id": "811cf3ae",
   "metadata": {
    "ExecuteTime": {
     "end_time": "2021-05-21T15:43:19.970297Z",
     "start_time": "2021-05-21T15:43:19.954697Z"
    }
   },
   "outputs": [
    {
     "name": "stdout",
     "output_type": "stream",
     "text": [
      "A = [[8.06999969e+01 8.26399994e+01 8.00999985e+01 8.26399994e+01\n",
      "  8.26399994e+01 2.50330000e+06]\n",
      " [8.19000015e+01 8.28499985e+01 8.16299973e+01 8.27699966e+01\n",
      "  8.27699966e+01 1.85310000e+06]\n",
      " [8.16500015e+01 8.19400024e+01 8.09100037e+01 8.09300003e+01\n",
      "  8.09300003e+01 1.86100000e+06]\n",
      " [8.09300003e+01 8.11600037e+01 7.65999985e+01 7.68099976e+01\n",
      "  7.68099976e+01 5.98390000e+06]\n",
      " [7.73099976e+01 7.81900024e+01 7.68000031e+01 7.74199982e+01\n",
      "  7.74199982e+01 4.74740000e+06]\n",
      " [7.94400024e+01 8.09800034e+01 7.78199997e+01 8.09800034e+01\n",
      "  8.09800034e+01 5.92310000e+06]\n",
      " [7.91900024e+01 7.98000031e+01 7.80699997e+01 7.86900024e+01\n",
      "  7.86900024e+01 3.46890000e+06]\n",
      " [7.85699997e+01 7.94100037e+01 7.80299988e+01 7.88300018e+01\n",
      "  7.88300018e+01 1.71590000e+06]]\n"
     ]
    }
   ],
   "source": [
    "print(\"A =\", A)"
   ]
  },
  {
   "cell_type": "code",
   "execution_count": 66,
   "id": "fb35395e",
   "metadata": {
    "ExecuteTime": {
     "end_time": "2021-05-21T15:43:27.517607Z",
     "start_time": "2021-05-21T15:43:27.486407Z"
    }
   },
   "outputs": [
    {
     "name": "stdout",
     "output_type": "stream",
     "text": [
      "A[1] = [8.19000015e+01 8.28499985e+01 8.16299973e+01 8.27699966e+01\n",
      " 8.27699966e+01 1.85310000e+06]\n"
     ]
    }
   ],
   "source": [
    "print(\"A[1] =\", A[1])      # 第2行"
   ]
  },
  {
   "cell_type": "code",
   "execution_count": 67,
   "id": "075bcfea",
   "metadata": {
    "ExecuteTime": {
     "end_time": "2021-05-21T15:43:33.185449Z",
     "start_time": "2021-05-21T15:43:33.154249Z"
    }
   },
   "outputs": [
    {
     "name": "stdout",
     "output_type": "stream",
     "text": [
      "A[1][2] = 82.8499984741211\n"
     ]
    }
   ],
   "source": [
    "print(\"A[1][2] =\", A[1][1])   # 第2行的第2个元素"
   ]
  },
  {
   "cell_type": "code",
   "execution_count": 68,
   "id": "f46218c9",
   "metadata": {
    "ExecuteTime": {
     "end_time": "2021-05-21T15:43:38.970680Z",
     "start_time": "2021-05-21T15:43:38.939480Z"
    }
   },
   "outputs": [
    {
     "name": "stdout",
     "output_type": "stream",
     "text": [
      "A[0][-1] = 2503300.0\n"
     ]
    }
   ],
   "source": [
    "print(\"A[0][-1] =\", A[0][-1])  # 第1行的最后第1个元素A[0][-1] = 82.63999938964844"
   ]
  },
  {
   "cell_type": "code",
   "execution_count": 69,
   "id": "0454b4d5",
   "metadata": {
    "ExecuteTime": {
     "end_time": "2021-05-21T15:44:12.469870Z",
     "start_time": "2021-05-21T15:44:12.454270Z"
    }
   },
   "outputs": [
    {
     "name": "stdout",
     "output_type": "stream",
     "text": [
      "Second column = [82.63999938964844, 82.8499984741211, 81.94000244140625, 81.16000366210938, 78.19000244140625, 80.9800033569336, 79.80000305175781, 79.41000366210938]\n"
     ]
    }
   ],
   "source": [
    "#取出元素放到列表中\n",
    "column = [];        # 空列表\n",
    "for row in A:\n",
    "    column.append(row[1]) \n",
    "print(\"Second column =\", column)"
   ]
  },
  {
   "cell_type": "code",
   "execution_count": 72,
   "id": "0c592ce7",
   "metadata": {
    "ExecuteTime": {
     "end_time": "2021-05-21T15:44:36.797191Z",
     "start_time": "2021-05-21T15:44:36.781590Z"
    }
   },
   "outputs": [
    {
     "name": "stdout",
     "output_type": "stream",
     "text": [
      "A = [0 1 2 3]\n"
     ]
    }
   ],
   "source": [
    "#arange and shape\n",
    "A = np.arange(4)\n",
    "print('A =', A)"
   ]
  },
  {
   "cell_type": "code",
   "execution_count": 73,
   "id": "b146802f",
   "metadata": {
    "ExecuteTime": {
     "end_time": "2021-05-21T15:44:47.105193Z",
     "start_time": "2021-05-21T15:44:47.087593Z"
    }
   },
   "outputs": [
    {
     "name": "stdout",
     "output_type": "stream",
     "text": [
      "B = [[ 0  1  2  3  4  5]\n",
      " [ 6  7  8  9 10 11]]\n"
     ]
    }
   ],
   "source": [
    "B = np.arange(12).reshape(2, 6)\n",
    "print('B =', B)"
   ]
  },
  {
   "cell_type": "code",
   "execution_count": 74,
   "id": "be14d6ab",
   "metadata": {
    "ExecuteTime": {
     "end_time": "2021-05-21T15:45:09.241863Z",
     "start_time": "2021-05-21T15:45:09.233863Z"
    }
   },
   "outputs": [
    {
     "name": "stdout",
     "output_type": "stream",
     "text": [
      "[19.65999985 19.26000023 19.22999954 ... 80.98000336 79.80000305\n",
      " 79.41000366]\n"
     ]
    }
   ],
   "source": [
    "#矩阵的运算\n",
    "A = np.array(dataset['High'], dataset['Low'])\n",
    "B = np.array(dataset['Open'], dataset['Close'])\n",
    "print(A)"
   ]
  },
  {
   "cell_type": "code",
   "execution_count": 75,
   "id": "23e40862",
   "metadata": {
    "ExecuteTime": {
     "end_time": "2021-05-21T15:45:26.185081Z",
     "start_time": "2021-05-21T15:45:26.169481Z"
    }
   },
   "outputs": [
    {
     "name": "stdout",
     "output_type": "stream",
     "text": [
      "矩阵加法: \n",
      " [ 39.25        38.38999939  38.31999969 ... 160.4200058  158.99000549\n",
      " 157.98000336]\n"
     ]
    }
   ],
   "source": [
    "#矩阵加法\n",
    "C = A + B\n",
    "print(\"矩阵加法: \\n\", C)"
   ]
  },
  {
   "cell_type": "code",
   "execution_count": 76,
   "id": "ba609f02",
   "metadata": {
    "ExecuteTime": {
     "end_time": "2021-05-21T15:45:41.747617Z",
     "start_time": "2021-05-21T15:45:41.732017Z"
    }
   },
   "outputs": [
    {
     "name": "stdout",
     "output_type": "stream",
     "text": [
      "矩阵减法: \n",
      " [0.06999969 0.13000107 0.13999939 ... 1.54000092 0.61000061 0.84000397]\n"
     ]
    }
   ],
   "source": [
    "#矩阵减法\n",
    "D = A - B\n",
    "print(\"矩阵减法: \\n\", D)"
   ]
  },
  {
   "cell_type": "code",
   "execution_count": 77,
   "id": "ff2afc16",
   "metadata": {
    "ExecuteTime": {
     "end_time": "2021-05-21T15:46:03.112156Z",
     "start_time": "2021-05-21T15:46:03.096556Z"
    }
   },
   "outputs": [
    {
     "name": "stdout",
     "output_type": "stream",
     "text": [
      "两矩阵点乘: \n",
      " 3049813.4662583913\n"
     ]
    }
   ],
   "source": [
    "#两个矩阵的乘法\n",
    "E = A.dot(B)\n",
    "print(\"两矩阵点乘: \\n\", E)"
   ]
  },
  {
   "cell_type": "code",
   "execution_count": 78,
   "id": "a07c01e9",
   "metadata": {
    "ExecuteTime": {
     "end_time": "2021-05-21T15:46:20.365366Z",
     "start_time": "2021-05-21T15:46:20.334166Z"
    }
   },
   "outputs": [
    {
     "name": "stdout",
     "output_type": "stream",
     "text": [
      "矩阵转置: \n",
      " [19.65999985 19.26000023 19.22999954 ... 80.98000336 79.80000305\n",
      " 79.41000366]\n"
     ]
    }
   ],
   "source": [
    "#矩阵转置\n",
    "T = A.transpose()\n",
    "print(\"矩阵转置: \\n\", T)"
   ]
  },
  {
   "cell_type": "code",
   "execution_count": 79,
   "id": "dc529930",
   "metadata": {
    "ExecuteTime": {
     "end_time": "2021-05-21T15:46:44.520983Z",
     "start_time": "2021-05-21T15:46:44.505383Z"
    }
   },
   "outputs": [
    {
     "name": "stdout",
     "output_type": "stream",
     "text": [
      "A[0] = 19.65999984741211\n"
     ]
    }
   ],
   "source": [
    "#访问矩阵元素、行和列\n",
    "#访问一维矩阵单个元素\n",
    "# 第一个元素 \n",
    "print(\"A[0] =\", A[0])"
   ]
  },
  {
   "cell_type": "code",
   "execution_count": 80,
   "id": "d8437849",
   "metadata": {
    "ExecuteTime": {
     "end_time": "2021-05-21T15:46:52.484869Z",
     "start_time": "2021-05-21T15:46:52.453669Z"
    }
   },
   "outputs": [
    {
     "name": "stdout",
     "output_type": "stream",
     "text": [
      "A[2] = 19.229999542236328\n"
     ]
    }
   ],
   "source": [
    "# 第三个元素\n",
    "print(\"A[2] =\", A[2])"
   ]
  },
  {
   "cell_type": "code",
   "execution_count": 81,
   "id": "19b9aa23",
   "metadata": {
    "ExecuteTime": {
     "end_time": "2021-05-21T15:46:59.723563Z",
     "start_time": "2021-05-21T15:46:59.707963Z"
    }
   },
   "outputs": [
    {
     "name": "stdout",
     "output_type": "stream",
     "text": [
      "A[-1] = 79.41000366210938\n"
     ]
    }
   ],
   "source": [
    "# 最后一个元素 \n",
    "print(\"A[-1] =\", A[-1])  "
   ]
  },
  {
   "cell_type": "code",
   "execution_count": 82,
   "id": "ffbe38f4",
   "metadata": {
    "ExecuteTime": {
     "end_time": "2021-05-21T15:47:13.554241Z",
     "start_time": "2021-05-21T15:47:13.523041Z"
    }
   },
   "outputs": [
    {
     "name": "stdout",
     "output_type": "stream",
     "text": [
      "矩阵A: \n",
      " [[19.59000015 19.51000023 19.65999985 19.62000084]\n",
      " [19.12999916 18.93000031 19.26000023 19.12999916]\n",
      " [19.09000015 18.94000053 19.22999954 19.07999992]\n",
      " ...\n",
      " [79.44000244 77.81999969 80.98000336 80.98000336]\n",
      " [79.19000244 78.06999969 79.80000305 78.69000244]\n",
      " [78.56999969 78.02999878 79.41000366 78.83000183]]\n"
     ]
    }
   ],
   "source": [
    "#访问多维矩阵单个元素\n",
    "A = np.array(dataset[['Open', 'Low', 'High', 'Close']])\n",
    "print(\"矩阵A: \\n\", A)"
   ]
  },
  {
   "cell_type": "code",
   "execution_count": 83,
   "id": "11a9beeb",
   "metadata": {
    "ExecuteTime": {
     "end_time": "2021-05-21T15:47:22.588619Z",
     "start_time": "2021-05-21T15:47:22.557419Z"
    }
   },
   "outputs": [
    {
     "name": "stdout",
     "output_type": "stream",
     "text": [
      "A[0][0] = 19.59000015258789\n"
     ]
    }
   ],
   "source": [
    "# 第一行的第一个元素\n",
    "print(\"A[0][0] =\", A[0][0])  "
   ]
  },
  {
   "cell_type": "code",
   "execution_count": 84,
   "id": "3143d794",
   "metadata": {
    "ExecuteTime": {
     "end_time": "2021-05-21T15:47:29.440291Z",
     "start_time": "2021-05-21T15:47:29.424691Z"
    }
   },
   "outputs": [
    {
     "name": "stdout",
     "output_type": "stream",
     "text": [
      "A[1][2] = 19.260000228881836\n"
     ]
    }
   ],
   "source": [
    "# 第二行的第三个元素\n",
    "print(\"A[1][2] =\", A[1][2])"
   ]
  },
  {
   "cell_type": "code",
   "execution_count": 85,
   "id": "df0d77a3",
   "metadata": {
    "ExecuteTime": {
     "end_time": "2021-05-21T15:47:36.903221Z",
     "start_time": "2021-05-21T15:47:36.887621Z"
    }
   },
   "outputs": [
    {
     "name": "stdout",
     "output_type": "stream",
     "text": [
      "A[-1][-1] = 78.83000183105469\n"
     ]
    }
   ],
   "source": [
    "# 最后一行的最后一个元素\n",
    "print(\"A[-1][-1] =\", A[-1][-1])"
   ]
  },
  {
   "cell_type": "code",
   "execution_count": 86,
   "id": "f187bd02",
   "metadata": {
    "ExecuteTime": {
     "end_time": "2021-05-21T15:47:50.054658Z",
     "start_time": "2021-05-21T15:47:50.023458Z"
    }
   },
   "outputs": [
    {
     "name": "stdout",
     "output_type": "stream",
     "text": [
      "A[0] = [19.59000015 19.51000023 19.65999985 19.62000084]\n"
     ]
    }
   ],
   "source": [
    "#访问矩阵的行\n",
    "# 第一行\n",
    "print(\"A[0] =\", A[0])"
   ]
  },
  {
   "cell_type": "code",
   "execution_count": 87,
   "id": "3a478957",
   "metadata": {
    "ExecuteTime": {
     "end_time": "2021-05-21T15:47:59.537066Z",
     "start_time": "2021-05-21T15:47:59.521466Z"
    }
   },
   "outputs": [
    {
     "name": "stdout",
     "output_type": "stream",
     "text": [
      "A[2] = [19.09000015 18.94000053 19.22999954 19.07999992]\n"
     ]
    }
   ],
   "source": [
    "# 第三行\n",
    "print(\"A[2] =\", A[2]) "
   ]
  },
  {
   "cell_type": "code",
   "execution_count": 88,
   "id": "668bc3dd",
   "metadata": {
    "ExecuteTime": {
     "end_time": "2021-05-21T15:48:07.007364Z",
     "start_time": "2021-05-21T15:48:06.991764Z"
    }
   },
   "outputs": [
    {
     "name": "stdout",
     "output_type": "stream",
     "text": [
      "A[-1] = [78.56999969 78.02999878 79.41000366 78.83000183]\n"
     ]
    }
   ],
   "source": [
    "# 最后一行\n",
    "print(\"A[-1] =\", A[-1]) "
   ]
  },
  {
   "cell_type": "code",
   "execution_count": 89,
   "id": "802b79d5",
   "metadata": {
    "ExecuteTime": {
     "end_time": "2021-05-21T15:48:20.522429Z",
     "start_time": "2021-05-21T15:48:20.506829Z"
    }
   },
   "outputs": [
    {
     "name": "stdout",
     "output_type": "stream",
     "text": [
      "A[:,0] = [19.59000015 19.12999916 19.09000015 ... 79.44000244 79.19000244\n",
      " 78.56999969]\n"
     ]
    }
   ],
   "source": [
    "#访问矩阵的列\n",
    "# 第一列\n",
    "print(\"A[:,0] =\",A[:,0])"
   ]
  },
  {
   "cell_type": "code",
   "execution_count": 90,
   "id": "65bb8ec7",
   "metadata": {
    "ExecuteTime": {
     "end_time": "2021-05-21T15:48:28.290976Z",
     "start_time": "2021-05-21T15:48:28.275376Z"
    }
   },
   "outputs": [
    {
     "name": "stdout",
     "output_type": "stream",
     "text": [
      "A[:,3] = [19.62000084 19.12999916 19.07999992 ... 80.98000336 78.69000244\n",
      " 78.83000183]\n"
     ]
    }
   ],
   "source": [
    "# 第四列\n",
    "print(\"A[:,3] =\", A[:,3]) "
   ]
  },
  {
   "cell_type": "code",
   "execution_count": 91,
   "id": "158ba250",
   "metadata": {
    "ExecuteTime": {
     "end_time": "2021-05-21T15:48:34.990825Z",
     "start_time": "2021-05-21T15:48:34.975225Z"
    }
   },
   "outputs": [
    {
     "name": "stdout",
     "output_type": "stream",
     "text": [
      "A[:,-1] = [19.62000084 19.12999916 19.07999992 ... 80.98000336 78.69000244\n",
      " 78.83000183]\n"
     ]
    }
   ],
   "source": [
    "# 最后一列\n",
    "print(\"A[:,-1] =\", A[:,-1]) "
   ]
  },
  {
   "cell_type": "code",
   "execution_count": 92,
   "id": "071a06c2",
   "metadata": {
    "ExecuteTime": {
     "end_time": "2021-05-21T15:48:46.009640Z",
     "start_time": "2021-05-21T15:48:45.994040Z"
    }
   },
   "outputs": [
    {
     "name": "stdout",
     "output_type": "stream",
     "text": [
      "[[19.09000015 18.94000053 19.22999954 19.07999992]\n",
      " [18.63999939 18.53000069 18.70999908 18.65999985]\n",
      " [18.04999924 17.90999985 18.20000076 17.90999985]]\n"
     ]
    }
   ],
   "source": [
    "#访问多维矩阵多个元素\n",
    "# 没有逗号相隔，默认获取行\n",
    "# 第3到第5个元素\n",
    "print(A[2:5])    "
   ]
  },
  {
   "cell_type": "code",
   "execution_count": 93,
   "id": "91b588e7",
   "metadata": {
    "ExecuteTime": {
     "end_time": "2021-05-21T15:48:53.939395Z",
     "start_time": "2021-05-21T15:48:53.923795Z"
    }
   },
   "outputs": [
    {
     "name": "stdout",
     "output_type": "stream",
     "text": [
      "[[19.59000015 19.51000023 19.65999985 19.62000084]\n",
      " [19.12999916 18.93000031 19.26000023 19.12999916]\n",
      " [19.09000015 18.94000053 19.22999954 19.07999992]\n",
      " ...\n",
      " [80.69999695 80.09999847 82.63999939 82.63999939]\n",
      " [81.90000153 81.62999725 82.84999847 82.76999664]\n",
      " [81.65000153 80.91000366 81.94000244 80.93000031]]\n"
     ]
    }
   ],
   "source": [
    "# 第1到第3个元素\n",
    "print(A[:-5])"
   ]
  },
  {
   "cell_type": "code",
   "execution_count": 94,
   "id": "9ac91512",
   "metadata": {
    "ExecuteTime": {
     "end_time": "2021-05-21T15:49:02.503949Z",
     "start_time": "2021-05-21T15:49:02.488349Z"
    }
   },
   "outputs": [
    {
     "name": "stdout",
     "output_type": "stream",
     "text": [
      "[[18.32999992 17.95999908 18.32999992 17.96999931]\n",
      " [17.76000023 17.61000061 17.97999954 17.70999908]\n",
      " [17.64999962 17.59000015 17.81999969 17.75      ]\n",
      " ...\n",
      " [79.44000244 77.81999969 80.98000336 80.98000336]\n",
      " [79.19000244 78.06999969 79.80000305 78.69000244]\n",
      " [78.56999969 78.02999878 79.41000366 78.83000183]]\n"
     ]
    }
   ],
   "source": [
    "# 第6行到最后一个元素\n",
    "print(A[5:])  "
   ]
  },
  {
   "cell_type": "code",
   "execution_count": 95,
   "id": "4e13262a",
   "metadata": {
    "ExecuteTime": {
     "end_time": "2021-05-21T15:49:10.854689Z",
     "start_time": "2021-05-21T15:49:10.839089Z"
    }
   },
   "outputs": [
    {
     "name": "stdout",
     "output_type": "stream",
     "text": [
      "[[19.59000015 19.51000023 19.65999985 19.62000084]\n",
      " [19.12999916 18.93000031 19.26000023 19.12999916]\n",
      " [19.09000015 18.94000053 19.22999954 19.07999992]\n",
      " ...\n",
      " [79.44000244 77.81999969 80.98000336 80.98000336]\n",
      " [79.19000244 78.06999969 79.80000305 78.69000244]\n",
      " [78.56999969 78.02999878 79.41000366 78.83000183]]\n"
     ]
    }
   ],
   "source": [
    "# 第1个到最后一个元素\n",
    "print(A[:]) "
   ]
  },
  {
   "cell_type": "code",
   "execution_count": 96,
   "id": "be49a676",
   "metadata": {
    "ExecuteTime": {
     "end_time": "2021-05-21T15:49:22.978942Z",
     "start_time": "2021-05-21T15:49:22.963342Z"
    }
   },
   "outputs": [
    {
     "name": "stdout",
     "output_type": "stream",
     "text": [
      "[[78.56999969 78.02999878 79.41000366 78.83000183]\n",
      " [79.19000244 78.06999969 79.80000305 78.69000244]\n",
      " [79.44000244 77.81999969 80.98000336 80.98000336]\n",
      " ...\n",
      " [19.09000015 18.94000053 19.22999954 19.07999992]\n",
      " [19.12999916 18.93000031 19.26000023 19.12999916]\n",
      " [19.59000015 19.51000023 19.65999985 19.62000084]]\n"
     ]
    }
   ],
   "source": [
    "# 反转一个列表\n",
    "print(A[::-1]) "
   ]
  },
  {
   "cell_type": "code",
   "execution_count": 97,
   "id": "67557bc3",
   "metadata": {
    "ExecuteTime": {
     "end_time": "2021-05-21T15:49:32.373957Z",
     "start_time": "2021-05-21T15:49:32.358357Z"
    }
   },
   "outputs": [
    {
     "name": "stdout",
     "output_type": "stream",
     "text": [
      "[[19.59000015 19.51000023 19.65999985 19.62000084]\n",
      " [19.12999916 18.93000031 19.26000023 19.12999916]]\n"
     ]
    }
   ],
   "source": [
    "# 前2行，前4列\n",
    "print(A[:2, :4]) "
   ]
  },
  {
   "cell_type": "code",
   "execution_count": 98,
   "id": "e3a2046f",
   "metadata": {
    "ExecuteTime": {
     "end_time": "2021-05-21T15:49:40.789486Z",
     "start_time": "2021-05-21T15:49:40.758285Z"
    }
   },
   "outputs": [
    {
     "name": "stdout",
     "output_type": "stream",
     "text": [
      "[[19.59000015 19.51000023 19.65999985 19.62000084]]\n"
     ]
    }
   ],
   "source": [
    "# 前1行，所有列\n",
    "print(A[:1,])  "
   ]
  },
  {
   "cell_type": "code",
   "execution_count": 99,
   "id": "d3797319",
   "metadata": {
    "ExecuteTime": {
     "end_time": "2021-05-21T15:49:47.354154Z",
     "start_time": "2021-05-21T15:49:47.338554Z"
    }
   },
   "outputs": [
    {
     "name": "stdout",
     "output_type": "stream",
     "text": [
      "[19.65999985 19.26000023 19.22999954 ... 80.98000336 79.80000305\n",
      " 79.41000366]\n"
     ]
    }
   ],
   "source": [
    "# 所有行，第3列\n",
    "print(A[:,2])  "
   ]
  },
  {
   "cell_type": "code",
   "execution_count": 100,
   "id": "cbc843b8",
   "metadata": {
    "ExecuteTime": {
     "end_time": "2021-05-21T15:49:55.920329Z",
     "start_time": "2021-05-21T15:49:55.904729Z"
    }
   },
   "outputs": [
    {
     "name": "stdout",
     "output_type": "stream",
     "text": [
      "[[19.65999985 19.62000084]\n",
      " [19.26000023 19.12999916]\n",
      " [19.22999954 19.07999992]\n",
      " ...\n",
      " [80.98000336 80.98000336]\n",
      " [79.80000305 78.69000244]\n",
      " [79.41000366 78.83000183]]\n"
     ]
    }
   ],
   "source": [
    "# 所有行，第3到5列\n",
    "print(A[:, 2:5])  # 共4列，只能取到第3和第4列"
   ]
  },
  {
   "cell_type": "markdown",
   "id": "cac115a4",
   "metadata": {},
   "source": [
    "# 特征创造"
   ]
  },
  {
   "cell_type": "markdown",
   "id": "e9875a4c",
   "metadata": {},
   "source": [
    "下面将继续使用金融股市数据，market = 'TCEHY'及symbol = 'BABA'股市数据，相关获取方式可参考金融股市数据准备。数据样例如下所示。"
   ]
  },
  {
   "cell_type": "code",
   "execution_count": 1,
   "id": "6b88588a",
   "metadata": {
    "ExecuteTime": {
     "end_time": "2021-05-21T16:15:57.090113Z",
     "start_time": "2021-05-21T15:54:38.405976Z"
    }
   },
   "outputs": [
    {
     "name": "stderr",
     "output_type": "stream",
     "text": [
      "Exception in thread Thread-6:\n",
      "Traceback (most recent call last):\n",
      "  File \"D:\\ProgramData\\Miniconda3\\lib\\site-packages\\urllib3\\contrib\\pyopenssl.py\", line 485, in wrap_socket\n",
      "    cnx.do_handshake()\n",
      "  File \"D:\\ProgramData\\Miniconda3\\lib\\site-packages\\OpenSSL\\SSL.py\", line 1934, in do_handshake\n",
      "    self._raise_ssl_error(self._ssl, result)\n",
      "  File \"D:\\ProgramData\\Miniconda3\\lib\\site-packages\\OpenSSL\\SSL.py\", line 1663, in _raise_ssl_error\n",
      "    raise SysCallError(errno, errorcode.get(errno))\n",
      "OpenSSL.SSL.SysCallError: (10060, 'WSAETIMEDOUT')\n",
      "\n",
      "During handling of the above exception, another exception occurred:\n",
      "\n",
      "Traceback (most recent call last):\n",
      "  File \"D:\\ProgramData\\Miniconda3\\lib\\site-packages\\urllib3\\connectionpool.py\", line 672, in urlopen\n",
      "    chunked=chunked,\n",
      "  File \"D:\\ProgramData\\Miniconda3\\lib\\site-packages\\urllib3\\connectionpool.py\", line 376, in _make_request\n",
      "    self._validate_conn(conn)\n",
      "  File \"D:\\ProgramData\\Miniconda3\\lib\\site-packages\\urllib3\\connectionpool.py\", line 994, in _validate_conn\n",
      "    conn.connect()\n",
      "  File \"D:\\ProgramData\\Miniconda3\\lib\\site-packages\\urllib3\\connection.py\", line 360, in connect\n",
      "    ssl_context=context,\n",
      "  File \"D:\\ProgramData\\Miniconda3\\lib\\site-packages\\urllib3\\util\\ssl_.py\", line 370, in ssl_wrap_socket\n",
      "    return context.wrap_socket(sock, server_hostname=server_hostname)\n",
      "  File \"D:\\ProgramData\\Miniconda3\\lib\\site-packages\\urllib3\\contrib\\pyopenssl.py\", line 491, in wrap_socket\n",
      "    raise ssl.SSLError(\"bad handshake: %r\" % e)\n",
      "ssl.SSLError: (\"bad handshake: SysCallError(10060, 'WSAETIMEDOUT')\",)\n",
      "\n",
      "During handling of the above exception, another exception occurred:\n",
      "\n",
      "Traceback (most recent call last):\n",
      "  File \"D:\\ProgramData\\Miniconda3\\lib\\site-packages\\requests\\adapters.py\", line 449, in send\n",
      "    timeout=timeout\n",
      "  File \"D:\\ProgramData\\Miniconda3\\lib\\site-packages\\urllib3\\connectionpool.py\", line 720, in urlopen\n",
      "    method, url, error=e, _pool=self, _stacktrace=sys.exc_info()[2]\n",
      "  File \"D:\\ProgramData\\Miniconda3\\lib\\site-packages\\urllib3\\util\\retry.py\", line 436, in increment\n",
      "    raise MaxRetryError(_pool, url, error or ResponseError(cause))\n",
      "urllib3.exceptions.MaxRetryError: HTTPSConnectionPool(host='query1.finance.yahoo.com', port=443): Max retries exceeded with url: /v8/finance/chart/TCEHY?period1=1616169600&period2=1617120000&interval=1d&includePrePost=False&events=div%2Csplits (Caused by SSLError(SSLError(\"bad handshake: SysCallError(10060, 'WSAETIMEDOUT')\")))\n",
      "\n",
      "During handling of the above exception, another exception occurred:\n",
      "\n",
      "Traceback (most recent call last):\n",
      "  File \"D:\\ProgramData\\Miniconda3\\lib\\threading.py\", line 926, in _bootstrap_inner\n",
      "    self.run()\n",
      "  File \"D:\\ProgramData\\Miniconda3\\lib\\threading.py\", line 870, in run\n",
      "    self._target(*self._args, **self._kwargs)\n",
      "  File \"D:\\ProgramData\\Miniconda3\\lib\\site-packages\\multitasking\\__init__.py\", line 102, in _run_via_pool\n",
      "    return callee(*args, **kwargs)\n",
      "  File \"D:\\ProgramData\\Miniconda3\\lib\\site-packages\\yfinance\\multi.py\", line 168, in _download_one_threaded\n",
      "    actions, period, interval, prepost, proxy, rounding)\n",
      "  File \"D:\\ProgramData\\Miniconda3\\lib\\site-packages\\yfinance\\multi.py\", line 183, in _download_one\n",
      "    rounding=rounding, many=True)\n",
      "  File \"D:\\ProgramData\\Miniconda3\\lib\\site-packages\\yfinance\\base.py\", line 152, in history\n",
      "    data = self.session.get(url=url, params=params, proxies=proxy)\n",
      "  File \"D:\\ProgramData\\Miniconda3\\lib\\site-packages\\requests\\api.py\", line 75, in get\n",
      "    return request('get', url, params=params, **kwargs)\n",
      "  File \"D:\\ProgramData\\Miniconda3\\lib\\site-packages\\requests\\api.py\", line 60, in request\n",
      "    return session.request(method=method, url=url, **kwargs)\n",
      "  File \"D:\\ProgramData\\Miniconda3\\lib\\site-packages\\requests\\sessions.py\", line 533, in request\n",
      "    resp = self.send(prep, **send_kwargs)\n",
      "  File \"D:\\ProgramData\\Miniconda3\\lib\\site-packages\\requests\\sessions.py\", line 646, in send\n",
      "    r = adapter.send(request, **kwargs)\n",
      "  File \"D:\\ProgramData\\Miniconda3\\lib\\site-packages\\requests\\adapters.py\", line 514, in send\n",
      "    raise SSLError(e, request=request)\n",
      "requests.exceptions.SSLError: HTTPSConnectionPool(host='query1.finance.yahoo.com', port=443): Max retries exceeded with url: /v8/finance/chart/TCEHY?period1=1616169600&period2=1617120000&interval=1d&includePrePost=False&events=div%2Csplits (Caused by SSLError(SSLError(\"bad handshake: SysCallError(10060, 'WSAETIMEDOUT')\")))\n",
      "\n"
     ]
    },
    {
     "ename": "KeyboardInterrupt",
     "evalue": "",
     "output_type": "error",
     "traceback": [
      "\u001b[1;31m---------------------------------------------------------------------------\u001b[0m",
      "\u001b[1;31mKeyboardInterrupt\u001b[0m                         Traceback (most recent call last)",
      "\u001b[1;32m<ipython-input-1-aa4952adf218>\u001b[0m in \u001b[0;36m<module>\u001b[1;34m\u001b[0m\n\u001b[0;32m      2\u001b[0m \u001b[1;32mimport\u001b[0m \u001b[0myfinance\u001b[0m \u001b[1;32mas\u001b[0m \u001b[0myf\u001b[0m\u001b[1;33m\u001b[0m\u001b[1;33m\u001b[0m\u001b[0m\n\u001b[0;32m      3\u001b[0m \u001b[0myf\u001b[0m\u001b[1;33m.\u001b[0m\u001b[0mpdr_override\u001b[0m\u001b[1;33m(\u001b[0m\u001b[1;33m)\u001b[0m\u001b[1;33m\u001b[0m\u001b[1;33m\u001b[0m\u001b[0m\n\u001b[1;32m----> 4\u001b[1;33m \u001b[0mdf\u001b[0m \u001b[1;33m=\u001b[0m \u001b[0mpdr\u001b[0m\u001b[1;33m.\u001b[0m\u001b[0mget_data_yahoo\u001b[0m\u001b[1;33m(\u001b[0m\u001b[1;34m\"TCEHY\"\u001b[0m\u001b[1;33m,\u001b[0m \u001b[0mstart\u001b[0m\u001b[1;33m=\u001b[0m \u001b[1;34m'2021-03-20'\u001b[0m\u001b[1;33m,\u001b[0m \u001b[0mend\u001b[0m\u001b[1;33m=\u001b[0m\u001b[1;34m'2021-03-31'\u001b[0m\u001b[1;33m)\u001b[0m\u001b[1;33m\u001b[0m\u001b[1;33m\u001b[0m\u001b[0m\n\u001b[0m\u001b[0;32m      5\u001b[0m \u001b[0mdf\u001b[0m\u001b[1;33m.\u001b[0m\u001b[0mhead\u001b[0m\u001b[1;33m(\u001b[0m\u001b[1;33m)\u001b[0m\u001b[1;33m\u001b[0m\u001b[1;33m\u001b[0m\u001b[0m\n",
      "\u001b[1;32mD:\\ProgramData\\Miniconda3\\lib\\site-packages\\yfinance\\multi.py\u001b[0m in \u001b[0;36mdownload\u001b[1;34m(tickers, start, end, actions, threads, group_by, auto_adjust, back_adjust, progress, period, interval, prepost, proxy, rounding, **kwargs)\u001b[0m\n\u001b[0;32m     93\u001b[0m                                    rounding=rounding)\n\u001b[0;32m     94\u001b[0m         \u001b[1;32mwhile\u001b[0m \u001b[0mlen\u001b[0m\u001b[1;33m(\u001b[0m\u001b[0mshared\u001b[0m\u001b[1;33m.\u001b[0m\u001b[0m_DFS\u001b[0m\u001b[1;33m)\u001b[0m \u001b[1;33m<\u001b[0m \u001b[0mlen\u001b[0m\u001b[1;33m(\u001b[0m\u001b[0mtickers\u001b[0m\u001b[1;33m)\u001b[0m\u001b[1;33m:\u001b[0m\u001b[1;33m\u001b[0m\u001b[1;33m\u001b[0m\u001b[0m\n\u001b[1;32m---> 95\u001b[1;33m             \u001b[0m_time\u001b[0m\u001b[1;33m.\u001b[0m\u001b[0msleep\u001b[0m\u001b[1;33m(\u001b[0m\u001b[1;36m0.01\u001b[0m\u001b[1;33m)\u001b[0m\u001b[1;33m\u001b[0m\u001b[1;33m\u001b[0m\u001b[0m\n\u001b[0m\u001b[0;32m     96\u001b[0m \u001b[1;33m\u001b[0m\u001b[0m\n\u001b[0;32m     97\u001b[0m     \u001b[1;31m# download synchronously\u001b[0m\u001b[1;33m\u001b[0m\u001b[1;33m\u001b[0m\u001b[1;33m\u001b[0m\u001b[0m\n",
      "\u001b[1;31mKeyboardInterrupt\u001b[0m: "
     ]
    }
   ],
   "source": [
    "from pandas_datareader import data as pdr\n",
    "import yfinance as yf\n",
    "yf.pdr_override()\n",
    "df = pdr.get_data_yahoo(\"TCEHY\", start= '2021-03-20', end='2021-03-31')\n",
    "df.head()"
   ]
  },
  {
   "cell_type": "markdown",
   "id": "996db208",
   "metadata": {},
   "source": [
    "- 协方差矩阵(Covariance matrix)\n",
    "\n",
    "由数据集中两两变量的协方差组成。矩阵的第个元素是数据集中第和第个元素的协方差。\n",
    "\n",
    "- 协方差(Covariance)\n",
    "是度量两个变量的变动的同步程度，也就是度量两个变量线性相关性程度。如果两个变量的协方差为0，则统计学上认为二者线性无关。注意两个无关的变量并非完全独立，只是没有线性相关性而已。"
   ]
  },
  {
   "cell_type": "code",
   "execution_count": null,
   "id": "b389e1ff",
   "metadata": {},
   "outputs": [],
   "source": [
    "new_df = pd.DataFrame(\n",
    "          {symbol : df['Adj Close'], \n",
    "           market : dfm['Adj Close']}, \n",
    "          index=df.index)\n",
    "# 计算回报率\n",
    "new_df[['stock_returns',\n",
    "        'market_returns']] = new_df[[symbol,market]] / new_df[[symbol,market]].shift(1) -1\n",
    "new_df = new_df.dropna()\n",
    "# np.cov()对给定的数据和权重，估计协方差矩阵\n",
    "# 协方差用于衡量两个变量的总体误差\n",
    "covmat = np.cov(new_df[\"stock_returns\"],\n",
    "                new_df[\"market_returns\"])\n",
    "# 计算\n",
    "beta = covmat[0,1]/covmat[1,1]\n",
    "alpha= np.mean(new_df[\"stock_returns\"]\n",
    "              )-beta*np.mean(new_df[\"market_returns\"])"
   ]
  },
  {
   "cell_type": "markdown",
   "id": "02628204",
   "metadata": {},
   "source": [
    "为方便理解以上计算，打印一些结果看看。"
   ]
  },
  {
   "cell_type": "code",
   "execution_count": null,
   "id": "a99f9079",
   "metadata": {},
   "outputs": [],
   "source": [
    "print(covmat)"
   ]
  },
  {
   "cell_type": "code",
   "execution_count": null,
   "id": "58cdba1e",
   "metadata": {},
   "outputs": [],
   "source": [
    "print('Beta:', beta)"
   ]
  },
  {
   "cell_type": "code",
   "execution_count": null,
   "id": "1a2b6725",
   "metadata": {},
   "outputs": [],
   "source": [
    "print('Alpha:', alpha)"
   ]
  },
  {
   "cell_type": "markdown",
   "id": "5d56f5f0",
   "metadata": {},
   "source": [
    "# 统计分析"
   ]
  },
  {
   "cell_type": "markdown",
   "id": "4a67991a",
   "metadata": {},
   "source": [
    "以字段'Adj Close'为例"
   ]
  },
  {
   "cell_type": "code",
   "execution_count": null,
   "id": "093376dd",
   "metadata": {},
   "outputs": [],
   "source": [
    "close = df['Adj Close']"
   ]
  },
  {
   "cell_type": "markdown",
   "id": "8f33ad76",
   "metadata": {},
   "source": [
    "## Mean 均值"
   ]
  },
  {
   "cell_type": "markdown",
   "id": "89bf47e7",
   "metadata": {},
   "source": [
    "表示一组数据集中趋势的量数，是指在一组数据中所有数据之和再除以这组数据的个数。"
   ]
  },
  {
   "cell_type": "code",
   "execution_count": null,
   "id": "a29f157c",
   "metadata": {},
   "outputs": [],
   "source": [
    "np.mean(close)"
   ]
  },
  {
   "cell_type": "markdown",
   "id": "aeda470b",
   "metadata": {},
   "source": [
    "## Median 中位数"
   ]
  },
  {
   "cell_type": "code",
   "execution_count": null,
   "id": "371bce4c",
   "metadata": {},
   "outputs": [],
   "source": [
    "np.median(close)"
   ]
  },
  {
   "cell_type": "markdown",
   "id": "f93bee73",
   "metadata": {},
   "source": [
    "## Mode 众数"
   ]
  },
  {
   "cell_type": "markdown",
   "id": "1d8ce0c4",
   "metadata": {},
   "source": [
    "指在统计分布上具有明显集中趋势点的数值，代表数据的一般水平。也是一组数据中出现次数最多的数值，有时众数在一组数中有好几个。"
   ]
  },
  {
   "cell_type": "code",
   "execution_count": null,
   "id": "92299e5c",
   "metadata": {},
   "outputs": [],
   "source": [
    "mode = stats.mode(close)\n",
    "print(\"中位数是 {} 计数为 {}\".format(mode.mode[0], mode.count[0]))"
   ]
  },
  {
   "cell_type": "markdown",
   "id": "00f3e314",
   "metadata": {},
   "source": [
    "## Range 全距"
   ]
  },
  {
   "cell_type": "markdown",
   "id": "0616c153",
   "metadata": {},
   "source": [
    "全距也叫\"极差\"。它是一组数据中最大值与最小值之差。可以用于度量数据的分散程度。"
   ]
  },
  {
   "cell_type": "code",
   "execution_count": null,
   "id": "0a59c51e",
   "metadata": {},
   "outputs": [],
   "source": [
    "np.ptp(close)"
   ]
  },
  {
   "cell_type": "markdown",
   "id": "a9870e2e",
   "metadata": {},
   "source": [
    "## Variance 方差"
   ]
  },
  {
   "cell_type": "markdown",
   "id": "d0f3eef8",
   "metadata": {},
   "source": [
    "在统计描述中，方差用来计算每一个变量（观察值）与总体均数之间的差异。"
   ]
  },
  {
   "cell_type": "code",
   "execution_count": null,
   "id": "285a01a2",
   "metadata": {},
   "outputs": [],
   "source": [
    "np.var(close)"
   ]
  },
  {
   "cell_type": "markdown",
   "id": "6b254123",
   "metadata": {},
   "source": [
    "## Standard 标准差"
   ]
  },
  {
   "cell_type": "markdown",
   "id": "3cf519eb",
   "metadata": {},
   "source": [
    "方差的平方根，用于度量数据如何分散程度。"
   ]
  },
  {
   "cell_type": "code",
   "execution_count": null,
   "id": "745f1e8d",
   "metadata": {},
   "outputs": [],
   "source": [
    "np.std(close)"
   ]
  },
  {
   "cell_type": "markdown",
   "id": "c3dd0844",
   "metadata": {},
   "source": [
    "## Standard error 标准误差"
   ]
  },
  {
   "cell_type": "markdown",
   "id": "aeec9c67",
   "metadata": {},
   "source": [
    "标准差是方差的算术平方根，估计样本均值之间的可变性。标准差能反映一个数据集的离散程度。平均数相同的，标准差未必相同。"
   ]
  },
  {
   "cell_type": "code",
   "execution_count": null,
   "id": "b3ba9840",
   "metadata": {},
   "outputs": [],
   "source": [
    "stats.sem(close)"
   ]
  },
  {
   "cell_type": "markdown",
   "id": "390ed508",
   "metadata": {},
   "source": [
    "## Z-Scores"
   ]
  },
  {
   "cell_type": "markdown",
   "id": "485b7e5a",
   "metadata": {},
   "source": [
    "将观察值减去该组观察值的平均值，再除以标准差得到的，表示元素离均值有多少个标准差远。"
   ]
  },
  {
   "cell_type": "code",
   "execution_count": null,
   "id": "f826481c",
   "metadata": {},
   "outputs": [],
   "source": [
    "znp.abs(stats.zscore(close))"
   ]
  },
  {
   "cell_type": "markdown",
   "id": "163e5c6d",
   "metadata": {},
   "source": [
    "## Contingency Table 列联表"
   ]
  },
  {
   "cell_type": "markdown",
   "id": "0964bf29",
   "metadata": {},
   "source": [
    "列联表显示了两个变量之间的相关性。"
   ]
  },
  {
   "cell_type": "code",
   "execution_count": null,
   "id": "48291b09",
   "metadata": {},
   "outputs": [],
   "source": [
    "pd.crosstab(df['High'], \n",
    "            df['Low'],  \n",
    "            margins = False) "
   ]
  },
  {
   "cell_type": "markdown",
   "id": "b75dd74f",
   "metadata": {},
   "source": [
    "## Scatter plot 散点图"
   ]
  },
  {
   "cell_type": "markdown",
   "id": "72c3d8d2",
   "metadata": {},
   "source": [
    "散点图是指在回归分析中，数据点在直角坐标系平面上的分布图，散点图表示因变量随自变量而变化的大致趋势，据此可以选择合适的函数对数据点进行拟合。"
   ]
  },
  {
   "cell_type": "code",
   "execution_count": null,
   "id": "d4e8df5d",
   "metadata": {},
   "outputs": [],
   "source": [
    "plt.scatter(df['Adj Close'], \n",
    "            df['Open'], alpha=0.5)"
   ]
  },
  {
   "cell_type": "markdown",
   "id": "778332fa",
   "metadata": {},
   "source": [
    "## Regression 回归"
   ]
  },
  {
   "cell_type": "markdown",
   "id": "6f89cbfe",
   "metadata": {},
   "source": [
    "回归，指研究一组随机变量($Y_1,Y_2,...,Y_i$)和另一组($X_1,X_2,...,X_k$)变量之间关系的统计分析方法，又称多重回归分析。是衡量一个变量的平均值与其他变量对应值之间的关系。"
   ]
  },
  {
   "cell_type": "code",
   "execution_count": null,
   "id": "a9497d1c",
   "metadata": {},
   "outputs": [],
   "source": [
    "from sklearn.linear_model import LinearRegression\n",
    "X = np.array(df['Open']).reshape(df.shape[0],-1)\n",
    "y = np.array(df['Adj Close'])\n",
    "LR = LinearRegression().fit(X, y)  \n",
    "# 一些属性\n",
    "LR.score(X, y)\n",
    "LR.coef_\n",
    "LR.intercept_\n",
    "LR.predict(X)"
   ]
  },
  {
   "cell_type": "markdown",
   "id": "6fd18cff",
   "metadata": {},
   "source": [
    "# 初等概率论预测结果"
   ]
  },
  {
   "cell_type": "markdown",
   "id": "d3b9331c",
   "metadata": {},
   "source": [
    "## 蒙特卡罗方法"
   ]
  },
  {
   "cell_type": "markdown",
   "id": "ae14129c",
   "metadata": {},
   "source": [
    "是一种基于重复随机样本的实验计算算法。"
   ]
  },
  {
   "cell_type": "code",
   "execution_count": null,
   "id": "1149b992",
   "metadata": {},
   "outputs": [],
   "source": [
    "df['Returns'] = df['Adj Close'].pct_change()\n",
    "df['Returns'] = df['Returns'].dropna()\n",
    "df = df.dropna()\n",
    "\n",
    "S = df['Returns'][-1]     # 股票初始价格\n",
    "T = 252                   # 交易天数\n",
    "mu = df['Returns'].mean() # 均值\n",
    "sigma = df['Returns'].std()*math.sqrt(252) #波幅"
   ]
  },
  {
   "cell_type": "markdown",
   "id": "c2590304",
   "metadata": {},
   "source": [
    "# 随机变量和概率分布"
   ]
  },
  {
   "cell_type": "markdown",
   "id": "6e3a6acf",
   "metadata": {},
   "source": [
    "## 累积分布"
   ]
  },
  {
   "cell_type": "markdown",
   "id": "c6adbf19",
   "metadata": {},
   "source": [
    "累积分布函数，又叫分布函数，是概率密度函数的积分，能完整描述一个实随机变量X的概率分布。一般以大写\"CDF\"（Cumulative Distribution Function）标记。\n",
    "\n",
    "累积分布图（distribution diagram）是在一组依大小顺序排列的测量值中，当按一定的组即分组时出现测量值小于某个数值的频数或额率对组限的分布图。\n",
    "\n",
    "在matplotlib中有两种绘图方式\n",
    "\n",
    "- plt.plot()\n",
    "- plt.step()"
   ]
  },
  {
   "cell_type": "markdown",
   "id": "a1da127f",
   "metadata": {},
   "source": [
    "## 概率密度函数"
   ]
  },
  {
   "cell_type": "markdown",
   "id": "3219a794",
   "metadata": {},
   "source": [
    "概率密度函数(Probability Density Function , PDF)是一个连续的随机变量，具有在样本空间中给定样本的值，可以解释为提供了随机变量值与该样本值相等的相对可能性。"
   ]
  },
  {
   "cell_type": "code",
   "execution_count": null,
   "id": "81fc5b9b",
   "metadata": {},
   "outputs": [],
   "source": [
    "values = df['Returns'][1:]\n",
    "x = np.linspace(values.min(), values.max(), len(values))\n",
    "loc, scale = stats.norm.fit(values)\n",
    "param_density = stats.norm.pdf(x, loc=loc, scale=scale)\n",
    "ax.hist(values, bins=30, density=True)\n",
    "ax.plot(x, param_density, 'r-', label=label)"
   ]
  },
  {
   "cell_type": "code",
   "execution_count": null,
   "id": "c7099cec",
   "metadata": {},
   "outputs": [],
   "source": [
    "# 在这个阶段，回报率有升有降\n",
    "df['Returns'].plot(figsize=(20, 8))"
   ]
  },
  {
   "cell_type": "markdown",
   "id": "6e071199",
   "metadata": {},
   "source": [
    "seaborn绘制直方图：先分箱，然后计算每个分箱频数的数据分布。\n"
   ]
  },
  {
   "cell_type": "code",
   "execution_count": null,
   "id": "3249cccd",
   "metadata": {},
   "outputs": [],
   "source": [
    "sns.distplot(df['Returns'].dropna(),bins=100,color='red')"
   ]
  },
  {
   "cell_type": "markdown",
   "id": "27d0989f",
   "metadata": {},
   "source": [
    "## 累积概率分布"
   ]
  },
  {
   "cell_type": "markdown",
   "id": "4ec53301",
   "metadata": {},
   "source": [
    "累积概率分布，又称累积分布函数、分布函数等，用于描述随机变量落在任一区间上的概率，常被视为数据的某种特征。\n",
    "\n",
    "若该变量是连续变量，则累积概率分布是由概率密度函数积分求得的函数。\n",
    "\n",
    "若该变量是离散变量，则累积概率分布是由分布律加和求得的函数。"
   ]
  },
  {
   "cell_type": "code",
   "execution_count": null,
   "id": "036e61ec",
   "metadata": {},
   "outputs": [],
   "source": [
    "param_density = stats.norm.cdf(x, loc=loc, scale=scale)\n",
    "ax.plot(x, param_density, 'r-', label=label)"
   ]
  },
  {
   "cell_type": "markdown",
   "id": "2e4d50aa",
   "metadata": {},
   "source": [
    "## 均匀分布"
   ]
  },
  {
   "cell_type": "markdown",
   "id": "f9c76565",
   "metadata": {},
   "source": [
    "它是对称概率分布，在相同长度间隔的分布概率是等可能的。\n",
    "\n",
    "均匀分布属于连续性概率分布函数，默认为 [0, 1] 的均匀分布。"
   ]
  },
  {
   "cell_type": "code",
   "execution_count": null,
   "id": "8d778689",
   "metadata": {},
   "outputs": [],
   "source": [
    "values = df['Returns'][1:]\n",
    "s = np.random.uniform(values.min(), values.max(), len(values))\n",
    "# s = scipy.stats.uniform(loc=values.min(),\n",
    "#     scale=values.max()-values.min())\n",
    "count, bins, ignored = plt.hist(s, 15, density=True)\n",
    "plt.plot(bins, np.ones_like(bins), linewidth=2, color='r')"
   ]
  },
  {
   "cell_type": "raw",
   "id": "d7edea5e",
   "metadata": {},
   "source": [
    "np.ones_like(bins)\n",
    "返回一个用1填充的跟输入 形状和类型 一致的数组。\n",
    "\n",
    "np.random.uniform()\n",
    "上(values.min())下(values.max())界的界定范围内随机取len(values)个值"
   ]
  },
  {
   "cell_type": "markdown",
   "id": "d2e513d7",
   "metadata": {},
   "source": [
    "## 二项分布"
   ]
  },
  {
   "cell_type": "raw",
   "id": "31c19b56",
   "metadata": {},
   "source": [
    "二项分布概率密度函数"
   ]
  },
  {
   "attachments": {
    "image.png": {
     "image/png": "[encoded data removed]"
    }
   },
   "cell_type": "markdown",
   "id": "afed251a",
   "metadata": {
    "cell_style": "split"
   },
   "source": [
    "![image.png](attachment:image.png)"
   ]
  },
  {
   "cell_type": "markdown",
   "id": "5c3e71c3",
   "metadata": {},
   "source": [
    "在概率论和统计学中，二项分布是n个独立的成功/失败试验中成功的次数的离散概率分布，其中每次试验的成功概率为p。这样的单次成功/失败试验又称为伯努利试验。\n",
    "\n",
    "PMF(概率质量函数)对离散随机变量的定义，是离散随机变量在各个特定取值的概率。该函数通俗来说，就是对一个离散型概率事件来说，使用该函数来求它各个成功事件结果的概率。\n",
    "\n",
    "PDF(概率密度函数)是对连续型随机变量的定义，与PMF不同的是，在特定点上的值并不是该点的概率，连续随机概率事件只能求连续一段区域内发生事件的概率，通过对这段区间进行积分，可获得事件发生时间落在给定间隔内的概率"
   ]
  },
  {
   "cell_type": "code",
   "execution_count": null,
   "id": "356aa940",
   "metadata": {},
   "outputs": [],
   "source": [
    "from scipy.stats import binom\n",
    "n = len(df['Returns'])\n",
    "p = df['Returns'].mean()\n",
    "k = np.arange(0,21)"
   ]
  },
  {
   "cell_type": "markdown",
   "id": "c5a8e86b",
   "metadata": {},
   "source": [
    "## 概率质量函数"
   ]
  },
  {
   "cell_type": "raw",
   "id": "cd9cd731",
   "metadata": {},
   "source": [
    "pmf（k，n，p，loc=0）"
   ]
  },
  {
   "cell_type": "code",
   "execution_count": null,
   "id": "c693abc2",
   "metadata": {},
   "outputs": [],
   "source": [
    "# 二项分布\n",
    "binomial = binom.pmf(k,n,p)\n",
    "plt.plot(k, binomial, 'o-')"
   ]
  },
  {
   "cell_type": "markdown",
   "id": "b48c09d6",
   "metadata": {},
   "source": [
    "## 函数模拟二项随机变量"
   ]
  },
  {
   "cell_type": "raw",
   "id": "6e5fc374",
   "metadata": {},
   "source": [
    "rvs(n, p, loc=0, size=1, random_state=None)"
   ]
  },
  {
   "cell_type": "markdown",
   "id": "22da48f5",
   "metadata": {},
   "source": [
    "使用rvs函数模拟一个二项随机变量，其中参数size指定你要进行模拟的次数。"
   ]
  },
  {
   "cell_type": "code",
   "execution_count": null,
   "id": "6cf4d217",
   "metadata": {},
   "outputs": [],
   "source": [
    "binom_sim = binom.rvs(n = n, p = p, size=10000)\n",
    "print(\"Mean: %f\" % np.mean(binom_sim))\n",
    "print(\"SD: %f\" % np.std(binom_sim, ddof=1))\n",
    "plt.hist(binom_sim, bins = 10, density = True)"
   ]
  },
  {
   "cell_type": "markdown",
   "id": "88223174",
   "metadata": {},
   "source": [
    "## 泊松分布"
   ]
  },
  {
   "cell_type": "markdown",
   "id": "8d6d4057",
   "metadata": {},
   "source": [
    "泊松分布的参数 $\\mu$ 是单位时间(或单位面积)内随机事件的平均发生次数。泊松分布适合于描述单位时间内随机事件发生的次数。\n",
    "\n",
    "泊松分布的期望和方差均为$\\mu$ \n",
    "\n",
    "泊松分布概率密度函数"
   ]
  },
  {
   "attachments": {
    "image.png": {
     "image/png": "[encoded data removed]"
    }
   },
   "cell_type": "markdown",
   "id": "57a3f239",
   "metadata": {
    "cell_style": "split"
   },
   "source": [
    "![image.png](attachment:image.png)"
   ]
  },
  {
   "cell_type": "markdown",
   "id": "7e248e3e",
   "metadata": {},
   "source": [
    "## 概率质量函数"
   ]
  },
  {
   "cell_type": "code",
   "execution_count": null,
   "id": "dbd2b2bf",
   "metadata": {},
   "outputs": [],
   "source": [
    "rate = 3 # 错误率\n",
    "n = np.arange(0,10) # 实验的数量\n",
    "y = stats.poisson.pmf(n, rate)\n",
    "# pmf(k, mu, loc=0)\n",
    "plt.plot(n, y, 'o-')"
   ]
  },
  {
   "cell_type": "markdown",
   "id": "f64bb9bd",
   "metadata": {},
   "source": [
    "## 模拟泊松随机变量"
   ]
  },
  {
   "cell_type": "code",
   "execution_count": null,
   "id": "39e167f8",
   "metadata": {},
   "outputs": [],
   "source": [
    "data = stats.poisson.rvs(mu=3, loc=0, size=100)\n",
    "#  rvs(mu, loc=0, size=1, random_state=None)\n",
    "print(\"Mean: %f\" % np.mean(data))\n",
    "print(\"Standard Deviation: %f\" % np.std(data, ddof=1))\n",
    "plt.hist(data, bins = 9, density = True, stacked=True)"
   ]
  },
  {
   "cell_type": "markdown",
   "id": "a257173c",
   "metadata": {},
   "source": [
    "## 贝塔分布"
   ]
  },
  {
   "cell_type": "markdown",
   "id": "91fe4af4",
   "metadata": {},
   "source": [
    "贝塔分布（Beta Distribution) 是一个作为伯努利分布和二项式分布的共轭先验分布的密度函数，在机器学习和数理统计学中有重要应用。\n",
    "\n",
    "贝塔分布是一组定义在  区间的连续概率分布。\n",
    "\n",
    "贝塔分布的概率密度函数是"
   ]
  },
  {
   "attachments": {
    "image.png": {
     "image/png": "[encoded data removed]"
    }
   },
   "cell_type": "markdown",
   "id": "c7db8b80",
   "metadata": {
    "cell_style": "split"
   },
   "source": [
    "![image.png](attachment:image.png)"
   ]
  },
  {
   "cell_type": "markdown",
   "id": "9c35f063",
   "metadata": {},
   "source": [
    "## 概率密度函数"
   ]
  },
  {
   "cell_type": "raw",
   "id": "33a65cb4",
   "metadata": {},
   "source": [
    "pdf(x, a, b, loc=0, scale=1)"
   ]
  },
  {
   "cell_type": "code",
   "execution_count": null,
   "id": "a7b8deb4",
   "metadata": {},
   "outputs": [],
   "source": [
    "x = np.arange(0, 1, 0.01)\n",
    "y = stats.beta.pdf(x, alpha, beta)\n",
    "plt.plot(x, y)"
   ]
  },
  {
   "cell_type": "markdown",
   "id": "c259d0c1",
   "metadata": {},
   "source": [
    "## 指数分布"
   ]
  },
  {
   "cell_type": "markdown",
   "id": "ca5ed6f2",
   "metadata": {},
   "source": [
    "指数分布，也称为负指数分布，是描述泊松过程中的事件之间的时间的概率分布，即事件以恒定平均速率连续且独立地发生的过程。"
   ]
  },
  {
   "cell_type": "markdown",
   "id": "ce0ad9e5",
   "metadata": {},
   "source": [
    "其概率密度函数"
   ]
  },
  {
   "cell_type": "code",
   "execution_count": null,
   "id": "6cfc6630",
   "metadata": {},
   "outputs": [],
   "source": [
    "lambd = 0.5 # lambda\n",
    "x = np.arange(0, 1, 0.01)\n",
    "y = lambd * np.exp(-lambd * x)\n",
    "plt.plot(x, y)"
   ]
  },
  {
   "cell_type": "markdown",
   "id": "b0b75176",
   "metadata": {},
   "source": [
    "## 对数正态分布"
   ]
  },
  {
   "cell_type": "markdown",
   "id": "a170fa49",
   "metadata": {},
   "source": [
    "是指一个随机变量的对数服从正态分布，则该随机变量服从对数正态分布。对数正态分布从短期来看，与正态分布非常接近。\n",
    "\n",
    "对数正态分布的概率密度函数"
   ]
  },
  {
   "attachments": {
    "image.png": {
     "image/png": "[encoded data removed]"
    }
   },
   "cell_type": "markdown",
   "id": "2e4fe3a3",
   "metadata": {
    "cell_style": "split"
   },
   "source": [
    "![image.png](attachment:image.png)"
   ]
  },
  {
   "cell_type": "code",
   "execution_count": null,
   "id": "8188f46e",
   "metadata": {},
   "outputs": [],
   "source": [
    "from scipy.stats import lognorm\n",
    "# 均值\n",
    "mu = df['Returns'].mean() \n",
    "#幅度\n",
    "sigma = df['Returns'].std()*math.sqrt(252) \n",
    "s = np.random.lognormal(mu, sigma, 1000)\n",
    "count, bins, ignored = plt.hist(s, 100, density=True, align='mid')\n",
    "\n",
    "x = np.linspace(min(bins), max(bins), 10000)\n",
    "pdf = (np.exp(-(np.log(x) - mu)**2 / (2 * sigma**2)) / (x * sigma * np.sqrt(2 * np.pi)))\n",
    "# pdf=lognorm.pdf(x, s, loc=0, scale=1)\n",
    "plt.plot(x, pdf, linewidth=2, color='r')"
   ]
  },
  {
   "cell_type": "markdown",
   "id": "56541192",
   "metadata": {},
   "source": [
    "## 计算分位数"
   ]
  },
  {
   "cell_type": "markdown",
   "id": "eda1f542",
   "metadata": {},
   "source": [
    "分位数（Quantile），亦称分位点，是指将一个随机变量的概率分布范围分为几个等份的数值点，常用的有中位数（即二分位数）、四分位数、百分位数等。"
   ]
  },
  {
   "cell_type": "code",
   "execution_count": null,
   "id": "b3215fca",
   "metadata": {},
   "outputs": [],
   "source": [
    "# 计算股票回报率的5%,25%,75%和95%分位数\n",
    "# 5% 分位数\n",
    "print('5% quantile', norm.ppf(0.05, mu, sigma))"
   ]
  },
  {
   "cell_type": "code",
   "execution_count": null,
   "id": "6201e083",
   "metadata": {},
   "outputs": [],
   "source": [
    "# 75% 分位数\n",
    "print('75% quantile', norm.ppf(0.75, mu, sigma) )"
   ]
  },
  {
   "cell_type": "markdown",
   "id": "ef1efabb",
   "metadata": {},
   "source": [
    "# 统计假设检验"
   ]
  },
  {
   "cell_type": "markdown",
   "id": "1964d9f3",
   "metadata": {},
   "source": [
    "## 假设(hypothesis)"
   ]
  },
  {
   "cell_type": "markdown",
   "id": "9a2fe2f1",
   "metadata": {},
   "source": [
    "一般定义:对事物未知事实的一种陈述。如:明天会下雨等\n",
    "\n",
    "引申到统计学中，我们所关心的“事物未知事实”是什么?\n",
    "\n",
    "统计学定义:对总体参数的的数值所作的一种陈述。对总体参数包括总体均值、比例、方差等在分析之前进行陈述。如：假设统计学期末考试的平均成绩等于90分。"
   ]
  },
  {
   "cell_type": "markdown",
   "id": "1ce4722d",
   "metadata": {},
   "source": [
    "## 假设检验(hypothesis testing)"
   ]
  },
  {
   "cell_type": "raw",
   "id": "d1ffb51c",
   "metadata": {},
   "source": [
    "定义:事先对总体参数或分布形式作出某种假设，然后利用样本信息来判断原假设是否成立。\n",
    "\n",
    "地位:是统计方法(描述性统计和推断性统计) 中推断性统计(参数估计和假设检验)的两大方法之一。\n",
    "\n",
    "应用:常用于产品生产中，产品质量的检验等问题上。\n",
    "\n",
    "在假设检验中，先设定原假设(H0)，再设定与其相反的备择假设(H1)。接下来随机抽取样本，若在原假设成立的情况下，样本发生的概率(P)非常小，说明原假设不成立，备择假设成立，则拒绝原假设。否则，接受原假设。"
   ]
  },
  {
   "cell_type": "markdown",
   "id": "45883260",
   "metadata": {},
   "source": [
    "## 假设检验的过程"
   ]
  },
  {
   "cell_type": "markdown",
   "id": "5d4d7fef",
   "metadata": {},
   "source": [
    "- (1)提出假设\n",
    "- (2)确定适当的检验统计量\n",
    "- (3)规定显著性水平\n",
    "- (4)计算检验统计量的值\n",
    "- (5)作出统计决策"
   ]
  },
  {
   "cell_type": "raw",
   "id": "2982da58",
   "metadata": {},
   "source": [
    "Alpha：\n",
    "显著性水平是估计总体参数落在某一区间内，可能犯错误的概率。是当H0为真时拒绝H0的概率。\n",
    "\n",
    "p-value：\n",
    "一种概率，一种在原假设为真的前提下出现观察样本以及更极端情况的概率。拒绝原假设的最小显著性水平。\n",
    "\n",
    "p-value <= alpha：拒绝H0。\n",
    "\n",
    "p-value > alpha：接受H0。"
   ]
  },
  {
   "cell_type": "markdown",
   "id": "085e17b5",
   "metadata": {},
   "source": [
    "## 规定显著性水平"
   ]
  },
  {
   "cell_type": "markdown",
   "id": "79579f22",
   "metadata": {},
   "source": [
    "制定决策标准。计算z分布的置信区间。"
   ]
  },
  {
   "cell_type": "code",
   "execution_count": null,
   "id": "6740d145",
   "metadata": {},
   "outputs": [],
   "source": [
    "alpha = 0.05\n",
    "zleft = norm.ppf(alpha/2, 0, 1)\n",
    "zright = -zleft  # z分布是对称的\n",
    "print(zleft, zright)"
   ]
  },
  {
   "cell_type": "markdown",
   "id": "09cdc05d",
   "metadata": {},
   "source": [
    "## 计算统计量的值"
   ]
  },
  {
   "cell_type": "code",
   "execution_count": null,
   "id": "4f566196",
   "metadata": {},
   "outputs": [],
   "source": [
    "mu = df['Returns'].mean()\n",
    "sigma = df['Returns'].std(ddof=1)\n",
    "n = df['Returns'].shape[0]\n",
    "# 如果样本容量n足够大，我们可以用z分布代替t分布\n",
    "# H0为真时，mu = 0 \n",
    "zhat = (mu - 0)/(sigma/n**0.5)\n",
    "print(zhat)"
   ]
  },
  {
   "cell_type": "markdown",
   "id": "77596fb2",
   "metadata": {},
   "source": [
    "## 作出统计决策"
   ]
  },
  {
   "cell_type": "markdown",
   "id": "fef3bf26",
   "metadata": {},
   "source": [
    "决定是否拒绝原假设。"
   ]
  },
  {
   "cell_type": "code",
   "execution_count": null,
   "id": "c2d9675e",
   "metadata": {},
   "outputs": [],
   "source": [
    "print('显著水平为{}，我们是否拒绝H0: {}\n",
    "      '.format(alpha, zhat>zright or zhat<zleft))"
   ]
  },
  {
   "cell_type": "markdown",
   "id": "4393d280",
   "metadata": {},
   "source": [
    "## 单侧检验"
   ]
  },
  {
   "cell_type": "code",
   "execution_count": null,
   "id": "9a8cbea7",
   "metadata": {
    "ExecuteTime": {
     "end_time": "2021-05-21T16:15:57.094113Z",
     "start_time": "2021-05-21T16:15:31.187Z"
    }
   },
   "outputs": [],
   "source": [
    "mu = df['Returns'].mean()\n",
    "sigma = df['Returns'].std(ddof=1)\n",
    "n = df['Returns'].shape[0]"
   ]
  },
  {
   "cell_type": "markdown",
   "id": "183630f9",
   "metadata": {},
   "source": [
    "确定适当的检验统计量。如果样本容量n足够大，我们可以用z分布代替t分布。"
   ]
  },
  {
   "cell_type": "code",
   "execution_count": null,
   "id": "42e361ff",
   "metadata": {
    "ExecuteTime": {
     "end_time": "2021-05-21T16:15:57.096113Z",
     "start_time": "2021-05-21T16:15:52.438Z"
    }
   },
   "outputs": [],
   "source": [
    "zhat = (mu - 0)/(sigma/n**0.5)\n",
    "print(zhat)"
   ]
  },
  {
   "cell_type": "markdown",
   "id": "60b31c17",
   "metadata": {},
   "source": [
    "规定显著性水平。"
   ]
  },
  {
   "cell_type": "code",
   "execution_count": null,
   "id": "e1724ae0",
   "metadata": {},
   "outputs": [],
   "source": [
    "alpha = 0.05\n",
    "zright = norm.ppf(1-alpha, 0, 1)\n",
    "print(zright)\n",
    "print('显著性水平为{}，我们是否拒绝H0: {}  \n",
    "      '.format(alpha, zhat>zright))"
   ]
  },
  {
   "cell_type": "markdown",
   "id": "b7e1fd6e",
   "metadata": {},
   "source": [
    "## p值检验"
   ]
  },
  {
   "cell_type": "code",
   "execution_count": null,
   "id": "1080b131",
   "metadata": {},
   "outputs": [],
   "source": [
    "p_value = 1 - norm.cdf(zhat, 0, 1)\n",
    "print(p_value)\n",
    "print('显著性水平为{}，我们是否拒绝H0: {}\n",
    "      '.format(alpha, p_value < alpha))"
   ]
  },
  {
   "cell_type": "markdown",
   "id": "0f724f88",
   "metadata": {},
   "source": [
    "# scipy.stats中的假设检验"
   ]
  },
  {
   "cell_type": "markdown",
   "id": "154151b8",
   "metadata": {},
   "source": [
    "金融股票数据是连续的数据。对于股票数据做假设检验时，是关于比较特征和目标或两个样本。有些假设检验，我们可以对一个样本进行检验。"
   ]
  },
  {
   "cell_type": "markdown",
   "id": "9e9b90d3",
   "metadata": {},
   "source": [
    "## Shapiro-Wilk 检验"
   ]
  },
  {
   "cell_type": "raw",
   "id": "9db6d101",
   "metadata": {},
   "source": [
    "Shapiro-Wilk检验用于验证一个随机样本数据是否来自正态分布。"
   ]
  },
  {
   "cell_type": "code",
   "execution_count": null,
   "id": "70902da4",
   "metadata": {},
   "outputs": [],
   "source": [
    "from scipy.stats import shapiro\n",
    "import scipy as sp\n",
    "W_test, p_value = shapiro(df['Returns'])\n",
    "# 置信水平为95%，即 alpha=0.05\n",
    "print('Shapiro-Wilk Test')\n",
    "print('-'*40)\n",
    "# 显著性决策\n",
    "alpha = 0.05\n",
    "if p_value < alpha:\n",
    "    print(\"H0: 样本服从高斯分布\")\n",
    "    print(\"拒绝H0\")\n",
    "else:\n",
    "    print(\"H1: 样本不服从高斯分布\")\n",
    "    print(\"接受H0\")"
   ]
  },
  {
   "cell_type": "markdown",
   "id": "63da4fd1",
   "metadata": {},
   "source": [
    "## 安德森-达令检验"
   ]
  },
  {
   "cell_type": "markdown",
   "id": "cc028605",
   "metadata": {},
   "source": [
    "安德森-达令检验（D’Agostino’s K^2 Test）样本数据是否来自特定分布，包括分布：'norm', 'expon', 'gumbel', 'extreme1' or 'logistic'.\n",
    "\n",
    "零假设H0：样本服从特定分布；\n",
    "备择假设H1：样本不服从特定分布"
   ]
  },
  {
   "cell_type": "code",
   "execution_count": null,
   "id": "565c69dd",
   "metadata": {},
   "outputs": [],
   "source": [
    "from scipy.stats import anderson\n",
    "result = anderson(df['Returns'].dropna())\n",
    "result"
   ]
  },
  {
   "cell_type": "raw",
   "id": "2babde4b",
   "metadata": {},
   "source": [
    "做出决策\n",
    "D’Agostino’s K^2 Test\n",
    "----------------------------------------\n",
    "统计量: 6.417\n",
    "15.000: 0.574, 样本不服从正态分布 (拒绝H0)\n",
    "10.000: 0.654, 样本不服从正态分布 (拒绝H0)\n",
    "5.000: 0.785, 样本不服从正态分布 (拒绝H0)\n",
    "2.500: 0.915, 样本不服从正态分布 (拒绝H0)\n",
    "1.000: 1.089, 样本不服从正态分布 (拒绝H0)\n",
    "相关性用来检验样本或特征是否相关。因此，检查两个"
   ]
  },
  {
   "cell_type": "markdown",
   "id": "cb1e9318",
   "metadata": {},
   "source": [
    "相关性用来检验样本或特征是否相关。因此，检查两个样本或特征是否相关。"
   ]
  },
  {
   "cell_type": "markdown",
   "id": "9e5c6e09",
   "metadata": {},
   "source": [
    "## F-检验"
   ]
  },
  {
   "cell_type": "markdown",
   "id": "f05865e0",
   "metadata": {},
   "source": [
    "F检验(F-test)，最常用的别名叫做联合假设检验。它是一种在零假设(H0)之下，统计值服从F-分布的检验。"
   ]
  },
  {
   "cell_type": "code",
   "execution_count": null,
   "id": "5966592b",
   "metadata": {},
   "outputs": [],
   "source": [
    "import scipy\n",
    "from scipy.stats import f\n",
    "\n",
    "F = df['Adj Close'].var() / df['Returns'].var()\n",
    "df1 = len(df['Adj Close']) - 1 \n",
    "df2 = len(df['Returns']) - 1 \n",
    "p_value = scipy.stats.f.cdf(F, df1, df2)"
   ]
  },
  {
   "cell_type": "raw",
   "id": "2f42c91c",
   "metadata": {},
   "source": [
    "做出决策\n",
    "F-test\n",
    "----------------------------------------\n",
    "Statistic: 1.000\n",
    "H0: 样本间是相互独立的。p=1.000"
   ]
  },
  {
   "cell_type": "markdown",
   "id": "3d214d61",
   "metadata": {},
   "source": [
    "## 皮尔逊相关系数"
   ]
  },
  {
   "cell_type": "markdown",
   "id": "0b0f35e8",
   "metadata": {},
   "source": [
    "皮尔逊相关系数（Pearson’s Correlation Coefficient）也称为积差相关（或积矩相关）是英国统计学家皮尔逊于20世纪提出的一种计算直线相关的方法。\n",
    "\n",
    "适用范围\n",
    "当两个变量的标准差都不为零时，相关系数才有定义，皮尔逊相关系数适用于：\n",
    "\n",
    "(1) 两个变量之间是线性关系，都是连续数据。\n",
    "\n",
    "(2) 两个变量的总体是正态分布，或接近正态的单峰分布。\n",
    "\n",
    "(3) 两个变量的观测值是成对的，每对观测值之间相互独立。"
   ]
  },
  {
   "cell_type": "code",
   "execution_count": null,
   "id": "724af2f7",
   "metadata": {},
   "outputs": [],
   "source": [
    "from scipy.stats import pearsonr\n",
    "coef, p_value = pearsonr(df['Open'], \n",
    "                    df['Adj Close'])\n",
    "做出决策"
   ]
  },
  {
   "cell_type": "raw",
   "id": "f9cad7c4",
   "metadata": {},
   "source": [
    "做出决策\n",
    "皮尔逊相关系数\n",
    "----------------------------------------\n",
    "相关性检验: 0.999\n",
    "H1: 样本之间存在相关性。p=0.000"
   ]
  },
  {
   "cell_type": "markdown",
   "id": "a8f29550",
   "metadata": {},
   "source": [
    "## 斯皮尔曼等级相关"
   ]
  },
  {
   "cell_type": "markdown",
   "id": "b9ee8895",
   "metadata": {},
   "source": [
    "斯皮尔曼等级相关是根据等级资料研究两个变量间相关关系的方法。它是依据两列成对等级的各对等级数之差来进行计算的，所以又称为“等级差数法”。\n",
    "\n",
    "斯皮尔曼等级相关对数据条件的要求没有积差相关系数严格，只要两个变量的观测值是成对的等级评定资料，或者是由连续变量观测资料转化得到的等级资料，不论两个变量的总体分布形态、样本容量的大小如何，都可以用斯皮尔曼等级相关来进行研究。\n",
    "\n",
    "斯皮尔曼等级相关系数是反映两组变量之间联系的密切程度，它和相关系数r一样，取值区间[-1,+1]，所不同的是它是建立在等级的基础上计算的。"
   ]
  },
  {
   "cell_type": "code",
   "execution_count": null,
   "id": "0f106092",
   "metadata": {},
   "outputs": [],
   "source": [
    "from scipy.stats import spearmanr\n",
    "coef, p_value = spearmanr(df['Open'], df['Adj Close'])"
   ]
  },
  {
   "cell_type": "raw",
   "id": "98fc9cbf",
   "metadata": {},
   "source": [
    "做出决策\n",
    "斯皮尔曼等级相关\n",
    "----------------------------------------\n",
    "斯皮尔曼等级相关系数: 0.997\n",
    "样本间存在相关性 (拒绝H0) p=0.000"
   ]
  },
  {
   "cell_type": "markdown",
   "id": "fccc2d89",
   "metadata": {},
   "source": [
    "## 肯德尔等级相关"
   ]
  },
  {
   "cell_type": "raw",
   "id": "379cd979",
   "metadata": {},
   "source": [
    "肯德尔相关(Kendall’s Rank Correlation)系数是一个用来测量两个随机变量相关性的统计值。一个肯德尔检验是一个无参数假设检验，它使用计算而得的相关系数去检验两个随机变量的统计依赖性。\n",
    "\n",
    "肯德尔相关系数的取值范围在-1到1之间\n",
    "\n",
    "当τ为1时，表示两个随机变量拥有一致的等级相关性；\n",
    "\n",
    "当τ为-1时，表示两个随机变量拥有完全相反的等级相关性；\n",
    "\n",
    "当τ为0时，表示两个随机变量是相互独立的。"
   ]
  },
  {
   "cell_type": "code",
   "execution_count": null,
   "id": "8782f194",
   "metadata": {},
   "outputs": [],
   "source": [
    "from scipy.stats import kendalltau\n",
    "coef, p_value = kendalltau(df['Open'], \n",
    "                  df['Adj Close'])"
   ]
  },
  {
   "cell_type": "raw",
   "id": "63137523",
   "metadata": {},
   "source": [
    "# 做出决策\n",
    "肯德尔等级相关\n",
    "----------------------------------------\n",
    "肯德尔等级相关系数: 0.960\n",
    "样本间存在相关性 (拒绝H0) p=0.000"
   ]
  },
  {
   "cell_type": "markdown",
   "id": "b36fb5c5",
   "metadata": {},
   "source": [
    "## 卡方检验"
   ]
  },
  {
   "cell_type": "markdown",
   "id": "7d53c7dc",
   "metadata": {},
   "source": [
    "卡方检验(Chi-Squared Test)是用途非常广的一种假设检验方法，它在分类资料统计推断中的应用，包括：两个率或两个构成比比较的卡方检验；多个率或多个构成比比较的卡方检验以及分类资料的相关分析等。\n",
    "\n",
    "在大数据运营场景中，通常用在某个变量(或特征)值是不是和因变量有显著关系。"
   ]
  },
  {
   "cell_type": "code",
   "execution_count": null,
   "id": "7f3d4825",
   "metadata": {},
   "outputs": [],
   "source": [
    "from scipy.stats import chi2_contingency\n",
    "from scipy.stats import chi2\n",
    "stat, p_value, dof, expected = chi2_contingency(df[['Open','Low','High','Adj Close','Volume']])\n",
    "prob = 0.95\n",
    "critical = chi2.ppf(prob, dof)"
   ]
  },
  {
   "cell_type": "markdown",
   "id": "229f03bd",
   "metadata": {},
   "source": [
    "## 统计量决策"
   ]
  },
  {
   "cell_type": "markdown",
   "id": "8d4ac579",
   "metadata": {},
   "source": [
    "abs(stat) >= critical"
   ]
  },
  {
   "cell_type": "raw",
   "id": "516f90fa",
   "metadata": {},
   "source": [
    "dof=5032\n",
    "可能性=0.950, \n",
    "critical=5198.140, stat=259227.557\n",
    "两者具有相关性 (拒绝H0)"
   ]
  },
  {
   "cell_type": "markdown",
   "id": "e59b587c",
   "metadata": {},
   "source": [
    "## p值决策"
   ]
  },
  {
   "cell_type": "markdown",
   "id": "83f05205",
   "metadata": {},
   "source": [
    "p <= alpha"
   ]
  },
  {
   "cell_type": "raw",
   "id": "9c23d7b4",
   "metadata": {},
   "source": [
    "显著性=0.050, p=0.000\n",
    "两者具有相关性 (拒绝H0)"
   ]
  },
  {
   "cell_type": "markdown",
   "id": "a03014c6",
   "metadata": {},
   "source": [
    "这部分是比较两个样本或特征;得到结果并检查它们是否都是独立样本。"
   ]
  },
  {
   "cell_type": "markdown",
   "id": "c314e212",
   "metadata": {},
   "source": [
    "# scipy.stats中其他假设检验"
   ]
  },
  {
   "cell_type": "markdown",
   "id": "f7a94e18",
   "metadata": {},
   "source": [
    "## Box-Cox Power Transformation"
   ]
  },
  {
   "cell_type": "markdown",
   "id": "5e76e782",
   "metadata": {},
   "source": [
    "Box cox Transformation可以将非正态分布的独立因变量转换成正态分布，我们知道，很多统计检验方法的一个重要假设就是“正态性”，所以当对数据进行Box cox Transformation后，这意味着我们可以对我们的数据进行许多种类的统计检验。\n",
    "\n",
    "Box-Cox变换的主要特点是引入一个参数，通过数据本身估计该参数进而确定应采取的数据变换形式，Box-Cox变换可以明显地改善数据的正态性、对称性和方差相等性，对许多实际数据都是行之有效的。"
   ]
  },
  {
   "cell_type": "code",
   "execution_count": null,
   "id": "5b5402ed",
   "metadata": {},
   "outputs": [],
   "source": [
    "from scipy.stats import boxcox\n",
    "df['boxcox'], lam = boxcox(df['Adj Close'])\n",
    "print('Lambda: %f' % lam)"
   ]
  },
  {
   "cell_type": "markdown",
   "id": "8d457c6f",
   "metadata": {},
   "source": [
    "## 折线图"
   ]
  },
  {
   "cell_type": "code",
   "execution_count": null,
   "id": "3a814d68",
   "metadata": {},
   "outputs": [],
   "source": [
    "plt.plot(df['boxcox'])"
   ]
  },
  {
   "cell_type": "markdown",
   "id": "94ab76e0",
   "metadata": {},
   "source": [
    "## 直方图"
   ]
  },
  {
   "cell_type": "code",
   "execution_count": null,
   "id": "e4625538",
   "metadata": {},
   "outputs": [],
   "source": [
    "plt.hist(df['boxcox'])"
   ]
  },
  {
   "cell_type": "raw",
   "id": "fe86de4e",
   "metadata": {},
   "source": [
    "下面几个假设检验只简单力矩其使用方法，不做太多其他解释。"
   ]
  },
  {
   "cell_type": "code",
   "execution_count": null,
   "id": "e7b9fff0",
   "metadata": {},
   "outputs": [],
   "source": [
    "# 参数假设检验\n",
    "# Student’s t-Test\n",
    "# 这是对原假设的双侧检验，两个独立的样本有相同\n",
    "# 的平均值(期望值)。\n",
    "# 这个测试假设总体默认具有相同的方差。\n",
    "from scipy.stats import ttest_ind\n",
    "stat, p_value = ttest_ind(df['Open'], \n",
    "    df['Adj Close'])\n",
    "\n",
    "# Paired Student’s t-test\n",
    "# 这是对原假设的双侧检验，\n",
    "# 即两个相关或重复的样本具有相同的平均值(期望值)\n",
    "from scipy.stats import ttest_rel\n",
    "stat, p_value = ttest_rel(df['Open'],\n",
    "    df['Adj Close'])\n",
    "\n",
    "# Analysis of Variance Test (ANOVA)\n",
    "from scipy.stats import f_oneway\n",
    "stat, p_value = f_oneway(df['Open'], \n",
    "    df['Adj Close'], df['Volume'])\n",
    "\n",
    "# 非参数假设检验\n",
    "# Mann-Whitney U Test\n",
    "from scipy.stats import mannwhitneyu\n",
    "stat, p_value = mannwhitneyu(df['Open'], \n",
    "    df['Adj Close'])\n",
    "\n",
    "# Wilcoxon Signed-Rank Test\n",
    "from scipy.stats import wilcoxon\n",
    "stat, p_value = wilcoxon(df['Open'], \n",
    "    df['Adj Close'])\n",
    "\n",
    "# Kruskal-Wallis Test\n",
    "from scipy.stats import kruskal\n",
    "stat, p_value = kruskal(df['Open'], \n",
    "    df['Adj Close'], df['Volume'])\n",
    "\n",
    "# Levene Test\n",
    "from scipy.stats import levene\n",
    "stat, p_value = levene(df['Open'], \n",
    "    df['Adj Close'])\n",
    "\n",
    "# Mood's Test\n",
    "from scipy.stats import mood\n",
    "stat, p_value = mood(df['Open'], \n",
    "    df['Adj Close'])\n",
    "\n",
    "# Mood’s median test\n",
    "from scipy.stats import median_test\n",
    "stat, p_value, med, tbl = median_test(df[\n",
    "  'Open'], df['Adj Close'], df['Volume'])\n",
    "\n",
    "# Kolmogorov-Smirnov test\n",
    "from scipy.stats import ks_2samp\n",
    "stat, p_value = ks_2samp(df['Open'], \n",
    "    df['Adj Close'])"
   ]
  },
  {
   "cell_type": "markdown",
   "id": "1e51e498",
   "metadata": {},
   "source": [
    "# 参考资料"
   ]
  },
  {
   "cell_type": "markdown",
   "id": "a500a887",
   "metadata": {},
   "source": [
    "\n",
    "- 常见的股票概率分布方法: https://www.investopedia.com/articles/06/probabilitydistribution.asp\n",
    "\n",
    "\n",
    "- 连续统计分布清单: https://docs.scipy.org/doc/scipy/reference/tutorial/stats/continuous.html"
   ]
  },
  {
   "cell_type": "code",
   "execution_count": null,
   "id": "dc74c81e",
   "metadata": {},
   "outputs": [],
   "source": []
  }
 ],
 "metadata": {
  "kernelspec": {
   "display_name": "Python 3",
   "language": "python",
   "name": "python3"
  },
  "language_info": {
   "codemirror_mode": {
    "name": "ipython",
    "version": 3
   },
   "file_extension": ".py",
   "mimetype": "text/x-python",
   "name": "python",
   "nbconvert_exporter": "python",
   "pygments_lexer": "ipython3",
   "version": "3.6.13"
  },
  "toc": {
   "base_numbering": 1,
   "nav_menu": {},
   "number_sections": true,
   "sideBar": true,
   "skip_h1_title": false,
   "title_cell": "练习3：Scipy 与统计分析基础",
   "title_sidebar": "Contents",
   "toc_cell": true,
   "toc_position": {
    "height": "calc(100% - 180px)",
    "left": "10px",
    "top": "150px",
    "width": "372.362px"
   },
   "toc_section_display": true,
   "toc_window_display": true
  }
 },
 "nbformat": 4,
 "nbformat_minor": 5
}
