{
 "cells": [
  {
   "cell_type": "code",
   "execution_count": 1,
   "id": "1d0bfa94",
   "metadata": {
    "ExecuteTime": {
     "end_time": "2021-06-09T07:29:09.085213Z",
     "start_time": "2021-06-09T07:29:03.787043Z"
    }
   },
   "outputs": [
    {
     "name": "stdout",
     "output_type": "stream",
     "text": [
      "64.3 ns ± 4.14 ns per loop (mean ± std. dev. of 7 runs, 10000000 loops each)\n"
     ]
    }
   ],
   "source": [
    "%%timeit l = list(range(10))\n",
    "l[5]"
   ]
  },
  {
   "cell_type": "code",
   "execution_count": 2,
   "id": "6e5d52f5",
   "metadata": {
    "ExecuteTime": {
     "end_time": "2021-06-09T07:29:34.204472Z",
     "start_time": "2021-06-09T07:29:17.918986Z"
    }
   },
   "outputs": [
    {
     "name": "stdout",
     "output_type": "stream",
     "text": [
      "70.1 ns ± 10.6 ns per loop (mean ± std. dev. of 7 runs, 10000000 loops each)\n"
     ]
    }
   ],
   "source": [
    "%%timeit l = list(range(10_000_000))\n",
    "l[100_000]"
   ]
  },
  {
   "cell_type": "code",
   "execution_count": 3,
   "id": "01517f07",
   "metadata": {
    "ExecuteTime": {
     "end_time": "2021-06-09T07:33:14.189570Z",
     "start_time": "2021-06-09T07:29:50.989647Z"
    }
   },
   "outputs": [
    {
     "name": "stdout",
     "output_type": "stream",
     "text": [
      "Value 1        found in haystack of size 10000    at index 1        in 5.55400e-07 seconds\n",
      "Value 6000     found in haystack of size 10000    at index 6000     in 9.80884e-04 seconds\n",
      "Value 9000     found in haystack of size 10000    at index 9000     in 1.63080e-03 seconds\n",
      "Value 1000000  found in haystack of size 10000    at index -1       in 1.67250e-03 seconds\n",
      "Value 1        found in haystack of size 100000   at index 1        in 8.71400e-07 seconds\n",
      "Value 6000     found in haystack of size 100000   at index 6000     in 1.00930e-03 seconds\n",
      "Value 9000     found in haystack of size 100000   at index 9000     in 1.46334e-03 seconds\n",
      "Value 1000000  found in haystack of size 100000   at index -1       in 1.61621e-02 seconds\n",
      "Value 1        found in haystack of size 1000000  at index 1        in 5.55200e-07 seconds\n",
      "Value 6000     found in haystack of size 1000000  at index 6000     in 1.01926e-03 seconds\n",
      "Value 9000     found in haystack of size 1000000  at index 9000     in 1.54333e-03 seconds\n",
      "Value 1000000  found in haystack of size 1000000  at index -1       in 1.77496e-01 seconds\n"
     ]
    }
   ],
   "source": [
    "import timeit\n",
    "\n",
    "def linear_search(needle, array):\n",
    "    for i, item in enumerate(array):\n",
    "        if item == needle:\n",
    "            return i\n",
    "    return -1\n",
    "\n",
    "\n",
    "if __name__ == \"__main__\":\n",
    "    setup = \"from __main__ import (linear_search, haystack, needle)\"\n",
    "    iterations = 1000\n",
    "\n",
    "    for haystack_size in (10000, 100000, 1000000):\n",
    "        haystack = range(haystack_size)\n",
    "        for needle in (1, 6000, 9000, 1000000):\n",
    "            index = linear_search(needle, haystack)\n",
    "            t = timeit.timeit(\n",
    "                stmt=\"linear_search(needle, haystack)\", setup=setup, number=iterations\n",
    "            )\n",
    "            print(\n",
    "                f\"Value {needle: <8} found in haystack of \"\n",
    "                f\"size {len(haystack): <8} at index \"\n",
    "                f\"{index: <8} in {t/iterations:.5e} seconds\"\n",
    "            )"
   ]
  },
  {
   "cell_type": "code",
   "execution_count": 1,
   "id": "ef5b7e43",
   "metadata": {
    "ExecuteTime": {
     "end_time": "2021-06-09T07:56:34.379358Z",
     "start_time": "2021-06-09T07:56:34.358586Z"
    }
   },
   "outputs": [
    {
     "name": "stdout",
     "output_type": "stream",
     "text": [
      "First 10 samples for hash <ForceHash 0b00000111>: [7, 4, 5, 2, 3, 0, 1, 6, 7, 4]\n",
      "First 10 samples for hash <ForceHash 0b11100111>: [7, 3, 0, 1, 6, 7, 4, 5, 2, 3]\n",
      "First 10 samples for hash <ForceHash 0b01110111>: [7, 7, 4, 5, 2, 3, 0, 1, 6, 7]\n",
      "First 10 samples for hash <ForceHash 0b01110001>: [1, 1, 6, 7, 4, 5, 2, 3, 0, 1]\n",
      "First 10 samples for hash <ForceHash 0b01110000>: [0, 4, 5, 2, 3, 0, 1, 6, 7, 4]\n"
     ]
    }
   ],
   "source": [
    "from itertools import islice\n",
    "\n",
    "\n",
    "def index_sequence(key, mask=0b111, PERTURB_SHIFT=5):\n",
    "    perturb = hash(key) #hash返回一个整数，而CPython中的实际C代码使用一个无符号整数。因此，这个伪代码不能完全复制CPython中的行为；但是，这是一个很好的近似值。\n",
    "    i = perturb & mask\n",
    "    yield i\n",
    "    while True:\n",
    "        perturb >>= PERTURB_SHIFT\n",
    "        i = (i * 5 + perturb + 1) & mask\n",
    "        yield i\n",
    "\n",
    "\n",
    "class ForceHash(object):\n",
    "    def __init__(self, force_hash):\n",
    "        self.force_hash = force_hash\n",
    "\n",
    "    def __hash__(self):\n",
    "        return self.force_hash\n",
    "\n",
    "    def __repr__(self):\n",
    "        return f\"<ForceHash 0b{self.force_hash:08b}>\"\n",
    "\n",
    "\n",
    "def sample_probe(force_hash, num_samples=10):\n",
    "    probe_values = index_sequence(force_hash)\n",
    "    indexes = islice(probe_values, num_samples)\n",
    "    print(f\"First {num_samples} samples for hash {force_hash}: {list(indexes)}\")\n",
    "\n",
    "\n",
    "if __name__ == \"__main__\":\n",
    "    sample_probe(ForceHash(0b00000111))\n",
    "    sample_probe(ForceHash(0b11100111))\n",
    "    sample_probe(ForceHash(0b01110111))\n",
    "    sample_probe(ForceHash(0b01110001))\n",
    "    sample_probe(ForceHash(0b01110000))\n"
   ]
  },
  {
   "cell_type": "code",
   "execution_count": null,
   "id": "f902c441",
   "metadata": {},
   "outputs": [],
   "source": []
  }
 ],
 "metadata": {
  "kernelspec": {
   "display_name": "py36_gpu",
   "language": "python",
   "name": "py36_gpu"
  },
  "language_info": {
   "codemirror_mode": {
    "name": "ipython",
    "version": 3
   },
   "file_extension": ".py",
   "mimetype": "text/x-python",
   "name": "python",
   "nbconvert_exporter": "python",
   "pygments_lexer": "ipython3",
   "version": "3.6.13"
  },
  "toc": {
   "base_numbering": 1,
   "nav_menu": {},
   "number_sections": true,
   "sideBar": true,
   "skip_h1_title": false,
   "title_cell": "Table of Contents",
   "title_sidebar": "Contents",
   "toc_cell": false,
   "toc_position": {},
   "toc_section_display": true,
   "toc_window_display": false
  }
 },
 "nbformat": 4,
 "nbformat_minor": 5
}
