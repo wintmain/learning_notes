{
 "cells": [
  {
   "cell_type": "markdown",
   "id": "54671c32",
   "metadata": {},
   "source": [
    "1. 如何识别代码中的速度和RAM瓶颈？\n",
    "\n",
    "+ 使用cProfile，此内置工具可以了解代码中运行时间最长的函数。\n",
    "+ 使用line_profiler，它将逐行分析所选函数，结果将包括每一行被调用的次数和每一行耗时的时间百分比。以了解什么运行缓慢，原因是什么，有了line_profiler 的结果，将获得继续使用编译器所需的信息。使用perf_stat来了解最终在CPU上执行的指令数以及CPU缓存的利用效率。这允许对矩阵操作进行高级调优。\n",
    "+ 为了帮助理解RAM使用率高的原因，使用memory_profiler，它特别适用于在标记的图表上跟踪一段时间内的RAM使用情况，因此可以解释为什么某些函数使用的RAM比预期的要多。"
   ]
  },
  {
   "cell_type": "markdown",
   "id": "c9c11b2c",
   "metadata": {},
   "source": [
    "7. 字典和集合有什么用途？\n",
    "\n",
    "字典和集合是理想的数据结构，当数据没有内在顺序（插入顺序除外），但有一个唯一的对象可用于引用它时（引用对象通常是字符串，但可以是任何可哈希类型）。这个引用对象称为键，而数据是值。字典和集合几乎相同，只是集合实际上并不包含值：集合只是唯一键的集合。顾名思义，集合对于执行集合操作非常有用。"
   ]
  },
  {
   "cell_type": "markdown",
   "id": "1a95a664",
   "metadata": {
    "ExecuteTime": {
     "end_time": "2021-06-09T09:13:28.155254Z",
     "start_time": "2021-06-09T09:13:28.145738Z"
    }
   },
   "source": [
    "9. 使用字典的开销是多少？\n",
    "\n",
    "存储可以通过键进行索引的数据。这个键的使用方式，通过哈希函数可以极大地影响数据结构的结果性能。"
   ]
  },
  {
   "cell_type": "markdown",
   "id": "158098cf",
   "metadata": {},
   "source": [
    "16. 生成器如何节省内存？\n",
    "\n",
    "生成器仅按需工作，在使用的时候才会占用内存，也就是通过惰性评估工作，这意味着它们可以节省CPU，内存和其他计算资源。"
   ]
  },
  {
   "cell_type": "markdown",
   "id": "857d1a0d",
   "metadata": {
    "ExecuteTime": {
     "end_time": "2021-06-09T09:14:25.424966Z",
     "start_time": "2021-06-09T09:14:25.416925Z"
    }
   },
   "source": [
    "17. 什么时候使用生成器最好？\n",
    "\n",
    "为了避免创建庞大的列表，可以使用生成器表达式来完成，比如深度学习里的图片存储，大数据集等"
   ]
  },
  {
   "cell_type": "code",
   "execution_count": null,
   "id": "b71d800c",
   "metadata": {},
   "outputs": [],
   "source": []
  }
 ],
 "metadata": {
  "kernelspec": {
   "display_name": "py36_gpu",
   "language": "python",
   "name": "py36_gpu"
  },
  "language_info": {
   "codemirror_mode": {
    "name": "ipython",
    "version": 3
   },
   "file_extension": ".py",
   "mimetype": "text/x-python",
   "name": "python",
   "nbconvert_exporter": "python",
   "pygments_lexer": "ipython3",
   "version": "3.6.13"
  },
  "toc": {
   "base_numbering": 1,
   "nav_menu": {},
   "number_sections": true,
   "sideBar": true,
   "skip_h1_title": false,
   "title_cell": "Table of Contents",
   "title_sidebar": "Contents",
   "toc_cell": false,
   "toc_position": {},
   "toc_section_display": true,
   "toc_window_display": false
  }
 },
 "nbformat": 4,
 "nbformat_minor": 5
}
