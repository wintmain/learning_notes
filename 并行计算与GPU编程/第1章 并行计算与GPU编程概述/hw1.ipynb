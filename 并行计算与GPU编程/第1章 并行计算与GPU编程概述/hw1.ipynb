{
 "cells": [
  {
   "cell_type": "raw",
   "id": "97a0da19",
   "metadata": {},
   "source": [
    "2021-06-07\n",
    "\n",
    "个人作业：\n",
    "\n",
    "第1章 并行计算与GPU编程概述\n",
    "\n",
    "思考题：\n",
    "\n",
    "1、计算机体系结构的要素是什么？\n",
    "2、有哪些常见的替代计算机体系结构？\n",
    "3、Python如何抽象底层的计算机体系结构？\n",
    "4、制作高性能的Python代码有哪些障碍？\n",
    "5、什么策略可以帮助你成为一个高性能的程序员？\n",
    "\n",
    "\n",
    "小组作业\n",
    "\n",
    "1、请创建 Python3.7虚拟环境重新运行 \"Python的高效性\" 小节代码。"
   ]
  },
  {
   "cell_type": "markdown",
   "id": "db162881",
   "metadata": {},
   "source": [
    "1、计算机体系结构的要素是什么？"
   ]
  },
  {
   "cell_type": "markdown",
   "id": "a4146f26",
   "metadata": {},
   "source": [
    "答：计算机体系结构的要素有计算机硬件、软件、数据、用户。\n",
    "   + 计算机硬件包括各类计算机处理器及终端设备。\n",
    "   + 软件是支持数据信息的采集、存储加工、再现和回答用户问题的计算机程序系统。\n",
    "   + 数据是系统分析与处理的对象，构成系统的应用基础。\n",
    "   + 用户是信息系统所服务的对象。"
   ]
  },
  {
   "cell_type": "markdown",
   "id": "8afab8dc",
   "metadata": {},
   "source": [
    "2、有哪些常见的现代计算机体系结构？"
   ]
  },
  {
   "cell_type": "markdown",
   "id": "1e5b1fa0",
   "metadata": {},
   "source": [
    "答：\n",
    "+ 计算机体系结构解决的是计算机系统在总体上、功能上需要解决的问题，它和计算机组成、计算机实现是不同的概念。一种体系结构可能有多种组成，一种组成也可能有多种物理实现。\n",
    "    计算机系统结构的逻辑实现，包括机器内部数据流和控制流的组成以及逻辑设计等。其目标是合理地把各种部件、设备组成计算机，以实现特定的系统结构，同时满足所希望达到的性能价格比。一般而言，计算机组成研究的范围包括：确定数据通路的宽度、确定各种操作对功能部件的共享程度、确定专用的功能部件、确定功能部件的并行度、设计缓冲和排队策略、设计控制机构和确定采用何种可靠技术等。计算机组成的物理实现。包括处理机、主存等部件的物理结构，器件的集成度和速度，器件、模块、插件、底板的划分与连接，专用器件的设计，信号传输技术，电源、冷却及装配等技术以及相关的制造工艺和技术。\n",
    "+ 常见的现代计算机体系结构有：多核和Cell等新型处理结构，重叠结构、流水结构、并行处理结构等。"
   ]
  },
  {
   "cell_type": "markdown",
   "id": "89fac681",
   "metadata": {},
   "source": [
    "3、Python如何抽象底层的计算机体系结构？"
   ]
  },
  {
   "cell_type": "markdown",
   "id": "5e1fa5b8",
   "metadata": {},
   "source": [
    "答：Python是一种解释型语言，它的源代码不需要编译，可以直接从源代码运行程序。Python解释器将源代码转换为字节码，然后把编译好的字节码转发到Python虚拟机中执行。\n",
    "Python解释器做了大量工作，抽象出正在使用的底层计算元素。程序员不需要担心为数组分配内存，如何安排内存，或者以什么顺序将内存发送到CPU。"
   ]
  },
  {
   "cell_type": "markdown",
   "id": "feca0cca",
   "metadata": {},
   "source": [
    "4、制作高性能的Python代码有哪些障碍？"
   ]
  },
  {
   "cell_type": "markdown",
   "id": "16c03b90",
   "metadata": {},
   "source": [
    "答：\n",
    "+ 阿姆达尔定律认为：如果一个可以运行在多核上的程序有某些执行路径必须运行在单核上，那么这些路径就会成为瓶颈导致最终速度无法通过增加更多核心来提高。\n",
    "+ Python使用全局解释器锁（GIL）。GIL确保Python进程一次只能运行一条指令，而不管它当前使用的核数是多少。"
   ]
  },
  {
   "cell_type": "markdown",
   "id": "9798c9ff",
   "metadata": {},
   "source": [
    "5、什么策略可以帮助你成为一个高性能的程序员？"
   ]
  },
  {
   "cell_type": "markdown",
   "id": "b3019672",
   "metadata": {},
   "source": [
    "答：\n",
    "+ 编写高性能代码，遵守标准PEP8编码标准,具备良好的编码风格，做好注释使得可读性提高；\n",
    "+ 使用操作系统的全局Python环境；\n",
    "+ 自动化构建系统、与自动化测试套件运行程序的持续集成，以及自动化部署系统将繁琐且容易出错的任务转化为任何人都可以运行和支持的标准流程\n",
    "+ 以结构化的方式编写代码，经常测试评审，做好文档记录；\n",
    "+ 添加一个由文档和清晰的可再现性说明支持的强大测试套件，以便其他团队成员可以进行测试；\n",
    "+ 集中精力分析和编译或并行化，并使用现有的测试套件来确认新的、更快的解决方案仍能按预期工作"
   ]
  },
  {
   "cell_type": "code",
   "execution_count": 1,
   "id": "9562fab7",
   "metadata": {
    "ExecuteTime": {
     "end_time": "2021-06-09T01:58:37.866140Z",
     "start_time": "2021-06-09T01:58:37.798419Z"
    }
   },
   "outputs": [],
   "source": [
    "from math import *\n",
    "def f(x):\n",
    "    return 3 * log(x) + cos(x) ** 2\n",
    "\n",
    "loops = 25000000"
   ]
  },
  {
   "cell_type": "code",
   "execution_count": 2,
   "id": "9fa7187e",
   "metadata": {
    "ExecuteTime": {
     "end_time": "2021-06-09T02:04:47.683197Z",
     "start_time": "2021-06-09T01:58:48.168177Z"
    }
   },
   "outputs": [
    {
     "name": "stdout",
     "output_type": "stream",
     "text": [
      "9.72 s ± 12.8 ms per loop (mean ± std. dev. of 7 runs, 1 loop each)\n"
     ]
    }
   ],
   "source": [
    "r = []\n",
    "a = range(1, loops)\n",
    "%timeit for i in a :r.append(f(i)) #原始循环模式"
   ]
  },
  {
   "cell_type": "code",
   "execution_count": 3,
   "id": "e24d7e3b",
   "metadata": {
    "ExecuteTime": {
     "end_time": "2021-06-09T02:09:16.821275Z",
     "start_time": "2021-06-09T02:04:47.713610Z"
    }
   },
   "outputs": [
    {
     "name": "stdout",
     "output_type": "stream",
     "text": [
      "8.69 s ± 96.1 ms per loop (mean ± std. dev. of 7 runs, 1 loop each)\n"
     ]
    }
   ],
   "source": [
    "%timeit r = [f(x) for x in a] #列表形式，比较原始模式强"
   ]
  },
  {
   "cell_type": "code",
   "execution_count": 4,
   "id": "ee97cb18",
   "metadata": {
    "ExecuteTime": {
     "end_time": "2021-06-09T02:13:28.012741Z",
     "start_time": "2021-06-09T02:09:16.833147Z"
    }
   },
   "outputs": [
    {
     "name": "stdout",
     "output_type": "stream",
     "text": [
      "650 ms ± 70 ms per loop (mean ± std. dev. of 7 runs, 1 loop each)\n"
     ]
    }
   ],
   "source": [
    "import numpy as np\n",
    "a = np.arange(1, loops)\n",
    "%timeit r = 3 * np.log(a) + np.cos(a) ** 2  #采取向量模式，有21倍以上的效率提升！"
   ]
  },
  {
   "cell_type": "code",
   "execution_count": 5,
   "id": "25d46b8f",
   "metadata": {
    "ExecuteTime": {
     "end_time": "2021-06-09T02:13:37.882983Z",
     "start_time": "2021-06-09T02:13:28.045522Z"
    }
   },
   "outputs": [
    {
     "name": "stdout",
     "output_type": "stream",
     "text": [
      "1.19 s ± 150 ms per loop (mean ± std. dev. of 7 runs, 1 loop each)\n"
     ]
    }
   ],
   "source": [
    "import numexpr as ne\n",
    "ne.set_num_threads(1)\n",
    "f = '3 * log(a) + cos(a) ** 2'\n",
    "%timeit r = ne.evaluate(f)   #采取numexpr模式，有28倍以上的效率提升！"
   ]
  },
  {
   "cell_type": "code",
   "execution_count": 6,
   "id": "92ab49d6",
   "metadata": {
    "ExecuteTime": {
     "end_time": "2021-06-09T02:13:39.381863Z",
     "start_time": "2021-06-09T02:13:37.890973Z"
    }
   },
   "outputs": [
    {
     "name": "stdout",
     "output_type": "stream",
     "text": [
      "152 ms ± 5.17 ms per loop (mean ± std. dev. of 7 runs, 1 loop each)\n"
     ]
    }
   ],
   "source": [
    "import numexpr as ne\n",
    "ne.set_num_threads(10)\n",
    "f = '3 * log(a) + cos(a) ** 2'\n",
    "%timeit r = ne.evaluate(f) #采取numexpr多线程模式，有145倍以上的效率提升！"
   ]
  },
  {
   "cell_type": "code",
   "execution_count": 1,
   "id": "294a0f8e",
   "metadata": {
    "ExecuteTime": {
     "end_time": "2021-06-09T02:13:39.428865Z",
     "start_time": "2021-06-09T02:13:39.385965Z"
    }
   },
   "outputs": [
    {
     "data": {
      "text/plain": [
       "'/Users/wintmain/opt/anaconda3/envs/sklearn-env/bin/python'"
      ]
     },
     "execution_count": 1,
     "metadata": {},
     "output_type": "execute_result"
    }
   ],
   "source": [
    "import sys\n",
    "sys.executable"
   ]
  },
  {
   "cell_type": "code",
   "execution_count": 2,
   "id": "8d81d990",
   "metadata": {
    "ExecuteTime": {
     "end_time": "2021-06-09T02:13:39.443862Z",
     "start_time": "2021-06-09T02:13:39.430862Z"
    }
   },
   "outputs": [
    {
     "data": {
      "text/plain": [
       "'3.10.4 (main, Mar 31 2022, 03:38:35) [Clang 12.0.0 ]'"
      ]
     },
     "execution_count": 2,
     "metadata": {},
     "output_type": "execute_result"
    }
   ],
   "source": [
    "sys.version"
   ]
  },
  {
   "cell_type": "code",
   "execution_count": null,
   "id": "43668996",
   "metadata": {},
   "outputs": [],
   "source": []
  }
 ],
 "metadata": {
  "kernelspec": {
   "display_name": "Python 3.10.4 ('sklearn-env')",
   "language": "python",
   "name": "python3"
  },
  "language_info": {
   "codemirror_mode": {
    "name": "ipython",
    "version": 3
   },
   "file_extension": ".py",
   "mimetype": "text/x-python",
   "name": "python",
   "nbconvert_exporter": "python",
   "pygments_lexer": "ipython3",
   "version": "3.10.4"
  },
  "vscode": {
   "interpreter": {
    "hash": "f5500f216365fcfc01d5cd974385f4eb7ed30289f279ca07a0890a8ba9873928"
   }
  }
 },
 "nbformat": 4,
 "nbformat_minor": 5
}
