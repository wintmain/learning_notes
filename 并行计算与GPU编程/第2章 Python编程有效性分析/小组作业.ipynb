{
 "cells": [
  {
   "cell_type": "markdown",
   "id": "6aadc2bc",
   "metadata": {},
   "source": [
    "## 1.冒泡排序"
   ]
  },
  {
   "cell_type": "code",
   "execution_count": 1,
   "id": "1f675266",
   "metadata": {
    "ExecuteTime": {
     "end_time": "2021-06-10T03:04:25.648893Z",
     "start_time": "2021-06-10T03:04:25.642722Z"
    }
   },
   "outputs": [],
   "source": [
    "def sortport(lis):\n",
    "    for i in range(len(lis)-1):\n",
    "        for j in range(len(lis)-1-i):\n",
    "            if lis[j]>lis[j+1]:\n",
    "                lis[j],lis[j+1] = lis[j+1],lis[j]\n",
    "    return lis"
   ]
  },
  {
   "cell_type": "code",
   "execution_count": 2,
   "id": "f155d05a",
   "metadata": {
    "ExecuteTime": {
     "end_time": "2021-06-10T03:04:26.565406Z",
     "start_time": "2021-06-10T03:04:26.557408Z"
    }
   },
   "outputs": [],
   "source": [
    "def sortport_fast(lis):\n",
    "    for i in range(len(lis)-1):\n",
    "        flag = False\n",
    "        # 设定一个变量为False，如果元素之间交换了位置，将变量重新赋值为True,最后再判断，\n",
    "        # 在一次循环结束后，变量如果还是为False，则brak退出循环，结束排序。\n",
    "        for j in range(len(lis)-1-i):\n",
    "            if lis[j] > lis[j + 1]:\n",
    "                lis[j], lis[j + 1] = lis[j + 1], lis[j]\n",
    "                flag = True\n",
    "        if not flag:\n",
    "            break\n",
    "    return lis"
   ]
  },
  {
   "cell_type": "code",
   "execution_count": 3,
   "id": "61a8f7a7",
   "metadata": {
    "ExecuteTime": {
     "end_time": "2021-06-10T03:04:27.627264Z",
     "start_time": "2021-06-10T03:04:27.607306Z"
    }
   },
   "outputs": [],
   "source": [
    "lis1 = [56,12,1,8,354,10,100,34,56,7,23,456,234,-58]\n",
    "lis2 = [56,12,1,8,354,10,100,34,56,7,23,456,234,-58]"
   ]
  },
  {
   "cell_type": "code",
   "execution_count": 4,
   "id": "fba847c1",
   "metadata": {
    "ExecuteTime": {
     "end_time": "2021-06-10T03:04:29.921823Z",
     "start_time": "2021-06-10T03:04:28.588496Z"
    }
   },
   "outputs": [
    {
     "name": "stdout",
     "output_type": "stream",
     "text": [
      "14.3 µs ± 2.41 µs per loop (mean ± std. dev. of 7 runs, 10000 loops each)\n"
     ]
    }
   ],
   "source": [
    "%timeit sortport(lis1)"
   ]
  },
  {
   "cell_type": "code",
   "execution_count": 7,
   "id": "7ef08f64",
   "metadata": {
    "ExecuteTime": {
     "end_time": "2021-06-10T03:04:57.920886Z",
     "start_time": "2021-06-10T03:04:53.360352Z"
    }
   },
   "outputs": [
    {
     "name": "stdout",
     "output_type": "stream",
     "text": [
      "5.61 µs ± 638 ns per loop (mean ± std. dev. of 7 runs, 100000 loops each)\n"
     ]
    }
   ],
   "source": [
    "%timeit sortport_fast(lis2)"
   ]
  },
  {
   "cell_type": "markdown",
   "id": "a8ad6d78",
   "metadata": {},
   "source": [
    "## 23.最大公约数"
   ]
  },
  {
   "cell_type": "code",
   "execution_count": 6,
   "id": "20be8811",
   "metadata": {
    "ExecuteTime": {
     "end_time": "2021-06-10T09:32:46.717143Z",
     "start_time": "2021-06-10T09:32:46.709121Z"
    }
   },
   "outputs": [],
   "source": [
    "def hcf(x, y):\n",
    "    \"\"\"该函数返回两个数的最大公约数\"\"\"\n",
    "\n",
    "    # 获取最小值\n",
    "    if x > y:\n",
    "        smaller = y\n",
    "    else:\n",
    "        smaller = x\n",
    "\n",
    "    for i in range(1, smaller + 1):\n",
    "        if ((x % i == 0) and (y % i == 0)):\n",
    "            hcf = i\n",
    "\n",
    "    return hcf"
   ]
  },
  {
   "cell_type": "code",
   "execution_count": 7,
   "id": "6abca7da",
   "metadata": {
    "ExecuteTime": {
     "end_time": "2021-06-10T09:32:47.957875Z",
     "start_time": "2021-06-10T09:32:47.945914Z"
    }
   },
   "outputs": [],
   "source": [
    "def hcf_fast(m,n):\n",
    "    return m if n ==  0 else hcf_fast(n,m%n)"
   ]
  },
  {
   "cell_type": "code",
   "execution_count": 9,
   "id": "14a646c8",
   "metadata": {
    "ExecuteTime": {
     "end_time": "2021-06-10T09:34:39.385710Z",
     "start_time": "2021-06-10T09:34:32.834631Z"
    }
   },
   "outputs": [
    {
     "name": "stdout",
     "output_type": "stream",
     "text": [
      "输入第一个数字: 126\n",
      "输入第二个数字: 24\n",
      "1.93 µs ± 172 ns per loop (mean ± std. dev. of 7 runs, 100000 loops each)\n"
     ]
    }
   ],
   "source": [
    "# 用户输入两个数字\n",
    "num1 = int(input(\"输入第一个数字: \"))\n",
    "num2 = int(input(\"输入第二个数字: \"))\n",
    "\n",
    "%timeit hcf(num1, num2)"
   ]
  },
  {
   "cell_type": "code",
   "execution_count": 10,
   "id": "a4d5f88e",
   "metadata": {
    "ExecuteTime": {
     "end_time": "2021-06-10T09:34:46.213925Z",
     "start_time": "2021-06-10T09:34:43.802987Z"
    }
   },
   "outputs": [
    {
     "name": "stdout",
     "output_type": "stream",
     "text": [
      "294 ns ± 7.46 ns per loop (mean ± std. dev. of 7 runs, 1000000 loops each)\n"
     ]
    }
   ],
   "source": [
    "%timeit hcf_fast(num1, num2)"
   ]
  },
  {
   "cell_type": "code",
   "execution_count": 18,
   "id": "22473349",
   "metadata": {
    "ExecuteTime": {
     "end_time": "2021-06-10T10:09:21.789271Z",
     "start_time": "2021-06-10T10:09:21.102361Z"
    }
   },
   "outputs": [
    {
     "name": "stdout",
     "output_type": "stream",
     "text": [
      "Wrote profile results to sort.py.lprof\n",
      "Timer unit: 1e-06 s\n",
      "\n",
      "Total time: 0.0006441 s\n",
      "File: sort.py\n",
      "Function: sortport at line 1\n",
      "\n",
      "Line #      Hits         Time  Per Hit   % Time  Line Contents\n",
      "==============================================================\n",
      "     1                                           @profile\n",
      "     2                                           def sortport(lis):\n",
      "     3        39         14.0      0.4      2.2      for i in range(len(lis)-1):\n",
      "     4       779        208.6      0.3     32.4          for j in range(len(lis)-1-i):\n",
      "     5       741        266.4      0.4     41.4              if lis[j]>lis[j+1]:\n",
      "     6       323        154.8      0.5     24.0                  lis[j],lis[j+1] = lis[j+1],lis[j]\n",
      "     7         1          0.3      0.3      0.0      return lis\n",
      "\n",
      "Total time: 0.0007209 s\n",
      "File: sort.py\n",
      "Function: sortport_fast at line 8\n",
      "\n",
      "Line #      Hits         Time  Per Hit   % Time  Line Contents\n",
      "==============================================================\n",
      "     8                                           @profile\n",
      "     9                                           def sortport_fast(lis):\n",
      "    10        29          7.9      0.3      1.1      for i in range(len(lis)-1):\n",
      "    11        29          7.8      0.3      1.1          flag = False\n",
      "    12                                                   # 设定一个变量为False，如果元素之间交换了位置，将变量重新赋值为True,最后再判断，\n",
      "    13                                                   # 在一次循环结束后，变量如果还是为False，则brak退出循环，结束排序。\n",
      "    14       725        197.2      0.3     27.4          for j in range(len(lis)-1-i):\n",
      "    15       696        259.6      0.4     36.0              if lis[j] > lis[j + 1]:\n",
      "    16       323        153.6      0.5     21.3                  lis[j], lis[j + 1] = lis[j + 1], lis[j]\n",
      "    17       323         86.1      0.3     11.9                  flag = True\n",
      "    18        29          8.0      0.3      1.1          if not flag:\n",
      "    19         1          0.4      0.4      0.1              break\n",
      "    20         1          0.3      0.3      0.0      return lis\n",
      "\n"
     ]
    }
   ],
   "source": [
    "! kernprof -l -v sort.py"
   ]
  },
  {
   "cell_type": "code",
   "execution_count": null,
   "id": "8401a266",
   "metadata": {},
   "outputs": [],
   "source": []
  }
 ],
 "metadata": {
  "kernelspec": {
   "display_name": "py36_gpu",
   "language": "python",
   "name": "py36_gpu"
  },
  "language_info": {
   "codemirror_mode": {
    "name": "ipython",
    "version": 3
   },
   "file_extension": ".py",
   "mimetype": "text/x-python",
   "name": "python",
   "nbconvert_exporter": "python",
   "pygments_lexer": "ipython3",
   "version": "3.6.13"
  },
  "toc": {
   "base_numbering": 1,
   "nav_menu": {},
   "number_sections": false,
   "sideBar": true,
   "skip_h1_title": false,
   "title_cell": "Table of Contents",
   "title_sidebar": "Contents",
   "toc_cell": false,
   "toc_position": {},
   "toc_section_display": true,
   "toc_window_display": false
  }
 },
 "nbformat": 4,
 "nbformat_minor": 5
}
