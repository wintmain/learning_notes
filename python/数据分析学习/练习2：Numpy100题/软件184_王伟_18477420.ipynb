{
 "cells": [
  {
   "cell_type": "markdown",
   "id": "32c5d001",
   "metadata": {},
   "source": [
    "# 练习2：Numpy100题"
   ]
  },
  {
   "cell_type": "markdown",
   "id": "37386061",
   "metadata": {},
   "source": [
    "## 题目\n",
    "62. Considering two arrays with shape (1,3) and (3,1), how to compute their sum using an iterator?"
   ]
  },
  {
   "cell_type": "code",
   "execution_count": 8,
   "id": "24e41f1a",
   "metadata": {
    "ExecuteTime": {
     "end_time": "2021-06-14T01:25:49.942406Z",
     "start_time": "2021-06-14T01:25:49.933838Z"
    }
   },
   "outputs": [
    {
     "name": "stdout",
     "output_type": "stream",
     "text": [
      "[[0 1 2]\n",
      " [1 2 3]\n",
      " [2 3 4]]\n"
     ]
    }
   ],
   "source": [
    "# 代码\n",
    "import numpy as np\n",
    "\n",
    "A = np.arange(3).reshape(3,1)\n",
    "B = np.arange(3).reshape(1,3)\n",
    "it = np.nditer([A,B,None])\n",
    "for x,y,z in it: \n",
    "    z[...] = x + y\n",
    "print(it.operands[2])"
   ]
  },
  {
   "cell_type": "raw",
   "id": "308373e3",
   "metadata": {},
   "source": [
    "#分析\n",
    "np.arange(3)是生成一个包含0，1，2三个数的数组，reshape函数是改变他的数组结构，A是三行一列的数组，B是一行三列的数组。\n",
    "迭代对象nditer提供了一种灵活访问一个或者多个数组的方式。\n",
    "这里创建了一个迭代器，将两个数组的值相加,返回到一个三行三列的数组z中，最后打印"
   ]
  },
  {
   "cell_type": "markdown",
   "id": "333e4c92",
   "metadata": {},
   "source": [
    "## 心得\n",
    "Numpy是一个用于科学计算的扩展程序库，提供了许多高级的数值编程工具，包括：\n",
    "* 1、一个强大的N维数组对象Array；\n",
    "* 2、比较成熟的（广播）函数库；\n",
    "* 3、用于整合C/C++和Fortran代码的工具包；\n",
    "* 4、实用的线性代数、傅里叶变换和随机数生成函数。numpy和稀疏矩阵运算包scipy配合使用更加方便。\n",
    "\n",
    "在我们使用这个库的时候，应该需要掌握一些基本的函数用法，熟练的使用他；对一些生僻的可以采用提示来运用。"
   ]
  },
  {
   "cell_type": "markdown",
   "id": "98a85d18",
   "metadata": {},
   "source": [
    "# 练习3：Scipy与统计分析基础"
   ]
  },
  {
   "cell_type": "markdown",
   "id": "425948b0",
   "metadata": {},
   "source": [
    "## 题目\n",
    "scipy一些函数的用法，感受scipy的作用"
   ]
  },
  {
   "cell_type": "code",
   "execution_count": 1,
   "id": "ac5738be",
   "metadata": {
    "ExecuteTime": {
     "end_time": "2021-06-14T01:57:17.995811Z",
     "start_time": "2021-06-14T01:57:13.468928Z"
    }
   },
   "outputs": [
    {
     "name": "stdout",
     "output_type": "stream",
     "text": [
      "Looking in indexes: https://pypi.douban.com/simple/\n",
      "Collecting yfinance\n",
      "  Downloading https://pypi.doubanio.com/packages/a7/ee/315752b9ef281ba83c62aa7ec2e2074f85223da6e7e74efb4d3e11c0f510/yfinance-0.1.59.tar.gz (25 kB)\n",
      "Requirement already satisfied: pandas>=0.24 in d:\\miniconda\\envs\\gpu\\lib\\site-packages (from yfinance) (1.1.5)\n",
      "Requirement already satisfied: numpy>=1.15 in d:\\miniconda\\envs\\gpu\\lib\\site-packages (from yfinance) (1.19.5)\n",
      "Requirement already satisfied: requests>=2.20 in d:\\miniconda\\envs\\gpu\\lib\\site-packages (from yfinance) (2.25.1)\n",
      "Collecting multitasking>=0.0.7\n",
      "  Downloading https://pypi.doubanio.com/packages/69/e7/e9f1661c28f7b87abfa08cb0e8f51dad2240a9f4f741f02ea839835e6d18/multitasking-0.0.9.tar.gz (8.1 kB)\n",
      "Requirement already satisfied: lxml>=4.5.1 in d:\\miniconda\\envs\\gpu\\lib\\site-packages (from yfinance) (4.6.3)\n",
      "Requirement already satisfied: pytz>=2017.2 in d:\\miniconda\\envs\\gpu\\lib\\site-packages (from pandas>=0.24->yfinance) (2021.1)\n",
      "Requirement already satisfied: python-dateutil>=2.7.3 in d:\\miniconda\\envs\\gpu\\lib\\site-packages (from pandas>=0.24->yfinance) (2.8.1)\n",
      "Requirement already satisfied: six>=1.5 in d:\\miniconda\\envs\\gpu\\lib\\site-packages (from python-dateutil>=2.7.3->pandas>=0.24->yfinance) (1.15.0)\n",
      "Requirement already satisfied: idna<3,>=2.5 in d:\\miniconda\\envs\\gpu\\lib\\site-packages (from requests>=2.20->yfinance) (2.10)\n",
      "Requirement already satisfied: certifi>=2017.4.17 in d:\\miniconda\\envs\\gpu\\lib\\site-packages (from requests>=2.20->yfinance) (2021.5.30)\n",
      "Requirement already satisfied: chardet<5,>=3.0.2 in d:\\miniconda\\envs\\gpu\\lib\\site-packages (from requests>=2.20->yfinance) (4.0.0)\n",
      "Requirement already satisfied: urllib3<1.27,>=1.21.1 in d:\\miniconda\\envs\\gpu\\lib\\site-packages (from requests>=2.20->yfinance) (1.26.5)\n",
      "Building wheels for collected packages: yfinance, multitasking\n",
      "  Building wheel for yfinance (setup.py): started\n",
      "  Building wheel for yfinance (setup.py): finished with status 'done'\n",
      "  Created wheel for yfinance: filename=yfinance-0.1.59-py2.py3-none-any.whl size=23442 sha256=1b19fe4fe99ec2ab42aca81e8aa9d6f2d9e2bc648913c91c188e0dc72283e41b\n",
      "  Stored in directory: c:\\users\\legion\\appdata\\local\\pip\\cache\\wheels\\19\\aa\\97\\c119352828908dd3be195989ca703e1178c50cee1097f7aba6\n",
      "  Building wheel for multitasking (setup.py): started\n",
      "  Building wheel for multitasking (setup.py): finished with status 'done'\n",
      "  Created wheel for multitasking: filename=multitasking-0.0.9-py3-none-any.whl size=8368 sha256=befb2266c88bf9aa2c2f3f01a6c702e59ff5d5e13a9de56962b24a8d80b483bf\n",
      "  Stored in directory: c:\\users\\legion\\appdata\\local\\pip\\cache\\wheels\\cb\\ad\\98\\c36076486a4b2a3644bf1341bf496c37ec0e24f21ed9f43ab3\n",
      "Successfully built yfinance multitasking\n",
      "Installing collected packages: multitasking, yfinance\n",
      "Successfully installed multitasking-0.0.9 yfinance-0.1.59\n"
     ]
    }
   ],
   "source": [
    "!pip install yfinance -i https://pypi.douban.com/simple/"
   ]
  },
  {
   "cell_type": "code",
   "execution_count": 2,
   "id": "445f2f20",
   "metadata": {
    "ExecuteTime": {
     "end_time": "2021-06-14T01:57:40.091893Z",
     "start_time": "2021-06-14T01:57:37.992825Z"
    }
   },
   "outputs": [
    {
     "name": "stdout",
     "output_type": "stream",
     "text": [
      "Looking in indexes: https://mirrors.aliyun.com/pypi/simple/\n",
      "Collecting pandas_datareader\n",
      "  Downloading https://mirrors.aliyun.com/pypi/packages/22/f1/a02eea03628865c3d4c29849cda8c8a73f43358048aee47d79dfbfa6c6c3/pandas_datareader-0.9.0-py3-none-any.whl (107 kB)\n",
      "Requirement already satisfied: requests>=2.19.0 in d:\\miniconda\\envs\\gpu\\lib\\site-packages (from pandas_datareader) (2.25.1)\n",
      "Requirement already satisfied: lxml in d:\\miniconda\\envs\\gpu\\lib\\site-packages (from pandas_datareader) (4.6.3)\n",
      "Requirement already satisfied: pandas>=0.23 in d:\\miniconda\\envs\\gpu\\lib\\site-packages (from pandas_datareader) (1.1.5)\n",
      "Requirement already satisfied: python-dateutil>=2.7.3 in d:\\miniconda\\envs\\gpu\\lib\\site-packages (from pandas>=0.23->pandas_datareader) (2.8.1)\n",
      "Requirement already satisfied: pytz>=2017.2 in d:\\miniconda\\envs\\gpu\\lib\\site-packages (from pandas>=0.23->pandas_datareader) (2021.1)\n",
      "Requirement already satisfied: numpy>=1.15.4 in d:\\miniconda\\envs\\gpu\\lib\\site-packages (from pandas>=0.23->pandas_datareader) (1.19.5)\n",
      "Requirement already satisfied: six>=1.5 in d:\\miniconda\\envs\\gpu\\lib\\site-packages (from python-dateutil>=2.7.3->pandas>=0.23->pandas_datareader) (1.15.0)\n",
      "Requirement already satisfied: certifi>=2017.4.17 in d:\\miniconda\\envs\\gpu\\lib\\site-packages (from requests>=2.19.0->pandas_datareader) (2021.5.30)\n",
      "Requirement already satisfied: idna<3,>=2.5 in d:\\miniconda\\envs\\gpu\\lib\\site-packages (from requests>=2.19.0->pandas_datareader) (2.10)\n",
      "Requirement already satisfied: chardet<5,>=3.0.2 in d:\\miniconda\\envs\\gpu\\lib\\site-packages (from requests>=2.19.0->pandas_datareader) (4.0.0)\n",
      "Requirement already satisfied: urllib3<1.27,>=1.21.1 in d:\\miniconda\\envs\\gpu\\lib\\site-packages (from requests>=2.19.0->pandas_datareader) (1.26.5)\n",
      "Installing collected packages: pandas-datareader\n",
      "Successfully installed pandas-datareader-0.9.0\n"
     ]
    }
   ],
   "source": [
    "!pip install pandas_datareader"
   ]
  },
  {
   "cell_type": "code",
   "execution_count": 1,
   "id": "78443ef8",
   "metadata": {
    "ExecuteTime": {
     "end_time": "2021-06-14T02:07:07.694906Z",
     "start_time": "2021-06-14T02:07:05.243771Z"
    }
   },
   "outputs": [
    {
     "name": "stdout",
     "output_type": "stream",
     "text": [
      "[*********************100%***********************]  1 of 1 completed\n"
     ]
    },
    {
     "data": {
      "text/html": [
       "<div>\n",
       "<style scoped>\n",
       "    .dataframe tbody tr th:only-of-type {\n",
       "        vertical-align: middle;\n",
       "    }\n",
       "\n",
       "    .dataframe tbody tr th {\n",
       "        vertical-align: top;\n",
       "    }\n",
       "\n",
       "    .dataframe thead th {\n",
       "        text-align: right;\n",
       "    }\n",
       "</style>\n",
       "<table border=\"1\" class=\"dataframe\">\n",
       "  <thead>\n",
       "    <tr style=\"text-align: right;\">\n",
       "      <th></th>\n",
       "      <th>Open</th>\n",
       "      <th>High</th>\n",
       "      <th>Low</th>\n",
       "      <th>Close</th>\n",
       "      <th>Adj Close</th>\n",
       "      <th>Volume</th>\n",
       "    </tr>\n",
       "    <tr>\n",
       "      <th>Date</th>\n",
       "      <th></th>\n",
       "      <th></th>\n",
       "      <th></th>\n",
       "      <th></th>\n",
       "      <th></th>\n",
       "      <th></th>\n",
       "    </tr>\n",
       "  </thead>\n",
       "  <tbody>\n",
       "    <tr>\n",
       "      <th>2021-03-19</th>\n",
       "      <td>80.699997</td>\n",
       "      <td>82.639999</td>\n",
       "      <td>80.099998</td>\n",
       "      <td>82.639999</td>\n",
       "      <td>82.419487</td>\n",
       "      <td>2503300</td>\n",
       "    </tr>\n",
       "    <tr>\n",
       "      <th>2021-03-22</th>\n",
       "      <td>81.900002</td>\n",
       "      <td>82.849998</td>\n",
       "      <td>81.629997</td>\n",
       "      <td>82.769997</td>\n",
       "      <td>82.549133</td>\n",
       "      <td>1853100</td>\n",
       "    </tr>\n",
       "    <tr>\n",
       "      <th>2021-03-23</th>\n",
       "      <td>81.650002</td>\n",
       "      <td>81.940002</td>\n",
       "      <td>80.910004</td>\n",
       "      <td>80.930000</td>\n",
       "      <td>80.714050</td>\n",
       "      <td>1861000</td>\n",
       "    </tr>\n",
       "    <tr>\n",
       "      <th>2021-03-24</th>\n",
       "      <td>80.930000</td>\n",
       "      <td>81.160004</td>\n",
       "      <td>76.599998</td>\n",
       "      <td>76.809998</td>\n",
       "      <td>76.605042</td>\n",
       "      <td>5983900</td>\n",
       "    </tr>\n",
       "    <tr>\n",
       "      <th>2021-03-25</th>\n",
       "      <td>77.309998</td>\n",
       "      <td>78.190002</td>\n",
       "      <td>76.800003</td>\n",
       "      <td>77.419998</td>\n",
       "      <td>77.213409</td>\n",
       "      <td>4747400</td>\n",
       "    </tr>\n",
       "  </tbody>\n",
       "</table>\n",
       "</div>"
      ],
      "text/plain": [
       "                 Open       High        Low      Close  Adj Close   Volume\n",
       "Date                                                                      \n",
       "2021-03-19  80.699997  82.639999  80.099998  82.639999  82.419487  2503300\n",
       "2021-03-22  81.900002  82.849998  81.629997  82.769997  82.549133  1853100\n",
       "2021-03-23  81.650002  81.940002  80.910004  80.930000  80.714050  1861000\n",
       "2021-03-24  80.930000  81.160004  76.599998  76.809998  76.605042  5983900\n",
       "2021-03-25  77.309998  78.190002  76.800003  77.419998  77.213409  4747400"
      ]
     },
     "execution_count": 1,
     "metadata": {},
     "output_type": "execute_result"
    }
   ],
   "source": [
    "from pandas_datareader import data as pdr\n",
    "import yfinance as yf\n",
    "import pandas as pd\n",
    "import numpy as np  \n",
    "from scipy import stats  \n",
    "from scipy.stats import norm  \n",
    "import math\n",
    "\n",
    "yf.pdr_override()\n",
    "df = pdr.get_data_yahoo(\"TCEHY\", start= '2021-03-20', end='2021-03-31')\n",
    "df.head()"
   ]
  },
  {
   "cell_type": "code",
   "execution_count": 2,
   "id": "b150117e",
   "metadata": {
    "ExecuteTime": {
     "end_time": "2021-06-14T02:07:10.787535Z",
     "start_time": "2021-06-14T02:07:10.722451Z"
    }
   },
   "outputs": [],
   "source": [
    "market = 'TCEHY'\n",
    "symbol = 'BABA'\n",
    "new_df = pd.DataFrame(\n",
    "          {symbol : df['Adj Close'], \n",
    "           market : df['Adj Close']}, \n",
    "          index=df.index)\n",
    "# 计算回报率\n",
    "new_df[['stock_returns',\n",
    "        'market_returns']] = new_df[[symbol,market]] / new_df[[symbol,market]].shift(1) -1\n",
    "new_df = new_df.dropna()\n",
    "# np.cov()对给定的数据和权重，估计协方差矩阵\n",
    "# 协方差用于衡量两个变量的总体误差\n",
    "covmat = np.cov(new_df[\"stock_returns\"],\n",
    "                new_df[\"market_returns\"])\n",
    "# 计算\n",
    "beta = covmat[0,1]/covmat[1,1]\n",
    "alpha= np.mean(new_df[\"stock_returns\"]\n",
    "              )-beta*np.mean(new_df[\"market_returns\"])"
   ]
  },
  {
   "cell_type": "code",
   "execution_count": 5,
   "id": "0db9c860",
   "metadata": {
    "ExecuteTime": {
     "end_time": "2021-06-14T02:07:54.851777Z",
     "start_time": "2021-06-14T02:07:54.843777Z"
    }
   },
   "outputs": [
    {
     "name": "stdout",
     "output_type": "stream",
     "text": [
      "Alpha: 0.0\n",
      "Beta: 1.0\n",
      "[[0.00096505 0.00096505]\n",
      " [0.00096505 0.00096505]]\n"
     ]
    }
   ],
   "source": [
    "print('Alpha:', alpha)\n",
    "print('Beta:', beta)\n",
    "print(covmat)"
   ]
  },
  {
   "cell_type": "code",
   "execution_count": 10,
   "id": "708338d9",
   "metadata": {
    "ExecuteTime": {
     "end_time": "2021-06-14T02:08:46.966897Z",
     "start_time": "2021-06-14T02:08:46.951742Z"
    }
   },
   "outputs": [
    {
     "data": {
      "text/plain": [
       "79.66685104370117"
      ]
     },
     "execution_count": 10,
     "metadata": {},
     "output_type": "execute_result"
    }
   ],
   "source": [
    "close = df['Adj Close']\n",
    "np.median(close)"
   ]
  },
  {
   "cell_type": "code",
   "execution_count": 11,
   "id": "54d277dc",
   "metadata": {
    "ExecuteTime": {
     "end_time": "2021-06-14T02:08:51.899570Z",
     "start_time": "2021-06-14T02:08:51.887323Z"
    }
   },
   "outputs": [
    {
     "data": {
      "text/plain": [
       "4.510481817502296"
      ]
     },
     "execution_count": 11,
     "metadata": {},
     "output_type": "execute_result"
    }
   ],
   "source": [
    "np.var(close)"
   ]
  },
  {
   "cell_type": "code",
   "execution_count": 16,
   "id": "6ffce5ee",
   "metadata": {
    "ExecuteTime": {
     "end_time": "2021-06-14T02:11:25.332773Z",
     "start_time": "2021-06-14T02:11:25.109321Z"
    }
   },
   "outputs": [
    {
     "data": {
      "text/plain": [
       "[<matplotlib.lines.Line2D at 0x2026b4036d8>]"
      ]
     },
     "execution_count": 16,
     "metadata": {},
     "output_type": "execute_result"
    },
    {
     "data": {
      "image/png": "[encoded data removed]",
      "text/plain": [
       "<Figure size 432x288 with 1 Axes>"
      ]
     },
     "metadata": {
      "needs_background": "light"
     },
     "output_type": "display_data"
    }
   ],
   "source": [
    "# 是指一个随机变量的对数服从正态分布，则该随机变量服从对数正态分布。对数正态分布从短期来看，与正态分布非常接近。对数正态分布的概率密度函数\n",
    "from scipy.stats import lognorm\n",
    "import matplotlib.pyplot as plt\n",
    "# 均值\n",
    "mu = df['Returns'].mean() \n",
    "#幅度\n",
    "sigma = df['Returns'].std()*math.sqrt(252) \n",
    "s = np.random.lognormal(mu, sigma, 1000)\n",
    "count, bins, ignored = plt.hist(s, 100, density=True, align='mid')\n",
    "\n",
    "x = np.linspace(min(bins), max(bins), 10000)\n",
    "pdf = (np.exp(-(np.log(x) - mu)**2 / (2 * sigma**2)) / (x * sigma * np.sqrt(2 * np.pi)))\n",
    "# pdf=lognorm.pdf(x, s, loc=0, scale=1)\n",
    "plt.plot(x, pdf, linewidth=2, color='r')"
   ]
  },
  {
   "cell_type": "raw",
   "id": "56e461f1",
   "metadata": {},
   "source": [
    "#分析\n",
    "使用的是金融股市数据，market = 'TCEHY'及symbol = 'BABA'股市数据。选取了一些统计方法（指标）比如Median 中位数，Variance 方差等，还有对数正态分布分析法，参考资料熟悉这些函数的用法。"
   ]
  },
  {
   "cell_type": "markdown",
   "id": "a551e0f4",
   "metadata": {},
   "source": [
    "## 心得\n",
    "Scipy是一个用于数学、科学、工程领域的常用软件包，可以处理插值、积分、优化、图像处理、常微分方程数值解的求解、信号处理等问题。它用于有效计算Numpy矩阵，使Numpy和Scipy协同工作，高效解决问题。与numpy相比，scipy提供了更丰富的功能，在统计，优化，数值积分等领域提供了大量的函数，供基础科学研究使用。\n",
    "scipy对我们研究数据起到了关键作用，他很好的帮助我们得到数据的质量情况，对结论分析有着很重要的作用。我们需要学好一些统计原理，这样才有助于我们选取scipy的函数。"
   ]
  },
  {
   "cell_type": "markdown",
   "id": "2eaedd78",
   "metadata": {},
   "source": [
    "# 练习4：Pandas训练50题"
   ]
  },
  {
   "cell_type": "markdown",
   "id": "60d4dca3",
   "metadata": {},
   "source": [
    "## 题目\n",
    "2.9 计算3位滑动窗口的平均值，忽略NAN"
   ]
  },
  {
   "cell_type": "code",
   "execution_count": 17,
   "id": "3f439497",
   "metadata": {
    "ExecuteTime": {
     "end_time": "2021-06-14T02:22:02.982480Z",
     "start_time": "2021-06-14T02:22:02.946447Z"
    }
   },
   "outputs": [
    {
     "name": "stdout",
     "output_type": "stream",
     "text": [
      "   group  value\n",
      "0      a    1.0\n",
      "1      a    2.0\n",
      "2      b    3.0\n",
      "3      b    NaN\n",
      "4      a    2.0\n",
      "5      b    3.0\n",
      "6      b    NaN\n",
      "7      b    1.0\n",
      "8      a    7.0\n",
      "9      b    3.0\n",
      "10     a    NaN\n",
      "11     b    8.0\n"
     ]
    },
    {
     "data": {
      "text/plain": [
       "0     1.000000\n",
       "1     1.500000\n",
       "2     3.000000\n",
       "3     3.000000\n",
       "4     1.666667\n",
       "5     3.000000\n",
       "6     3.000000\n",
       "7     2.000000\n",
       "8     3.666667\n",
       "9     2.000000\n",
       "10    4.500000\n",
       "11    4.000000\n",
       "Name: value, dtype: float64"
      ]
     },
     "execution_count": 17,
     "metadata": {},
     "output_type": "execute_result"
    }
   ],
   "source": [
    "#代码\n",
    "df = pd.DataFrame({\n",
    "    'group': list('aabbabbbabab'),\n",
    "    'value': [1, 2, 3, np.nan, 2, 3, np.nan, 1, 7, 3, np.nan, 8]\n",
    "})\n",
    "print(df)\n",
    "\n",
    "g1 = df.groupby(['group'])['value']\n",
    "g2 = df.fillna(0).groupby(['group'])['value']\n",
    "\n",
    "s = g2.rolling(3, min_periods=1).sum() / g1.rolling(3, min_periods=1).count()\n",
    "s.reset_index(level=0, drop=True).sort_index()"
   ]
  },
  {
   "cell_type": "raw",
   "id": "aab17cd6",
   "metadata": {},
   "source": [
    "#分析\n",
    "这道题的综合性很强，考察了pandas中的DataFrame生成，DataFrame就是一个类似于多维数组的对象，可以理解为带有一组索引或者多组索引的多维数组。\n",
    "groupby函数是一种通用且易于使用的函数，有助于获得数据概览。它使探索数据集和揭示变量之间的潜在关系变得更加容易。\n",
    "fillna函数用于填充缺失值。它提供了许多选项。我们可以使用特定值，聚合函数（例如均值）或上一个或下一个值。这里是用0填充的。\n",
    "rolling函数即滑动函数，比如一年的工商银行的每日股票数据，我们要分析它的趋势，但全年的数据波动明显太大，并且与历史的数据关联不大，有没有方法解决这个问题？我们可以定义一段时间的数据做为参考，比如一周或一个月，而每周有5天在交易，我就可以设置一个窗口，把这5天的数据做一个平均，这样5天波动的数据就会成为一个数据点，而第六天的数据会成为第二天到第六天的平均，这样一直循环下去，你会得到一组新的数据，比原数据更平滑。"
   ]
  },
  {
   "cell_type": "markdown",
   "id": "b9510420",
   "metadata": {},
   "source": [
    "## 心得\n",
    "pandas是一款基于NumPy的数据分析工具，尽管只有在很了解Matplotlib的api基础上才可以绘图，但是如果只想更好、更快的处理结构化数据，pandas绝对是最棒的工具。pandas里的许多方法需要我们提前知道，这样才有利于我们分析数据。"
   ]
  },
  {
   "cell_type": "code",
   "execution_count": null,
   "id": "dd57c3b4",
   "metadata": {},
   "outputs": [],
   "source": []
  }
 ],
 "metadata": {
  "kernelspec": {
   "display_name": "py36_gpu",
   "language": "python",
   "name": "py36_gpu"
  },
  "language_info": {
   "codemirror_mode": {
    "name": "ipython",
    "version": 3
   },
   "file_extension": ".py",
   "mimetype": "text/x-python",
   "name": "python",
   "nbconvert_exporter": "python",
   "pygments_lexer": "ipython3",
   "version": "3.6.13"
  },
  "toc": {
   "base_numbering": 1,
   "nav_menu": {},
   "number_sections": true,
   "sideBar": true,
   "skip_h1_title": false,
   "title_cell": "Table of Contents",
   "title_sidebar": "Contents",
   "toc_cell": false,
   "toc_position": {},
   "toc_section_display": true,
   "toc_window_display": false
  }
 },
 "nbformat": 4,
 "nbformat_minor": 5
}
