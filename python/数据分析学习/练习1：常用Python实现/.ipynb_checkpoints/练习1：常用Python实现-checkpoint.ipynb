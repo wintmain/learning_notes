{
 "cells": [
  {
   "cell_type": "markdown",
   "metadata": {
    "toc": true
   },
   "source": [
    "<h1>练习1：常用Python实现<span class=\"tocSkip\"></span></h1>\n",
    "<div class=\"toc\"><ul class=\"toc-item\"><li><span><a href=\"#冒泡排序\" data-toc-modified-id=\"冒泡排序-1\"><span class=\"toc-item-num\">1&nbsp;&nbsp;</span>冒泡排序</a></span></li><li><span><a href=\"#计算x的n次方\" data-toc-modified-id=\"计算x的n次方-2\"><span class=\"toc-item-num\">2&nbsp;&nbsp;</span>计算x的n次方</a></span></li><li><span><a href=\"#计算-$a*a-+-b*b-+-c*c-+-…$\" data-toc-modified-id=\"计算-$a*a-+-b*b-+-c*c-+-…$-3\"><span class=\"toc-item-num\">3&nbsp;&nbsp;</span>计算 $a*a + b*b + c*c + …$</a></span></li><li><span><a href=\"#计算阶乘-n!\" data-toc-modified-id=\"计算阶乘-n!-4\"><span class=\"toc-item-num\">4&nbsp;&nbsp;</span>计算阶乘 n!</a></span></li><li><span><a href=\"#列出当前目录下的所有文件和目录名\" data-toc-modified-id=\"列出当前目录下的所有文件和目录名-5\"><span class=\"toc-item-num\">5&nbsp;&nbsp;</span>列出当前目录下的所有文件和目录名</a></span></li><li><span><a href=\"#把一个list中所有的字符串变成小写\" data-toc-modified-id=\"把一个list中所有的字符串变成小写-6\"><span class=\"toc-item-num\">6&nbsp;&nbsp;</span>把一个list中所有的字符串变成小写</a></span></li><li><span><a href=\"#输出某个路径下的所有文件和文件夹的路径\" data-toc-modified-id=\"输出某个路径下的所有文件和文件夹的路径-7\"><span class=\"toc-item-num\">7&nbsp;&nbsp;</span>输出某个路径下的所有文件和文件夹的路径</a></span></li><li><span><a href=\"#输出某个路径及其子目录下的所有文件路径\" data-toc-modified-id=\"输出某个路径及其子目录下的所有文件路径-8\"><span class=\"toc-item-num\">8&nbsp;&nbsp;</span>输出某个路径及其子目录下的所有文件路径</a></span></li><li><span><a href=\"#输出某个路径及其子目录下所有以.html为后缀的文件\" data-toc-modified-id=\"输出某个路径及其子目录下所有以.html为后缀的文件-9\"><span class=\"toc-item-num\">9&nbsp;&nbsp;</span>输出某个路径及其子目录下所有以.html为后缀的文件</a></span></li><li><span><a href=\"#把原字典的键值对颠倒并生产新的字典\" data-toc-modified-id=\"把原字典的键值对颠倒并生产新的字典-10\"><span class=\"toc-item-num\">10&nbsp;&nbsp;</span>把原字典的键值对颠倒并生产新的字典</a></span></li><li><span><a href=\"#打印九九乘法表\" data-toc-modified-id=\"打印九九乘法表-11\"><span class=\"toc-item-num\">11&nbsp;&nbsp;</span>打印九九乘法表</a></span></li><li><span><a href=\"#替换列表中所有的3为3a\" data-toc-modified-id=\"替换列表中所有的3为3a-12\"><span class=\"toc-item-num\">12&nbsp;&nbsp;</span>替换列表中所有的3为3a</a></span></li><li><span><a href=\"#打印每个名字\" data-toc-modified-id=\"打印每个名字-13\"><span class=\"toc-item-num\">13&nbsp;&nbsp;</span>打印每个名字</a></span></li><li><span><a href=\"#合并去重\" data-toc-modified-id=\"合并去重-14\"><span class=\"toc-item-num\">14&nbsp;&nbsp;</span>合并去重</a></span></li><li><span><a href=\"#随机生成验证码的两种方式(数字字母)\" data-toc-modified-id=\"随机生成验证码的两种方式(数字字母)-15\"><span class=\"toc-item-num\">15&nbsp;&nbsp;</span>随机生成验证码的两种方式(数字字母)</a></span></li><li><span><a href=\"#随机数字小游戏\" data-toc-modified-id=\"随机数字小游戏-16\"><span class=\"toc-item-num\">16&nbsp;&nbsp;</span>随机数字小游戏</a></span></li><li><span><a href=\"#计算平方根\" data-toc-modified-id=\"计算平方根-17\"><span class=\"toc-item-num\">17&nbsp;&nbsp;</span>计算平方根</a></span></li><li><span><a href=\"#判断字符串是否只由数字组成\" data-toc-modified-id=\"判断字符串是否只由数字组成-18\"><span class=\"toc-item-num\">18&nbsp;&nbsp;</span>判断字符串是否只由数字组成</a></span></li><li><span><a href=\"#判断奇偶数\" data-toc-modified-id=\"判断奇偶数-19\"><span class=\"toc-item-num\">19&nbsp;&nbsp;</span>判断奇偶数</a></span></li><li><span><a href=\"#判断闰年\" data-toc-modified-id=\"判断闰年-20\"><span class=\"toc-item-num\">20&nbsp;&nbsp;</span>判断闰年</a></span></li><li><span><a href=\"#获取最大值\" data-toc-modified-id=\"获取最大值-21\"><span class=\"toc-item-num\">21&nbsp;&nbsp;</span>获取最大值</a></span></li><li><span><a href=\"#十进制转二进制、八进制、十六进制\" data-toc-modified-id=\"十进制转二进制、八进制、十六进制-22\"><span class=\"toc-item-num\">22&nbsp;&nbsp;</span>十进制转二进制、八进制、十六进制</a></span></li><li><span><a href=\"#最大公约数\" data-toc-modified-id=\"最大公约数-23\"><span class=\"toc-item-num\">23&nbsp;&nbsp;</span>最大公约数</a></span></li><li><span><a href=\"#最小公倍数\" data-toc-modified-id=\"最小公倍数-24\"><span class=\"toc-item-num\">24&nbsp;&nbsp;</span>最小公倍数</a></span></li><li><span><a href=\"#简单计算器\" data-toc-modified-id=\"简单计算器-25\"><span class=\"toc-item-num\">25&nbsp;&nbsp;</span>简单计算器</a></span></li><li><span><a href=\"#生成日历\" data-toc-modified-id=\"生成日历-26\"><span class=\"toc-item-num\">26&nbsp;&nbsp;</span>生成日历</a></span></li><li><span><a href=\"#文件IO\" data-toc-modified-id=\"文件IO-27\"><span class=\"toc-item-num\">27&nbsp;&nbsp;</span>文件IO</a></span></li><li><span><a href=\"#字符串判断\" data-toc-modified-id=\"字符串判断-28\"><span class=\"toc-item-num\">28&nbsp;&nbsp;</span>字符串判断</a></span></li><li><span><a href=\"#字符串大小写转换\" data-toc-modified-id=\"字符串大小写转换-29\"><span class=\"toc-item-num\">29&nbsp;&nbsp;</span>字符串大小写转换</a></span></li><li><span><a href=\"#计算每个月天数\" data-toc-modified-id=\"计算每个月天数-30\"><span class=\"toc-item-num\">30&nbsp;&nbsp;</span>计算每个月天数</a></span></li><li><span><a href=\"#获取昨天的日期\" data-toc-modified-id=\"获取昨天的日期-31\"><span class=\"toc-item-num\">31&nbsp;&nbsp;</span>获取昨天的日期</a></span></li><li><span><a href=\"#斐波那契数列\" data-toc-modified-id=\"斐波那契数列-32\"><span class=\"toc-item-num\">32&nbsp;&nbsp;</span>斐波那契数列</a></span></li></ul></div>"
   ]
  },
  {
   "cell_type": "markdown",
   "metadata": {},
   "source": [
    "要求：应用优化方法提升代码性能。"
   ]
  },
  {
   "cell_type": "markdown",
   "metadata": {},
   "source": [
    "# 冒泡排序"
   ]
  },
  {
   "cell_type": "code",
   "execution_count": 1,
   "metadata": {},
   "outputs": [],
   "source": [
    "lis = [56,12,1,8,354,10,100,34,56,7,23,456,234,-58]"
   ]
  },
  {
   "cell_type": "code",
   "execution_count": 2,
   "metadata": {},
   "outputs": [],
   "source": [
    "def sortport():\n",
    "    for i in range(len(lis)-1):\n",
    "        for j in range(len(lis)-1-i):\n",
    "            if lis[j]>lis[j+1]:\n",
    "                lis[j],lis[j+1] = lis[j+1],lis[j]\n",
    "    return lis"
   ]
  },
  {
   "cell_type": "code",
   "execution_count": 3,
   "metadata": {},
   "outputs": [
    {
     "name": "stdout",
     "output_type": "stream",
     "text": [
      "[-58, 1, 7, 8, 10, 12, 23, 34, 56, 56, 100, 234, 354, 456]\n"
     ]
    }
   ],
   "source": [
    "sortport()\n",
    "print(lis)"
   ]
  },
  {
   "cell_type": "markdown",
   "metadata": {},
   "source": [
    "# 计算x的n次方"
   ]
  },
  {
   "cell_type": "code",
   "execution_count": 4,
   "metadata": {},
   "outputs": [],
   "source": [
    "def power(x, n):\n",
    "    s = 1\n",
    "    while n > 0:\n",
    "        n = n - 1\n",
    "        s = s * x\n",
    "    return s"
   ]
  },
  {
   "cell_type": "code",
   "execution_count": 14,
   "metadata": {},
   "outputs": [
    {
     "name": "stdout",
     "output_type": "stream",
     "text": [
      "2909321189362570808630465826492242446680483\n"
     ]
    }
   ],
   "source": [
    "print(power(3,89))"
   ]
  },
  {
   "cell_type": "markdown",
   "metadata": {},
   "source": [
    "# 计算 $a*a + b*b + c*c + …$"
   ]
  },
  {
   "cell_type": "code",
   "execution_count": 6,
   "metadata": {},
   "outputs": [],
   "source": [
    "def calc(*numbers):\n",
    "    sum=0\n",
    "    for n in numbers:\n",
    "        sum=sum+n*n\n",
    "    return sum"
   ]
  },
  {
   "cell_type": "code",
   "execution_count": 7,
   "metadata": {},
   "outputs": [
    {
     "name": "stdout",
     "output_type": "stream",
     "text": [
      "45\n"
     ]
    }
   ],
   "source": [
    "print(calc(2,4,5))"
   ]
  },
  {
   "cell_type": "markdown",
   "metadata": {},
   "source": [
    "# 计算阶乘 n!"
   ]
  },
  {
   "cell_type": "code",
   "execution_count": 8,
   "metadata": {},
   "outputs": [],
   "source": [
    "#方法一\n",
    "def fac():\n",
    "    num = int(input(\"请输入一个数字：\"))\n",
    "    factorial = 1\n",
    "    #查看数字是负数，0或者正数\n",
    "    if num<0:\n",
    "        print(\"抱歉，负数没有阶乘\")\n",
    "    elif num == 0:\n",
    "        print(\"0的阶乘为1\")\n",
    "    else:\n",
    "        for i in range(1,num+1):\n",
    "            factorial = factorial*i\n",
    "        print(\"%d的阶乘为%d\"%(num,factorial))"
   ]
  },
  {
   "cell_type": "code",
   "execution_count": 9,
   "metadata": {},
   "outputs": [
    {
     "name": "stdout",
     "output_type": "stream",
     "text": [
      "请输入一个数字：\n"
     ]
    },
    {
     "ename": "ValueError",
     "evalue": "invalid literal for int() with base 10: ''",
     "output_type": "error",
     "traceback": [
      "\u001b[1;31m---------------------------------------------------------------------------\u001b[0m",
      "\u001b[1;31mValueError\u001b[0m                                Traceback (most recent call last)",
      "\u001b[1;32m<ipython-input-9-12a42d846fb1>\u001b[0m in \u001b[0;36m<module>\u001b[1;34m\u001b[0m\n\u001b[1;32m----> 1\u001b[1;33m \u001b[0mfac\u001b[0m\u001b[1;33m(\u001b[0m\u001b[1;33m)\u001b[0m\u001b[1;33m\u001b[0m\u001b[1;33m\u001b[0m\u001b[0m\n\u001b[0m",
      "\u001b[1;32m<ipython-input-8-43fec61e81f7>\u001b[0m in \u001b[0;36mfac\u001b[1;34m()\u001b[0m\n\u001b[0;32m      1\u001b[0m \u001b[1;31m#方法一\u001b[0m\u001b[1;33m\u001b[0m\u001b[1;33m\u001b[0m\u001b[1;33m\u001b[0m\u001b[0m\n\u001b[0;32m      2\u001b[0m \u001b[1;32mdef\u001b[0m \u001b[0mfac\u001b[0m\u001b[1;33m(\u001b[0m\u001b[1;33m)\u001b[0m\u001b[1;33m:\u001b[0m\u001b[1;33m\u001b[0m\u001b[1;33m\u001b[0m\u001b[0m\n\u001b[1;32m----> 3\u001b[1;33m     \u001b[0mnum\u001b[0m \u001b[1;33m=\u001b[0m \u001b[0mint\u001b[0m\u001b[1;33m(\u001b[0m\u001b[0minput\u001b[0m\u001b[1;33m(\u001b[0m\u001b[1;34m\"请输入一个数字：\"\u001b[0m\u001b[1;33m)\u001b[0m\u001b[1;33m)\u001b[0m\u001b[1;33m\u001b[0m\u001b[1;33m\u001b[0m\u001b[0m\n\u001b[0m\u001b[0;32m      4\u001b[0m     \u001b[0mfactorial\u001b[0m \u001b[1;33m=\u001b[0m \u001b[1;36m1\u001b[0m\u001b[1;33m\u001b[0m\u001b[1;33m\u001b[0m\u001b[0m\n\u001b[0;32m      5\u001b[0m     \u001b[1;31m#查看数字是负数，0或者正数\u001b[0m\u001b[1;33m\u001b[0m\u001b[1;33m\u001b[0m\u001b[1;33m\u001b[0m\u001b[0m\n",
      "\u001b[1;31mValueError\u001b[0m: invalid literal for int() with base 10: ''"
     ]
    }
   ],
   "source": [
    "fac()"
   ]
  },
  {
   "cell_type": "code",
   "execution_count": 10,
   "metadata": {},
   "outputs": [],
   "source": [
    "#方法二\n",
    "def fac():\n",
    "    num = int(input(\"请输入一个数字：\"))\n",
    "    #查看数字是负数，0或者正数\n",
    "    if num<0:\n",
    "        print(\"抱歉，负数没有阶乘\")\n",
    "    elif num == 0:\n",
    "        print(\"0的阶乘为1\")\n",
    "    else:\n",
    "        print(\"%d的阶乘为%d\"%(num,factorial(num)))"
   ]
  },
  {
   "cell_type": "code",
   "execution_count": 11,
   "metadata": {},
   "outputs": [],
   "source": [
    "def factorial(n):\n",
    "    result = n\n",
    "    for i in range(1,n):\n",
    "        result=result*i\n",
    "    return result"
   ]
  },
  {
   "cell_type": "code",
   "execution_count": 12,
   "metadata": {},
   "outputs": [
    {
     "name": "stdout",
     "output_type": "stream",
     "text": [
      "请输入一个数字：\n"
     ]
    },
    {
     "ename": "ValueError",
     "evalue": "invalid literal for int() with base 10: ''",
     "output_type": "error",
     "traceback": [
      "\u001b[1;31m---------------------------------------------------------------------------\u001b[0m",
      "\u001b[1;31mValueError\u001b[0m                                Traceback (most recent call last)",
      "\u001b[1;32m<ipython-input-12-12a42d846fb1>\u001b[0m in \u001b[0;36m<module>\u001b[1;34m\u001b[0m\n\u001b[1;32m----> 1\u001b[1;33m \u001b[0mfac\u001b[0m\u001b[1;33m(\u001b[0m\u001b[1;33m)\u001b[0m\u001b[1;33m\u001b[0m\u001b[1;33m\u001b[0m\u001b[0m\n\u001b[0m",
      "\u001b[1;32m<ipython-input-10-8ad3c2b7066a>\u001b[0m in \u001b[0;36mfac\u001b[1;34m()\u001b[0m\n\u001b[0;32m      1\u001b[0m \u001b[1;31m#方法二\u001b[0m\u001b[1;33m\u001b[0m\u001b[1;33m\u001b[0m\u001b[1;33m\u001b[0m\u001b[0m\n\u001b[0;32m      2\u001b[0m \u001b[1;32mdef\u001b[0m \u001b[0mfac\u001b[0m\u001b[1;33m(\u001b[0m\u001b[1;33m)\u001b[0m\u001b[1;33m:\u001b[0m\u001b[1;33m\u001b[0m\u001b[1;33m\u001b[0m\u001b[0m\n\u001b[1;32m----> 3\u001b[1;33m     \u001b[0mnum\u001b[0m \u001b[1;33m=\u001b[0m \u001b[0mint\u001b[0m\u001b[1;33m(\u001b[0m\u001b[0minput\u001b[0m\u001b[1;33m(\u001b[0m\u001b[1;34m\"请输入一个数字：\"\u001b[0m\u001b[1;33m)\u001b[0m\u001b[1;33m)\u001b[0m\u001b[1;33m\u001b[0m\u001b[1;33m\u001b[0m\u001b[0m\n\u001b[0m\u001b[0;32m      4\u001b[0m     \u001b[1;31m#查看数字是负数，0或者正数\u001b[0m\u001b[1;33m\u001b[0m\u001b[1;33m\u001b[0m\u001b[1;33m\u001b[0m\u001b[0m\n\u001b[0;32m      5\u001b[0m     \u001b[1;32mif\u001b[0m \u001b[0mnum\u001b[0m\u001b[1;33m<\u001b[0m\u001b[1;36m0\u001b[0m\u001b[1;33m:\u001b[0m\u001b[1;33m\u001b[0m\u001b[1;33m\u001b[0m\u001b[0m\n",
      "\u001b[1;31mValueError\u001b[0m: invalid literal for int() with base 10: ''"
     ]
    }
   ],
   "source": [
    "fac()"
   ]
  },
  {
   "cell_type": "code",
   "execution_count": 13,
   "metadata": {},
   "outputs": [],
   "source": [
    "#方法三\n",
    "def fac():\n",
    "    num = int(input(\"请输入一个数字：\"))\n",
    "    #查看数字是负数，0或者正数\n",
    "    if num<0:\n",
    "        print(\"抱歉，负数没有阶乘\")\n",
    "    elif num == 0:\n",
    "        print(\"0的阶乘为1\")\n",
    "    else:\n",
    "        print(\"%d的阶乘为%d\"%(num,fact(num)))\n",
    "\n",
    "def fact(n):\n",
    "    if n == 1:\n",
    "        return 1\n",
    "    return n * fact(n - 1)"
   ]
  },
  {
   "cell_type": "code",
   "execution_count": 14,
   "metadata": {},
   "outputs": [
    {
     "name": "stdout",
     "output_type": "stream",
     "text": [
      "请输入一个数字：5\n",
      "5的阶乘为120\n"
     ]
    }
   ],
   "source": [
    "fac()"
   ]
  },
  {
   "cell_type": "markdown",
   "metadata": {},
   "source": [
    "# 列出当前目录下的所有文件和目录名"
   ]
  },
  {
   "cell_type": "code",
   "execution_count": 15,
   "metadata": {},
   "outputs": [
    {
     "name": "stdout",
     "output_type": "stream",
     "text": [
      ".ipynb_checkpoints\n",
      "练习题：常用Python实现.ipynb\n"
     ]
    }
   ],
   "source": [
    "import os\n",
    "\n",
    "for d in os.listdir('.'):\n",
    "    print(d)"
   ]
  },
  {
   "cell_type": "markdown",
   "metadata": {},
   "source": [
    "另外列表推导式代码："
   ]
  },
  {
   "cell_type": "code",
   "execution_count": 16,
   "metadata": {},
   "outputs": [
    {
     "data": {
      "text/plain": [
       "['.ipynb_checkpoints', '练习题：常用Python实现.ipynb']"
      ]
     },
     "execution_count": 16,
     "metadata": {},
     "output_type": "execute_result"
    }
   ],
   "source": [
    "[d for d in os.listdir('.')]"
   ]
  },
  {
   "cell_type": "markdown",
   "metadata": {},
   "source": [
    "# 把一个list中所有的字符串变成小写"
   ]
  },
  {
   "cell_type": "code",
   "execution_count": 17,
   "metadata": {},
   "outputs": [
    {
     "name": "stdout",
     "output_type": "stream",
     "text": [
      "hello\n",
      "world\n",
      "ibm\n",
      "apple\n"
     ]
    }
   ],
   "source": [
    "L = ['Hello','World','IBM','Apple']\n",
    "\n",
    "for s in L:\n",
    "    s=s.lower()\n",
    "    print(s)     #将list中每个字符串都变成小写，返回每个字符串"
   ]
  },
  {
   "cell_type": "markdown",
   "metadata": {},
   "source": [
    "另外列表推导式代码:"
   ]
  },
  {
   "cell_type": "code",
   "execution_count": 18,
   "metadata": {},
   "outputs": [
    {
     "name": "stdout",
     "output_type": "stream",
     "text": [
      "['hello', 'world', 'ibm', 'apple']\n"
     ]
    }
   ],
   "source": [
    "L = ['Hello','World','IBM','Apple']\n",
    "print([s.lower() for s in L])#整个list所有字符串都变成小写，返回一个list"
   ]
  },
  {
   "cell_type": "markdown",
   "metadata": {},
   "source": [
    "# 输出某个路径下的所有文件和文件夹的路径"
   ]
  },
  {
   "cell_type": "code",
   "execution_count": 19,
   "metadata": {},
   "outputs": [
    {
     "name": "stdout",
     "output_type": "stream",
     "text": [
      "请输入一个路径：d:\\Jupyter\n",
      "d:\\Jupyter\\00.周忠良\n",
      "d:\\Jupyter\\03.山东女子学院\n",
      "d:\\Jupyter\\06.东北大学\n",
      "d:\\Jupyter\\07.大连理工大学\n",
      "d:\\Jupyter\\08.河北地质大学\n",
      "d:\\Jupyter\\09.上海立信会计金融学院\n",
      "d:\\Jupyter\\10.北京外国语大学\n",
      "d:\\Jupyter\\11.常州大学\n",
      "d:\\Jupyter\\13.山东财经大学\n",
      "d:\\Jupyter\\14.北京航空航天大学\n",
      "d:\\Jupyter\\16.北京城市学院\n",
      "d:\\Jupyter\\17.北京石油化工学院\n",
      "d:\\Jupyter\\18.北京财贸职业学院\n",
      "d:\\Jupyter\\课程教案\n",
      "None\n"
     ]
    }
   ],
   "source": [
    "def print_dir():\n",
    "    filepath = input(\"请输入一个路径：\")\n",
    "    if filepath == \"\":\n",
    "        print(\"请输入正确的路径\")\n",
    "    else:\n",
    "        for i in os.listdir(filepath):       #获取目录中的文件及子目录列表\n",
    "            print(os.path.join(filepath,i))  #把路径组合起来\n",
    "\n",
    "print(print_dir())"
   ]
  },
  {
   "cell_type": "markdown",
   "metadata": {},
   "source": [
    "# 输出某个路径及其子目录下的所有文件路径"
   ]
  },
  {
   "cell_type": "code",
   "execution_count": 20,
   "metadata": {},
   "outputs": [
    {
     "name": "stdout",
     "output_type": "stream",
     "text": [
      "C:\\Program Files\\Internet Explorer\\D3DCompiler_47.dll\n",
      "C:\\Program Files\\Internet Explorer\\DiagnosticsHub.DataWarehouse.dll\n",
      "C:\\Program Files\\Internet Explorer\\DiagnosticsHub.ScriptedSandboxPlugin.dll\n",
      "C:\\Program Files\\Internet Explorer\\DiagnosticsHub_is.dll\n",
      "C:\\Program Files\\Internet Explorer\\DiagnosticsTap.dll\n",
      "C:\\Program Files\\Internet Explorer\\en-US\n",
      "C:\\Program Files\\Internet Explorer\\en-US\\DiagnosticsTap.dll.mui\n",
      "C:\\Program Files\\Internet Explorer\\en-US\\eula.rtf\n",
      "C:\\Program Files\\Internet Explorer\\en-US\\F12.dll.mui\n",
      "C:\\Program Files\\Internet Explorer\\en-US\\F12Resources.dll.mui\n",
      "C:\\Program Files\\Internet Explorer\\en-US\\F12Tools.dll.mui\n",
      "C:\\Program Files\\Internet Explorer\\en-US\\iedvtool.dll.mui\n",
      "C:\\Program Files\\Internet Explorer\\en-US\\ieinstal.exe.mui\n",
      "C:\\Program Files\\Internet Explorer\\en-US\\iexplore.exe.mui\n",
      "C:\\Program Files\\Internet Explorer\\en-US\\jsdbgui.dll.mui\n",
      "C:\\Program Files\\Internet Explorer\\en-US\\jsprofilerui.dll.mui\n",
      "C:\\Program Files\\Internet Explorer\\en-US\\networkinspection.dll.mui\n",
      "C:\\Program Files\\Internet Explorer\\F12.dll\n",
      "C:\\Program Files\\Internet Explorer\\F12Resources.dll\n",
      "C:\\Program Files\\Internet Explorer\\F12Tools.dll\n",
      "C:\\Program Files\\Internet Explorer\\ie9props.propdesc\n",
      "C:\\Program Files\\Internet Explorer\\iediagcmd.exe\n",
      "C:\\Program Files\\Internet Explorer\\iedvtool.dll\n",
      "C:\\Program Files\\Internet Explorer\\ieinstal.exe\n",
      "C:\\Program Files\\Internet Explorer\\ielowutil.exe\n",
      "C:\\Program Files\\Internet Explorer\\ieproxy.dll\n",
      "C:\\Program Files\\Internet Explorer\\IEShims.dll\n",
      "C:\\Program Files\\Internet Explorer\\iexplore.exe\n",
      "C:\\Program Files\\Internet Explorer\\images\n",
      "C:\\Program Files\\Internet Explorer\\images\\bing.ico\n",
      "C:\\Program Files\\Internet Explorer\\jsdbgui.dll\n",
      "C:\\Program Files\\Internet Explorer\\jsdebuggeride.dll\n",
      "C:\\Program Files\\Internet Explorer\\JSProfilerCore.dll\n",
      "C:\\Program Files\\Internet Explorer\\jsprofilerui.dll\n",
      "C:\\Program Files\\Internet Explorer\\MemoryAnalyzer.dll\n",
      "C:\\Program Files\\Internet Explorer\\msdbg2.dll\n",
      "C:\\Program Files\\Internet Explorer\\networkinspection.dll\n",
      "C:\\Program Files\\Internet Explorer\\pdm.dll\n",
      "C:\\Program Files\\Internet Explorer\\pdmproxy100.dll\n",
      "C:\\Program Files\\Internet Explorer\\perfcore.dll\n",
      "C:\\Program Files\\Internet Explorer\\perf_nt.dll\n",
      "C:\\Program Files\\Internet Explorer\\SIGNUP\n",
      "C:\\Program Files\\Internet Explorer\\SIGNUP\\install.ins\n",
      "C:\\Program Files\\Internet Explorer\\sqmapi.dll\n",
      "C:\\Program Files\\Internet Explorer\\Timeline.cpu.xml\n",
      "C:\\Program Files\\Internet Explorer\\Timeline.dll\n",
      "C:\\Program Files\\Internet Explorer\\Timeline_is.dll\n",
      "C:\\Program Files\\Internet Explorer\\zh-CN\n",
      "C:\\Program Files\\Internet Explorer\\zh-CN\\DiagnosticsTap.dll.mui\n",
      "C:\\Program Files\\Internet Explorer\\zh-CN\\eula.rtf\n",
      "C:\\Program Files\\Internet Explorer\\zh-CN\\F12.dll.mui\n",
      "C:\\Program Files\\Internet Explorer\\zh-CN\\F12Resources.dll.mui\n",
      "C:\\Program Files\\Internet Explorer\\zh-CN\\F12Tools.dll.mui\n",
      "C:\\Program Files\\Internet Explorer\\zh-CN\\iedvtool.dll.mui\n",
      "C:\\Program Files\\Internet Explorer\\zh-CN\\ieinstal.exe.mui\n",
      "C:\\Program Files\\Internet Explorer\\zh-CN\\iexplore.exe.mui\n",
      "C:\\Program Files\\Internet Explorer\\zh-CN\\jsdbgui.dll.mui\n",
      "C:\\Program Files\\Internet Explorer\\zh-CN\\jsprofilerui.dll.mui\n",
      "C:\\Program Files\\Internet Explorer\\zh-CN\\networkinspection.dll.mui\n"
     ]
    }
   ],
   "source": [
    "def show_dir(filepath):\n",
    "    for i in os.listdir(filepath):\n",
    "        path = (os.path.join(filepath, i))\n",
    "        print(path)\n",
    "        if os.path.isdir(path):      #isdir()判断是否是目录\n",
    "              show_dir(path)             #如果是目录，使用递归方法\n",
    "\n",
    "filepath = \"C:\\Program Files\\Internet Explorer\"\n",
    "show_dir(filepath)"
   ]
  },
  {
   "cell_type": "markdown",
   "metadata": {},
   "source": [
    "# 输出某个路径及其子目录下所有以.html为后缀的文件"
   ]
  },
  {
   "cell_type": "code",
   "execution_count": 23,
   "metadata": {},
   "outputs": [
    {
     "name": "stdout",
     "output_type": "stream",
     "text": [
      "./.ipynb_checkpoints\\练习题：常用Python实现-checkpoint.ipynb\n",
      "./练习题：常用Python实现.ipynb\n"
     ]
    }
   ],
   "source": [
    "def print_dir(filepath):\n",
    "  for i in os.listdir(filepath):\n",
    "    path = os.path.join(filepath, i)\n",
    "    if os.path.isdir(path):\n",
    "      print_dir(path)\n",
    "    if path.endswith(\".ipynb\"):\n",
    "      print(path)\n",
    "\n",
    "filepath = \"./\"\n",
    "print_dir(filepath)"
   ]
  },
  {
   "cell_type": "markdown",
   "metadata": {},
   "source": [
    "# 把原字典的键值对颠倒并生产新的字典"
   ]
  },
  {
   "cell_type": "code",
   "execution_count": 24,
   "metadata": {},
   "outputs": [
    {
     "name": "stdout",
     "output_type": "stream",
     "text": [
      "{'a': 'A', 'b': 'B', 'c': 'C'}\n"
     ]
    }
   ],
   "source": [
    "dict1 = {\"A\":\"a\",\"B\":\"b\",\"C\":\"c\"}\n",
    "dict2 = {y:x for x,y in dict1.items()}\n",
    "print(dict2)"
   ]
  },
  {
   "cell_type": "markdown",
   "metadata": {},
   "source": [
    "# 打印九九乘法表"
   ]
  },
  {
   "cell_type": "code",
   "execution_count": 25,
   "metadata": {},
   "outputs": [
    {
     "name": "stdout",
     "output_type": "stream",
     "text": [
      "1 x 1 = 1 \t\n",
      "1 x 2 = 2 \t2 x 2 = 4 \t\n",
      "1 x 3 = 3 \t2 x 3 = 6 \t3 x 3 = 9 \t\n",
      "1 x 4 = 4 \t2 x 4 = 8 \t3 x 4 = 12 \t4 x 4 = 16 \t\n",
      "1 x 5 = 5 \t2 x 5 = 10 \t3 x 5 = 15 \t4 x 5 = 20 \t5 x 5 = 25 \t\n",
      "1 x 6 = 6 \t2 x 6 = 12 \t3 x 6 = 18 \t4 x 6 = 24 \t5 x 6 = 30 \t6 x 6 = 36 \t\n",
      "1 x 7 = 7 \t2 x 7 = 14 \t3 x 7 = 21 \t4 x 7 = 28 \t5 x 7 = 35 \t6 x 7 = 42 \t7 x 7 = 49 \t\n",
      "1 x 8 = 8 \t2 x 8 = 16 \t3 x 8 = 24 \t4 x 8 = 32 \t5 x 8 = 40 \t6 x 8 = 48 \t7 x 8 = 56 \t8 x 8 = 64 \t\n",
      "1 x 9 = 9 \t2 x 9 = 18 \t3 x 9 = 27 \t4 x 9 = 36 \t5 x 9 = 45 \t6 x 9 = 54 \t7 x 9 = 63 \t8 x 9 = 72 \t9 x 9 = 81 \t\n"
     ]
    }
   ],
   "source": [
    "for i in range(1,10):\n",
    "    for j in range(1,i+1):\n",
    "        print('%d x %d = %d \\t'%(j,i,i*j),end='')   #通过指定end参数的值，可以取消在末尾输出回车符，实现不换行。\n",
    "    print()"
   ]
  },
  {
   "cell_type": "markdown",
   "metadata": {},
   "source": [
    "# 替换列表中所有的3为3a"
   ]
  },
  {
   "cell_type": "code",
   "execution_count": 26,
   "metadata": {},
   "outputs": [
    {
     "name": "stdout",
     "output_type": "stream",
     "text": [
      "4\n",
      "2\n",
      "['harden', 'lampard', '3a', 34, 45, 56, 76, 87, 78, 45, '3a', '3a', '3a', 87686, 98, 76]\n"
     ]
    }
   ],
   "source": [
    "num = [\"harden\",\"lampard\",3,34,45,56,76,87,78,45,3,3,3,87686,98,76]\n",
    "print(num.count(3))\n",
    "print(num.index(3))\n",
    "for i in range(num.count(3)):      #获取3出现的次数\n",
    "    ele_index = num.index(3)        #获取首次3出现的坐标\n",
    "    num[ele_index]=\"3a\"            #修改3为3a\n",
    "print(num)"
   ]
  },
  {
   "cell_type": "markdown",
   "metadata": {},
   "source": [
    "# 打印每个名字"
   ]
  },
  {
   "cell_type": "code",
   "execution_count": 27,
   "metadata": {},
   "outputs": [
    {
     "name": "stdout",
     "output_type": "stream",
     "text": [
      "Hello,James\n",
      "Hello,Meng\n",
      "Hello,Xin\n"
     ]
    }
   ],
   "source": [
    "L = [\"James\",\"Meng\",\"Xin\"]\n",
    "for i in range(len(L)):\n",
    "    print(\"Hello,%s\"%L[i])"
   ]
  },
  {
   "cell_type": "markdown",
   "metadata": {},
   "source": [
    "# 合并去重"
   ]
  },
  {
   "cell_type": "code",
   "execution_count": 28,
   "metadata": {},
   "outputs": [
    {
     "name": "stdout",
     "output_type": "stream",
     "text": [
      "[2, 3, 8, 4, 9, 5, 6, 5, 6, 10, 17, 11, 2]\n",
      "{2, 3, 4, 5, 6, 8, 9, 10, 11, 17}\n",
      "[2, 3, 4, 5, 6, 8, 9, 10, 11, 17]\n"
     ]
    }
   ],
   "source": [
    "list1 = [2,3,8,4,9,5,6]\n",
    "list2 = [5,6,10,17,11,2]\n",
    "list3 = list1 + list2\n",
    "print(list3)              #不去重只进行两个列表的组合\n",
    "print(set(list3))         #去重，类型为set需要转换成list\n",
    "print(list(set(list3)))"
   ]
  },
  {
   "cell_type": "markdown",
   "metadata": {},
   "source": [
    "# 随机生成验证码的两种方式(数字字母)"
   ]
  },
  {
   "cell_type": "code",
   "execution_count": 29,
   "metadata": {},
   "outputs": [
    {
     "name": "stdout",
     "output_type": "stream",
     "text": [
      "['q', '8', 'z', 'm', 'S', 'r']\n",
      "q8zmSr\n"
     ]
    }
   ],
   "source": [
    "import random\n",
    "list1=[]\n",
    "for i in range(65,91):\n",
    "    list1.append(chr(i))        #通过for循环遍历asii追加到空列表中\n",
    "for j in range (97,123):\n",
    "    list1.append(chr(j))\n",
    "for k in range(48,58):\n",
    "    list1.append(chr(k))\n",
    "ma = random.sample(list1,6)\n",
    "print(ma)                      #获取到的为列表\n",
    "ma = ''.join(ma)              #将列表转化为字符串\n",
    "print(ma)"
   ]
  },
  {
   "cell_type": "code",
   "execution_count": 30,
   "metadata": {},
   "outputs": [
    {
     "name": "stdout",
     "output_type": "stream",
     "text": [
      "wBMK6S\n"
     ]
    }
   ],
   "source": [
    "import random,string\n",
    "str1 = \"0123456789\"\n",
    "str2 = string.ascii_letters     # string.ascii_letters 包含所有字母（大写或小写）的字符串\n",
    "str3 = str1+str2\n",
    "ma1 = random.sample(str3,6)     #多个字符中选取特定数量的字符\n",
    "ma1 = ''.join(ma1)              #使用join拼接转换为字符串\n",
    "print(ma1)                      #通过引入string模块和random模块使用现有的方法"
   ]
  },
  {
   "cell_type": "markdown",
   "metadata": {},
   "source": [
    "# 随机数字小游戏"
   ]
  },
  {
   "cell_type": "code",
   "execution_count": 31,
   "metadata": {},
   "outputs": [
    {
     "name": "stdout",
     "output_type": "stream",
     "text": [
      "请输入0-100中的一个数字\n",
      "然后查看是否与电脑一样：55\n",
      "你第1输入的数字大于电脑随机数字\n",
      "请再次输入数字:1\n",
      "你第2输入的数字小于电脑随机数字\n",
      "请再次输入数字:2\n",
      "你第3输入的数字小于电脑随机数字\n",
      "请再次输入数字:2\n",
      "你第4输入的数字小于电脑随机数字\n",
      "请再次输入数字:56\n",
      "你第5输入的数字大于电脑随机数字\n",
      "请再次输入数字:3654\n",
      "你第6输入的数字大于电脑随机数字\n",
      "请再次输入数字:1\n",
      "你第7输入的数字小于电脑随机数字\n",
      "请再次输入数字:2\n",
      "你第8输入的数字小于电脑随机数字\n",
      "请再次输入数字:7\n",
      "你第9输入的数字小于电脑随机数字\n",
      "请再次输入数字:77\n",
      "你第10输入的数字大于电脑随机数字\n",
      "请再次输入数字:0\n",
      "你第11输入的数字小于电脑随机数字\n",
      "请再次输入数字:quit\n"
     ]
    },
    {
     "ename": "ValueError",
     "evalue": "invalid literal for int() with base 10: 'quit'",
     "output_type": "error",
     "traceback": [
      "\u001b[1;31m---------------------------------------------------------------------------\u001b[0m",
      "\u001b[1;31mValueError\u001b[0m                                Traceback (most recent call last)",
      "\u001b[1;32m<ipython-input-31-84592372f1bb>\u001b[0m in \u001b[0;36m<module>\u001b[1;34m\u001b[0m\n\u001b[0;32m      7\u001b[0m     \u001b[1;32mif\u001b[0m \u001b[0ma\u001b[0m \u001b[1;33m>\u001b[0m \u001b[0mb\u001b[0m\u001b[1;33m:\u001b[0m\u001b[1;33m\u001b[0m\u001b[1;33m\u001b[0m\u001b[0m\n\u001b[0;32m      8\u001b[0m         \u001b[0mprint\u001b[0m\u001b[1;33m(\u001b[0m\u001b[1;34m'你第%d输入的数字小于电脑随机数字'\u001b[0m\u001b[1;33m%\u001b[0m\u001b[0mi\u001b[0m\u001b[1;33m)\u001b[0m\u001b[1;33m\u001b[0m\u001b[1;33m\u001b[0m\u001b[0m\n\u001b[1;32m----> 9\u001b[1;33m         \u001b[0mb\u001b[0m \u001b[1;33m=\u001b[0m \u001b[0mint\u001b[0m\u001b[1;33m(\u001b[0m\u001b[0minput\u001b[0m\u001b[1;33m(\u001b[0m\u001b[1;34m'请再次输入数字:'\u001b[0m\u001b[1;33m)\u001b[0m\u001b[1;33m)\u001b[0m\u001b[1;33m\u001b[0m\u001b[1;33m\u001b[0m\u001b[0m\n\u001b[0m\u001b[0;32m     10\u001b[0m     \u001b[1;32melse\u001b[0m\u001b[1;33m:\u001b[0m\u001b[1;33m\u001b[0m\u001b[1;33m\u001b[0m\u001b[0m\n\u001b[0;32m     11\u001b[0m         \u001b[0mprint\u001b[0m\u001b[1;33m(\u001b[0m\u001b[1;34m'你第%d输入的数字大于电脑随机数字'\u001b[0m\u001b[1;33m%\u001b[0m\u001b[0mi\u001b[0m\u001b[1;33m)\u001b[0m\u001b[1;33m\u001b[0m\u001b[1;33m\u001b[0m\u001b[0m\n",
      "\u001b[1;31mValueError\u001b[0m: invalid literal for int() with base 10: 'quit'"
     ]
    }
   ],
   "source": [
    "#随机数字小游戏\n",
    "import random\n",
    "i = 1\n",
    "a = random.randint(0,100)\n",
    "b = int( input('请输入0-100中的一个数字\\n然后查看是否与电脑一样：'))\n",
    "while a != b:\n",
    "    if a > b:\n",
    "        print('你第%d输入的数字小于电脑随机数字'%i)\n",
    "        b = int(input('请再次输入数字:'))\n",
    "    else:\n",
    "        print('你第%d输入的数字大于电脑随机数字'%i)\n",
    "        b = int(input('请再次输入数字:'))\n",
    "    i+=1\n",
    "else:\n",
    "    print('恭喜你，你第%d次输入的数字与电脑的随机数字%d一样'%(i,b))"
   ]
  },
  {
   "cell_type": "markdown",
   "metadata": {},
   "source": [
    "# 计算平方根"
   ]
  },
  {
   "cell_type": "code",
   "execution_count": 32,
   "metadata": {},
   "outputs": [
    {
     "name": "stdout",
     "output_type": "stream",
     "text": [
      "请输入一个数字：1\n",
      "1.00 的平方根为1.00\n"
     ]
    }
   ],
   "source": [
    "num = float(input('请输入一个数字：'))\n",
    "num_sqrt = num ** 0.5\n",
    "print('%0.2f 的平方根为%0.2f'%(num,num_sqrt))"
   ]
  },
  {
   "cell_type": "markdown",
   "metadata": {},
   "source": [
    "# 判断字符串是否只由数字组成"
   ]
  },
  {
   "cell_type": "code",
   "execution_count": 34,
   "metadata": {},
   "outputs": [
    {
     "name": "stdout",
     "output_type": "stream",
     "text": [
      "False\n"
     ]
    }
   ],
   "source": [
    "#方法一\n",
    "def is_number(s):\n",
    "    try:\n",
    "        float(s)\n",
    "        return  True\n",
    "    except ValueError:\n",
    "        pass\n",
    "    try:\n",
    "        import unicodedata\n",
    "        unicodedata.numeric(s)\n",
    "        return  True\n",
    "    except(TypeError,ValueError):\n",
    "        pass\n",
    "    return False\n",
    "\n",
    "t=\"a12d3\"\n",
    "\n",
    "print(is_number(t))\n",
    "\n"
   ]
  },
  {
   "cell_type": "code",
   "execution_count": 35,
   "metadata": {},
   "outputs": [
    {
     "name": "stdout",
     "output_type": "stream",
     "text": [
      "False\n"
     ]
    }
   ],
   "source": [
    "\n",
    "#方法二\n",
    "t = \"q123\"\n",
    "print(t.isdigit())   #检测字符串是否只由数字组成\n"
   ]
  },
  {
   "cell_type": "code",
   "execution_count": 36,
   "metadata": {},
   "outputs": [
    {
     "name": "stdout",
     "output_type": "stream",
     "text": [
      "True\n"
     ]
    }
   ],
   "source": [
    "#方法三\n",
    "t = \"123\"\n",
    "print(t.isnumeric())   #检测字符串是否只由数字组成,这种方法是只针对unicode对象"
   ]
  },
  {
   "cell_type": "markdown",
   "metadata": {},
   "source": [
    "# 判断奇偶数"
   ]
  },
  {
   "cell_type": "code",
   "execution_count": 37,
   "metadata": {},
   "outputs": [
    {
     "name": "stdout",
     "output_type": "stream",
     "text": [
      "请输入一个数字：3\n",
      "3是奇数\n"
     ]
    }
   ],
   "source": [
    "#方法一\n",
    "num = int(input('请输入一个数字：'))\n",
    "if (num % 2) == 0:\n",
    "    print(\"{0}是偶数\".format(num))\n",
    "else:\n",
    "    print(\"{0}是奇数\".format(num))\n"
   ]
  },
  {
   "cell_type": "code",
   "execution_count": 38,
   "metadata": {},
   "outputs": [
    {
     "name": "stdout",
     "output_type": "stream",
     "text": [
      "请输入一个整数：6\n",
      "6是偶数\n"
     ]
    }
   ],
   "source": [
    "#方法二\n",
    "while True:\n",
    "    try:\n",
    "        num = int(input('请输入一个整数：'))      #判断输入是否为整数，不是纯数字需要重新输入\n",
    "    except ValueError:\n",
    "        print(\"输入的不是整数！\")\n",
    "        continue\n",
    "    if (num % 2) == 0:\n",
    "        print(\"{0}是偶数\".format(num))\n",
    "    else:\n",
    "        print(\"{0}是奇数\".format(num))\n",
    "    break"
   ]
  },
  {
   "cell_type": "markdown",
   "metadata": {},
   "source": [
    "# 判断闰年"
   ]
  },
  {
   "cell_type": "code",
   "execution_count": 39,
   "metadata": {},
   "outputs": [
    {
     "name": "stdout",
     "output_type": "stream",
     "text": [
      "请输入一个年份：2021\n",
      "2021不是闰年\n"
     ]
    }
   ],
   "source": [
    "#方法一\n",
    "year = int(input(\"请输入一个年份：\"))\n",
    "if (year % 4) == 0:\n",
    "    if (year % 100) == 0:\n",
    "        if(year % 400) ==0:\n",
    "            print(\"{0}是闰年\".format(year))       #整百年能被400整除的是闰年\n",
    "        else:\n",
    "            print(\"{0}不是闰年\".format(year))\n",
    "    else:\n",
    "        print(\"{0}是闰年\".format(year))           #非整百年能被4整除的为闰年\n",
    "else:\n",
    "    print(\"{0}不是闰年\".format(year))"
   ]
  },
  {
   "cell_type": "code",
   "execution_count": 41,
   "metadata": {},
   "outputs": [
    {
     "name": "stdout",
     "output_type": "stream",
     "text": [
      "请输入一个年份：2022\n",
      "2022不是闰年\n"
     ]
    }
   ],
   "source": [
    "#方法二\n",
    "year = int(input(\"请输入一个年份：\"))\n",
    "if (year % 4) == 0 and (year % 100)!=0 or (year % 400) == 0:\n",
    "    print(\"{0}是闰年\".format(year))\n",
    "else:\n",
    "    print(\"{0}不是闰年\".format(year))"
   ]
  },
  {
   "cell_type": "code",
   "execution_count": 42,
   "metadata": {},
   "outputs": [
    {
     "name": "stdout",
     "output_type": "stream",
     "text": [
      "请输入年份：2020\n",
      "2020是闰年\n"
     ]
    }
   ],
   "source": [
    "#方法三\n",
    "import calendar\n",
    "year = int(input(\"请输入年份：\"))\n",
    "check_year=calendar.isleap(year)\n",
    "if check_year == True:\n",
    "    print(\"%d是闰年\"%year)\n",
    "else:\n",
    "    print(\"%d是平年\"%year)"
   ]
  },
  {
   "cell_type": "markdown",
   "metadata": {},
   "source": [
    "# 获取最大值"
   ]
  },
  {
   "cell_type": "code",
   "execution_count": 45,
   "metadata": {},
   "outputs": [
    {
     "name": "stdout",
     "output_type": "stream",
     "text": [
      "输入需要对比大小的数字的个数：2\n",
      "请输入需要对比的数字：\n",
      "请输入第1个数字：1\n",
      "请输入第2个数字：4\n",
      "您输入的数字为： [1, 4]\n",
      "最大值为： 4\n"
     ]
    }
   ],
   "source": [
    "N = int(input('输入需要对比大小的数字的个数：'))\n",
    "print(\"请输入需要对比的数字：\")\n",
    "num = []\n",
    "for i in range(1,N+1):\n",
    "    temp = int(input('请输入第%d个数字：'%i))\n",
    "    num.append(temp)\n",
    "print('您输入的数字为：',num)\n",
    "print('最大值为：',max(num))"
   ]
  },
  {
   "cell_type": "code",
   "execution_count": 46,
   "metadata": {},
   "outputs": [
    {
     "name": "stdout",
     "output_type": "stream",
     "text": [
      "输入需要对比大小的数字的个数：\n",
      "3\n",
      "请输入第1个数字：\n",
      "1\n",
      "请输入第2个数字：\n",
      "3\n",
      "请输入第3个数字：\n",
      "5\n",
      "您输入的数字为： [1, 3, 5]\n",
      "最大值为： 5\n"
     ]
    }
   ],
   "source": [
    "N = int(input('输入需要对比大小的数字的个数：\\n'))\n",
    "num = [int(input('请输入第%d个数字：\\n'%i))for i in range(1,N+1)]\n",
    "print('您输入的数字为：',num)\n",
    "print('最大值为：',max(num))"
   ]
  },
  {
   "cell_type": "markdown",
   "metadata": {},
   "source": [
    "# 十进制转二进制、八进制、十六进制"
   ]
  },
  {
   "cell_type": "code",
   "execution_count": 51,
   "metadata": {},
   "outputs": [
    {
     "name": "stdout",
     "output_type": "stream",
     "text": [
      "输入数字：2\n",
      "十进制数为： 2\n",
      "转换为二进制为： 0b10\n",
      "转换为八进制为： 0o2\n",
      "转换为十六进制为： 0x2\n"
     ]
    }
   ],
   "source": [
    "# 获取输入十进制数\n",
    "dec = int(input(\"输入数字：\"))\n",
    "\n",
    "print(\"十进制数为：\", dec)\n",
    "print(\"转换为二进制为：\", bin(dec))\n",
    "print(\"转换为八进制为：\", oct(dec))\n",
    "print(\"转换为十六进制为：\", hex(dec))"
   ]
  },
  {
   "cell_type": "markdown",
   "metadata": {},
   "source": [
    "# 最大公约数"
   ]
  },
  {
   "cell_type": "code",
   "execution_count": 52,
   "metadata": {},
   "outputs": [
    {
     "name": "stdout",
     "output_type": "stream",
     "text": [
      "输入第一个数字: 1\n",
      "输入第二个数字: 4\n",
      "1 和 4 的最大公约数为 1\n"
     ]
    }
   ],
   "source": [
    "def hcf(x, y):\n",
    "    \"\"\"该函数返回两个数的最大公约数\"\"\"\n",
    "\n",
    "    # 获取最小值\n",
    "    if x > y:\n",
    "        smaller = y\n",
    "    else:\n",
    "        smaller = x\n",
    "\n",
    "    for i in range(1, smaller + 1):\n",
    "        if ((x % i == 0) and (y % i == 0)):\n",
    "            hcf = i\n",
    "\n",
    "    return hcf\n",
    "\n",
    "# 用户输入两个数字\n",
    "num1 = int(input(\"输入第一个数字: \"))\n",
    "num2 = int(input(\"输入第二个数字: \"))\n",
    "\n",
    "print(num1, \"和\", num2, \"的最大公约数为\", hcf(num1, num2))"
   ]
  },
  {
   "cell_type": "markdown",
   "metadata": {},
   "source": [
    "# 最小公倍数"
   ]
  },
  {
   "cell_type": "code",
   "execution_count": 53,
   "metadata": {},
   "outputs": [
    {
     "name": "stdout",
     "output_type": "stream",
     "text": [
      "输入第一个数字: 2\n",
      "输入第二个数字: 4\n",
      "2 和 4 的最小公倍数为 4\n"
     ]
    }
   ],
   "source": [
    "# 定义函数\n",
    "def lcm(x, y):\n",
    "\n",
    "    #  获取最大的数\n",
    "    if x > y:\n",
    "        greater = x\n",
    "    else:\n",
    "        greater = y\n",
    "\n",
    "    while(True):\n",
    "        if((greater % x == 0) and (greater % y == 0)):\n",
    "            lcm = greater\n",
    "            break\n",
    "        greater += 1\n",
    "\n",
    "    return lcm\n",
    "\n",
    "# 获取用户输入\n",
    "num1 = int(input(\"输入第一个数字: \"))\n",
    "num2 = int(input(\"输入第二个数字: \"))\n",
    "\n",
    "print( num1,\"和\", num2,\"的最小公倍数为\", lcm(num1, num2))"
   ]
  },
  {
   "cell_type": "markdown",
   "metadata": {},
   "source": [
    "# 简单计算器"
   ]
  },
  {
   "cell_type": "code",
   "execution_count": 54,
   "metadata": {},
   "outputs": [
    {
     "name": "stdout",
     "output_type": "stream",
     "text": [
      "选择运算：\n",
      "1、相加\n",
      "2、相减\n",
      "3、相乘\n",
      "4、相除\n",
      "输入你的选择(1/2/3/4):1\n",
      "输入第一个数字: 1\n",
      "输入第二个数字: 2\n",
      "1 + 2 = 3\n"
     ]
    }
   ],
   "source": [
    "# 定义函数\n",
    "def add(x, y):\n",
    "    \"\"\"相加\"\"\"\n",
    "    return x + y\n",
    "\n",
    "def subtract(x, y):\n",
    "    \"\"\"相减\"\"\"\n",
    "    return x - y\n",
    "\n",
    "def multiply(x, y):\n",
    "    \"\"\"相乘\"\"\"\n",
    "    return x * y\n",
    "\n",
    "def divide(x, y):\n",
    "    \"\"\"相除\"\"\"\n",
    "    return x / y\n",
    "\n",
    "# 用户输入\n",
    "print(\"选择运算：\")\n",
    "print(\"1、相加\")\n",
    "print(\"2、相减\")\n",
    "print(\"3、相乘\")\n",
    "print(\"4、相除\")\n",
    "\n",
    "choice = input(\"输入你的选择(1/2/3/4):\")\n",
    "\n",
    "num1 = int(input(\"输入第一个数字: \"))\n",
    "num2 = int(input(\"输入第二个数字: \"))\n",
    "\n",
    "if choice == '1':\n",
    "    print(num1, \"+\", num2, \"=\", add(num1, num2))\n",
    "\n",
    "elif choice == '2':\n",
    "    print(num1, \"-\", num2, \"=\", subtract(num1, num2))\n",
    "\n",
    "elif choice == '3':\n",
    "    print(num1, \"*\", num2, \"=\", multiply(num1, num2))\n",
    "\n",
    "elif choice == '4':\n",
    "    if num2 != 0:\n",
    "        print(num1, \"/\", num2, \"=\", divide(num1, num2))\n",
    "    else:\n",
    "        print(\"分母不能为0\")\n",
    "else:\n",
    "    print(\"非法输入\")"
   ]
  },
  {
   "cell_type": "markdown",
   "metadata": {},
   "source": [
    "# 生成日历"
   ]
  },
  {
   "cell_type": "code",
   "execution_count": 55,
   "metadata": {},
   "outputs": [
    {
     "name": "stdout",
     "output_type": "stream",
     "text": [
      "输入年份: 2020\n",
      "输入月份: 12\n",
      "   December 2020\n",
      "Mo Tu We Th Fr Sa Su\n",
      "    1  2  3  4  5  6\n",
      " 7  8  9 10 11 12 13\n",
      "14 15 16 17 18 19 20\n",
      "21 22 23 24 25 26 27\n",
      "28 29 30 31\n",
      "\n"
     ]
    }
   ],
   "source": [
    "# 引入日历模块\n",
    "import calendar\n",
    "\n",
    "# 输入指定年月\n",
    "yy = int(input(\"输入年份: \"))\n",
    "mm = int(input(\"输入月份: \"))\n",
    "\n",
    "# 显示日历\n",
    "print(calendar.month(yy, mm))"
   ]
  },
  {
   "cell_type": "markdown",
   "metadata": {},
   "source": [
    "# 文件IO"
   ]
  },
  {
   "cell_type": "code",
   "execution_count": 56,
   "metadata": {},
   "outputs": [
    {
     "name": "stdout",
     "output_type": "stream",
     "text": [
      "该文本会写入到文件中\n",
      "看到我了吧！\n"
     ]
    }
   ],
   "source": [
    "# 写文件\n",
    "with open(\"test.txt\", \"wt\") as out_file:\n",
    "    out_file.write(\"该文本会写入到文件中\\n看到我了吧！\")\n",
    "\n",
    "# Read a file\n",
    "with open(\"test.txt\", \"rt\") as in_file:\n",
    "    text = in_file.read()\n",
    "\n",
    "print(text)"
   ]
  },
  {
   "cell_type": "markdown",
   "metadata": {},
   "source": [
    "# 字符串判断"
   ]
  },
  {
   "cell_type": "code",
   "execution_count": 57,
   "metadata": {},
   "outputs": [
    {
     "name": "stdout",
     "output_type": "stream",
     "text": [
      "测试实例一\n",
      "False\n",
      "False\n",
      "False\n",
      "True\n",
      "False\n",
      "False\n",
      "False\n",
      "------------------------\n"
     ]
    }
   ],
   "source": [
    "# 测试实例一\n",
    "print(\"测试实例一\")\n",
    "str = \"runoob.com\"\n",
    "print(str.isalnum()) # 判断所有字符都是数字或者字母\n",
    "print(str.isalpha()) # 判断所有字符都是字母\n",
    "print(str.isdigit()) # 判断所有字符都是数字\n",
    "print(str.islower()) # 判断所有字符都是小写\n",
    "print(str.isupper()) # 判断所有字符都是大写\n",
    "print(str.istitle()) # 判断所有单词都是首字母大写，像标题\n",
    "print(str.isspace()) # 判断所有字符都是空白字符、\\t、\\n、\\r\n",
    "\n",
    "print(\"------------------------\")"
   ]
  },
  {
   "cell_type": "code",
   "execution_count": 58,
   "metadata": {},
   "outputs": [
    {
     "name": "stdout",
     "output_type": "stream",
     "text": [
      "测试实例二\n",
      "False\n",
      "False\n",
      "False\n",
      "False\n",
      "False\n",
      "False\n",
      "False\n"
     ]
    }
   ],
   "source": [
    "# 测试实例二\n",
    "print(\"测试实例二\")\n",
    "str = \"Bake corN\"\n",
    "print(str.isalnum()) \n",
    "print(str.isalpha()) \n",
    "print(str.isdigit()) \n",
    "print(str.islower()) \n",
    "print(str.isupper()) \n",
    "print(str.istitle()) \n",
    "print(str.isspace())"
   ]
  },
  {
   "cell_type": "markdown",
   "metadata": {},
   "source": [
    "# 字符串大小写转换"
   ]
  },
  {
   "cell_type": "code",
   "execution_count": 59,
   "metadata": {},
   "outputs": [
    {
     "name": "stdout",
     "output_type": "stream",
     "text": [
      "HTTPS://WWW.CNBLOGS.COM/AILIAILAN/\n",
      "https://www.cnblogs.com/ailiailan/\n",
      "Https://www.cnblogs.com/ailiailan/\n",
      "Https://Www.Cnblogs.Com/Ailiailan/\n"
     ]
    }
   ],
   "source": [
    "str = \"https://www.cnblogs.com/ailiailan/\"\n",
    "print(str.upper())          # 把所有字符中的小写字母转换成大写字母\n",
    "print(str.lower())          # 把所有字符中的大写字母转换成小写字母\n",
    "print(str.capitalize())     # 把第一个字母转化为大写字母，其余小写\n",
    "print(str.title())          # 把每个单词的第一个字母转化为大写，其余小写"
   ]
  },
  {
   "cell_type": "markdown",
   "metadata": {},
   "source": [
    "# 计算每个月天数"
   ]
  },
  {
   "cell_type": "code",
   "execution_count": 60,
   "metadata": {},
   "outputs": [
    {
     "name": "stdout",
     "output_type": "stream",
     "text": [
      "(0, 31)\n"
     ]
    }
   ],
   "source": [
    "import calendar\n",
    "monthRange = calendar.monthrange(2021,3)\n",
    "print(monthRange)"
   ]
  },
  {
   "cell_type": "markdown",
   "metadata": {},
   "source": [
    "# 获取昨天的日期"
   ]
  },
  {
   "cell_type": "code",
   "execution_count": 61,
   "metadata": {},
   "outputs": [
    {
     "name": "stdout",
     "output_type": "stream",
     "text": [
      "2020-12-22\n"
     ]
    }
   ],
   "source": [
    "# 引入 datetime 模块\n",
    "import datetime\n",
    "def getYesterday(): \n",
    "    today=datetime.date.today() \n",
    "    oneday=datetime.timedelta(days=1) \n",
    "    yesterday=today-oneday  \n",
    "    return yesterday\n",
    "\n",
    "# 输出\n",
    "print(getYesterday())"
   ]
  },
  {
   "cell_type": "markdown",
   "metadata": {},
   "source": [
    "# 斐波那契数列"
   ]
  },
  {
   "cell_type": "markdown",
   "metadata": {},
   "source": [
    "斐波那契数列指的是这样一个数列 0, 1, 1, 2, 3, 5, 8, 13；特别指出：第0项是0，第1项是第一个1。从第三项开始，每一项都等于前两项之和。"
   ]
  },
  {
   "cell_type": "code",
   "execution_count": 65,
   "metadata": {},
   "outputs": [
    {
     "name": "stdout",
     "output_type": "stream",
     "text": [
      "1\n",
      "1\n",
      "2\n",
      "3\n",
      "5\n",
      "8\n",
      "13\n",
      "21\n",
      "34\n",
      "55\n",
      "89\n",
      "144\n",
      "233\n",
      "377\n",
      "610\n",
      "987\n",
      "1597\n",
      "2584\n",
      "4181\n"
     ]
    }
   ],
   "source": [
    "a = 1\n",
    "b = 0\n",
    "i = 1\n",
    "while i < 20 :\n",
    "    c = a + b\n",
    "    print (c)\n",
    "    i + 1\n",
    "    a = b\n",
    "    b = c\n",
    "    i = i + 1"
   ]
  },
  {
   "cell_type": "code",
   "execution_count": 63,
   "metadata": {},
   "outputs": [
    {
     "name": "stdout",
     "output_type": "stream",
     "text": [
      "Please enter the number of Fibonacci numbers:10\n",
      "34\n"
     ]
    }
   ],
   "source": [
    "def fib_no(n):\n",
    "    a = 1\n",
    "    b = 0\n",
    "    i = 1\n",
    "    n = input ('Please enter the number of Fibonacci numbers:')\n",
    "    N=int(n)\n",
    "    while i != N :\n",
    "        c = a + b\n",
    "        i + 1\n",
    "        a = b\n",
    "        b = c\n",
    "        i = i + 1\n",
    "    return c\n",
    "\n",
    "n = 0\n",
    "print (fib_no(n))"
   ]
  },
  {
   "cell_type": "code",
   "execution_count": null,
   "metadata": {},
   "outputs": [],
   "source": []
  }
 ],
 "metadata": {
  "kernelspec": {
   "display_name": "Python 3",
   "language": "python",
   "name": "python3"
  },
  "language_info": {
   "codemirror_mode": {
    "name": "ipython",
    "version": 3
   },
   "file_extension": ".py",
   "mimetype": "text/x-python",
   "name": "python",
   "nbconvert_exporter": "python",
   "pygments_lexer": "ipython3",
   "version": "3.7.6"
  },
  "toc": {
   "base_numbering": 1,
   "nav_menu": {},
   "number_sections": true,
   "sideBar": true,
   "skip_h1_title": false,
   "title_cell": "练习1：常用Python实现",
   "title_sidebar": "Contents",
   "toc_cell": true,
   "toc_position": {
    "height": "calc(100% - 180px)",
    "left": "10px",
    "top": "150px",
    "width": "333.455px"
   },
   "toc_section_display": true,
   "toc_window_display": true
  }
 },
 "nbformat": 4,
 "nbformat_minor": 4
}
